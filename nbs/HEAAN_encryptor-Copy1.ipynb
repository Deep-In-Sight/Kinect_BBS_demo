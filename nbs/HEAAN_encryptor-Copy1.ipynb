{
 "cells": [
  {
   "cell_type": "code",
   "execution_count": 1,
   "id": "3d48925e",
   "metadata": {},
   "outputs": [],
   "source": [
    "import sys\n",
    "\n",
    "from fase import HEAAN\n",
    "import fase.HEAAN as he\n",
    "import numpy as np\n",
    "import os \n",
    "import time\n",
    "import pickle\n",
    "\n",
    "FN_KEYS = [\"ENCRYPTION.txt\",\n",
    "           \"MULTIPLICATION.txt\",\n",
    "           \"ROTATION_1.txt\"]\n",
    "\n",
    "class Param():\n",
    "    def __init__(self, n=None, logn=None, logp=None, logq=None, logQboot=None):\n",
    "        self.n = n\n",
    "        self.logn = logn\n",
    "        self.logp = logp\n",
    "        self.logq = logq \n",
    "        self.logQboot = logQboot\n",
    "        if self.logn == None:\n",
    "            self.logn = int(np.log2(n))\n",
    "\n",
    "def key_found(key_path):\n",
    "    all_found = []\n",
    "    for fn in FN_KEYS:\n",
    "        this_fn = key_path + fn\n",
    "        found = os.path.isfile(this_fn)\n",
    "        all_found.append(found)\n",
    "        print(f\"{this_fn} is\",\"found\" if found else \"missing\" )\n",
    "    \n",
    "    return np.all(all_found)\n",
    "\n",
    "def decrypt(scheme, secretKey, enc, parms):\n",
    "    featurized = scheme.decrypt(secretKey, enc)\n",
    "    arr = np.zeros(parms.n, dtype=np.complex128)\n",
    "    featurized.__getarr__(arr)\n",
    "    return arr.real\n",
    "\n",
    "def encrypt(scheme, val, parms):\n",
    "    print(\"[ENCRYPT] 1\")\n",
    "    ctxt = HEAAN.Ciphertext()#logp, logq, n)\n",
    "    print(\"[ENCRYPT] 2\")\n",
    "    vv = np.zeros(parms.n) # Need to initialize to zero or will cause \"unbound\"\n",
    "    print(\"[ENCRYPT] 3\")\n",
    "    vv[:len(val)] = val\n",
    "    print(\"[ENCRYPT] 4\")\n",
    "    print(vv[:len(val)])\n",
    "    scheme.encrypt(ctxt, HEAAN.Double(vv), \n",
    "                   parms.n, parms.logp, parms.logq)\n",
    "    print(\"[ENCRYPT] 5\")\n",
    "    del vv\n",
    "    return ctxt\n"
   ]
  },
  {
   "cell_type": "code",
   "execution_count": 2,
   "id": "05030108",
   "metadata": {},
   "outputs": [],
   "source": [
    "class HEAAN_Encryptor():\n",
    "    def __init__(self, key_path = \"/home/hoseung/Work/fhe-ai-sw-etri/fase/HEAAN/run/here/\"):\n",
    "        logq = 540\n",
    "        logp = 30\n",
    "        logn = 14\n",
    "        n = 1*2**logn\n",
    "        self.parms = Param(n=n, logp=logp, logq=logq)\n",
    "\n",
    "        self.do_reduction=False\n",
    "        Nclass = 2\n",
    "\n",
    "        self.key_path = key_path\n",
    "\n",
    "        ring = HEAAN.Ring()\n",
    "\n",
    "        self.secretKey = HEAAN.SecretKey(ring)\n",
    "        scheme = HEAAN.Scheme(self.secretKey, ring, isSerialized=True, root_path=key_path)\n",
    "        self.scheme0 = scheme\n",
    "        \n",
    "        \n",
    "\n",
    "        # reduction때는 right rotation N_class개 필요.\n",
    "        if self.do_reduction:\n",
    "            scheme.addLeftRotKeys(self.secretKey)\n",
    "            for i in range(Nclass):\n",
    "                scheme.addRightRotKey(self.secretKey, i+1) #\n",
    "        else:\n",
    "            # reduction 안 하면 하나짜리 rotation만 여러번 반복.\n",
    "            scheme.addLeftRotKey(self.secretKey, 1)\n",
    "\n",
    "\n",
    "    def do_encryption(self):\n",
    "        ring2 = HEAAN.Ring()\n",
    "\n",
    "        scheme = HEAAN.Scheme(ring2, isSerialized=True, root_path=self.key_path)\n",
    "        \n",
    "        #self.scheme = scheme\n",
    "        self.algo = HEAAN.SchemeAlgo(scheme)\n",
    "\n",
    "        ctx1 = encrypt(scheme, [1,2,3,4,5,6,7], self.parms)\n",
    "        HEAAN.SerializationUtils.writeCiphertext(ctx1, \"./ctx1.dat\")\n",
    "\n",
    "\n",
    "    def do_decryption(self):\n",
    "        n = self.parms.n\n",
    "        logp = self.parms.logp\n",
    "        logq = self.parms.logq\n",
    "        \n",
    "        \n",
    "        ctx12 = HEAAN.Ciphertext(logp, logq, n)#pqn\n",
    "        print(\"ctx, \", ctx12)\n",
    "        HEAAN.SerializationUtils.readCiphertext(ctx12, \"./ctx1.dat\")\n",
    "        print(\"ctx, \", ctx12)\n",
    "\n",
    "        print(\"decrypting..\")\n",
    "        res = decrypt(self.scheme0, self.secretKey, ctx12, self.parms)\n",
    "        print(res)\n",
    "        \n",
    "        "
   ]
  },
  {
   "cell_type": "code",
   "execution_count": 3,
   "id": "886c66d5",
   "metadata": {},
   "outputs": [
    {
     "name": "stdout",
     "output_type": "stream",
     "text": [
      "saving Keys to /home/hoseung/Work/fhe-ai-sw-etri/fase/HEAAN/run/here/serkey/ENCRYPTION.txt\n",
      "saving Keys to /home/hoseung/Work/fhe-ai-sw-etri/fase/HEAAN/run/here/serkey/MULTIPLICATION.txt\n",
      "saving Keys to /home/hoseung/Work/fhe-ai-sw-etri/fase/HEAAN/run/here/serkey/ROTATION_1.txt\n"
     ]
    }
   ],
   "source": [
    "henc = HEAAN_Encryptor()"
   ]
  },
  {
   "cell_type": "code",
   "execution_count": 4,
   "id": "9df2c654",
   "metadata": {
    "scrolled": true
   },
   "outputs": [
    {
     "name": "stdout",
     "output_type": "stream",
     "text": [
      "[ENCRYPT] 1\n",
      "[ENCRYPT] 2\n",
      "[ENCRYPT] 3loading Keys from /home/hoseung/Work/fhe-ai-sw-etri/fase/HEAAN/run/here/serkey/ENCRYPTION.txt\n",
      "\n",
      "[ENCRYPT] 4\n",
      "[1. 2. 3. 4. 5. 6. 7.]loading Keys from /home/hoseung/Work/fhe-ai-sw-etri/fase/HEAAN/run/here/serkey/MULTIPLICATION.txt\n",
      "\n",
      "[ENCRYPT] 5\n"
     ]
    }
   ],
   "source": [
    "henc.do_encryption()"
   ]
  },
  {
   "cell_type": "code",
   "execution_count": null,
   "id": "f8782dc1",
   "metadata": {},
   "outputs": [],
   "source": [
    "henc.do_decryption()"
   ]
  },
  {
   "cell_type": "code",
   "execution_count": null,
   "id": "d384faac",
   "metadata": {},
   "outputs": [],
   "source": []
  },
  {
   "cell_type": "code",
   "execution_count": null,
   "id": "14cac996",
   "metadata": {},
   "outputs": [],
   "source": []
  },
  {
   "cell_type": "code",
   "execution_count": null,
   "id": "7f69b54c",
   "metadata": {},
   "outputs": [],
   "source": []
  },
  {
   "cell_type": "code",
   "execution_count": 7,
   "id": "9fb81387",
   "metadata": {},
   "outputs": [],
   "source": [
    "        # load\n",
    "        self.scheme0 = HEAAN.Scheme(ring, True, key_path)\n",
    "        self.scheme = HEAAN.Scheme(ring, True, key_path)\n",
    "        self.algo = HEAAN.SchemeAlgo(self.scheme)\n",
    "        self.scheme.loadLeftRotKey(1)\n",
    "        print(\"[Encryptor] HEAAN is ready\")\n",
    "\n",
    "        # Check HEAAN\n",
    "        val = np.arange(10)\n",
    "        ctxt = encrypt(self.scheme, val, self.parms)\n",
    "        print(ctxt.n, ctxt.logp, ctxt.logq)\n",
    "        del ctxt\n",
    "        #lock.release()\n",
    "\n",
    "        scheme = self.scheme\n",
    "    \n",
    "        i=0\n",
    "        e_sk.wait()\n",
    "        print(\"[Encryptor] good to go\") \n",
    "        sk = q1.get()\n",
    "        e_enc.set()\n",
    "        print(\"[Encryptor] e_enc set?\", e_enc.is_set())\n",
    "        if not 'skeleton' in sk.keys():\n",
    "            raise LookupError(\"Can't find skeleton in queue\")    \n",
    "        print(\"[Encryptor] Got a skeleton, Encrypting...\")\n",
    "        print(\"[Encryptor] \", sk[\"skeleton\"])\n",
    "        fn = f\"/home/hoseung/Work/Kinect_BBS_demo/ctx_{i}.dat\"\n",
    "        #ctx1 = encrypt(scheme, sk['skeleton'], self.parms)\n",
    "\n",
    "\n",
    "\n",
    "        val = np.arange(10)\n",
    "        print(self.parms.n, self.parms.logp, self.parms.logq)\n",
    "        ctx1 = encrypt(scheme, val, self.parms)\n",
    "        print(ctx1.n, ctx1.logp, ctx1.logq)\n",
    "        print(\"[Encryptor] Ctxt encrypted\")\n",
    "        he.SerializationUtils.writeCiphertext(ctx1, fn)\n",
    "        print(\"[Encryptor] Ctxt wrote\")\n",
    "\n",
    "        q1.put({\"fn_enc_skeleton\": fn})\n",
    "        print(\"[Encryptor] skeleton encrypted and saved as\", fn)\n",
    "        e_enc.set() # Tell encryption is done and file is ready\n",
    "        del ctx1 \n",
    "\n",
    "        time.sleep(1)\n",
    "        print(\"Waiting...\")"
   ]
  },
  {
   "cell_type": "code",
   "execution_count": 8,
   "id": "d99dc488",
   "metadata": {},
   "outputs": [],
   "source": [
    "def run_encryptor(q1, e_sk, e_enc, key_path=\"./\"):\n",
    "    key_path = '/home/hoseung/Work/Kinect_BBS_demo/'\n",
    "    henc = HEAAN_Encryptor(key_path)\n",
    "    #print(henc.prams.n)\n",
    "    henc.start_encrypt_loop(q1, e_sk, e_enc)\n",
    "\n",
    "\n",
    "def run_temp_qt(q1, e_sk, e_enc):\n",
    "    #fn = \"/home/hoseung/Work/Kinect_BBS_demo/G1/000/BT/bodytracking_data.pickle\"\n",
    "    #skeleton = pickle.load(open(fn, \"rb\"))\n",
    "    skeleton = np.arange(10)\n",
    "    time.sleep(5)\n",
    "    q1.put({\"skeleton\":skeleton})\n",
    "    print(\"Loaded and put skeleton\")\n",
    "    e_sk.set()\n",
    "    \n",
    "    e_enc.wait()\n",
    "    ctxt = q1.get()\n",
    "    print(ctxt)\n",
    "    sys.exit()\n",
    "    "
   ]
  },
  {
   "cell_type": "code",
   "execution_count": 9,
   "id": "fb516dbb",
   "metadata": {},
   "outputs": [],
   "source": [
    "import multiprocessing \n",
    "from multiprocessing import Process, Queue\n",
    "\n",
    "e_enc = multiprocessing.Event()\n",
    "e_enc.clear()"
   ]
  },
  {
   "cell_type": "code",
   "execution_count": 10,
   "id": "ebb29ada",
   "metadata": {},
   "outputs": [],
   "source": [
    "q1 = Queue()\n",
    "e_sk = multiprocessing.Event()\n",
    "e_sk.clear()\n",
    "e_enc = multiprocessing.Event()\n",
    "\n",
    "#lock = multiprocessing.Lock()\n",
    "\n",
    "fn = \"/home/hoseung/Work/Kinect_BBS_demo/G1/000/BT/bodytracking_data.pickle\"\n",
    "skeleton = pickle.load(open(fn, \"rb\"))"
   ]
  },
  {
   "cell_type": "code",
   "execution_count": 11,
   "id": "8b0ae044",
   "metadata": {},
   "outputs": [
    {
     "name": "stdout",
     "output_type": "stream",
     "text": [
      "[ENCRYPTOR] key path /home/hoseung/Work/Kinect_BBS_demo/\n",
      "[Encryptor] HEAAN is ready\n",
      "[ENCRYPT] 1\n",
      "[ENCRYPT] 2\n",
      "[ENCRYPT] 3\n",
      "[ENCRYPT] 4\n",
      "[0. 1. 2. 3. 4. 5. 6. 7. 8. 9.]\n",
      "loading Keys from /home/hoseung/Work/Kinect_BBS_demo/serkey/ENCRYPTION.txt\n",
      "loading Keys from /home/hoseung/Work/Kinect_BBS_demo/serkey/MULTIPLICATION.txt\n",
      "loading Keys from /home/hoseung/Work/Kinect_BBS_demo/serkey/ROTATION_1.txt\n",
      "[ENCRYPT] 5\n",
      "16384 30 540\n",
      "Loaded and put skeleton\n",
      "[Encryptor] good to go\n",
      "[Encryptor] e_enc set? True\n",
      "[Encryptor] Got a skeleton, Encrypting...\n",
      "[Encryptor]  [0 1 2 3 4 5 6 7 8 9]\n",
      "16384 30 540\n",
      "[ENCRYPT] 1\n",
      "[ENCRYPT] 2\n",
      "[ENCRYPT] 3\n",
      "[ENCRYPT] 4\n",
      "[0. 1. 2. 3. 4. 5. 6. 7. 8. 9.]\n"
     ]
    }
   ],
   "source": [
    "p_enc = Process(target=run_encryptor, args=(q1, e_sk, e_enc), daemon=False)\n",
    "p_enc.start()\n",
    "\n",
    "p_qt = Process(target=run_temp_qt, args=(q1, e_sk, e_enc), daemon=False)\n",
    "p_qt.start()"
   ]
  },
  {
   "cell_type": "code",
   "execution_count": null,
   "id": "b06b8abb",
   "metadata": {},
   "outputs": [],
   "source": []
  }
 ],
 "metadata": {
  "kernelspec": {
   "display_name": "Python 3 (ipykernel)",
   "language": "python",
   "name": "python3"
  },
  "language_info": {
   "codemirror_mode": {
    "name": "ipython",
    "version": 3
   },
   "file_extension": ".py",
   "mimetype": "text/x-python",
   "name": "python",
   "nbconvert_exporter": "python",
   "pygments_lexer": "ipython3",
   "version": "3.9.0"
  }
 },
 "nbformat": 4,
 "nbformat_minor": 5
}
