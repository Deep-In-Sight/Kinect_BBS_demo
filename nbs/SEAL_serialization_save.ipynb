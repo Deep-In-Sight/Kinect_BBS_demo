{
 "cells": [
  {
   "cell_type": "code",
   "execution_count": 1,
   "id": "e357f0fc",
   "metadata": {},
   "outputs": [],
   "source": [
    "%load_ext autoreload\n",
    "%autoreload 2\n",
    "\n",
    "\n",
    "import os\n",
    "os.environ[\"CUDA_VISIBLE_DEVICES\"]=\"\"\n",
    "\n",
    "import torch\n",
    "import numpy as np\n",
    "from sklearn.preprocessing import LabelEncoder\n",
    "import pickle\n",
    "\n",
    "from fase import seal\n",
    "from fase.core.common import SEALContext\n",
    "#from fase.RF.sktree import TumorRF"
   ]
  },
  {
   "cell_type": "code",
   "execution_count": 2,
   "id": "55df313a",
   "metadata": {},
   "outputs": [],
   "source": [
    "def decrypt_print(ctx, n=20):\n",
    "    ptx = seal.Plaintext()\n",
    "    decryptor.decrypt(ctx, ptx)\n",
    "    out = encoder.decode(ptx)\n",
    "    print(out[:n])\n",
    "    \n",
    "    \n",
    "def decode_print(ptx, n=20):\n",
    "    out = encoder.decode(ptx)\n",
    "    print(out[:n])"
   ]
  },
  {
   "cell_type": "code",
   "execution_count": 3,
   "id": "a89366a8",
   "metadata": {},
   "outputs": [
    {
     "name": "stdout",
     "output_type": "stream",
     "text": [
      "[37, 28, 28, 28, 28, 28, 28, 28, 28, 28, 28, 28, 28, 28, 37]\n",
      "438\n"
     ]
    }
   ],
   "source": [
    "dilatation_factor = 10\n",
    "degree = dilatation_factor\n",
    "\n",
    "PRECISION_BITS = 28\n",
    "UPPER_BITS = 9\n",
    "\n",
    "polynomial_multiplications = int(np.ceil(np.log2(degree))) + 1\n",
    "n_polynomials = 2\n",
    "matrix_multiplications = 3\n",
    "\n",
    "depth = matrix_multiplications + polynomial_multiplications * n_polynomials\n",
    "\n",
    "poly_modulus_degree = 2**14# 16384 # 2**14\n",
    "\n",
    "moduli = [PRECISION_BITS + UPPER_BITS] + (depth) * [PRECISION_BITS] + [PRECISION_BITS + UPPER_BITS]\n",
    "print(moduli)\n",
    "print(sum(moduli))"
   ]
  },
  {
   "cell_type": "code",
   "execution_count": 4,
   "id": "81ff3b68",
   "metadata": {},
   "outputs": [
    {
     "name": "stdout",
     "output_type": "stream",
     "text": [
      "SEAL CKKS scheme is ready\n"
     ]
    }
   ],
   "source": [
    "ckks_se = SEALContext(poly_modulus_degree=poly_modulus_degree,\n",
    "                             coeff_moduli=moduli,\n",
    "                             scale_bit=PRECISION_BITS)"
   ]
  },
  {
   "cell_type": "markdown",
   "id": "cf06f042",
   "metadata": {},
   "source": [
    "### Serialization"
   ]
  },
  {
   "cell_type": "code",
   "execution_count": 6,
   "id": "271d9e4d",
   "metadata": {},
   "outputs": [],
   "source": [
    "def encrypt_and_save(val, fn_save):\n",
    "    enc = ckks_se.encrypt(val)\n",
    "    enc.save(fn_save)"
   ]
  },
  {
   "cell_type": "code",
   "execution_count": 7,
   "id": "5fd5adcf",
   "metadata": {},
   "outputs": [],
   "source": [
    "encrypt_and_save([1,2,3,4], 'enc1.dat')\n",
    "encrypt_and_save([5,6,7,8], 'enc2.dat')"
   ]
  },
  {
   "cell_type": "code",
   "execution_count": 11,
   "id": "29c37feb",
   "metadata": {},
   "outputs": [],
   "source": [
    "res = seal.Ciphertext()\n",
    "res.load(ckks_se.context, \"enc_result.dat\")"
   ]
  },
  {
   "cell_type": "code",
   "execution_count": 12,
   "id": "4a1339ee",
   "metadata": {},
   "outputs": [
    {
     "data": {
      "text/plain": [
       "array([3.00000568e+01, 4.79999808e+01, 6.99999728e+01, ...,\n",
       "       1.52665623e-10, 5.89108616e-11, 1.23916038e-11])"
      ]
     },
     "execution_count": 12,
     "metadata": {},
     "output_type": "execute_result"
    }
   ],
   "source": [
    "ckks_se.decrypt(res)"
   ]
  },
  {
   "cell_type": "code",
   "execution_count": 13,
   "id": "e4687070",
   "metadata": {},
   "outputs": [
    {
     "data": {
      "text/plain": [
       "'/home/hoseung/Work/fhenrf/pose'"
      ]
     },
     "execution_count": 13,
     "metadata": {},
     "output_type": "execute_result"
    }
   ],
   "source": [
    "pwd"
   ]
  },
  {
   "cell_type": "code",
   "execution_count": null,
   "id": "f4d3cab3",
   "metadata": {},
   "outputs": [],
   "source": []
  }
 ],
 "metadata": {
  "kernelspec": {
   "display_name": "Python 3 (ipykernel)",
   "language": "python",
   "name": "python3"
  },
  "language_info": {
   "codemirror_mode": {
    "name": "ipython",
    "version": 3
   },
   "file_extension": ".py",
   "mimetype": "text/x-python",
   "name": "python",
   "nbconvert_exporter": "python",
   "pygments_lexer": "ipython3",
   "version": "3.9.0"
  }
 },
 "nbformat": 4,
 "nbformat_minor": 5
}
