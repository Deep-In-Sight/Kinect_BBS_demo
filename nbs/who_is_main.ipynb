{
 "cells": [
  {
   "cell_type": "code",
   "execution_count": 53,
   "id": "029fa774-ffae-49d1-a69a-ad0c62bd278e",
   "metadata": {},
   "outputs": [
    {
     "name": "stdout",
     "output_type": "stream",
     "text": [
      "The autoreload extension is already loaded. To reload it, use:\n",
      "  %reload_ext autoreload\n"
     ]
    }
   ],
   "source": [
    "%load_ext autoreload\n",
    "%autoreload 2\n",
    "\n",
    "import os\n",
    "from glob import glob \n",
    "import cv2\n",
    "import matplotlib.pyplot as plt \n",
    "import numpy as np\n",
    "import PIL\n",
    "\n",
    "from BBS_pp_utils import json_to_arr\n",
    "import BBS_pp_utils as bbpp\n",
    "import data_preprocessing as dp\n",
    "from data_utils import Loader"
   ]
  },
  {
   "cell_type": "code",
   "execution_count": 54,
   "id": "c6c8ad10-891a-4edc-ab75-0dd2549dab9e",
   "metadata": {},
   "outputs": [],
   "source": [
    "def sk_viewer(json_to_arr_list, jpg_list, name=None, idx=0, save=0):\n",
    "    '''\n",
    "    skeleton viewer function \n",
    "    parameters\n",
    "    ----------\n",
    "    json_to_arr_list : json_to_arr_list function result\n",
    "    jpg_list : Full frame list\n",
    "    idx : Frame index that you want to see\n",
    "    image save = 1 / not image save = 0\n",
    "    '''\n",
    "    left_arms = ['left_shoulder', 'left_elbow', 'left_wrist']\n",
    "    right_arms = ['nose', 'right_shoulder',  'right_elbow', 'right_wrist']\n",
    "    body = ['nose','left_shoulder', 'right_shoulder', 'right_hip', 'left_hip', 'left_shoulder']\n",
    "    leg = ['right_ankle', 'right_knee', 'right_hip', 'left_hip', 'left_knee', 'left_ankle']\n",
    "    ii = [left_arms, right_arms, body, leg]\n",
    "\n",
    "    fig, ax = plt.subplots(figsize=(16,9))\n",
    "    im = plt.imread(jpg_list[idx])\n",
    "    ax.imshow(im, zorder=1)\n",
    "    for color_idx, i in enumerate(json_to_arr_list):\n",
    "        if color_idx == 0: \n",
    "            color = 'tab:blue'\n",
    "        elif color_idx == 1:\n",
    "            color = 'tab:orange'\n",
    "        else:\n",
    "            color = 'tab:green'\n",
    "        for j in ii:\n",
    "            ax.plot([i['x'+sa][idx] for sa in j if i['x'+sa][idx] !=0], [i['y'+sa][idx] for sa in j if i['x'+sa][idx] !=0], lw=5, color=color)\n",
    "    if save == 1:\n",
    "        os.makedirs('image', exist_ok=True)\n",
    "        plt.tight_layout()\n",
    "        plt.savefig(f'image/{name}_{idx}.jpg')\n",
    "    plt.close()\n",
    "    #plt.show()"
   ]
  },
  {
   "cell_type": "code",
   "execution_count": 55,
   "id": "844d897b-e485-4e28-9be2-d55d0ff5132b",
   "metadata": {},
   "outputs": [],
   "source": [
    "dtypes = bbpp.get_dtypes(ignored_joints=[])\n",
    "\n",
    "ll = Loader(dtypes=dtypes)\n",
    "\n",
    "#ll.skel_fn(\"a\", 29, 1, 1)\n",
    "#fnl = np.array(ll.get_jpg_list())\n",
    "#sk = ll.skel_fn(\"a\", 29, 4, 4)"
   ]
  },
  {
   "cell_type": "code",
   "execution_count": 49,
   "id": "d6dcf594-852b-4c03-ae0b-6fb394656e12",
   "metadata": {},
   "outputs": [
    {
     "name": "stdout",
     "output_type": "stream",
     "text": [
      "418\n"
     ]
    }
   ],
   "source": [
    "root = '/home/eckim/workspace/fhe_etri/Data/BBS/Sample_BBS/BBS'\n",
    "with open ('/home/eckim/workspace/fhe_etri/Data/BBS/Sample_BBS/BBS/output/output_6.txt', 'r') as f:\n",
    "    l = f.readlines()\n",
    "print(len(l))"
   ]
  },
  {
   "cell_type": "code",
   "execution_count": 52,
   "id": "f66b83e7-b4da-4c16-b9a4-4accd16266f2",
   "metadata": {},
   "outputs": [
    {
     "name": "stdout",
     "output_type": "stream",
     "text": [
      "a_009_6_4\n",
      "/home/eckim/workspace/fhe_etri/Data/BBS/Sample_BBS/BBS/Preds/c6/a_009_6_4.json\n",
      "a_010_6_3\n",
      "/home/eckim/workspace/fhe_etri/Data/BBS/Sample_BBS/BBS/Preds/c6/a_010_6_3.json\n",
      "a_011_6_3\n",
      "/home/eckim/workspace/fhe_etri/Data/BBS/Sample_BBS/BBS/Preds/c6/a_011_6_3.json\n",
      "a_012_6_4\n",
      "/home/eckim/workspace/fhe_etri/Data/BBS/Sample_BBS/BBS/Preds/c6/a_012_6_4.json\n",
      "a_013_6_4\n",
      "/home/eckim/workspace/fhe_etri/Data/BBS/Sample_BBS/BBS/Preds/c6/a_013_6_4.json\n",
      "a_014_6_3\n",
      "/home/eckim/workspace/fhe_etri/Data/BBS/Sample_BBS/BBS/Preds/c6/a_014_6_3.json\n",
      "a_015_6_3\n",
      "/home/eckim/workspace/fhe_etri/Data/BBS/Sample_BBS/BBS/Preds/c6/a_015_6_3.json\n",
      "a_016_6_2\n",
      "/home/eckim/workspace/fhe_etri/Data/BBS/Sample_BBS/BBS/Preds/c6/a_016_6_2.json\n",
      "a_017_6_2\n",
      "/home/eckim/workspace/fhe_etri/Data/BBS/Sample_BBS/BBS/Preds/c6/a_017_6_2.json\n",
      "a_018_6_1\n",
      "/home/eckim/workspace/fhe_etri/Data/BBS/Sample_BBS/BBS/Preds/c6/a_018_6_1.json\n",
      "a_019_6_1\n",
      "/home/eckim/workspace/fhe_etri/Data/BBS/Sample_BBS/BBS/Preds/c6/a_019_6_1.json\n",
      "a_020_6_0\n",
      "/home/eckim/workspace/fhe_etri/Data/BBS/Sample_BBS/BBS/Preds/c6/a_020_6_0.json\n",
      "a_021_6_0\n",
      "/home/eckim/workspace/fhe_etri/Data/BBS/Sample_BBS/BBS/Preds/c6/a_021_6_0.json\n",
      "a_022_6_4\n",
      "/home/eckim/workspace/fhe_etri/Data/BBS/Sample_BBS/BBS/Preds/c6/a_022_6_4.json\n",
      "a_023_6_4\n",
      "/home/eckim/workspace/fhe_etri/Data/BBS/Sample_BBS/BBS/Preds/c6/a_023_6_4.json\n",
      "a_024_6_3\n",
      "/home/eckim/workspace/fhe_etri/Data/BBS/Sample_BBS/BBS/Preds/c6/a_024_6_3.json\n",
      "a_025_6_3\n",
      "/home/eckim/workspace/fhe_etri/Data/BBS/Sample_BBS/BBS/Preds/c6/a_025_6_3.json\n",
      "a_026_6_2\n",
      "/home/eckim/workspace/fhe_etri/Data/BBS/Sample_BBS/BBS/Preds/c6/a_026_6_2.json\n",
      "a_027_6_2\n",
      "/home/eckim/workspace/fhe_etri/Data/BBS/Sample_BBS/BBS/Preds/c6/a_027_6_2.json\n",
      "a_028_6_1\n",
      "/home/eckim/workspace/fhe_etri/Data/BBS/Sample_BBS/BBS/Preds/c6/a_028_6_1.json\n",
      "a_029_6_1\n",
      "/home/eckim/workspace/fhe_etri/Data/BBS/Sample_BBS/BBS/Preds/c6/a_029_6_1.json\n",
      "a_030_6_0\n",
      "/home/eckim/workspace/fhe_etri/Data/BBS/Sample_BBS/BBS/Preds/c6/a_030_6_0.json\n",
      "a_031_6_0\n",
      "/home/eckim/workspace/fhe_etri/Data/BBS/Sample_BBS/BBS/Preds/c6/a_031_6_0.json\n",
      "a_032_6_4\n",
      "/home/eckim/workspace/fhe_etri/Data/BBS/Sample_BBS/BBS/Preds/c6/a_032_6_4.json\n",
      "a_033_6_4\n",
      "/home/eckim/workspace/fhe_etri/Data/BBS/Sample_BBS/BBS/Preds/c6/a_033_6_4.json\n",
      "a_034_6_3\n",
      "/home/eckim/workspace/fhe_etri/Data/BBS/Sample_BBS/BBS/Preds/c6/a_034_6_3.json\n",
      "a_035_6_3\n",
      "/home/eckim/workspace/fhe_etri/Data/BBS/Sample_BBS/BBS/Preds/c6/a_035_6_3.json\n",
      "a_036_6_2\n",
      "/home/eckim/workspace/fhe_etri/Data/BBS/Sample_BBS/BBS/Preds/c6/a_036_6_2.json\n",
      "a_037_6_2\n",
      "/home/eckim/workspace/fhe_etri/Data/BBS/Sample_BBS/BBS/Preds/c6/a_037_6_2.json\n",
      "a_038_6_1\n",
      "/home/eckim/workspace/fhe_etri/Data/BBS/Sample_BBS/BBS/Preds/c6/a_038_6_1.json\n",
      "a_039_6_1\n",
      "/home/eckim/workspace/fhe_etri/Data/BBS/Sample_BBS/BBS/Preds/c6/a_039_6_1.json\n",
      "a_040_6_0\n",
      "/home/eckim/workspace/fhe_etri/Data/BBS/Sample_BBS/BBS/Preds/c6/a_040_6_0.json\n",
      "a_041_6_0\n",
      "/home/eckim/workspace/fhe_etri/Data/BBS/Sample_BBS/BBS/Preds/c6/a_041_6_0.json\n",
      "a_042_6_0\n",
      "/home/eckim/workspace/fhe_etri/Data/BBS/Sample_BBS/BBS/Preds/c6/a_042_6_0.json\n",
      "a_043_6_0\n",
      "/home/eckim/workspace/fhe_etri/Data/BBS/Sample_BBS/BBS/Preds/c6/a_043_6_0.json\n",
      "a_044_6_4\n",
      "/home/eckim/workspace/fhe_etri/Data/BBS/Sample_BBS/BBS/Preds/c6/a_044_6_4.json\n"
     ]
    },
    {
     "ename": "ValueError",
     "evalue": "too many values to unpack (expected 4)",
     "output_type": "error",
     "traceback": [
      "\u001b[0;31m---------------------------------------------------------------------------\u001b[0m",
      "\u001b[0;31mValueError\u001b[0m                                Traceback (most recent call last)",
      "\u001b[0;32m/tmp/ipykernel_48106/3538409619.py\u001b[0m in \u001b[0;36m<module>\u001b[0;34m\u001b[0m\n\u001b[1;32m      1\u001b[0m \u001b[0;32mfor\u001b[0m \u001b[0midx\u001b[0m \u001b[0;32min\u001b[0m \u001b[0mrange\u001b[0m\u001b[0;34m(\u001b[0m\u001b[0mlen\u001b[0m\u001b[0;34m(\u001b[0m\u001b[0ml\u001b[0m\u001b[0;34m)\u001b[0m\u001b[0;34m)\u001b[0m\u001b[0;34m:\u001b[0m\u001b[0;34m\u001b[0m\u001b[0;34m\u001b[0m\u001b[0m\n\u001b[1;32m      2\u001b[0m     \u001b[0mlr\u001b[0m \u001b[0;34m=\u001b[0m \u001b[0ml\u001b[0m\u001b[0;34m[\u001b[0m\u001b[0midx\u001b[0m\u001b[0;34m]\u001b[0m\u001b[0;34m.\u001b[0m\u001b[0mrstrip\u001b[0m\u001b[0;34m(\u001b[0m\u001b[0;34m)\u001b[0m\u001b[0;34m\u001b[0m\u001b[0;34m\u001b[0m\u001b[0m\n\u001b[0;32m----> 3\u001b[0;31m     \u001b[0mmeta_feature\u001b[0m \u001b[0;34m=\u001b[0m \u001b[0mdp\u001b[0m\u001b[0;34m.\u001b[0m\u001b[0mfixed_parse\u001b[0m\u001b[0;34m(\u001b[0m\u001b[0mlr\u001b[0m\u001b[0;34m)\u001b[0m\u001b[0;34m\u001b[0m\u001b[0;34m\u001b[0m\u001b[0m\n\u001b[0m\u001b[1;32m      4\u001b[0m \u001b[0;34m\u001b[0m\u001b[0m\n\u001b[1;32m      5\u001b[0m     \u001b[0msc\u001b[0m\u001b[0;34m,\u001b[0m \u001b[0mco\u001b[0m \u001b[0;34m=\u001b[0m \u001b[0mmeta_feature\u001b[0m\u001b[0;34m[\u001b[0m\u001b[0;34m:\u001b[0m\u001b[0;36m3\u001b[0m\u001b[0;34m]\u001b[0m\u001b[0;34m,\u001b[0m \u001b[0mmeta_feature\u001b[0m\u001b[0;34m[\u001b[0m\u001b[0;34m-\u001b[0m\u001b[0;36m1\u001b[0m\u001b[0;34m]\u001b[0m\u001b[0;34m\u001b[0m\u001b[0;34m\u001b[0m\u001b[0m\n",
      "\u001b[0;32m~/workspace/fhe_etri/RF/fhenrf/pose/data_preprocessing.py\u001b[0m in \u001b[0;36mfixed_parse\u001b[0;34m(l)\u001b[0m\n\u001b[1;32m     33\u001b[0m     ex) l = 'a_125_4_3.png 144 547'\n\u001b[1;32m     34\u001b[0m     \"\"\"\n\u001b[0;32m---> 35\u001b[0;31m     \u001b[0m_\u001b[0m\u001b[0;34m,\u001b[0m \u001b[0mID\u001b[0m\u001b[0;34m,\u001b[0m \u001b[0maction\u001b[0m\u001b[0;34m,\u001b[0m \u001b[0mscore\u001b[0m \u001b[0;34m=\u001b[0m \u001b[0ml\u001b[0m\u001b[0;34m.\u001b[0m\u001b[0msplit\u001b[0m\u001b[0;34m(\u001b[0m\u001b[0;34m\".png\"\u001b[0m\u001b[0;34m)\u001b[0m\u001b[0;34m[\u001b[0m\u001b[0;36m0\u001b[0m\u001b[0;34m]\u001b[0m\u001b[0;34m.\u001b[0m\u001b[0msplit\u001b[0m\u001b[0;34m(\u001b[0m\u001b[0;34m\"_\"\u001b[0m\u001b[0;34m)\u001b[0m\u001b[0;34m\u001b[0m\u001b[0;34m\u001b[0m\u001b[0m\n\u001b[0m\u001b[1;32m     36\u001b[0m     \u001b[0m_\u001b[0m\u001b[0;34m,\u001b[0m \u001b[0mx\u001b[0m\u001b[0;34m,\u001b[0m \u001b[0my\u001b[0m \u001b[0;34m=\u001b[0m \u001b[0ml\u001b[0m\u001b[0;34m.\u001b[0m\u001b[0msplit\u001b[0m\u001b[0;34m(\u001b[0m\u001b[0;34m\".png\"\u001b[0m\u001b[0;34m)\u001b[0m\u001b[0;34m[\u001b[0m\u001b[0;36m1\u001b[0m\u001b[0;34m]\u001b[0m\u001b[0;34m.\u001b[0m\u001b[0msplit\u001b[0m\u001b[0;34m(\u001b[0m\u001b[0;34m\" \"\u001b[0m\u001b[0;34m)\u001b[0m\u001b[0;34m\u001b[0m\u001b[0;34m\u001b[0m\u001b[0m\n\u001b[1;32m     37\u001b[0m     \u001b[0;32mreturn\u001b[0m \u001b[0mint\u001b[0m\u001b[0;34m(\u001b[0m\u001b[0maction\u001b[0m\u001b[0;34m)\u001b[0m\u001b[0;34m,\u001b[0m \u001b[0mint\u001b[0m\u001b[0;34m(\u001b[0m\u001b[0mscore\u001b[0m\u001b[0;34m)\u001b[0m\u001b[0;34m,\u001b[0m \u001b[0mint\u001b[0m\u001b[0;34m(\u001b[0m\u001b[0mID\u001b[0m\u001b[0;34m)\u001b[0m\u001b[0;34m,\u001b[0m \u001b[0;34m(\u001b[0m\u001b[0mint\u001b[0m\u001b[0;34m(\u001b[0m\u001b[0mx\u001b[0m\u001b[0;34m)\u001b[0m\u001b[0;34m,\u001b[0m \u001b[0mint\u001b[0m\u001b[0;34m(\u001b[0m\u001b[0my\u001b[0m\u001b[0;34m)\u001b[0m\u001b[0;34m)\u001b[0m\u001b[0;34m\u001b[0m\u001b[0;34m\u001b[0m\u001b[0m\n",
      "\u001b[0;31mValueError\u001b[0m: too many values to unpack (expected 4)"
     ]
    }
   ],
   "source": [
    "for idx in range(len(l)):\n",
    "    lr = l[idx].rstrip()\n",
    "    meta_feature = dp.fixed_parse(lr)\n",
    "\n",
    "    sc, co = meta_feature[:3], meta_feature[-1]\n",
    "    # sc : (class, score, frame index\n",
    "    # co : (x, y)\n",
    "    # 스켈레톤 추출 \n",
    "    sk = ll.load_skel(parms=list(sc)+['a'])\n",
    "    #print(len(sk[0]))\n",
    "    # 사람이 몇명인지 확인\n",
    "    #print(len(sk))\n",
    "    c2n = dp.Coord2name()\n",
    "    co = np.array(co)\n",
    "    feature = c2n.coord2feature(co)\n",
    "    #print(feature)\n",
    "    #print(co)\n",
    "    arrs = dp.feature_preprocessing(sk, feature)\n",
    "    convert_arr = dp.convert_frame_num(arrs)\n",
    "    file_name = ll.skel_fn()\n",
    "    name = file_name.split('/')[-1].split('.')[0]\n",
    "    print(name)\n",
    "    try:\n",
    "        a = ll.get_jpg_list(*sc,'a')\n",
    "        print(a[1])\n",
    "        #print(arrs[0]['frame'])\n",
    "        sk_viewer(convert_arr, a, name, 1, 1)\n",
    "    except:\n",
    "        pass\n",
    "    print(file_name)\n",
    "    #dp.save_npy(root, file_name, convert_arr)\n",
    "    # bbpp.quick_view(sk, fn=file_name.replace(\".json\", \"original.png\"))\n",
    "    # bbpp.quick_view(arr, fn=file_name.replace(\".json\", \"fixed.png\"))\n",
    "    "
   ]
  },
  {
   "cell_type": "code",
   "execution_count": null,
   "id": "73abb9c3-31d1-44a9-9ef8-62e4b8ab5c40",
   "metadata": {},
   "outputs": [],
   "source": []
  }
 ],
 "metadata": {
  "kernelspec": {
   "display_name": "Python 3 (ipykernel)",
   "language": "python",
   "name": "python3"
  },
  "language_info": {
   "codemirror_mode": {
    "name": "ipython",
    "version": 3
   },
   "file_extension": ".py",
   "mimetype": "text/x-python",
   "name": "python",
   "nbconvert_exporter": "python",
   "pygments_lexer": "ipython3",
   "version": "3.8.12"
  }
 },
 "nbformat": 4,
 "nbformat_minor": 5
}
