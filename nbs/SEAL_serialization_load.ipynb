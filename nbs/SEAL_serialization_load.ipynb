{
 "cells": [
  {
   "cell_type": "code",
   "execution_count": 1,
   "id": "0df8e0ad",
   "metadata": {},
   "outputs": [],
   "source": [
    "%load_ext autoreload\n",
    "%autoreload 2\n",
    "\n",
    "\n",
    "import os\n",
    "os.environ[\"CUDA_VISIBLE_DEVICES\"]=\"\"\n",
    "\n",
    "import torch\n",
    "import numpy as np\n",
    "from sklearn.preprocessing import LabelEncoder\n",
    "import pickle\n",
    "\n",
    "from fase import seal\n",
    "from fase.core.common import SEALContext\n",
    "#from fase.RF.sktree import TumorRF"
   ]
  },
  {
   "cell_type": "code",
   "execution_count": 2,
   "id": "8ec858f6",
   "metadata": {},
   "outputs": [],
   "source": [
    "def decrypt_print(ctx, n=20):\n",
    "    ptx = seal.Plaintext()\n",
    "    decryptor.decrypt(ctx, ptx)\n",
    "    out = encoder.decode(ptx)\n",
    "    print(out[:n])\n",
    "    \n",
    "def decode_print(ptx, n=20):\n",
    "    out = encoder.decode(ptx)\n",
    "    print(out[:n])"
   ]
  },
  {
   "cell_type": "code",
   "execution_count": 6,
   "id": "9e3f7ad5",
   "metadata": {},
   "outputs": [
    {
     "name": "stdout",
     "output_type": "stream",
     "text": [
      "SEAL CKKS scheme is ready\n"
     ]
    }
   ],
   "source": [
    "PRECISION_BITS = 28\n",
    "ckks_se = SEALContext(scale_bit=PRECISION_BITS,\n",
    "                      is_client=False)"
   ]
  },
  {
   "cell_type": "code",
   "execution_count": 8,
   "id": "a6b9555e",
   "metadata": {},
   "outputs": [],
   "source": [
    "ctx1 = seal.Ciphertext()\n",
    "ctx1.load(ckks_se.context, 'enc1.dat')\n",
    "\n",
    "ctx2 = seal.Ciphertext()\n",
    "ctx2.load(ckks_se.context, 'enc2.dat')"
   ]
  },
  {
   "cell_type": "code",
   "execution_count": 11,
   "id": "0aae1669",
   "metadata": {},
   "outputs": [],
   "source": [
    "ckks_se.mult(ctx1, ctx2, inplace=True)"
   ]
  },
  {
   "cell_type": "code",
   "execution_count": 12,
   "id": "020ab450",
   "metadata": {},
   "outputs": [],
   "source": [
    "ctx1.save(\"enc_result.dat\")"
   ]
  },
  {
   "cell_type": "code",
   "execution_count": null,
   "id": "843323b1",
   "metadata": {},
   "outputs": [],
   "source": []
  }
 ],
 "metadata": {
  "kernelspec": {
   "display_name": "Python 3 (ipykernel)",
   "language": "python",
   "name": "python3"
  },
  "language_info": {
   "codemirror_mode": {
    "name": "ipython",
    "version": 3
   },
   "file_extension": ".py",
   "mimetype": "text/x-python",
   "name": "python",
   "nbconvert_exporter": "python",
   "pygments_lexer": "ipython3",
   "version": "3.9.0"
  }
 },
 "nbformat": 4,
 "nbformat_minor": 5
}
