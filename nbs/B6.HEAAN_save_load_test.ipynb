{
 "cells": [
  {
   "cell_type": "code",
   "execution_count": 1,
   "id": "ad36a427",
   "metadata": {},
   "outputs": [],
   "source": [
    "from fase import HEAAN\n",
    "import fase.HEAAN as he\n",
    "import numpy as np"
   ]
  },
  {
   "cell_type": "code",
   "execution_count": 2,
   "id": "b9423c2a",
   "metadata": {},
   "outputs": [],
   "source": [
    "class Param():\n",
    "    def __init__(self, n=None, logn=None, logp=None, logq=None, logQboot=None):\n",
    "        self.n = n\n",
    "        self.logn = logn\n",
    "        self.logp = logp\n",
    "        self.logq = logq \n",
    "        self.logQboot = logQboot\n",
    "        if self.logn == None:\n",
    "            self.logn = int(np.log2(n))"
   ]
  },
  {
   "cell_type": "code",
   "execution_count": 3,
   "id": "1f20f292",
   "metadata": {},
   "outputs": [],
   "source": [
    "logq = 540\n",
    "logp = 30\n",
    "logn = 14\n",
    "n = 1*2**logn\n",
    "slots = n\n",
    "\n",
    "parms = Param(n=n, logp=logp, logq=logq)\n",
    "\n",
    "do_reduction=False\n",
    "is_serialized = True\n",
    "\n",
    "ring = he.Ring()"
   ]
  },
  {
   "cell_type": "code",
   "execution_count": 13,
   "id": "3090b6f2",
   "metadata": {},
   "outputs": [],
   "source": [
    "secretKey = he.SecretKey(ring)\n",
    "#he.SerializationUtils.writeKey(secretKey., \"./test/serkey/SECRETKEY.txt\")\n",
    "scheme = he.Scheme(secretKey, ring, False, './test/') # Failed to store secret key...  it's not working.\n",
    "\n",
    "algo = he.SchemeAlgo(scheme)\n",
    "\n",
    "# reduction때는 right rotation N_class개 필요. \n",
    "if do_reduction:\n",
    "    Nclass = Nmodel.head.shape[0]\n",
    "    scheme.addLeftRotKeys(secretKey)\n",
    "    for i in range(Nclass):\n",
    "        scheme.addRightRotKey(secretKey, i+1) # \n",
    "else:\n",
    "    # reduction 안 하면 하나짜리 rotation만 여러번 반복.\n",
    "    scheme.addLeftRotKey(secretKey, 1)"
   ]
  },
  {
   "cell_type": "code",
   "execution_count": 4,
   "id": "c0f9daf8",
   "metadata": {},
   "outputs": [
    {
     "name": "stdout",
     "output_type": "stream",
     "text": [
      "loading Keys from ./test/serkey/ENCRYPTION.txt\n",
      "loading Keys from ./test/serkey/MULTIPLICATION.txt\n"
     ]
    }
   ],
   "source": [
    "scheme2 = he.Scheme(ring, is_serialized, './test/')"
   ]
  },
  {
   "cell_type": "code",
   "execution_count": 5,
   "id": "5132d4e8",
   "metadata": {},
   "outputs": [],
   "source": [
    "def decrypt(scheme, secretKey, enc):\n",
    "    featurized = scheme.decrypt(secretKey, enc)\n",
    "    arr = np.zeros(n, dtype=np.complex128)\n",
    "    featurized.__getarr__(arr)\n",
    "    return arr.real\n",
    "\n",
    "def encrypt(scheme, val):\n",
    "    ctxt = he.Ciphertext()#logp, logq, n)\n",
    "    vv = np.zeros(n) # Need to initialize to zero or will cause \"unbound\"\n",
    "    vv[:len(val)] = val\n",
    "    scheme.encrypt(ctxt, he.Double(vv), n, logp, logq)\n",
    "    del vv\n",
    "    return ctxt"
   ]
  },
  {
   "cell_type": "code",
   "execution_count": 7,
   "id": "ff725b97",
   "metadata": {},
   "outputs": [],
   "source": [
    "ctx1 = encrypt(scheme, [1,2,3,4,5,6,7])\n",
    "ctx1_1 = encrypt(scheme, [1,2,3,4,5,6,7])\n",
    "ctx2 = encrypt(scheme, [4,5,6,7,8,9,0])\n"
   ]
  },
  {
   "cell_type": "code",
   "execution_count": 9,
   "id": "ab127c51",
   "metadata": {},
   "outputs": [],
   "source": [
    "he.SerializationUtils.writeCiphertext(ctx1, \"./ctx1.dat\")\n",
    "he.SerializationUtils.writeCiphertext(ctx1_1, \"./ctx1_1.dat\")\n",
    "he.SerializationUtils.writeCiphertext(ctx2, \"./ctx2.dat\")"
   ]
  },
  {
   "cell_type": "code",
   "execution_count": 6,
   "id": "6e14bc2f",
   "metadata": {},
   "outputs": [],
   "source": [
    "ctx1 = he.Ciphertext()\n",
    "he.SerializationUtils.readCiphertext(ctx1, \"./ctx1.dat\")"
   ]
  },
  {
   "cell_type": "code",
   "execution_count": 8,
   "id": "6e62c907",
   "metadata": {},
   "outputs": [
    {
     "ename": "TypeError",
     "evalue": "decrypt() missing 2 required positional arguments: 'secretKey' and 'enc'",
     "output_type": "error",
     "traceback": [
      "\u001b[0;31m---------------------------------------------------------------------------\u001b[0m",
      "\u001b[0;31mTypeError\u001b[0m                                 Traceback (most recent call last)",
      "\u001b[0;32m/tmp/ipykernel_869515/303128010.py\u001b[0m in \u001b[0;36m<module>\u001b[0;34m\u001b[0m\n\u001b[0;32m----> 1\u001b[0;31m \u001b[0mdecrypt\u001b[0m\u001b[0;34m(\u001b[0m\u001b[0mctx1\u001b[0m\u001b[0;34m)\u001b[0m\u001b[0;34m\u001b[0m\u001b[0;34m\u001b[0m\u001b[0m\n\u001b[0m",
      "\u001b[0;31mTypeError\u001b[0m: decrypt() missing 2 required positional arguments: 'secretKey' and 'enc'"
     ]
    }
   ],
   "source": [
    "decrypt(ctx1)"
   ]
  },
  {
   "cell_type": "code",
   "execution_count": null,
   "id": "3e9c361f",
   "metadata": {},
   "outputs": [],
   "source": [
    "he.SerializationUtils.writeCiphertext(ctx1, \"./ctx1.dat\")\n",
    "he.SerializationUtils.writeCiphertext(ctx1_1, \"./ctx1_1.dat\")\n",
    "he.SerializationUtils.writeCiphertext(ctx2, \"./ctx2.dat\")"
   ]
  },
  {
   "cell_type": "code",
   "execution_count": 17,
   "id": "21e9cd77",
   "metadata": {},
   "outputs": [],
   "source": [
    "scheme2.multAndEqual(ctx1, ctx2)"
   ]
  },
  {
   "cell_type": "code",
   "execution_count": 18,
   "id": "4ad55233",
   "metadata": {},
   "outputs": [],
   "source": [
    "out = decrypt(scheme, secretKey, ctx1)\n",
    "print(out)"
   ]
  },
  {
   "cell_type": "code",
   "execution_count": 20,
   "id": "8ec1c8d7",
   "metadata": {},
   "outputs": [],
   "source": [
    "scheme2.loadLeftRotKey(1)"
   ]
  },
  {
   "cell_type": "code",
   "execution_count": 23,
   "id": "3a15dfc7",
   "metadata": {},
   "outputs": [],
   "source": [
    "scheme.leftRotateFastAndEqual(ctx1, 1)\n",
    "scheme2.leftRotateFastAndEqual(ctx1_1, 1)"
   ]
  },
  {
   "cell_type": "code",
   "execution_count": 24,
   "id": "36f5cee6",
   "metadata": {},
   "outputs": [],
   "source": [
    "o1 = decrypt(scheme, secretKey, ctx1)\n",
    "o11 = decrypt(scheme, secretKey, ctx1_1)"
   ]
  },
  {
   "cell_type": "code",
   "execution_count": 25,
   "id": "6e954f88",
   "metadata": {},
   "outputs": [
    {
     "data": {
      "text/plain": [
       "array([ 1.99999933e+00,  2.99999789e+00,  3.99999962e+00, ...,\n",
       "       -1.55216352e-06, -3.27959178e-06,  9.99994768e-01])"
      ]
     },
     "execution_count": 25,
     "metadata": {},
     "output_type": "execute_result"
    }
   ],
   "source": [
    "o1"
   ]
  },
  {
   "cell_type": "code",
   "execution_count": 26,
   "id": "b97102e2",
   "metadata": {},
   "outputs": [
    {
     "data": {
      "text/plain": [
       "array([ 2.00000077e+00,  3.00000069e+00,  4.00000071e+00, ...,\n",
       "       -2.59000396e-06,  1.75775797e-06,  1.00000723e+00])"
      ]
     },
     "execution_count": 26,
     "metadata": {},
     "output_type": "execute_result"
    }
   ],
   "source": [
    "o11"
   ]
  },
  {
   "cell_type": "markdown",
   "id": "1dd96abe",
   "metadata": {},
   "source": [
    "Encryption, Decryption and Rotation are working! "
   ]
  }
 ],
 "metadata": {
  "kernelspec": {
   "display_name": "Python 3 (ipykernel)",
   "language": "python",
   "name": "python3"
  },
  "language_info": {
   "codemirror_mode": {
    "name": "ipython",
    "version": 3
   },
   "file_extension": ".py",
   "mimetype": "text/x-python",
   "name": "python",
   "nbconvert_exporter": "python",
   "pygments_lexer": "ipython3",
   "version": "3.9.0"
  }
 },
 "nbformat": 4,
 "nbformat_minor": 5
}
