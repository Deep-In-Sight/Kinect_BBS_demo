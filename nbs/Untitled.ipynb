{
 "cells": [
  {
   "cell_type": "code",
   "execution_count": 1,
   "id": "5e7c9c86",
   "metadata": {},
   "outputs": [],
   "source": [
    "import numpy as np\n",
    "from fase import HEAAN\n",
    "\n",
    "def decrypt(scheme, secretKey, enc):\n",
    "    featurized = scheme.decrypt(secretKey, enc)\n",
    "    arr = np.zeros(n, dtype=np.complex128)\n",
    "    featurized.__getarr__(arr)\n",
    "    return arr.real\n",
    "\n",
    "def encrypt(scheme, val):\n",
    "    ctxt = HEAAN.Ciphertext()#logp, logq, n)\n",
    "    vv = np.zeros(n) # Need to initialize to zero or will cause \"unbound\"\n",
    "    vv[:len(val)] = val\n",
    "    scheme.encrypt(ctxt, HEAAN.Double(vv), n, logp, logq)\n",
    "    del vv\n",
    "    return ctxt\n"
   ]
  },
  {
   "cell_type": "code",
   "execution_count": 2,
   "id": "54e53cba",
   "metadata": {},
   "outputs": [],
   "source": [
    "logq = 540\n",
    "logp = 30\n",
    "logn = 14\n",
    "n = 1*2**logn\n",
    "\n",
    "Nclass = 2\n",
    "\n",
    "key_path = \"/home/hoseung/Work/fhe-ai-sw-etri/fase/HEAAN/run/here/\"\n",
    "\n",
    "ring = HEAAN.Ring()\n",
    "\n",
    "secretKey = HEAAN.SecretKey(ring)\n",
    "scheme = HEAAN.Scheme(secretKey, ring, isSerialized=True, root_path=key_path)\n",
    "algo = HEAAN.SchemeAlgo(scheme)"
   ]
  },
  {
   "cell_type": "markdown",
   "id": "48717223",
   "metadata": {},
   "source": [
    "## ctxt와 secretkey 읽어서 decrypt"
   ]
  },
  {
   "cell_type": "code",
   "execution_count": 9,
   "id": "5844ec63",
   "metadata": {},
   "outputs": [
    {
     "name": "stdout",
     "output_type": "stream",
     "text": [
      "decrypting..\n",
      "[0.99999918 2.00000073 3.00000374 4.00000129 5.00000043 5.99999864\n",
      " 6.99999877] =?= [1,2,3,4,5,6,7]\n"
     ]
    }
   ],
   "source": [
    "ring2 = HEAAN.Ring()\n",
    "scheme2 = HEAAN.Scheme(ring2, isSerialized=True, root_path=key_path)\n",
    "\n",
    "ctx12 = HEAAN.Ciphertext(logp, logq, n)#pqn\n",
    "HEAAN.SerializationUtils.readCiphertext(ctx12, \"./ctx1.dat\")\n",
    "\n",
    "print(\"decrypting..\")\n",
    "res = decrypt(scheme2, secretKey, ctx12)\n",
    "print(res[:7], \"=?= [1,2,3,4,5,6,7]\")"
   ]
  },
  {
   "cell_type": "code",
   "execution_count": null,
   "id": "ae6e3220",
   "metadata": {},
   "outputs": [],
   "source": []
  }
 ],
 "metadata": {
  "kernelspec": {
   "display_name": "Python 3 (ipykernel)",
   "language": "python",
   "name": "python3"
  },
  "language_info": {
   "codemirror_mode": {
    "name": "ipython",
    "version": 3
   },
   "file_extension": ".py",
   "mimetype": "text/x-python",
   "name": "python",
   "nbconvert_exporter": "python",
   "pygments_lexer": "ipython3",
   "version": "3.9.0"
  }
 },
 "nbformat": 4,
 "nbformat_minor": 5
}
