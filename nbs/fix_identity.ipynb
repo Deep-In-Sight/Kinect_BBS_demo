{
 "cells": [
  {
   "cell_type": "markdown",
   "id": "6d26340a",
   "metadata": {},
   "source": [
    "PifPaf shows much better performance than ML kit or Kinect model. But it still doesn't fix identity of each person (mainly because individual images are fed in -- and I don't failed to create a virtual cam object to generate a video input stream)  \n",
    "After all, I will have to manually fix the identity"
   ]
  },
  {
   "cell_type": "code",
   "execution_count": 31,
   "id": "190380ce",
   "metadata": {},
   "outputs": [],
   "source": [
    "from glob import glob\n",
    "import numpy as np\n",
    "import random\n",
    "\n",
    "import BBS_pp_utils as bbpp"
   ]
  },
  {
   "cell_type": "code",
   "execution_count": 16,
   "id": "864c1ace",
   "metadata": {},
   "outputs": [],
   "source": [
    "flist = glob(\"/home/hoseung/Dropbox/DeepInsight/2021ETRI/BBS_data/Preds/a/c4_plot/overlap/*.png\")\n",
    "coords = np.random.rand(100,2)"
   ]
  },
  {
   "cell_type": "code",
   "execution_count": 75,
   "id": "e29c0752",
   "metadata": {},
   "outputs": [],
   "source": [
    "class Coord2name():\n",
    "    def __init__(self, coords):\n",
    "        dtypes = bbpp.get_dtypes(ignored_joints=[])\n",
    "        names = list(dtypes.names) + [\" \", \" \"]\n",
    "        self.names = np.array(names[1:]).reshape(6,6)\n",
    "        self.inds = self._coord_to_ind(coords)\n",
    "    \n",
    "    def __call__(self, coord):\n",
    "        return self.names[coord[0], coord[1]]\n",
    "    \n",
    "    def _coord_to_ind(coords, width = 1600, height = 1400):\n",
    "        coords[:,0] = (coords[:,0] * width).astype(int)\n",
    "        coords[:,1] = (coords[:,1] * height).astype(int)\n",
    "\n",
    "        ij = [((coords[:,0] / width) * 6 ).astype(int),\n",
    "              ((coords[:,1] / height) * 6 ).astype(int)]\n",
    "\n",
    "        ij = np.stack(ij, axis=1)\n",
    "        return ij\n"
   ]
  },
  {
   "cell_type": "code",
   "execution_count": null,
   "id": "9bf0ad6c",
   "metadata": {},
   "outputs": [],
   "source": []
  }
 ],
 "metadata": {
  "kernelspec": {
   "display_name": "Python 3 (ipykernel)",
   "language": "python",
   "name": "python3"
  },
  "language_info": {
   "codemirror_mode": {
    "name": "ipython",
    "version": 3
   },
   "file_extension": ".py",
   "mimetype": "text/x-python",
   "name": "python",
   "nbconvert_exporter": "python",
   "pygments_lexer": "ipython3",
   "version": "3.9.0"
  }
 },
 "nbformat": 4,
 "nbformat_minor": 5
}
