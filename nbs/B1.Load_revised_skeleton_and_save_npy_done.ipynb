{
 "cells": [
  {
   "cell_type": "markdown",
   "id": "182db94c",
   "metadata": {},
   "source": [
    "First convert Kinect skeleton to "
   ]
  },
  {
   "cell_type": "code",
   "execution_count": 1,
   "id": "013a6eb4",
   "metadata": {},
   "outputs": [],
   "source": [
    "# hide\n",
    "%load_ext autoreload\n",
    "%autoreload 2"
   ]
  },
  {
   "cell_type": "code",
   "execution_count": 2,
   "id": "bd394223",
   "metadata": {},
   "outputs": [],
   "source": [
    "import bbsQt"
   ]
  },
  {
   "cell_type": "code",
   "execution_count": 7,
   "id": "5b506650",
   "metadata": {},
   "outputs": [],
   "source": [
    "import json\n",
    "import numpy as np\n",
    "from glob import glob \n",
    "import bbsQt.model.BBS_pp_utils as bbpp\n",
    "\n",
    "import matplotlib.pyplot as plt \n",
    "import os\n",
    "\n",
    "from bbsQt.model.data_preprocessing import save_npy"
   ]
  },
  {
   "cell_type": "code",
   "execution_count": 8,
   "id": "a3b4e0a4",
   "metadata": {},
   "outputs": [],
   "source": [
    "def kinect2mobile(karr, marr):\n",
    "    \"\"\"fills mobile_skeleton array with KINECT_BBS skeleton array\n",
    "       with appropriate conversions.\n",
    "       \n",
    "       KINECT_BBS names are different from \n",
    "    \"\"\"\n",
    "    assert len(karr) == len(marr), \"coco array and mobile array are not in the same length\"\n",
    "    \n",
    "    K2M = {\"SHOULDER_LEFT\":\"l_shoulder\",\n",
    "           \"SHOULDER_RIGHT\":\"r_shoulder\",\n",
    "           \"ELBOW_LEFT\":\"l_elbow\", \n",
    "           \"ELBOW_RIGHT\":\"r_elbow\", \n",
    "           \"WRIST_LEFT\":\"l_hand\", \n",
    "           \"WRIST_RIGHT\":\"r_hand\",\n",
    "           \"HIP_LEFT\":\"l_hip\", \n",
    "           \"HIP_RIGHT\":\"r_hip\", \n",
    "           \"KNEE_LEFT\":\"l_knee\", \n",
    "           \"KNEE_RIGHT\":\"r_knee\",\n",
    "           \"ANKLE_LEFT\":\"l_foot\", \n",
    "           \"ANKLE_RIGHT\":\"r_foot\"}\n",
    "\n",
    "    # Assume neck is the mid point of shoulders\n",
    "    marr['xneck'] = (karr['xSHOULDER_LEFT'] + karr['xSHOULDER_RIGHT'])/2\n",
    "    marr['yneck'] = (karr['ySHOULDER_LEFT'] + karr['ySHOULDER_RIGHT'])/2\n",
    "    \n",
    "    # Assume (tip of) head is 2 times nose from neck\n",
    "    marr['xhead'] = karr['xNOSE']# + (karr['xNOSE']-karr['xNECK'])\n",
    "    marr['yhead'] = karr['yNOSE']# + (karr['yNOSE']-karr['yNECK'])\n",
    "    \n",
    "    marr['xpelvis'] = (karr['xHIP_LEFT'] + karr['xHIP_RIGHT'])/2\n",
    "    marr['ypelvis'] = (karr['yHIP_LEFT'] + karr['yHIP_RIGHT'])/2\n",
    "    \n",
    "    for common_field in K2M:\n",
    "        for prefix in ['x','y']:\n",
    "            marr[prefix+K2M[common_field]] = karr[prefix+common_field]\n",
    "    \n",
    "    marr['frame'] = karr['frame']\n",
    "\n",
    "get_frame = lambda fn : int(fn.split(\"/\")[-1].split(\".\")[0])\n",
    "\n",
    "def add_frame_joint(arr, this_dict, iframe):\n",
    "    for feature in this_dict:\n",
    "        arr[iframe]['x'+feature] = this_dict[feature][0]\n",
    "        arr[iframe]['y'+feature] = this_dict[feature][1] # [2] == depth\n",
    "    \n",
    "    \n",
    "def get_skeletons(scene, ll, iframe):\n",
    "    for ss, obj in zip(scene, ll['objects']):\n",
    "        add_frame_joint(ss['data'], obj['keypoints'], iframe)\n",
    "        ss['data'][iframe]['frame'] = iframe + 1\n",
    "\n",
    "def load_scene(fn_dir):\n",
    "    fn_frames = glob(fn_dir+\"????.json\")\n",
    "    fn_frames.sort()\n",
    "    nframe = len(fn_frames)\n",
    "    \n",
    "    if nframe == 0:\n",
    "        print(\"No frames found\", fn_dir)\n",
    "        return \n",
    "    dtype = bbpp.get_dtypes(skeleton=\"KINECT\")\n",
    "    \n",
    "    for i, fn in enumerate(fn_frames):           \n",
    "        ll = json.load(open(fn))\n",
    "        if i == 0:\n",
    "            scene = [{'id':obj['id'], 'data':np.zeros(nframe, dtype=dtype)} for obj in ll['objects']]\n",
    "\n",
    "        this_frame = get_frame(fn)\n",
    "        get_skeletons(scene, ll, this_frame -1)\n",
    "\n",
    "    return scene\n",
    "\n",
    "def save_npy(root, file_name, arr):\n",
    "    \"\"\" ex)\n",
    "    root = '/home/eckim/workspace/fhe_etri/Data/BBS/Sample_BBS/BBS'\n",
    "    file_name = ll.skel_fn()  #/home/eckim/workspace/fhe_etri/Data/BBS/Sample_BBS/BBS/Preds/c4/a_014_4_3.json\n",
    "    arr = feature_preprocessing() \n",
    "    \"\"\"\n",
    "    if not os.path.isdir(root+'/npy'):\n",
    "        for i in range(1, 15): # create classes dir\n",
    "            os.makedirs(root+'/npy/'+str(i), exist_ok=True)\n",
    "            for j in range(5):     # create scores  dir\n",
    "                os.makedirs(root+'/npy/'+str(i)+'/'+str(j), exist_ok=True)\n",
    "\n",
    "    a,b = file_name.split(\"/BBS/BT\")\n",
    "    cam, ID = a.split(\"/\")[-2:]\n",
    "    class_name, score = b.split(\"/\")[-4:-2]\n",
    "    \n",
    "    if not os.path.isdir(f'{root}/npy_{cam}/{class_name}/{score}/{ID}'):\n",
    "        os.makedirs(f'{root}/npy_{cam}/{class_name}/{score}/{ID}')\n",
    "        \n",
    "    for idx, i in enumerate(arr):\n",
    "        np.save(f'{root}/npy_{cam}/{class_name}/{score}/{ID}/{cam}_{ID}_{class_name}_{score}_{idx}.npy', i)"
   ]
  },
  {
   "cell_type": "code",
   "execution_count": 22,
   "id": "c0d0ea82",
   "metadata": {},
   "outputs": [],
   "source": [
    "root_dir = '/home/hoseung/Work/data/BBS'\n",
    "# 1~53번과 54~420번 디렉토리 구조가 다름. \n",
    "fn_dirs = glob(root_dir+\"/skeleton/a/*/BBS/BT/*/*/json/\") + glob(root_dir+\"/skeleton/a/*/BBS/BT/*/*/*/json/\")\n",
    "\n",
    "fn_dirs.sort()"
   ]
  },
  {
   "cell_type": "code",
   "execution_count": 23,
   "id": "7b4483e0",
   "metadata": {},
   "outputs": [
    {
     "name": "stdout",
     "output_type": "stream",
     "text": [
      "No frames found /home/hoseung/Work/data/BBS/skeleton/a/003/BBS/BT/6/3/json/\n",
      "No frames found /home/hoseung/Work/data/BBS/skeleton/a/009/BBS/BT/12/4/json/\n",
      "No frames found /home/hoseung/Work/data/BBS/skeleton/a/115/BBS/BT/a/10/1/json/\n",
      "No frames found /home/hoseung/Work/data/BBS/skeleton/a/115/BBS/BT/a/9/1/json/\n",
      "No frames found /home/hoseung/Work/data/BBS/skeleton/a/376/BBS/BT/a/10/2/json/\n"
     ]
    }
   ],
   "source": [
    "mdtype = bbpp.get_dtypes(skeleton=\"COMMON\")\n",
    "\n",
    "for i, fn_dir in enumerate(fn_dirs):\n",
    "    scene = load_scene(fn_dir)\n",
    "    if scene is None:\n",
    "        continue\n",
    "    dat =[]\n",
    "    for sc in scene:\n",
    "        # Convert to Mobile skeleton\n",
    "        marr = np.zeros(len(sc['data']), dtype=mdtype)\n",
    "        kinect2mobile(sc['data'], marr)\n",
    "        dat.append(marr)\n",
    "    save_npy(root_dir, fn_dir, dat)"
   ]
  },
  {
   "cell_type": "markdown",
   "id": "0ef00e41",
   "metadata": {},
   "source": [
    "### 빈 디렉토리\n",
    "(a, e 공통)  \n",
    "003/BBS/BT/6/3/  \n",
    "009/BBS/BT/12/4  \n",
    "115/BBS/BT/a/9/1/  \n",
    "115/BBS/BT/a/10/1/  \n",
    "376/BBS/BT/a/10/2/  \n",
    "\n"
   ]
  },
  {
   "cell_type": "code",
   "execution_count": 60,
   "id": "10b8ae2a",
   "metadata": {},
   "outputs": [
    {
     "ename": "SyntaxError",
     "evalue": "invalid syntax (2686259655.py, line 28)",
     "output_type": "error",
     "traceback": [
      "\u001b[0;36m  File \u001b[0;32m\"/tmp/ipykernel_68316/2686259655.py\"\u001b[0;36m, line \u001b[0;32m28\u001b[0m\n\u001b[0;31m    marr['pelvis'] =\u001b[0m\n\u001b[0m                     ^\u001b[0m\n\u001b[0;31mSyntaxError\u001b[0m\u001b[0;31m:\u001b[0m invalid syntax\n"
     ]
    }
   ],
   "source": [
    "def coco2mobile(carr, marr):\n",
    "    \"\"\"fill mobile_skeleton array with COCO skeleton array\n",
    "       with appropriate conversions\n",
    "    \"\"\"\n",
    "    assert len(carr) == len(marr), \"coco array and mobile array are not in the same length\"\n",
    "    \n",
    "    C2M = {\"left_shoulder\":\"l_shoulder\",\n",
    "           \"right_shoulder\":\"r_shoulder\",\n",
    "           \"left_elbow\":\"l_elbow\", \n",
    "           \"right_elbow\":\"r_elbow\", \n",
    "           \"left_wrist\":\"l_hand\", \n",
    "           \"right_wrist\":\"r_hand\",\n",
    "           \"left_hip\":\"l_hip\", \n",
    "           \"right_hip\":\"r_hip\", \n",
    "           \"left_knee\":\"l_knee\", \n",
    "           \"right_knee\":\"r_knee\",\n",
    "           \"left_ankle\":\"l_foot\", \n",
    "           \"right_ankle\":\"r_foot\"}\n",
    "\n",
    "    # Assume neck is the mid point of shoulders\n",
    "    marr['xneck'] = (carr['xleft_shoulder'] + carr['xright_shoulder'])/2\n",
    "    marr['yneck'] = (carr['yleft_shoulder'] + carr['yright_shoulder'])/2\n",
    "    \n",
    "    # Assume (tip of) head is 2 times nose from neck\n",
    "    marr['xhead'] = carr['xnose'] + (carr['xnose']-carr['xneck'])\n",
    "    marr['yhead'] = carr['ynose'] + (carr['ynose']-carr['yneck'])\n",
    "    \n",
    "    marr['pelvis'] = \n",
    "    \n",
    "    for common_field in C2M:\n",
    "        marr[c2m[common_field]] = carr[common_field]"
   ]
  },
  {
   "cell_type": "code",
   "execution_count": null,
   "id": "edd5dfb8",
   "metadata": {},
   "outputs": [],
   "source": []
  }
 ],
 "metadata": {
  "kernelspec": {
   "display_name": "Python 3 (ipykernel)",
   "language": "python",
   "name": "python3"
  },
  "language_info": {
   "codemirror_mode": {
    "name": "ipython",
    "version": 3
   },
   "file_extension": ".py",
   "mimetype": "text/x-python",
   "name": "python",
   "nbconvert_exporter": "python",
   "pygments_lexer": "ipython3",
   "version": "3.9.0"
  }
 },
 "nbformat": 4,
 "nbformat_minor": 5
}
