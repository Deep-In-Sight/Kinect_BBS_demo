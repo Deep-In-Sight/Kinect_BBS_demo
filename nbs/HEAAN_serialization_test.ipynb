{
 "cells": [
  {
   "cell_type": "markdown",
   "id": "a83c5794",
   "metadata": {},
   "source": [
    "HEAAN에 key를 읽고 쓰는 기능은 있지만 isSerialized=True로 하면 encrypt가 작동하지 않음. \n",
    "1. 저장된 key를 적절하게 읽어들이는 부분이 코드로 존재하지 않고, 계산할 때마다 파일에서 바로 키를 읽는 것 같음. \n",
    "2. 키를 저장한 뒤에 다시 읽으면 저장하기 전과 똑같이 유지되지 않는 걸지도..? "
   ]
  },
  {
   "cell_type": "code",
   "execution_count": 6,
   "id": "09fe12ef",
   "metadata": {},
   "outputs": [],
   "source": [
    "import numpy as np\n",
    "from fase import HEAAN"
   ]
  },
  {
   "cell_type": "code",
   "execution_count": 16,
   "id": "b2cf8150",
   "metadata": {},
   "outputs": [
    {
     "name": "stdout",
     "output_type": "stream",
     "text": [
      "saving secret key done.\n"
     ]
    }
   ],
   "source": [
    "logq = 540\n",
    "logp = 30\n",
    "logn = 14\n",
    "n = 1*2**logn\n",
    "\n",
    "do_reduction=False\n",
    "Nclass = 2\n",
    "\n",
    "ring = HEAAN.Ring()\n",
    "secretKey = HEAAN.SecretKey(ring, 'secret.dat')\n",
    "scheme = HEAAN.Scheme(secretKey, ring, isSerialized=True, root_path='./')\n",
    "\n",
    "algo = HEAAN.SchemeAlgo(scheme)\n",
    "\n",
    "\n",
    "# reduction때는 right rotation N_class개 필요. \n",
    "if do_reduction:\n",
    "    scheme.addLeftRotKeys(secretKey)\n",
    "    for i in range(Nclass):\n",
    "        scheme.addRightRotKey(secretKey, i+1) # \n",
    "else:\n",
    "    # reduction 안 하면 하나짜리 rotation만 여러번 반복.\n",
    "    scheme.addLeftRotKey(secretKey, 1)"
   ]
  },
  {
   "cell_type": "code",
   "execution_count": 2,
   "id": "9d3131a0",
   "metadata": {},
   "outputs": [],
   "source": [
    "from fase import HEAAN"
   ]
  },
  {
   "cell_type": "code",
   "execution_count": 18,
   "id": "a102c6aa",
   "metadata": {},
   "outputs": [],
   "source": [
    "logq = 540\n",
    "logp = 30\n",
    "logn = 14\n",
    "n = 1*2**logn\n",
    "\n",
    "ring = HEAAN.Ring()\n",
    "scheme2 = HEAAN.Scheme(ring, isSerialized=True, root_path='./')\n",
    "\n",
    "algo = HEAAN.SchemeAlgo(scheme2)"
   ]
  },
  {
   "cell_type": "code",
   "execution_count": 19,
   "id": "98f7d9af",
   "metadata": {},
   "outputs": [],
   "source": [
    "def encrypt(scheme, val):\n",
    "    ctxt = HEAAN.Ciphertext()#logp, logq, n)\n",
    "    vv = np.zeros(n) # Need to initialize to zero or will cause \"unbound\"\n",
    "    vv[:len(val)] = val\n",
    "    scheme.encrypt(ctxt, HEAAN.Double(vv), n, logp, logq)\n",
    "    del vv\n",
    "    return ctxt"
   ]
  },
  {
   "cell_type": "code",
   "execution_count": 20,
   "id": "9892043a",
   "metadata": {},
   "outputs": [],
   "source": [
    "val = np.random.rand(10)\n",
    "ctx = encrypt(scheme2, val)"
   ]
  },
  {
   "cell_type": "code",
   "execution_count": 17,
   "id": "fc7d2c21",
   "metadata": {},
   "outputs": [
    {
     "name": "stdout",
     "output_type": "stream",
     "text": [
      "loading secret key done.\n"
     ]
    }
   ],
   "source": [
    "sk = HEAAN.SecretKey('secret.dat')"
   ]
  },
  {
   "cell_type": "code",
   "execution_count": 21,
   "id": "e59ca382",
   "metadata": {},
   "outputs": [
    {
     "data": {
      "text/plain": [
       "(0.951822, -0.000000)"
      ]
     },
     "execution_count": 21,
     "metadata": {},
     "output_type": "execute_result"
    }
   ],
   "source": [
    "scheme2.decrypt(secretKey, ctx)"
   ]
  },
  {
   "cell_type": "code",
   "execution_count": null,
   "id": "c7b04ef6",
   "metadata": {},
   "outputs": [],
   "source": []
  }
 ],
 "metadata": {
  "kernelspec": {
   "display_name": "Python 3 (ipykernel)",
   "language": "python",
   "name": "python3"
  },
  "language_info": {
   "codemirror_mode": {
    "name": "ipython",
    "version": 3
   },
   "file_extension": ".py",
   "mimetype": "text/x-python",
   "name": "python",
   "nbconvert_exporter": "python",
   "pygments_lexer": "ipython3",
   "version": "3.9.0"
  }
 },
 "nbformat": 4,
 "nbformat_minor": 5
}
