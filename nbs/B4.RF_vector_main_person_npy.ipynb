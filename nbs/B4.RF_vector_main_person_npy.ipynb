{
 "cells": [
  {
   "cell_type": "markdown",
   "id": "5fca434f",
   "metadata": {},
   "source": [
    ".npy와 whoismain.txt 결과로부터 main person의 skeleton을 읽어오고, \n",
    "적절한 sampling을 통해 tree의 input vector를 생성"
   ]
  },
  {
   "cell_type": "markdown",
   "id": "ade79156",
   "metadata": {},
   "source": [
    "1 frame이 main이 없는 경우 -> 보조자가 1로 잡힘 -> main은 나중 프레임에서 2로 등장할 것으로 예상."
   ]
  },
  {
   "cell_type": "code",
   "execution_count": 48,
   "id": "47db9333",
   "metadata": {},
   "outputs": [],
   "source": [
    "import numpy as np \n",
    "\n",
    "def fn_npy(cam, ID, class_name, score,idx):\n",
    "    return f'{class_name}/{score}/{ID}/{cam}_{ID}_{class_name}_{score}_{idx}.npy'\n",
    "\n",
    "def merge_main_npy(main_list):\n",
    "    scene = []\n",
    "    main_person = []\n",
    "    with open(main_list, \"r\") as f:\n",
    "        _ = f.readline() # 첫 줄은 가짜.\n",
    "        for l in f.readlines():\n",
    "            fn, idx = l.rstrip().split(\" \")\n",
    "            # 정정한 경우 처리\n",
    "            if idx == \"bad\":\n",
    "                # remove last line \n",
    "                scene.pop(), main_person.pop()\n",
    "                #and ignore this line\n",
    "                continue\n",
    "\n",
    "            fn = fn.split(\"/\")[-1]\n",
    "            scene.append(fn)\n",
    "            main_person.append(int(idx))\n",
    "\n",
    "    main = np.zeros(len(scene), dtype=[(\"cam\", object), \n",
    "                                       ('ID',int),\n",
    "                                       ('class',int), \n",
    "                                       ('score',int),\n",
    "                                       ('main', int), \n",
    "                                       ('jpg', object),\n",
    "                                       ('npy', object)\n",
    "                                      ])\n",
    "\n",
    "    for i, (ss, mp) in enumerate(zip(scene, main_person)):\n",
    "        cam, ID, class_name, score,_ = ss.split(\"_\")\n",
    "        main[i]['cam'] = cam\n",
    "        main[i]['ID'] = int(ID)\n",
    "        main[i]['class'] = int(class_name)\n",
    "        main[i]['score'] = int(score)\n",
    "        main[i]['main'] = int(mp)\n",
    "        main[i]['jpg'] = ss\n",
    "        main[i]['npy'] = fn_npy(cam, ID, class_name, score, mp)\n",
    "    return main"
   ]
  },
  {
   "cell_type": "code",
   "execution_count": 51,
   "id": "355a0a4b",
   "metadata": {},
   "outputs": [],
   "source": [
    "from preprocess import merge_main_npy"
   ]
  },
  {
   "cell_type": "code",
   "execution_count": 49,
   "id": "d4deb1c5",
   "metadata": {},
   "outputs": [],
   "source": [
    "main_list = \"test_output_class5.txt\"\n",
    "main = merge_main_npy(main_list)"
   ]
  },
  {
   "cell_type": "code",
   "execution_count": 50,
   "id": "97f732ce",
   "metadata": {},
   "outputs": [
    {
     "data": {
      "text/plain": [
       "array([('a',  9, 5, 4, 2, 'a_009_5_4_1.jpg', '5/4/009/a_009_5_4_2.npy'),\n",
       "       ('a', 10, 5, 3, 2, 'a_010_5_3_1.jpg', '5/3/010/a_010_5_3_2.npy'),\n",
       "       ('a', 11, 5, 3, 2, 'a_011_5_3_1.jpg', '5/3/011/a_011_5_3_2.npy'),\n",
       "       ('a', 12, 5, 4, 2, 'a_012_5_4_1.jpg', '5/4/012/a_012_5_4_2.npy'),\n",
       "       ('a', 13, 5, 4, 2, 'a_013_5_4_1.jpg', '5/4/013/a_013_5_4_2.npy'),\n",
       "       ('a', 14, 5, 3, 2, 'a_014_5_3_1.jpg', '5/3/014/a_014_5_3_2.npy'),\n",
       "       ('a', 15, 5, 3, 2, 'a_015_5_3_1.jpg', '5/3/015/a_015_5_3_2.npy'),\n",
       "       ('a', 16, 5, 2, 2, 'a_016_5_2_1.jpg', '5/2/016/a_016_5_2_2.npy'),\n",
       "       ('a', 17, 5, 2, 2, 'a_017_5_2_1.jpg', '5/2/017/a_017_5_2_2.npy'),\n",
       "       ('a', 18, 5, 1, 2, 'a_018_5_1_1.jpg', '5/1/018/a_018_5_1_2.npy'),\n",
       "       ('a', 19, 5, 1, 2, 'a_019_5_1_1.jpg', '5/1/019/a_019_5_1_2.npy'),\n",
       "       ('a', 20, 5, 0, 2, 'a_020_5_0_1.jpg', '5/0/020/a_020_5_0_2.npy'),\n",
       "       ('a', 21, 5, 0, 2, 'a_021_5_0_1.jpg', '5/0/021/a_021_5_0_2.npy'),\n",
       "       ('a', 22, 5, 4, 2, 'a_022_5_4_1.jpg', '5/4/022/a_022_5_4_2.npy'),\n",
       "       ('a', 23, 5, 4, 2, 'a_023_5_4_1.jpg', '5/4/023/a_023_5_4_2.npy'),\n",
       "       ('a', 24, 5, 3, 1, 'a_024_5_3_1.jpg', '5/3/024/a_024_5_3_1.npy'),\n",
       "       ('a', 25, 5, 3, 2, 'a_025_5_3_1.jpg', '5/3/025/a_025_5_3_2.npy'),\n",
       "       ('a', 26, 5, 2, 2, 'a_026_5_2_1.jpg', '5/2/026/a_026_5_2_2.npy'),\n",
       "       ('a', 27, 5, 2, 2, 'a_027_5_2_1.jpg', '5/2/027/a_027_5_2_2.npy'),\n",
       "       ('a', 28, 5, 1, 2, 'a_028_5_1_1.jpg', '5/1/028/a_028_5_1_2.npy'),\n",
       "       ('a', 29, 5, 1, 2, 'a_029_5_1_1.jpg', '5/1/029/a_029_5_1_2.npy'),\n",
       "       ('a', 30, 5, 0, 2, 'a_030_5_0_1.jpg', '5/0/030/a_030_5_0_2.npy'),\n",
       "       ('a', 31, 5, 0, 2, 'a_031_5_0_1.jpg', '5/0/031/a_031_5_0_2.npy'),\n",
       "       ('a', 32, 5, 4, 2, 'a_032_5_4_1.jpg', '5/4/032/a_032_5_4_2.npy'),\n",
       "       ('a', 33, 5, 4, 2, 'a_033_5_4_1.jpg', '5/4/033/a_033_5_4_2.npy')],\n",
       "      dtype=[('cam', 'O'), ('ID', '<i8'), ('class', '<i8'), ('score', '<i8'), ('main', '<i8'), ('jpg', 'O'), ('npy', 'O')])"
      ]
     },
     "execution_count": 50,
     "metadata": {},
     "output_type": "execute_result"
    }
   ],
   "source": [
    "main"
   ]
  },
  {
   "cell_type": "code",
   "execution_count": null,
   "id": "0d261a4d",
   "metadata": {},
   "outputs": [],
   "source": []
  }
 ],
 "metadata": {
  "kernelspec": {
   "display_name": "Python 3 (ipykernel)",
   "language": "python",
   "name": "python3"
  },
  "language_info": {
   "codemirror_mode": {
    "name": "ipython",
    "version": 3
   },
   "file_extension": ".py",
   "mimetype": "text/x-python",
   "name": "python",
   "nbconvert_exporter": "python",
   "pygments_lexer": "ipython3",
   "version": "3.9.0"
  }
 },
 "nbformat": 4,
 "nbformat_minor": 5
}
