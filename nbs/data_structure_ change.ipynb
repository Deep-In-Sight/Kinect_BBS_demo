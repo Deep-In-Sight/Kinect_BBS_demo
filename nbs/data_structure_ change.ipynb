{
 "cells": [
  {
   "cell_type": "markdown",
   "id": "db8c6c92",
   "metadata": {
    "tags": []
   },
   "source": [
    "## 데이터 구조 바꿔주기\n",
    "- json과 기타 파일은 옮겨지지 않음.."
   ]
  },
  {
   "cell_type": "code",
   "execution_count": 1,
   "id": "2e0cffcd-d1f4-42f5-bdb0-554162de03d2",
   "metadata": {},
   "outputs": [],
   "source": [
    "import shutil\n",
    "import os\n",
    "from glob import glob"
   ]
  },
  {
   "cell_type": "code",
   "execution_count": 12,
   "id": "49b5ebba-36fb-44ee-b83b-be4798323068",
   "metadata": {},
   "outputs": [],
   "source": [
    "# 아이디/ BBS/RGB/ 를들어간다 \n",
    "# 클레스가 14번의 클래스를 돈다 \n",
    "# 그안에서 0~4 까지 파일이 이 있는지 확인하고 i가 있으면 \n",
    "# 폴더를 옯긴다 "
   ]
  },
  {
   "cell_type": "code",
   "execution_count": 3,
   "id": "54bb3a2f-be7a-4bdf-8a11-af1d13d7ba08",
   "metadata": {},
   "outputs": [],
   "source": [
    "def data_tree_reconfiguration(root):\n",
    "    \n",
    "    # new data dir tree\n",
    "    for i in range(1, 15): # create classes dir\n",
    "        os.makedirs(root+'/RGB/'+str(i), exist_ok=True)\n",
    "        for j in range(5):     # create scores  dir\n",
    "            os.makedirs(root+'/RGB/'+str(i)+'/'+str(j), exist_ok=True)\n",
    "    \n",
    "    # 빈 id dir 제거 \n",
    "    for i in os.listdir(root+'/g1/a'):\n",
    "        try:\n",
    "            os.rmdir(root+'/g1/a/'+i) # 빈폴더 삭제하기 \n",
    "            print(f\"폴더가 비어있으므로 삭제합니다. dir {root}/g1/a/{i}\") \n",
    "        except:\n",
    "            pass\n",
    "    # id 리스트 생성\n",
    "    id_list = os.listdir(root+'/g1/a')\n",
    "\n",
    "    for id_idx in id_list:\n",
    "        for class_num in os.listdir(root+'/g1/a/'+str(id_idx)+'/BBS/RGB/'):  # class_num 받아오기 bbs 1~14\n",
    "            #print(os.listdir(root+'/g1/a/'+str(id_idx)+'/BBS/RGB/'))\n",
    "            if not class_num == 'L' or class_num == 'a':   # class_num 중에 L 또는 a 가 아니면   \n",
    "                #print(class_num)\n",
    "                for score in os.listdir(root+'/g1/a/'+str(id_idx)+'/BBS/RGB/'+str(class_num)): \n",
    "                    frame_list = [os.path.join(root, 'g1/a/', str(id_idx), 'BBS/RGB/', str(class_num), score, frame) for frame in  os.listdir(root+'/g1/a/'+str(id_idx)+'/BBS/RGB/'+str(class_num)+'/'+score)]\n",
    "                    \n",
    "                    # new data tree 세부 폴더 생성\n",
    "                    os.makedirs(root+'/RGB/'+class_num+'/'+score+'/'+id_idx+'/', exist_ok=True)\n",
    "                    # 이미지 옮기기 \n",
    "                    for img in frame_list:\n",
    "                        #print(img.split(\"/\")[-1])\n",
    "                        shutil.move(img, root+'/RGB/'+class_num+'/'+score+'/'+id_idx+'/')\n"
   ]
  },
  {
   "cell_type": "code",
   "execution_count": 4,
   "id": "4e84f931-1681-4206-82b8-fe28e4b137dc",
   "metadata": {},
   "outputs": [],
   "source": [
    "data_tree_reconfiguration('/home/hoseung/Work/data/BBS/')"
   ]
  }
 ],
 "metadata": {
  "kernelspec": {
   "display_name": "Python 3 (ipykernel)",
   "language": "python",
   "name": "python3"
  },
  "language_info": {
   "codemirror_mode": {
    "name": "ipython",
    "version": 3
   },
   "file_extension": ".py",
   "mimetype": "text/x-python",
   "name": "python",
   "nbconvert_exporter": "python",
   "pygments_lexer": "ipython3",
   "version": "3.9.0"
  }
 },
 "nbformat": 4,
 "nbformat_minor": 5
}
