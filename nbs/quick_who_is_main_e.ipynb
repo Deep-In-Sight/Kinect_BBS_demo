{
 "cells": [
  {
   "cell_type": "markdown",
   "id": "ac434d4c",
   "metadata": {},
   "source": [
    "e 카메라는 정면이라 무조건 왼쪽에 있는 인물을 고르면 됨"
   ]
  },
  {
   "cell_type": "code",
   "execution_count": 1,
   "id": "53e8600a",
   "metadata": {},
   "outputs": [],
   "source": [
    "import matplotlib.pyplot as plt \n",
    "import numpy as np\n",
    "from glob import glob "
   ]
  },
  {
   "cell_type": "code",
   "execution_count": 101,
   "id": "e7d6d442",
   "metadata": {},
   "outputs": [
    {
     "name": "stdout",
     "output_type": "stream",
     "text": [
      "672\n",
      "603\n",
      "630\n",
      "640\n",
      "652\n",
      "615\n",
      "608\n",
      "866\n",
      "766\n",
      "772\n",
      "729\n",
      "630\n",
      "756\n",
      "726\n"
     ]
    }
   ],
   "source": [
    "cam = 'e'\n",
    "\n",
    "\n",
    "for class_name in range(1,15):\n",
    "    fns = glob(f\"/home/hoseung/Work/data/BBS/npy_{cam}/{class_name}/?/*/{cam}*.npy\")\n",
    "\n",
    "    sk = np.load(fns[0])\n",
    "    x_fields = [ name for name in sk.dtype.names if name.startswith(\"x\") ]\n",
    "    y_fields = [ name for name in sk.dtype.names if name.startswith(\"y\") ]\n",
    "    print(len(fns))\n",
    "\n",
    "    all_ids = np.array([int(fn.split(\"/\")[-1].split(\"_\")[1]) for fn in fns])\n",
    "    all_uniq_ids = np.unique(all_ids)\n",
    "\n",
    "    with open(f\"main_list_{cam}_{class_name}.txt\", \"w\") as f:\n",
    "        for idx in all_uniq_ids:\n",
    "            i_same_id = np.where(all_ids == idx)[0]\n",
    "            if len(i_same_id) > 1:\n",
    "                #fig, ax = plt.subplots()\n",
    "                mean_pos=[]\n",
    "                for i_this_id in i_same_id:\n",
    "                    sk = np.load(fns[i_this_id])\n",
    "                    mp = np.mean([ss for ss in sk[x_fields][0] if ss > 100] \\\n",
    "                                 +[ss for ss in sk[x_fields][10] if ss > 100] \\\n",
    "                                 + [ss for ss in sk[x_fields][20] if ss > 100])\n",
    "                    if mp < 100: \n",
    "                        print(mp, \"wrong?\", i_same_id[0])\n",
    "                        mp = 1000\n",
    "                    mean_pos.append(mp)\n",
    "                    #print(fns[i_this_id])            \n",
    "                    #ax.scatter([ss for ss in sk[x_fields][0]], [ss for ss in sk[y_fields][0]])\n",
    "                    #ax.scatter([ss for ss in sk[x_fields][10]], [ss for ss in sk[y_fields][10]])\n",
    "                    #ax.scatter([ss for ss in sk[x_fields][20]], [ss for ss in sk[y_fields][20]])\n",
    "                #plt.savefig(\"whoismain_jpg/\"+fns[i_this_id].split(\"/\")[-1][:-6]+\".jpg\")\n",
    "                #plt.close()\n",
    "                main = np.argmin(mean_pos)\n",
    "            elif len(same_id) == 1:\n",
    "                main = 0\n",
    "            f.write(fns[i_same_id[0]].split(\"/\")[-1][:-6] + f\" {main} \\n\")"
   ]
  },
  {
   "cell_type": "code",
   "execution_count": 79,
   "id": "5e48a3b8",
   "metadata": {},
   "outputs": [
    {
     "data": {
      "text/plain": [
       "'/home/hoseung/Work/Kinect_BBS_demo/nbs'"
      ]
     },
     "execution_count": 79,
     "metadata": {},
     "output_type": "execute_result"
    }
   ],
   "source": [
    "pwd"
   ]
  },
  {
   "cell_type": "code",
   "execution_count": null,
   "id": "6c425201",
   "metadata": {},
   "outputs": [],
   "source": []
  }
 ],
 "metadata": {
  "kernelspec": {
   "display_name": "Python 3 (ipykernel)",
   "language": "python",
   "name": "python3"
  },
  "language_info": {
   "codemirror_mode": {
    "name": "ipython",
    "version": 3
   },
   "file_extension": ".py",
   "mimetype": "text/x-python",
   "name": "python",
   "nbconvert_exporter": "python",
   "pygments_lexer": "ipython3",
   "version": "3.9.0"
  }
 },
 "nbformat": 4,
 "nbformat_minor": 5
}
