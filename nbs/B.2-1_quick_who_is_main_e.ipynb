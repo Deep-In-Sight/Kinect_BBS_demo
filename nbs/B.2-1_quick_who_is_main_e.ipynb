{
 "cells": [
  {
   "cell_type": "markdown",
   "id": "ac434d4c",
   "metadata": {},
   "source": [
    "e 카메라는 정면이라 무조건 왼쪽에 있는 인물을 고르면 됨\n",
    "\n",
    "근데 0번을 왼쪽으로 다 맞춰서 온 데이터인 듯. "
   ]
  },
  {
   "cell_type": "code",
   "execution_count": 1,
   "id": "53e8600a",
   "metadata": {},
   "outputs": [],
   "source": [
    "import matplotlib.pyplot as plt \n",
    "import numpy as np\n",
    "from glob import glob "
   ]
  },
  {
   "cell_type": "code",
   "execution_count": 11,
   "id": "1a5e2a5d",
   "metadata": {},
   "outputs": [],
   "source": [
    "def load_and_add_mean(fn):\n",
    "    sk = np.load(fn)\n",
    "    mp = np.mean([ss for ss in sk[x_fields][0] if ss > 100] \\\n",
    "                 +[ss for ss in sk[x_fields][10] if ss > 100] \\\n",
    "                 + [ss for ss in sk[x_fields][20] if ss > 100])\n",
    "    if mp < 100: \n",
    "        #print(mp, \"wrong?\", i_same_id[0])\n",
    "        mp = 1000\n",
    "    return mp"
   ]
  },
  {
   "cell_type": "code",
   "execution_count": 21,
   "id": "74d6b380",
   "metadata": {},
   "outputs": [
    {
     "name": "stdout",
     "output_type": "stream",
     "text": [
      "420\n",
      "419\n",
      "417\n",
      "419\n",
      "418\n",
      "417\n",
      "419\n",
      "419\n",
      "418\n",
      "418\n",
      "418\n",
      "418\n",
      "418\n",
      "419\n"
     ]
    }
   ],
   "source": [
    "cam = \"e\"\n",
    "\n",
    "for class_name in range(1,15):\n",
    "    fns = glob(f\"/home/hoseung/Work/data/BBS/npy_{cam}/{class_name}/?/*/{cam}*0.npy\")\n",
    "    fns.sort()\n",
    "    \n",
    "    sk = np.load(fns[0])\n",
    "    x_fields = [ name for name in sk.dtype.names if name.startswith(\"x\") ]\n",
    "    y_fields = [ name for name in sk.dtype.names if name.startswith(\"y\") ]\n",
    "    print(len(fns))\n",
    "\n",
    "    with open(f\"main_list_{cam}_{class_name}.txt\", \"w\") as f:\n",
    "        f.write(\"a_a_a_a.txt 0\\n\") # 첫 줄은 가짜\n",
    "        for fn in fns:\n",
    "            mean_pos = []\n",
    "            try:\n",
    "                mean_pos.append(load_and_add_mean(fn))\n",
    "                main = 0\n",
    "                mean_pos.append(load_and_add_mean(fn.replace(\"0.npy\", \"1.npy\")))\n",
    "                mean_pos.append(load_and_add_mean(fn.replace(\"0.npy\", \"2.npy\")))\n",
    "            except:\n",
    "                if len(mean_pos) == 1: main = 0\n",
    "                if len(mean_pos) > 1:\n",
    "                    main = np.argmin(mean_pos)\n",
    "                        \n",
    "                pass\n",
    "            f.write(fn.split(\"/\")[-1][:-6] + f\" {main} \\n\")"
   ]
  },
  {
   "cell_type": "code",
   "execution_count": 79,
   "id": "5e48a3b8",
   "metadata": {},
   "outputs": [
    {
     "data": {
      "text/plain": [
       "'/home/hoseung/Work/Kinect_BBS_demo/nbs'"
      ]
     },
     "execution_count": 79,
     "metadata": {},
     "output_type": "execute_result"
    }
   ],
   "source": [
    "pwd"
   ]
  },
  {
   "cell_type": "code",
   "execution_count": null,
   "id": "6c425201",
   "metadata": {},
   "outputs": [],
   "source": []
  }
 ],
 "metadata": {
  "kernelspec": {
   "display_name": "Python 3 (ipykernel)",
   "language": "python",
   "name": "python3"
  },
  "language_info": {
   "codemirror_mode": {
    "name": "ipython",
    "version": 3
   },
   "file_extension": ".py",
   "mimetype": "text/x-python",
   "name": "python",
   "nbconvert_exporter": "python",
   "pygments_lexer": "ipython3",
   "version": "3.9.0"
  }
 },
 "nbformat": 4,
 "nbformat_minor": 5
}
