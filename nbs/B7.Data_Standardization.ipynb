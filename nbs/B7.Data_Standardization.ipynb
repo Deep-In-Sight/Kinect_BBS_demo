{
 "cells": [
  {
   "cell_type": "code",
   "execution_count": 1,
   "id": "21093d52",
   "metadata": {},
   "outputs": [],
   "source": [
    "import numpy as np\n",
    "import sklearn\n",
    "import pickle\n",
    "from sklearn.ensemble import RandomForestClassifier\n",
    "from preprocess import *\n",
    "from sklearn.preprocessing import MinMaxScaler    \n",
    "from sklearn.metrics import accuracy_score"
   ]
  },
  {
   "cell_type": "markdown",
   "id": "2e3a7df5",
   "metadata": {},
   "source": [
    "# 스켈레톤이 아주 stochastic하기 때문에 5장 중 median으로 smoothing"
   ]
  },
  {
   "cell_type": "code",
   "execution_count": 2,
   "id": "a0f61f45",
   "metadata": {},
   "outputs": [],
   "source": [
    "base_dir = \"/home/hoseung/Work/data/BBS/\"\n",
    "\n",
    "action = 1\n",
    "nframe = 6\n",
    "frame_skip = 20\n",
    "feature_ready=False\n",
    "cam = \"e\""
   ]
  },
  {
   "cell_type": "code",
   "execution_count": 3,
   "id": "b458dd89",
   "metadata": {},
   "outputs": [
    {
     "name": "stdout",
     "output_type": "stream",
     "text": [
      "1 (8400, 180)\n"
     ]
    }
   ],
   "source": [
    "### BBS data set\n",
    "main_list = f\"whoismain/whoismain_{cam}_txt/main_list_{cam}_{action}.txt\"\n",
    "npy_list = merge_main_npy(base_dir+main_list, prefix=base_dir + f\"npy_{cam}/\")\n",
    "\n",
    "scene = np.load(npy_list[0]['npy'])\n",
    "data = []\n",
    "label=[]\n",
    "\n",
    "for i, fn_npy in enumerate(npy_list):\n",
    "    if fn_npy['main'] in [0,1]:\n",
    "        try:\n",
    "        #if True:\n",
    "            scene = np.load(fn_npy['npy'])\n",
    "            for j in range(frame_skip):\n",
    "                sub = smoothed_frame_N(scene, nframe=nframe, shift=j)\n",
    "\n",
    "                # feature 기록\n",
    "                rav_sub = ravel_rec(sub)\n",
    "                data.append(rav_sub)\n",
    "                label.append(fn_npy['score'])\n",
    "\n",
    "        except:\n",
    "            print(\"Main person was guessed, but not actually detected... \", fn_npy['npy'])\n",
    "\n",
    "\n",
    "features = [ff for i in range(nframe) for ff in sub.dtype.names if ff not in \"frame\" ]\n",
    "features = np.array(features)\n",
    "\n",
    "data = np.stack(data)\n",
    "label = np.array(label)\n",
    "print(action, data.shape)"
   ]
  },
  {
   "cell_type": "markdown",
   "id": "e4c6d005",
   "metadata": {},
   "source": [
    "# Test data"
   ]
  },
  {
   "cell_type": "code",
   "execution_count": 104,
   "id": "d782c661",
   "metadata": {},
   "outputs": [],
   "source": [
    "from glob import glob\n",
    "\n",
    "testdata_dir = \"/home/hoseung/Work/data/BBS/TestData/BT/\"\n",
    "\n",
    "score = 2 # 2 or 4\n",
    "\n",
    "fns = glob(testdata_dir + f\"{cam}_*_{action}_{score}_skeleton.pickle\")\n",
    "\n",
    "test_raw = [pickle.load(open(fn, \"rb\")) for fn in fns]"
   ]
  },
  {
   "cell_type": "code",
   "execution_count": 105,
   "id": "ba661ee2",
   "metadata": {},
   "outputs": [
    {
     "data": {
      "text/plain": [
       "['/home/hoseung/Work/data/BBS/TestData/BT/e_16141433_1_2_skeleton.pickle',\n",
       " '/home/hoseung/Work/data/BBS/TestData/BT/e_1617504_1_2_skeleton.pickle',\n",
       " '/home/hoseung/Work/data/BBS/TestData/BT/e_16175147_1_2_skeleton.pickle',\n",
       " '/home/hoseung/Work/data/BBS/TestData/BT/e_16141451_1_2_skeleton.pickle',\n",
       " '/home/hoseung/Work/data/BBS/TestData/BT/e_16174854_1_2_skeleton.pickle']"
      ]
     },
     "execution_count": 105,
     "metadata": {},
     "output_type": "execute_result"
    }
   ],
   "source": [
    "fns"
   ]
  },
  {
   "cell_type": "markdown",
   "id": "b759e15f",
   "metadata": {},
   "source": [
    "## preprocess: 원래는 QThreadObj.select_sk*() 함수 안에서 돌아가는 부분"
   ]
  },
  {
   "cell_type": "code",
   "execution_count": 106,
   "id": "736273d1",
   "metadata": {},
   "outputs": [],
   "source": [
    "from bbsQt.model import kinect_utils as ku \n",
    "from bbsQt.model import rec_utils as ru"
   ]
  },
  {
   "cell_type": "code",
   "execution_count": 107,
   "id": "ed1d13cd",
   "metadata": {},
   "outputs": [],
   "source": [
    "skarr = test_raw[0]\n",
    "Nframe = 6\n",
    "\n",
    "sub = ru.smoothed_frame_N(skarr, \n",
    "                        nframe=Nframe, \n",
    "                        shift=1)\n",
    "skeleton = ru.ravel_rec(sub)[np.newaxis, :]"
   ]
  },
  {
   "cell_type": "markdown",
   "id": "912d5796",
   "metadata": {},
   "source": [
    "# 두 종류의 데이터셋을 잘~ 표준화하기 \n",
    "\n",
    "## Depth 카메라의 전체 영역은 512 x 512 픽셀이고, 실제로는 512 내부의 둥근 원형의 영역, 반지름이 대략 200 정도? \n",
    "\n",
    "### -> 중심은 (256,256)으로 가정"
   ]
  },
  {
   "cell_type": "code",
   "execution_count": 108,
   "id": "1863d014",
   "metadata": {},
   "outputs": [],
   "source": [
    "import matplotlib.pyplot as plt \n",
    "#import seaborn as sns; sns.set()"
   ]
  },
  {
   "cell_type": "code",
   "execution_count": 109,
   "id": "ca6ada4c",
   "metadata": {},
   "outputs": [
    {
     "data": {
      "text/plain": [
       "(8400, 180)"
      ]
     },
     "execution_count": 109,
     "metadata": {},
     "output_type": "execute_result"
    }
   ],
   "source": [
    "data.shape"
   ]
  },
  {
   "cell_type": "code",
   "execution_count": 110,
   "id": "d20e8dd4",
   "metadata": {},
   "outputs": [],
   "source": [
    "# x, y 좌표 분리\n",
    "xdata = data[:,::2]\n",
    "ydata = data[:,1::2]"
   ]
  },
  {
   "cell_type": "code",
   "execution_count": 111,
   "id": "0c47e69a",
   "metadata": {},
   "outputs": [],
   "source": [
    "xsk = skeleton[0][::2]\n",
    "ysk = skeleton[0][1::2]"
   ]
  },
  {
   "cell_type": "code",
   "execution_count": 112,
   "id": "e988b865",
   "metadata": {},
   "outputs": [],
   "source": [
    "def plot_band(data, frac_lower = 0.2, frac_upper = 0.8):\n",
    "    lower, upper = np.quantile(data, [frac_lower, frac_upper], axis=0)\n",
    "    \n",
    "    x = np.arange(len(lower))\n",
    "\n",
    "    plt.fill_between(x, lower, upper, color='b', alpha=0.2)\n",
    "    represent = np.median(data, axis=0)\n",
    "    plt.plot(x, represent)    "
   ]
  },
  {
   "cell_type": "code",
   "execution_count": 113,
   "id": "69ea50ab",
   "metadata": {},
   "outputs": [
    {
     "data": {
      "image/png": "[encoded data removed]",
      "text/plain": [
       "<Figure size 432x288 with 1 Axes>"
      ]
     },
     "metadata": {
      "needs_background": "light"
     },
     "output_type": "display_data"
    }
   ],
   "source": [
    "plot_band(xdata)\n",
    "plt.plot(xsk)\n",
    "plt.show()"
   ]
  },
  {
   "cell_type": "code",
   "execution_count": 114,
   "id": "672cfc37",
   "metadata": {},
   "outputs": [
    {
     "data": {
      "image/png": "[encoded data removed]",
      "text/plain": [
       "<Figure size 432x288 with 1 Axes>"
      ]
     },
     "metadata": {
      "needs_background": "light"
     },
     "output_type": "display_data"
    }
   ],
   "source": [
    "plot_band(ydata, 0.05, 0.95)\n",
    "plt.plot(ysk)\n",
    "plt.show()"
   ]
  },
  {
   "cell_type": "markdown",
   "id": "672e8205",
   "metadata": {},
   "source": [
    "1. 특정 뼈 길이로 normalize\n",
    "2. 중심 위치 이동 "
   ]
  },
  {
   "cell_type": "code",
   "execution_count": null,
   "id": "196e0b27",
   "metadata": {},
   "outputs": [],
   "source": []
  },
  {
   "cell_type": "markdown",
   "id": "e7860f7a",
   "metadata": {},
   "source": [
    "# joint 이름"
   ]
  },
  {
   "cell_type": "code",
   "execution_count": 115,
   "id": "fe3323e6",
   "metadata": {},
   "outputs": [],
   "source": [
    "from bbsQt.model import BBS_pp_utils as bbpp\n",
    "# 키 normalize \n",
    "## 어깨 - 팔꿈치 / 허벅지 / 종아리 \n",
    "common_joints = bbpp.COMMON_JOINT"
   ]
  },
  {
   "cell_type": "code",
   "execution_count": 116,
   "id": "b2b46e69",
   "metadata": {},
   "outputs": [
    {
     "data": {
      "text/plain": [
       "array(['l_hand', 'l_elbow', 'l_shoulder', 'r_shoulder', 'r_elbow',\n",
       "       'r_hand', 'head', 'neck', 'pelvis', 'l_foot', 'l_knee', 'l_hip',\n",
       "       'r_hip', 'r_knee', 'r_foot'], dtype='<U10')"
      ]
     },
     "execution_count": 116,
     "metadata": {},
     "output_type": "execute_result"
    }
   ],
   "source": [
    "common_joints"
   ]
  },
  {
   "cell_type": "code",
   "execution_count": 117,
   "id": "c83c7013",
   "metadata": {},
   "outputs": [],
   "source": [
    "xy_joint_inds = dict([(name,i) for i, name in enumerate([prefix+cj for cj in common_joints for prefix in [\"x\", \"y\"]])])"
   ]
  },
  {
   "cell_type": "code",
   "execution_count": 118,
   "id": "196cc19d",
   "metadata": {},
   "outputs": [],
   "source": [
    "def joint_length(joint, j1:str, j2:str):\n",
    "    \"\"\"measure lentgh of a joint from j1 to j2\"\"\"\n",
    "    x1 = joint[xy_joint_inds[\"x\"+j1]]\n",
    "    x2 = joint[xy_joint_inds[\"x\"+j2]]\n",
    "    y1 = joint[xy_joint_inds[\"y\"+j1]]\n",
    "    y2 = joint[xy_joint_inds[\"y\"+j2]]\n",
    "    return np.sqrt((x1-x2)**2 + (y1-y2)**2)\n",
    "    "
   ]
  },
  {
   "cell_type": "markdown",
   "id": "b4fd85b9",
   "metadata": {},
   "source": [
    "## Centering"
   ]
  },
  {
   "cell_type": "code",
   "execution_count": 130,
   "id": "3cf6cb9e",
   "metadata": {},
   "outputs": [],
   "source": [
    "# To do: 0이 아닌 점들에 대해서만.. \n",
    "# 좌-우 중 하나만 0이면 반대편도 같이 제외\n",
    "def shift_to_zero(skeleton, nframe=2, njoints=30):\n",
    "    early_frame_x = skeleton[:nframe*njoints:2]\n",
    "    early_frame_y = skeleton[1:nframe*njoints:2]\n",
    "\n",
    "    ix_nz = np.nonzero(early_frame_x)\n",
    "    iy_nz = np.nonzero(early_frame_y)\n",
    "\n",
    "    mean_x = np.mean(early_frame_x[ix_nz])\n",
    "    mean_y = np.mean(early_frame_y[iy_nz])\n",
    "    \n",
    "    skeleton[::2] -= mean_x \n",
    "    skeleton[1::2] -= mean_y \n",
    "    return skeleton"
   ]
  },
  {
   "cell_type": "code",
   "execution_count": 127,
   "id": "39eac58c",
   "metadata": {},
   "outputs": [
    {
     "name": "stdout",
     "output_type": "stream",
     "text": [
      "-255.99999999999994 -255.99999999999997\n"
     ]
    }
   ],
   "source": [
    "print(mean_x, mean_y)"
   ]
  },
  {
   "cell_type": "code",
   "execution_count": 131,
   "id": "d53f7fb7",
   "metadata": {},
   "outputs": [],
   "source": [
    "# Shift to around (256,256)\n",
    "skeleton[0] = shift_to_zero(skeleton[0])\n",
    "# iterate \n",
    "xdata = "
   ]
  },
  {
   "cell_type": "code",
   "execution_count": 133,
   "id": "d8cbfc6d",
   "metadata": {},
   "outputs": [
    {
     "data": {
      "text/plain": [
       "(8400, 90)"
      ]
     },
     "execution_count": 133,
     "metadata": {},
     "output_type": "execute_result"
    }
   ],
   "source": [
    "xdata.shape"
   ]
  },
  {
   "cell_type": "code",
   "execution_count": 132,
   "id": "50971d95",
   "metadata": {},
   "outputs": [
    {
     "data": {
      "image/png": "[encoded data removed]",
      "text/plain": [
       "<Figure size 432x288 with 1 Axes>"
      ]
     },
     "metadata": {
      "needs_background": "light"
     },
     "output_type": "display_data"
    }
   ],
   "source": [
    "plot_band(xdata)\n",
    "plt.plot(skeleton[0][::2])\n",
    "plt.show()"
   ]
  },
  {
   "cell_type": "markdown",
   "id": "dce17182",
   "metadata": {},
   "source": [
    "### Skeleton은 2D 모양임 (tensor input이어서)"
   ]
  },
  {
   "cell_type": "code",
   "execution_count": 59,
   "id": "fbd3179e",
   "metadata": {},
   "outputs": [
    {
     "data": {
      "text/plain": [
       "47.12748667179272"
      ]
     },
     "execution_count": 59,
     "metadata": {},
     "output_type": "execute_result"
    }
   ],
   "source": [
    "joint_length(skeleton[0][:30], 'l_elbow', 'l_shoulder')"
   ]
  },
  {
   "cell_type": "code",
   "execution_count": 60,
   "id": "33578d16",
   "metadata": {},
   "outputs": [
    {
     "data": {
      "text/plain": [
       "46.87216658103186"
      ]
     },
     "execution_count": 60,
     "metadata": {},
     "output_type": "execute_result"
    }
   ],
   "source": [
    "joint_length(skeleton[0][:30], 'r_elbow', 'r_shoulder')"
   ]
  },
  {
   "cell_type": "code",
   "execution_count": 61,
   "id": "c597c4db",
   "metadata": {},
   "outputs": [
    {
     "name": "stdout",
     "output_type": "stream",
     "text": [
      "68.00735254367721 67.00746227100382\n"
     ]
    }
   ],
   "source": [
    "print(joint_length(skeleton[0][:30], 'l_hip', 'l_knee'),\n",
    "      joint_length(skeleton[0][:30], 'r_hip', 'r_knee'))"
   ]
  },
  {
   "cell_type": "code",
   "execution_count": 62,
   "id": "63ebed78",
   "metadata": {},
   "outputs": [
    {
     "name": "stdout",
     "output_type": "stream",
     "text": [
      "50.039984012787215 53.03772242470448\n"
     ]
    }
   ],
   "source": [
    "print(joint_length(skeleton[0][:30], 'l_foot', 'l_knee'),\n",
    "      joint_length(skeleton[0][:30], 'r_foot', 'r_knee'))"
   ]
  },
  {
   "cell_type": "code",
   "execution_count": 74,
   "id": "94080865",
   "metadata": {},
   "outputs": [
    {
     "name": "stdout",
     "output_type": "stream",
     "text": [
      "[310.  235.  307.  200.  293.  155.  236.  158.  227.  204.  232.  240.\n",
      " 253.  116.  260.5 220.  263.5 285.5 278.  353.  280.  303.  279.  235.\n",
      " 249.  234.  250.  301.  252.  354. ]\n",
      "[310.  235.  307.  200.  293.  155.  236.  158.  227.  204.  232.  240.\n",
      " 253.  116.  263.5 216.5 265.  282.  278.  353.  280.  303.  279.  235.\n",
      " 249.  234.  250.  301.  252.  354. ]\n",
      "[310. 235. 307. 200. 293. 155. 236. 158. 227. 204. 232. 240. 253. 116.\n",
      " 255. 222. 266. 285. 278. 353. 280. 303. 279. 235. 249. 234. 250. 301.\n",
      " 252. 354.]\n",
      "[310.  235.  307.  200.  293.  155.  236.  158.  227.  204.  232.  240.\n",
      " 253.  116.  265.  221.5 262.5 284.5 278.  353.  280.  303.  279.  235.\n",
      " 249.  234.  250.  301.  252.  354. ]\n",
      "[310.  235.  307.  200.  293.  155.  236.  158.  227.  204.  232.  240.\n",
      " 253.  116.  267.  198.5 268.  262.  278.  353.  280.  303.  279.  235.\n",
      " 249.  234.  250.  301.  252.  354. ]\n",
      "[310.  235.  307.  200.  293.  155.  236.  158.  227.  204.  232.  240.\n",
      " 253.  116.  263.  158.5 267.  236.  278.  353.  280.  303.  279.  235.\n",
      " 249.  234.  250.  301.  252.  354. ]\n"
     ]
    }
   ],
   "source": [
    "# get representative length of arms and legs \n",
    "lls = []\n",
    "rls = []\n",
    "las = []\n",
    "ras = []\n",
    "for sk in skeleton[0].reshape(6, 30):\n",
    "    print(sk)\n",
    "    lls.append(joint_length(sk, 'l_hip', 'l_knee'))\n",
    "    rls.append(joint_length(sk, 'r_hip', 'r_knee'))\n",
    "    las.append(joint_length(sk, 'l_elbow', 'l_shoulder'))\n",
    "    ras.append(joint_length(sk, 'r_elbow', 'r_shoulder'))   "
   ]
  },
  {
   "cell_type": "code",
   "execution_count": 84,
   "id": "5777af8f",
   "metadata": {},
   "outputs": [
    {
     "name": "stdout",
     "output_type": "stream",
     "text": [
      "[68.00735254367721, 68.00735254367721, 68.00735254367721, 68.00735254367721, 68.00735254367721, 68.00735254367721] [67.00746227100382, 67.00746227100382, 67.00746227100382, 67.00746227100382, 67.00746227100382, 67.00746227100382] [47.12748667179272, 47.12748667179272, 47.12748667179272, 47.12748667179272, 47.12748667179272, 47.12748667179272] [46.87216658103186, 46.87216658103186, 46.87216658103186, 46.87216658103186, 46.87216658103186, 46.87216658103186]\n"
     ]
    }
   ],
   "source": [
    "print(lls, rls, las, ras)"
   ]
  },
  {
   "cell_type": "code",
   "execution_count": 76,
   "id": "b61551ec",
   "metadata": {},
   "outputs": [],
   "source": [
    "ss = skeleton[0].reshape(6, 30)"
   ]
  },
  {
   "cell_type": "code",
   "execution_count": 82,
   "id": "76228c89",
   "metadata": {},
   "outputs": [
    {
     "data": {
      "text/plain": [
       "array([310. , 235. , 307. , 200. , 293. , 155. , 236. , 158. , 227. ,\n",
       "       204. , 232. , 240. , 253. , 116. , 267. , 198.5, 268. , 262. ,\n",
       "       278. , 353. , 280. , 303. , 279. , 235. , 249. , 234. , 250. ,\n",
       "       301. , 252. , 354. ])"
      ]
     },
     "execution_count": 82,
     "metadata": {},
     "output_type": "execute_result"
    }
   ],
   "source": [
    "ss[4]"
   ]
  },
  {
   "cell_type": "code",
   "execution_count": 72,
   "id": "1135328a",
   "metadata": {},
   "outputs": [
    {
     "data": {
      "text/plain": [
       "[67.00746227100382,\n",
       " 67.00746227100382,\n",
       " 67.00746227100382,\n",
       " 67.00746227100382,\n",
       " 67.00746227100382,\n",
       " 67.00746227100382]"
      ]
     },
     "execution_count": 72,
     "metadata": {},
     "output_type": "execute_result"
    }
   ],
   "source": [
    "rls"
   ]
  },
  {
   "cell_type": "code",
   "execution_count": null,
   "id": "a5f75dff",
   "metadata": {},
   "outputs": [],
   "source": []
  },
  {
   "cell_type": "code",
   "execution_count": null,
   "id": "bc0758ff",
   "metadata": {},
   "outputs": [],
   "source": []
  },
  {
   "cell_type": "code",
   "execution_count": null,
   "id": "6637f1f0",
   "metadata": {},
   "outputs": [],
   "source": []
  },
  {
   "cell_type": "code",
   "execution_count": 16,
   "id": "ab94ac2e",
   "metadata": {},
   "outputs": [
    {
     "ename": "NameError",
     "evalue": "name 'model' is not defined",
     "output_type": "error",
     "traceback": [
      "\u001b[0;31m---------------------------------------------------------------------------\u001b[0m",
      "\u001b[0;31mNameError\u001b[0m                                 Traceback (most recent call last)",
      "\u001b[0;32m/tmp/ipykernel_4570/3858112122.py\u001b[0m in \u001b[0;36m<module>\u001b[0;34m\u001b[0m\n\u001b[0;32m----> 1\u001b[0;31m \u001b[0mtrees\u001b[0m \u001b[0;34m=\u001b[0m \u001b[0mmodel\u001b[0m\u001b[0;34m.\u001b[0m\u001b[0mestimators_\u001b[0m\u001b[0;34m\u001b[0m\u001b[0;34m\u001b[0m\u001b[0m\n\u001b[0m\u001b[1;32m      2\u001b[0m \u001b[0;34m\u001b[0m\u001b[0m\n\u001b[1;32m      3\u001b[0m \u001b[0mdt\u001b[0m \u001b[0;34m=\u001b[0m \u001b[0mtrees\u001b[0m\u001b[0;34m[\u001b[0m\u001b[0;36m0\u001b[0m\u001b[0;34m]\u001b[0m\u001b[0;34m\u001b[0m\u001b[0;34m\u001b[0m\u001b[0m\n\u001b[1;32m      4\u001b[0m \u001b[0;34m\u001b[0m\u001b[0m\n\u001b[1;32m      5\u001b[0m \u001b[0mfarr\u001b[0m \u001b[0;34m=\u001b[0m \u001b[0mdt\u001b[0m\u001b[0;34m.\u001b[0m\u001b[0mtree_\u001b[0m\u001b[0;34m.\u001b[0m\u001b[0mfeature\u001b[0m\u001b[0;34m[\u001b[0m\u001b[0mdt\u001b[0m\u001b[0;34m.\u001b[0m\u001b[0mtree_\u001b[0m\u001b[0;34m.\u001b[0m\u001b[0mfeature\u001b[0m \u001b[0;34m>\u001b[0m \u001b[0;36m0\u001b[0m\u001b[0;34m]\u001b[0m\u001b[0;34m\u001b[0m\u001b[0;34m\u001b[0m\u001b[0m\n",
      "\u001b[0;31mNameError\u001b[0m: name 'model' is not defined"
     ]
    }
   ],
   "source": [
    "trees = model.estimators_\n",
    "\n",
    "dt = trees[0]\n",
    "\n",
    "farr = dt.tree_.feature[dt.tree_.feature > 0]\n",
    "\n",
    "features = [ff+f\"_{i}\" for i in range(nframe) for ff in sub.dtype.names if ff not in \"frame\" ]\n",
    "features = np.array(features)"
   ]
  },
  {
   "cell_type": "code",
   "execution_count": null,
   "id": "b18dbfb6",
   "metadata": {},
   "outputs": [],
   "source": []
  },
  {
   "cell_type": "code",
   "execution_count": 40,
   "id": "a3009db6",
   "metadata": {},
   "outputs": [
    {
     "data": {
      "text/plain": [
       "(1, 180)"
      ]
     },
     "execution_count": 40,
     "metadata": {},
     "output_type": "execute_result"
    }
   ],
   "source": [
    "skeleton.shape"
   ]
  },
  {
   "cell_type": "markdown",
   "id": "a353b2ef",
   "metadata": {},
   "source": [
    "# Training RF model\n",
    "## BBS 데이터셋으로 훈련하지만 새로 찍은 스켈레톤 결과도 잘 나와야함. "
   ]
  },
  {
   "cell_type": "code",
   "execution_count": null,
   "id": "1d82dd47",
   "metadata": {},
   "outputs": [],
   "source": [
    "small = True\n",
    "if small:\n",
    "    ntrees = 20\n",
    "    max_depth = 6\n",
    "else:\n",
    "    ntrees = 100\n",
    "    max_depth = 7"
   ]
  },
  {
   "cell_type": "code",
   "execution_count": 17,
   "id": "540d56eb",
   "metadata": {
    "scrolled": true
   },
   "outputs": [
    {
     "name": "stdout",
     "output_type": "stream",
     "text": [
      "1 (8400, 180)\n",
      "정확도 :0.874\n",
      "2 (8380, 180)\n",
      "정확도 :0.797\n",
      "3 (8340, 180)\n",
      "정확도 :0.802\n",
      "4 (8380, 180)\n",
      "정확도 :0.860\n",
      "5 (8360, 180)\n",
      "정확도 :0.885\n",
      "6 (8340, 180)\n",
      "정확도 :0.825\n",
      "7 (8380, 180)\n",
      "정확도 :0.769\n",
      "8 (8380, 180)\n",
      "정확도 :0.831\n",
      "9 (8360, 180)\n",
      "정확도 :0.842\n",
      "10 (8360, 180)\n",
      "정확도 :0.798\n",
      "11 (8360, 180)\n",
      "정확도 :0.864\n",
      "12 (8360, 180)\n",
      "정확도 :0.888\n",
      "13 (8360, 180)\n",
      "정확도 :0.886\n",
      "14 (8380, 180)\n",
      "정확도 :0.876\n"
     ]
    }
   ],
   "source": [
    "X_train, X_test, Y_train, Y_test = sklearn.model_selection.train_test_split(data, \n",
    "                                                                            label, \n",
    "                                                                            test_size=0.7, \n",
    "                                                                            stratify=label)\n",
    "\n",
    "scaler = MinMaxScaler()\n",
    "# Use whole data to impose stricter boundary condition\n",
    "X_total = np.concatenate((X_test, X_train))\n",
    "scaler.fit(X_total)\n",
    "pickle.dump(scaler, open(f\"scaler_{action}_{cam}.pickle\", 'wb'))\n",
    "\n",
    "X_train_normed = scaler.transform(X_train)\n",
    "X_test_normed = scaler.transform(X_test)\n",
    "\n",
    "model = RandomForestClassifier(n_estimators=ntrees, max_depth=max_depth)\n",
    "model.fit(X_train_normed, Y_train)\n",
    "\n",
    "pred = model.predict(X_test_normed)\n",
    "print(\"정확도 :{0:.3f}\".format(accuracy_score(Y_test, pred)))\n",
    "\n",
    "pickle.dump(model, open(f\"trained_model_{action}_{cam}.pickle\", \"wb\"))\n",
    "\n",
    "data_to_save = {\"train_x\":X_train_normed, \n",
    "                 \"train_y\":Y_train,\n",
    "                 'valid_x':X_test_normed,\n",
    "                 'valid_y':Y_test}\n",
    "pickle.dump(data_to_save, open(f\"BBS_dataset_{action}_{cam}.pickle\", \"wb\"))"
   ]
  },
  {
   "cell_type": "code",
   "execution_count": 6,
   "id": "45c644f7",
   "metadata": {},
   "outputs": [],
   "source": [
    "import matplotlib.pyplot as plt "
   ]
  },
  {
   "cell_type": "code",
   "execution_count": 7,
   "id": "6f0c36b0",
   "metadata": {},
   "outputs": [
    {
     "data": {
      "image/png": "[encoded data removed]",
      "text/plain": [
       "<Figure size 432x288 with 1 Axes>"
      ]
     },
     "metadata": {
      "needs_background": "light"
     },
     "output_type": "display_data"
    }
   ],
   "source": [
    "fig, ax = plt.subplots()\n",
    "ax.scatter(ll[::4], ll[1::4])\n",
    "ax.scatter(ll[2::4], ll[3::4])\n",
    "\n",
    "ax.set_aspect(\"equal\")\n",
    "plt.show()"
   ]
  },
  {
   "cell_type": "markdown",
   "id": "ddb1831c",
   "metadata": {},
   "source": [
    "# Feature trackback"
   ]
  },
  {
   "cell_type": "code",
   "execution_count": 126,
   "id": "54e3f9c8",
   "metadata": {},
   "outputs": [],
   "source": [
    "farr = dt.tree_.feature[dt.tree_.feature > 0]"
   ]
  },
  {
   "cell_type": "code",
   "execution_count": 127,
   "id": "90a3cada",
   "metadata": {},
   "outputs": [
    {
     "data": {
      "text/plain": [
       "array(['yhead', 'xl_knee', 'yl_hand', 'yl_hip', 'yr_foot', 'yl_shoulder',\n",
       "       'xhead', 'xl_knee', 'xl_foot', 'xr_foot', 'xl_knee', 'yl_foot',\n",
       "       'yl_foot', 'xl_knee', 'xl_knee', 'xr_hand', 'xr_hip',\n",
       "       'yl_shoulder', 'xhead', 'yneck', 'yr_hand', 'xr_foot', 'yr_foot',\n",
       "       'yl_shoulder', 'xl_foot', 'yr_shoulder', 'ypelvis', 'yr_shoulder',\n",
       "       'yhead', 'xl_shoulder', 'yl_hip', 'xr_foot', 'xl_hip', 'yl_knee',\n",
       "       'yr_knee', 'xr_knee', 'yr_foot', 'xl_shoulder', 'xhead',\n",
       "       'yr_elbow', 'xr_shoulder', 'xr_hip', 'yhead', 'yr_hand', 'yr_hand',\n",
       "       'xl_shoulder', 'yr_hand', 'yr_knee', 'yl_knee', 'yl_shoulder',\n",
       "       'yr_foot', 'yhead', 'yr_foot', 'yr_hip', 'xr_shoulder'],\n",
       "      dtype='<U11')"
      ]
     },
     "execution_count": 127,
     "metadata": {},
     "output_type": "execute_result"
    }
   ],
   "source": [
    "features[farr]"
   ]
  },
  {
   "cell_type": "code",
   "execution_count": null,
   "id": "de44fc9f",
   "metadata": {},
   "outputs": [],
   "source": []
  },
  {
   "cell_type": "code",
   "execution_count": null,
   "id": "fda81d8b",
   "metadata": {},
   "outputs": [],
   "source": []
  },
  {
   "cell_type": "markdown",
   "id": "a897d8d2",
   "metadata": {},
   "source": [
    "# Ablation test"
   ]
  },
  {
   "cell_type": "code",
   "execution_count": null,
   "id": "f22eead4",
   "metadata": {},
   "outputs": [],
   "source": []
  },
  {
   "cell_type": "code",
   "execution_count": null,
   "id": "eb5b7b33",
   "metadata": {},
   "outputs": [],
   "source": []
  },
  {
   "cell_type": "code",
   "execution_count": null,
   "id": "448e6d64",
   "metadata": {},
   "outputs": [],
   "source": []
  },
  {
   "cell_type": "code",
   "execution_count": null,
   "id": "87067d8c",
   "metadata": {},
   "outputs": [],
   "source": []
  },
  {
   "cell_type": "markdown",
   "id": "2e9b6fcc",
   "metadata": {},
   "source": [
    "# Test with new data"
   ]
  },
  {
   "cell_type": "code",
   "execution_count": 208,
   "id": "1fd4dab0",
   "metadata": {},
   "outputs": [],
   "source": [
    "import kinect_utils as ku\n",
    "\n",
    "import pickle\n",
    "point_pickle = \"/home/hoseung/Work/Kinect/pykinect_BBS/G1/000/BT/bodytracking_data.pickle\"\n",
    "klist = pickle.load(open(point_pickle, \"rb\"))\n",
    "\n",
    "scene = ku.kinect2mobile_direct(klist)\n",
    "\n",
    "nframe = 10 \n",
    "shift=0\n",
    "sub = smoothed_frame_N(scene, nframe=nframe, shift=j)\n",
    "rav_sub = ravel_rec(sub)[np.newaxis, :]\n",
    "pickle.dump(rav_sub, open(\"rav_example.pickle\", \"wb\"))"
   ]
  },
  {
   "cell_type": "code",
   "execution_count": 206,
   "id": "a1ae4a22",
   "metadata": {},
   "outputs": [
    {
     "data": {
      "text/plain": [
       "'/home/hoseung/Work/fhenrf/pose'"
      ]
     },
     "execution_count": 206,
     "metadata": {},
     "output_type": "execute_result"
    }
   ],
   "source": [
    "pwd"
   ]
  },
  {
   "cell_type": "code",
   "execution_count": 193,
   "id": "64aa6558",
   "metadata": {},
   "outputs": [
    {
     "data": {
      "text/plain": [
       "array([2])"
      ]
     },
     "execution_count": 193,
     "metadata": {},
     "output_type": "execute_result"
    }
   ],
   "source": [
    "model.predict(rav_sub[np.newaxis,:])"
   ]
  },
  {
   "cell_type": "code",
   "execution_count": null,
   "id": "d39203db",
   "metadata": {},
   "outputs": [],
   "source": []
  }
 ],
 "metadata": {
  "kernelspec": {
   "display_name": "Python 3 (ipykernel)",
   "language": "python",
   "name": "python3"
  },
  "language_info": {
   "codemirror_mode": {
    "name": "ipython",
    "version": 3
   },
   "file_extension": ".py",
   "mimetype": "text/x-python",
   "name": "python",
   "nbconvert_exporter": "python",
   "pygments_lexer": "ipython3",
   "version": "3.9.7"
  }
 },
 "nbformat": 4,
 "nbformat_minor": 5
}
