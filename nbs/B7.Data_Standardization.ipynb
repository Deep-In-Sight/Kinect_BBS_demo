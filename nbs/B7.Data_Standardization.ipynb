{
 "cells": [
  {
   "cell_type": "code",
   "execution_count": 1,
   "id": "21093d52",
   "metadata": {},
   "outputs": [],
   "source": [
    "import numpy as np\n",
    "import sklearn\n",
    "import pickle\n",
    "from sklearn.ensemble import RandomForestClassifier\n",
    "from preprocess import merge_main_npy\n",
    "from sklearn.preprocessing import MinMaxScaler    \n",
    "from sklearn.metrics import accuracy_score"
   ]
  },
  {
   "cell_type": "markdown",
   "id": "2e3a7df5",
   "metadata": {},
   "source": [
    "# 스켈레톤이 아주 stochastic하기 때문에 5장 중 median으로 smoothing"
   ]
  },
  {
   "cell_type": "code",
   "execution_count": 2,
   "id": "f0a0ad5c",
   "metadata": {},
   "outputs": [],
   "source": [
    "def smoothed_frame_sample(scene, fps = 1, window_size = 5):\n",
    "    \"\"\"일정 시간에 한번씩 ... 영상 길이가 다를 경우에 뒤를 0으로 채워야함 \n",
    "    \"\"\"\n",
    "    FPS_ORIGINAL=10 # 인 것 같음...\n",
    "    \n",
    "    nskip = int(FPS_ORIGINAL/fps)\n",
    "    nframe = np.ceil((len(scene) - window_size)/ nskip).astype(int)\n",
    "\n",
    "    sub = np.zeros(nframe, dtype=scene.dtype) #scene.dtype - frame\n",
    "\n",
    "    for i in range(nframe):\n",
    "        temp = scene[i*nskip:i*nskip+window_size]\n",
    "\n",
    "        for feat in temp.dtype.names: # recarry라서 한 번에 np.mean 불가능\n",
    "            sub[i][feat] = np.median(temp[feat])\n",
    "\n",
    "    return sub\n",
    "\n",
    "\n",
    "def smoothed_frame_N(scene, nframe = 10, window_size = 5, shift=0):\n",
    "    FPS_ORIGINAL=10 # 인 것 같음...\n",
    "    \n",
    "    nskip = int((len(scene)-shift) / nframe)\n",
    "    #nframe = np.ceil((len(scene) - window_size)/ nskip).astype(int)\n",
    "\n",
    "    sub = np.zeros(nframe, dtype=scene.dtype) #scene.dtype - frame\n",
    "\n",
    "    for i in range(nframe):\n",
    "        temp = scene[i*nskip+shift:i*nskip+window_size+shift]\n",
    "\n",
    "        for feat in temp.dtype.names: # recarry라서 한 번에 np.mean 불가능\n",
    "            sub[i][feat] = np.median(temp[feat])\n",
    "\n",
    "    return sub\n",
    "\n",
    "\n",
    "def ravel_rec(sub, return_feature=False):\n",
    "    vec=[]\n",
    "#     if return_feature:\n",
    "#         features=[]\n",
    "#         for line in sub:\n",
    "#             this_line=[]\n",
    "#             for ff in line.dtype.names:\n",
    "#                 if ff not in \"frame\":\n",
    "#                     this_line.append(line[ff])\n",
    "#                     features.append(ff)\n",
    "#             vec.extend(this_line)\n",
    "                    \n",
    "#         return features, np.array(vec)\n",
    "#     else:\n",
    "    for line in sub:\n",
    "        vec.extend([line[ff] for ff in line.dtype.names if ff not in \"frame\"])\n",
    "\n",
    "    return np.array(vec)"
   ]
  },
  {
   "cell_type": "code",
   "execution_count": 5,
   "id": "a0f61f45",
   "metadata": {},
   "outputs": [],
   "source": [
    "base_dir = \"/home/hoseung/Work/data/BBS/\"\n",
    "\n",
    "action = 1\n",
    "nframe = 6\n",
    "frame_skip = 20\n",
    "feature_ready=False\n",
    "cam = \"e\""
   ]
  },
  {
   "cell_type": "code",
   "execution_count": 7,
   "id": "b458dd89",
   "metadata": {},
   "outputs": [
    {
     "name": "stdout",
     "output_type": "stream",
     "text": [
      "1 (8400, 180)\n"
     ]
    }
   ],
   "source": [
    "### BBS data set\n",
    "main_list = f\"whoismain/whoismain_{cam}_txt/main_list_{cam}_{action}.txt\"\n",
    "npy_list = merge_main_npy(base_dir+main_list, prefix=base_dir + f\"npy_{cam}/\")\n",
    "\n",
    "scene = np.load(npy_list[0]['npy'])\n",
    "data = []\n",
    "label=[]\n",
    "\n",
    "for i, fn_npy in enumerate(npy_list):\n",
    "    if fn_npy['main'] in [0,1]:\n",
    "        try:\n",
    "        #if True:\n",
    "            scene = np.load(fn_npy['npy'])\n",
    "            for j in range(frame_skip):\n",
    "                sub = smoothed_frame_N(scene, nframe=nframe, shift=j)\n",
    "\n",
    "                # feature 기록\n",
    "                rav_sub = ravel_rec(sub)\n",
    "                data.append(rav_sub)\n",
    "                label.append(fn_npy['score'])\n",
    "\n",
    "        except:\n",
    "            print(\"Main person was guessed, but not actually detected... \", fn_npy['npy'])\n",
    "\n",
    "\n",
    "features = [ff for i in range(nframe) for ff in sub.dtype.names if ff not in \"frame\" ]\n",
    "features = np.array(features)\n",
    "\n",
    "data = np.stack(data)\n",
    "label = np.array(label)\n",
    "print(action, data.shape)"
   ]
  },
  {
   "cell_type": "markdown",
   "id": "e4c6d005",
   "metadata": {},
   "source": [
    "# Test data"
   ]
  },
  {
   "cell_type": "code",
   "execution_count": 95,
   "id": "d782c661",
   "metadata": {},
   "outputs": [],
   "source": [
    "from glob import glob\n",
    "\n",
    "testdata_dir = \"/home/hoseung/Work/Kinect_BBS_demo/G1/BT/\"\n",
    "\n",
    "score = 2 # 2 or 4\n",
    "\n",
    "fns = glob(testdata_dir + f\"{cam}_*_{action}_{score}_skeleton.pickle\")\n",
    "\n",
    "test_raw = [pickle.load(open(fn, \"rb\")) for fn in fns]"
   ]
  },
  {
   "cell_type": "code",
   "execution_count": 96,
   "id": "ba661ee2",
   "metadata": {},
   "outputs": [
    {
     "data": {
      "text/plain": [
       "['/home/hoseung/Work/Kinect_BBS_demo/G1/BT/e_16141433_1_2_skeleton.pickle',\n",
       " '/home/hoseung/Work/Kinect_BBS_demo/G1/BT/e_16174854_1_2_skeleton.pickle',\n",
       " '/home/hoseung/Work/Kinect_BBS_demo/G1/BT/e_1617504_1_2_skeleton.pickle',\n",
       " '/home/hoseung/Work/Kinect_BBS_demo/G1/BT/e_16141451_1_2_skeleton.pickle',\n",
       " '/home/hoseung/Work/Kinect_BBS_demo/G1/BT/e_16175147_1_2_skeleton.pickle']"
      ]
     },
     "execution_count": 96,
     "metadata": {},
     "output_type": "execute_result"
    }
   ],
   "source": [
    "fns"
   ]
  },
  {
   "cell_type": "markdown",
   "id": "b759e15f",
   "metadata": {},
   "source": [
    "## preprocess: 원래는 QThreadObj.select_sk*() 함수 안에서 돌아가는 부분"
   ]
  },
  {
   "cell_type": "code",
   "execution_count": 21,
   "id": "736273d1",
   "metadata": {},
   "outputs": [],
   "source": [
    "from bbsQt.model import kinect_utils as ku \n",
    "from bbsQt.model import rec_utils as ru"
   ]
  },
  {
   "cell_type": "code",
   "execution_count": 97,
   "id": "ed1d13cd",
   "metadata": {},
   "outputs": [],
   "source": [
    "skarr = test_raw[0]\n",
    "Nframe = 6\n",
    "\n",
    "sub = ru.smoothed_frame_N(skarr, \n",
    "                        nframe=Nframe, \n",
    "                        shift=1)\n",
    "skeleton = ru.ravel_rec(sub)[np.newaxis, :]"
   ]
  },
  {
   "cell_type": "code",
   "execution_count": 98,
   "id": "802d3cfb",
   "metadata": {},
   "outputs": [
    {
     "data": {
      "text/plain": [
       "array([[310. , 235. , 307. , 200. , 293. , 155. , 236. , 158. , 227. ,\n",
       "        204. , 232. , 240. , 253. , 116. , 260.5, 220. , 263.5, 285.5,\n",
       "        278. , 353. , 280. , 303. , 279. , 235. , 249. , 234. , 250. ,\n",
       "        301. , 252. , 354. , 310. , 235. , 307. , 200. , 293. , 155. ,\n",
       "        236. , 158. , 227. , 204. , 232. , 240. , 253. , 116. , 263.5,\n",
       "        216.5, 265. , 282. , 278. , 353. , 280. , 303. , 279. , 235. ,\n",
       "        249. , 234. , 250. , 301. , 252. , 354. , 310. , 235. , 307. ,\n",
       "        200. , 293. , 155. , 236. , 158. , 227. , 204. , 232. , 240. ,\n",
       "        253. , 116. , 255. , 222. , 266. , 285. , 278. , 353. , 280. ,\n",
       "        303. , 279. , 235. , 249. , 234. , 250. , 301. , 252. , 354. ,\n",
       "        310. , 235. , 307. , 200. , 293. , 155. , 236. , 158. , 227. ,\n",
       "        204. , 232. , 240. , 253. , 116. , 265. , 221.5, 262.5, 284.5,\n",
       "        278. , 353. , 280. , 303. , 279. , 235. , 249. , 234. , 250. ,\n",
       "        301. , 252. , 354. , 310. , 235. , 307. , 200. , 293. , 155. ,\n",
       "        236. , 158. , 227. , 204. , 232. , 240. , 253. , 116. , 267. ,\n",
       "        198.5, 268. , 262. , 278. , 353. , 280. , 303. , 279. , 235. ,\n",
       "        249. , 234. , 250. , 301. , 252. , 354. , 310. , 235. , 307. ,\n",
       "        200. , 293. , 155. , 236. , 158. , 227. , 204. , 232. , 240. ,\n",
       "        253. , 116. , 263. , 158.5, 267. , 236. , 278. , 353. , 280. ,\n",
       "        303. , 279. , 235. , 249. , 234. , 250. , 301. , 252. , 354. ]])"
      ]
     },
     "execution_count": 98,
     "metadata": {},
     "output_type": "execute_result"
    }
   ],
   "source": [
    "skeleton"
   ]
  },
  {
   "cell_type": "markdown",
   "id": "912d5796",
   "metadata": {},
   "source": [
    "# 두 종류의 데이터셋을 잘~ 표준화하기 \n",
    "\n",
    "## Depth 카메라의 전체 영역은 512 x 512 픽셀이고, 실제로는 512 내부의 둥근 원형의 영역, 반지름이 대략 200 정도? \n",
    "\n",
    "### -> 중심은 (256,256)으로 가정"
   ]
  },
  {
   "cell_type": "code",
   "execution_count": 71,
   "id": "1863d014",
   "metadata": {},
   "outputs": [],
   "source": [
    "import matplotlib.pyplot as plt \n",
    "#import seaborn as sns; sns.set()"
   ]
  },
  {
   "cell_type": "code",
   "execution_count": 39,
   "id": "ca6ada4c",
   "metadata": {},
   "outputs": [
    {
     "data": {
      "text/plain": [
       "(8400, 180)"
      ]
     },
     "execution_count": 39,
     "metadata": {},
     "output_type": "execute_result"
    }
   ],
   "source": [
    "data.shape"
   ]
  },
  {
   "cell_type": "code",
   "execution_count": 54,
   "id": "a8d59ff0",
   "metadata": {
    "collapsed": true
   },
   "outputs": [
    {
     "data": {
      "text/plain": [
       "array([280. , 277. , 281. , 266. , 274. , 249. , 251. , 250. , 248. ,\n",
       "       268. , 252. , 279. , 263. , 239. , 262.5, 249.5, 264. , 280. ,\n",
       "       279. , 321. , 280. , 296. , 270. , 280. , 258. , 280. , 251. ,\n",
       "       292. , 256. , 317. , 279. , 278. , 279. , 266. , 274. , 249. ,\n",
       "       252. , 248. , 246. , 266. , 250. , 277. , 266. , 240. , 263. ,\n",
       "       248.5, 264. , 279.5, 277. , 315. , 280. , 293. , 270. , 279. ,\n",
       "       258. , 280. , 252. , 292. , 256. , 316. , 275. , 280. , 281. ,\n",
       "       267. , 279. , 248. , 255. , 245. , 244. , 257. , 247. , 273. ,\n",
       "       275. , 240. , 267. , 246.5, 262. , 279. , 276. , 312. , 282. ,\n",
       "       287. , 268. , 280. , 256. , 278. , 254. , 288. , 256. , 315. ,\n",
       "         0. ,   0. ,   0. ,   0. ,   0. ,   0. ,   0. ,   0. ,   0. ,\n",
       "         0. ,   0. ,   0. ,   0. ,   0. ,   0. ,   0. ,   0. ,   0. ,\n",
       "         0. ,   0. ,   0. ,   0. ,   0. ,   0. ,   0. ,   0. ,   0. ,\n",
       "         0. ,   0. ,   0. , 277. , 274. , 275. , 261. , 270. , 248. ,\n",
       "       251. , 242. , 246. , 259. , 247. , 274. , 253. , 249. , 261. ,\n",
       "       245. , 268. , 262. , 275. , 308. , 271. , 284. , 273. , 263. ,\n",
       "       263. , 261. , 256. , 283. , 258. , 309. , 270. , 267. , 278. ,\n",
       "       248. , 265. , 230. , 240. , 235. , 245. , 252. , 248. , 271. ,\n",
       "       240. , 236. , 253. , 232. , 269.5, 254. , 281. , 308. , 278. ,\n",
       "       285. , 276. , 253. , 263. , 255. , 254. , 283. , 263. , 312. ])"
      ]
     },
     "execution_count": 54,
     "metadata": {},
     "output_type": "execute_result"
    }
   ],
   "source": [
    "data[0]"
   ]
  },
  {
   "cell_type": "code",
   "execution_count": 82,
   "id": "d20e8dd4",
   "metadata": {},
   "outputs": [],
   "source": [
    "# x, y 좌표 분리\n",
    "xdata = data[:,::2]\n",
    "ydata = data[:,1::2]"
   ]
  },
  {
   "cell_type": "code",
   "execution_count": 99,
   "id": "0c47e69a",
   "metadata": {},
   "outputs": [],
   "source": [
    "xsk = skeleton[0][::2]\n",
    "ysk = skeleton[0][1::2]"
   ]
  },
  {
   "cell_type": "code",
   "execution_count": 100,
   "id": "e988b865",
   "metadata": {},
   "outputs": [],
   "source": [
    "def plot_band(data, frac_lower = 0.2, frac_upper = 0.8):\n",
    "    lower, upper = np.quantile(data, [frac_lower, frac_upper], axis=0)\n",
    "    \n",
    "    x = np.arange(len(lower))\n",
    "\n",
    "    plt.fill_between(x, lower, upper, color='b', alpha=0.2)\n",
    "    represent = np.median(data, axis=0)\n",
    "    plt.plot(x, represent)    "
   ]
  },
  {
   "cell_type": "code",
   "execution_count": 101,
   "id": "69ea50ab",
   "metadata": {},
   "outputs": [
    {
     "data": {
      "image/png": "[encoded data removed]",
      "text/plain": [
       "<Figure size 432x288 with 1 Axes>"
      ]
     },
     "metadata": {},
     "output_type": "display_data"
    }
   ],
   "source": [
    "plot_band(xdata)\n",
    "plt.plot(xsk)\n",
    "plt.show()"
   ]
  },
  {
   "cell_type": "code",
   "execution_count": 103,
   "id": "672cfc37",
   "metadata": {},
   "outputs": [
    {
     "data": {
      "image/png": "[encoded data removed]",
      "text/plain": [
       "<Figure size 432x288 with 1 Axes>"
      ]
     },
     "metadata": {},
     "output_type": "display_data"
    }
   ],
   "source": [
    "plot_band(ydata, 0.05, 0.95)\n",
    "plt.plot(ysk)\n",
    "plt.show()"
   ]
  },
  {
   "cell_type": "markdown",
   "id": "672e8205",
   "metadata": {},
   "source": [
    "1. 특정 뼈 길이로 normalize\n",
    "2. 중심 위치 이동 "
   ]
  },
  {
   "cell_type": "code",
   "execution_count": null,
   "id": "196e0b27",
   "metadata": {},
   "outputs": [],
   "source": []
  },
  {
   "cell_type": "code",
   "execution_count": null,
   "id": "e878d887",
   "metadata": {},
   "outputs": [],
   "source": [
    "mean_sekeleton = np."
   ]
  },
  {
   "cell_type": "code",
   "execution_count": 53,
   "id": "e34af7ad",
   "metadata": {},
   "outputs": [
    {
     "data": {
      "image/png": "[encoded data removed]",
      "text/plain": [
       "<Figure size 432x288 with 1 Axes>"
      ]
     },
     "metadata": {
      "needs_background": "light"
     },
     "output_type": "display_data"
    }
   ],
   "source": [
    "\n",
    "plt.hist(data[:,0])\n",
    "plt.vlines(skeleton[0,0], 0, 3500, color='tab:orange')\n",
    "plt.show()"
   ]
  },
  {
   "cell_type": "code",
   "execution_count": null,
   "id": "dfb06fcc",
   "metadata": {},
   "outputs": [],
   "source": [
    "plt.hist(data[:,0])\n",
    "plt.vlines(skeleton[0,0], 0, 3500, color='tab:orange')\n",
    "plt.show()"
   ]
  },
  {
   "cell_type": "code",
   "execution_count": null,
   "id": "27cae3e2",
   "metadata": {},
   "outputs": [],
   "source": []
  },
  {
   "cell_type": "code",
   "execution_count": null,
   "id": "fe3323e6",
   "metadata": {},
   "outputs": [],
   "source": []
  },
  {
   "cell_type": "code",
   "execution_count": null,
   "id": "ab94ac2e",
   "metadata": {},
   "outputs": [],
   "source": []
  },
  {
   "cell_type": "code",
   "execution_count": 40,
   "id": "a3009db6",
   "metadata": {},
   "outputs": [
    {
     "data": {
      "text/plain": [
       "(1, 180)"
      ]
     },
     "execution_count": 40,
     "metadata": {},
     "output_type": "execute_result"
    }
   ],
   "source": [
    "skeleton.shape"
   ]
  },
  {
   "cell_type": "markdown",
   "id": "a353b2ef",
   "metadata": {},
   "source": [
    "# Training RF model\n",
    "## BBS 데이터셋으로 훈련하지만 새로 찍은 스켈레톤 결과도 잘 나와야함. "
   ]
  },
  {
   "cell_type": "code",
   "execution_count": null,
   "id": "1d82dd47",
   "metadata": {},
   "outputs": [],
   "source": [
    "small = True\n",
    "if small:\n",
    "    ntrees = 20\n",
    "    max_depth = 6\n",
    "else:\n",
    "    ntrees = 100\n",
    "    max_depth = 7"
   ]
  },
  {
   "cell_type": "code",
   "execution_count": 17,
   "id": "540d56eb",
   "metadata": {
    "scrolled": true
   },
   "outputs": [
    {
     "name": "stdout",
     "output_type": "stream",
     "text": [
      "1 (8400, 180)\n",
      "정확도 :0.874\n",
      "2 (8380, 180)\n",
      "정확도 :0.797\n",
      "3 (8340, 180)\n",
      "정확도 :0.802\n",
      "4 (8380, 180)\n",
      "정확도 :0.860\n",
      "5 (8360, 180)\n",
      "정확도 :0.885\n",
      "6 (8340, 180)\n",
      "정확도 :0.825\n",
      "7 (8380, 180)\n",
      "정확도 :0.769\n",
      "8 (8380, 180)\n",
      "정확도 :0.831\n",
      "9 (8360, 180)\n",
      "정확도 :0.842\n",
      "10 (8360, 180)\n",
      "정확도 :0.798\n",
      "11 (8360, 180)\n",
      "정확도 :0.864\n",
      "12 (8360, 180)\n",
      "정확도 :0.888\n",
      "13 (8360, 180)\n",
      "정확도 :0.886\n",
      "14 (8380, 180)\n",
      "정확도 :0.876\n"
     ]
    }
   ],
   "source": [
    "X_train, X_test, Y_train, Y_test = sklearn.model_selection.train_test_split(data, \n",
    "                                                                            label, \n",
    "                                                                            test_size=0.7, \n",
    "                                                                            stratify=label)\n",
    "\n",
    "scaler = MinMaxScaler()\n",
    "# Use whole data to impose stricter boundary condition\n",
    "X_total = np.concatenate((X_test, X_train))\n",
    "scaler.fit(X_total)\n",
    "pickle.dump(scaler, open(f\"scaler_{action}_{cam}.pickle\", 'wb'))\n",
    "\n",
    "X_train_normed = scaler.transform(X_train)\n",
    "X_test_normed = scaler.transform(X_test)\n",
    "\n",
    "model = RandomForestClassifier(n_estimators=ntrees, max_depth=max_depth)\n",
    "model.fit(X_train_normed, Y_train)\n",
    "\n",
    "pred = model.predict(X_test_normed)\n",
    "print(\"정확도 :{0:.3f}\".format(accuracy_score(Y_test, pred)))\n",
    "\n",
    "pickle.dump(model, open(f\"trained_model_{action}_{cam}.pickle\", \"wb\"))\n",
    "\n",
    "data_to_save = {\"train_x\":X_train_normed, \n",
    "                 \"train_y\":Y_train,\n",
    "                 'valid_x':X_test_normed,\n",
    "                 'valid_y':Y_test}\n",
    "pickle.dump(data_to_save, open(f\"BBS_dataset_{action}_{cam}.pickle\", \"wb\"))"
   ]
  },
  {
   "cell_type": "code",
   "execution_count": 6,
   "id": "45c644f7",
   "metadata": {},
   "outputs": [],
   "source": [
    "import matplotlib.pyplot as plt "
   ]
  },
  {
   "cell_type": "code",
   "execution_count": 7,
   "id": "6f0c36b0",
   "metadata": {},
   "outputs": [
    {
     "data": {
      "image/png": "[encoded data removed]",
      "text/plain": [
       "<Figure size 432x288 with 1 Axes>"
      ]
     },
     "metadata": {
      "needs_background": "light"
     },
     "output_type": "display_data"
    }
   ],
   "source": [
    "fig, ax = plt.subplots()\n",
    "ax.scatter(ll[::4], ll[1::4])\n",
    "ax.scatter(ll[2::4], ll[3::4])\n",
    "\n",
    "ax.set_aspect(\"equal\")\n",
    "plt.show()"
   ]
  },
  {
   "cell_type": "markdown",
   "id": "ddb1831c",
   "metadata": {},
   "source": [
    "# Feature trackback"
   ]
  },
  {
   "cell_type": "code",
   "execution_count": 126,
   "id": "54e3f9c8",
   "metadata": {},
   "outputs": [],
   "source": [
    "farr = dt.tree_.feature[dt.tree_.feature > 0]"
   ]
  },
  {
   "cell_type": "code",
   "execution_count": 127,
   "id": "90a3cada",
   "metadata": {},
   "outputs": [
    {
     "data": {
      "text/plain": [
       "array(['yhead', 'xl_knee', 'yl_hand', 'yl_hip', 'yr_foot', 'yl_shoulder',\n",
       "       'xhead', 'xl_knee', 'xl_foot', 'xr_foot', 'xl_knee', 'yl_foot',\n",
       "       'yl_foot', 'xl_knee', 'xl_knee', 'xr_hand', 'xr_hip',\n",
       "       'yl_shoulder', 'xhead', 'yneck', 'yr_hand', 'xr_foot', 'yr_foot',\n",
       "       'yl_shoulder', 'xl_foot', 'yr_shoulder', 'ypelvis', 'yr_shoulder',\n",
       "       'yhead', 'xl_shoulder', 'yl_hip', 'xr_foot', 'xl_hip', 'yl_knee',\n",
       "       'yr_knee', 'xr_knee', 'yr_foot', 'xl_shoulder', 'xhead',\n",
       "       'yr_elbow', 'xr_shoulder', 'xr_hip', 'yhead', 'yr_hand', 'yr_hand',\n",
       "       'xl_shoulder', 'yr_hand', 'yr_knee', 'yl_knee', 'yl_shoulder',\n",
       "       'yr_foot', 'yhead', 'yr_foot', 'yr_hip', 'xr_shoulder'],\n",
       "      dtype='<U11')"
      ]
     },
     "execution_count": 127,
     "metadata": {},
     "output_type": "execute_result"
    }
   ],
   "source": [
    "features[farr]"
   ]
  },
  {
   "cell_type": "code",
   "execution_count": null,
   "id": "de44fc9f",
   "metadata": {},
   "outputs": [],
   "source": []
  },
  {
   "cell_type": "code",
   "execution_count": null,
   "id": "fda81d8b",
   "metadata": {},
   "outputs": [],
   "source": []
  },
  {
   "cell_type": "markdown",
   "id": "a897d8d2",
   "metadata": {},
   "source": [
    "# Ablation test"
   ]
  },
  {
   "cell_type": "code",
   "execution_count": null,
   "id": "f22eead4",
   "metadata": {},
   "outputs": [],
   "source": []
  },
  {
   "cell_type": "code",
   "execution_count": null,
   "id": "eb5b7b33",
   "metadata": {},
   "outputs": [],
   "source": []
  },
  {
   "cell_type": "code",
   "execution_count": null,
   "id": "448e6d64",
   "metadata": {},
   "outputs": [],
   "source": []
  },
  {
   "cell_type": "code",
   "execution_count": null,
   "id": "87067d8c",
   "metadata": {},
   "outputs": [],
   "source": []
  },
  {
   "cell_type": "markdown",
   "id": "2e9b6fcc",
   "metadata": {},
   "source": [
    "# Test with new data"
   ]
  },
  {
   "cell_type": "code",
   "execution_count": 208,
   "id": "1fd4dab0",
   "metadata": {},
   "outputs": [],
   "source": [
    "import kinect_utils as ku\n",
    "\n",
    "import pickle\n",
    "point_pickle = \"/home/hoseung/Work/Kinect/pykinect_BBS/G1/000/BT/bodytracking_data.pickle\"\n",
    "klist = pickle.load(open(point_pickle, \"rb\"))\n",
    "\n",
    "scene = ku.kinect2mobile_direct(klist)\n",
    "\n",
    "nframe = 10 \n",
    "shift=0\n",
    "sub = smoothed_frame_N(scene, nframe=nframe, shift=j)\n",
    "rav_sub = ravel_rec(sub)[np.newaxis, :]\n",
    "pickle.dump(rav_sub, open(\"rav_example.pickle\", \"wb\"))"
   ]
  },
  {
   "cell_type": "code",
   "execution_count": 206,
   "id": "a1ae4a22",
   "metadata": {},
   "outputs": [
    {
     "data": {
      "text/plain": [
       "'/home/hoseung/Work/fhenrf/pose'"
      ]
     },
     "execution_count": 206,
     "metadata": {},
     "output_type": "execute_result"
    }
   ],
   "source": [
    "pwd"
   ]
  },
  {
   "cell_type": "code",
   "execution_count": 193,
   "id": "64aa6558",
   "metadata": {},
   "outputs": [
    {
     "data": {
      "text/plain": [
       "array([2])"
      ]
     },
     "execution_count": 193,
     "metadata": {},
     "output_type": "execute_result"
    }
   ],
   "source": [
    "model.predict(rav_sub[np.newaxis,:])"
   ]
  },
  {
   "cell_type": "code",
   "execution_count": null,
   "id": "d39203db",
   "metadata": {},
   "outputs": [],
   "source": []
  }
 ],
 "metadata": {
  "kernelspec": {
   "display_name": "Python 3 (ipykernel)",
   "language": "python",
   "name": "python3"
  },
  "language_info": {
   "codemirror_mode": {
    "name": "ipython",
    "version": 3
   },
   "file_extension": ".py",
   "mimetype": "text/x-python",
   "name": "python",
   "nbconvert_exporter": "python",
   "pygments_lexer": "ipython3",
   "version": "3.9.9"
  }
 },
 "nbformat": 4,
 "nbformat_minor": 5
}
