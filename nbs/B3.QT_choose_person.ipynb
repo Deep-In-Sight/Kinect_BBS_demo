{
 "cells": [
  {
   "cell_type": "markdown",
   "id": "f8e346a5",
   "metadata": {},
   "source": [
    "# QImageViewer 시작할 때 action값 필수로 넣어야 함 "
   ]
  },
  {
   "cell_type": "code",
   "execution_count": 1,
   "id": "a15ed0ef",
   "metadata": {},
   "outputs": [],
   "source": [
    "# coding: utf-8\n",
    "\n",
    "from glob import glob\n",
    "from PyQt5.QtCore import Qt, QEvent\n",
    "from PyQt5.QtGui import QImage, QPixmap, QPalette, QPainter\n",
    "#from PyQt5.QtPrintSupport import QPrintDialog, QPrinter\n",
    "from PyQt5.QtWidgets import QLabel, QSizePolicy, QScrollArea, QMessageBox, QMainWindow, QMenu, QAction, qApp, QFileDialog\n",
    "import os\n",
    "import qimage2ndarray\n",
    "import cv2\n",
    "\n",
    "class QImageViewer(QMainWindow):\n",
    "    def __init__(self, class_name):\n",
    "        super().__init__()\n",
    "        #action = 8\n",
    "        self.image_dir = f\"/home/hoseung/Work/data/BBS/whoismain/{class_name}/\" ####\n",
    "        self.image_list = glob(self.image_dir+\"*.jpg\")\n",
    "        self.image_list.sort()\n",
    "        self.image_list = self.image_list[:1] + self.image_list\n",
    "        #print(self.image_list)\n",
    "\n",
    "        #self.printer = QPrinter()\n",
    "        self.scaleFactor = 1.0\n",
    "\n",
    "        self.imageLabel = QLabel()\n",
    "        self.imageLabel.setBackgroundRole(QPalette.Base)\n",
    "        self.imageLabel.setScaledContents(True)\n",
    "\n",
    "        self.scrollArea = QScrollArea()\n",
    "        self.scrollArea.setBackgroundRole(QPalette.Dark)\n",
    "        self.scrollArea.setWidget(self.imageLabel)\n",
    "        self.scrollArea.setVisible(False)\n",
    "\n",
    "        self.setCentralWidget(self.scrollArea)\n",
    "\n",
    "        self.createActions()\n",
    "        self.createMenus()\n",
    "\n",
    "        #Mouse\n",
    "#         self.setMouseTracking(True)\n",
    "\n",
    "        self.fout = open(self.image_dir+f\"main_list_{class_name}.txt\", \"w\") ##############\n",
    "\n",
    "        self.setWindowTitle(\"Image Viewer\")\n",
    "        self.resize(1280, 720)\n",
    "        \n",
    "        #self.next_image()\n",
    "        self.cnt = 0\n",
    "\n",
    "    def open(self):\n",
    "        options = QFileDialog.Options()\n",
    "        dir_root = str(QFileDialog.getExistingDirectory(self, \"Select Directory\" ))\n",
    "        #print(dir_root)\n",
    "        image_list = os.listdir(dir_root)\n",
    "        image_list.sort()\n",
    "        #print(image_list)\n",
    "        #print(dir_root)\n",
    "        fileName = os.path.join(dir_root, image_list[0])\n",
    "        if fileName:\n",
    "            image = QImage(fileName)\n",
    "            if image.isNull():\n",
    "                QMessageBox.information(self, \"Image Viewer\", \"Cannot load %s.\" % fileName)\n",
    "                return\n",
    "\n",
    "            self.imageLabel.setPixmap(QPixmap.fromImage(image))\n",
    "            self.scaleFactor = 1.0\n",
    "\n",
    "            self.scrollArea.setVisible(True)\n",
    "            self.fitToWindowAct.setEnabled(True)\n",
    "            self.updateActions()\n",
    "\n",
    "            if not self.fitToWindowAct.isChecked():\n",
    "                self.imageLabel.adjustSize()\n",
    "    \n",
    "#     def mousePressEvent(self, e):\n",
    "#         print(f'image len : {len(self.image_list)}')\n",
    "#         print(f'cnt {self.cnt}')\n",
    "#         if self.cnt == len(self.image_list):\n",
    "#             self.fout.close()\n",
    "#             self.close()\n",
    "#         elif e.buttons() & Qt.LeftButton:\n",
    "#             x = e.x()\n",
    "#             y = e.y()\n",
    "#             print(f'x : {x} y : {y}')\n",
    "\n",
    "#             self.fout.write(f'{self.image_list[self.cnt]} {x} {y} \\n')\n",
    "#             self.fout.flush()\n",
    "#             self.cnt +=1\n",
    "#             self.next_image()\n",
    "\n",
    "    def next_image(self):\n",
    "        fileName = os.path.join(self.image_dir, self.image_list[self.cnt])\n",
    "\n",
    "        if fileName:\n",
    "            image = cv2.imread(fileName)\n",
    "            image = cv2.cvtColor(image, cv2.COLOR_BGR2RGB)\n",
    "            #image = cv2.resize(image, dsize=(1300,1300))\n",
    "            image = QPixmap(self.realsenseFrameToQImage(image))\n",
    "            if image.isNull():\n",
    "                QMessageBox.information(self, \"Image Viewer\", \"Cannot load %s.\" % fileName)\n",
    "                return\n",
    "\n",
    "            self.imageLabel.setPixmap(image)\n",
    "\n",
    "            self.scrollArea.setVisible(True)\n",
    "            self.fitToWindowAct.setEnabled(True)\n",
    "            self.updateActions()\n",
    "\n",
    "            if not self.fitToWindowAct.isChecked():\n",
    "                self.imageLabel.adjustSize()\n",
    "\n",
    "    def realsenseFrameToQImage(self, frame):\n",
    "        result = qimage2ndarray.array2qimage(frame)\n",
    "        return result\n",
    "    \n",
    "    #def eventFilter(self, source, event):\n",
    "#        if event.type() == QtCore.QEvent.MouseButtonPress:\n",
    "#        if event.button() == QtCore.Qt.LeftButton:\n",
    "#            print(event.pos())\n",
    "    #    if event.key() == QEvent.KeyPress:\n",
    "    #        print(\"1\")\n",
    "    \n",
    "    def keyPressEvent(self,e):\n",
    "        if e.key() == Qt.Key_1 or e.key() == Qt.Key_2 or e.key() == Qt.Key_3:\n",
    "            self.fout.write(f'{self.image_list[self.cnt]} {int(e.text()) - 1} \\n')\n",
    "            self.fout.flush()\n",
    "            self.cnt +=1\n",
    "            self.next_image()\n",
    "        elif e.key() == Qt.Key_Backspace: \n",
    "            print(\"Wrong!\")\n",
    "            self.fout.write(f'{self.image_list[self.cnt]} bad \\n')\n",
    "            self.fout.flush()\n",
    "            self.cnt -=1\n",
    "            self.next_image()\n",
    "        elif e.key() == Qt.Key_X:\n",
    "            self.fout.write(f'{self.image_list[self.cnt]} -1 \\n')\n",
    "            self.fout.flush()\n",
    "            self.cnt +=1\n",
    "            self.next_image()\n",
    "            \n",
    "                \n",
    "    def normalSize(self):\n",
    "        self.imageLabel.adjustSize()\n",
    "        self.scaleFactor = 1.0\n",
    "\n",
    "    def fitToWindow(self):\n",
    "        fitToWindow = self.fitToWindowAct.isChecked()\n",
    "        self.scrollArea.setWidgetResizable(fitToWindow)\n",
    "        if not fitToWindow:\n",
    "            self.normalSize()\n",
    "\n",
    "        self.updateActions()\n",
    "\n",
    "    def createActions(self):\n",
    "        self.openAct = QAction(\"&Open...\", self, shortcut=\"Ctrl+O\", triggered=self.open)\n",
    "        self.exitAct = QAction(\"E&xit\", self, shortcut=\"Ctrl+Q\", triggered=self.close)\n",
    "        self.normalSizeAct = QAction(\"&Normal Size\", self, shortcut=\"Ctrl+S\", enabled=False, triggered=self.normalSize)\n",
    "        self.fitToWindowAct = QAction(\"&Fit to Window\", self, enabled=False, checkable=True, shortcut=\"Ctrl+F\",\n",
    "                                      triggered=self.fitToWindow)\n",
    "\n",
    "    def createMenus(self):\n",
    "        self.fileMenu = QMenu(\"&File\", self)\n",
    "        self.fileMenu.addAction(self.openAct)\n",
    "        self.fileMenu.addAction(self.exitAct)\n",
    "\n",
    "    def updateActions(self):\n",
    "        self.normalSizeAct.setEnabled(not self.fitToWindowAct.isChecked())"
   ]
  },
  {
   "cell_type": "code",
   "execution_count": 2,
   "id": "06aa5211",
   "metadata": {},
   "outputs": [
    {
     "name": "stdout",
     "output_type": "stream",
     "text": [
      "Wrong!\n"
     ]
    },
    {
     "ename": "IndexError",
     "evalue": "list index out of range",
     "output_type": "error",
     "traceback": [
      "\u001b[0;31m---------------------------------------------------------------------------\u001b[0m",
      "\u001b[0;31mIndexError\u001b[0m                                Traceback (most recent call last)",
      "\u001b[0;32m/tmp/ipykernel_101410/1307393733.py\u001b[0m in \u001b[0;36mkeyPressEvent\u001b[0;34m(self, e)\u001b[0m\n\u001b[1;32m    126\u001b[0m             \u001b[0mself\u001b[0m\u001b[0;34m.\u001b[0m\u001b[0mfout\u001b[0m\u001b[0;34m.\u001b[0m\u001b[0mflush\u001b[0m\u001b[0;34m(\u001b[0m\u001b[0;34m)\u001b[0m\u001b[0;34m\u001b[0m\u001b[0;34m\u001b[0m\u001b[0m\n\u001b[1;32m    127\u001b[0m             \u001b[0mself\u001b[0m\u001b[0;34m.\u001b[0m\u001b[0mcnt\u001b[0m \u001b[0;34m+=\u001b[0m\u001b[0;36m1\u001b[0m\u001b[0;34m\u001b[0m\u001b[0;34m\u001b[0m\u001b[0m\n\u001b[0;32m--> 128\u001b[0;31m             \u001b[0mself\u001b[0m\u001b[0;34m.\u001b[0m\u001b[0mnext_image\u001b[0m\u001b[0;34m(\u001b[0m\u001b[0;34m)\u001b[0m\u001b[0;34m\u001b[0m\u001b[0;34m\u001b[0m\u001b[0m\n\u001b[0m\u001b[1;32m    129\u001b[0m         \u001b[0;32melif\u001b[0m \u001b[0me\u001b[0m\u001b[0;34m.\u001b[0m\u001b[0mkey\u001b[0m\u001b[0;34m(\u001b[0m\u001b[0;34m)\u001b[0m \u001b[0;34m==\u001b[0m \u001b[0mQt\u001b[0m\u001b[0;34m.\u001b[0m\u001b[0mKey_Backspace\u001b[0m\u001b[0;34m:\u001b[0m\u001b[0;34m\u001b[0m\u001b[0;34m\u001b[0m\u001b[0m\n\u001b[1;32m    130\u001b[0m             \u001b[0mprint\u001b[0m\u001b[0;34m(\u001b[0m\u001b[0;34m\"Wrong!\"\u001b[0m\u001b[0;34m)\u001b[0m\u001b[0;34m\u001b[0m\u001b[0;34m\u001b[0m\u001b[0m\n",
      "\u001b[0;32m/tmp/ipykernel_101410/1307393733.py\u001b[0m in \u001b[0;36mnext_image\u001b[0;34m(self)\u001b[0m\n\u001b[1;32m     90\u001b[0m \u001b[0;34m\u001b[0m\u001b[0m\n\u001b[1;32m     91\u001b[0m     \u001b[0;32mdef\u001b[0m \u001b[0mnext_image\u001b[0m\u001b[0;34m(\u001b[0m\u001b[0mself\u001b[0m\u001b[0;34m)\u001b[0m\u001b[0;34m:\u001b[0m\u001b[0;34m\u001b[0m\u001b[0;34m\u001b[0m\u001b[0m\n\u001b[0;32m---> 92\u001b[0;31m         \u001b[0mfileName\u001b[0m \u001b[0;34m=\u001b[0m \u001b[0mos\u001b[0m\u001b[0;34m.\u001b[0m\u001b[0mpath\u001b[0m\u001b[0;34m.\u001b[0m\u001b[0mjoin\u001b[0m\u001b[0;34m(\u001b[0m\u001b[0mself\u001b[0m\u001b[0;34m.\u001b[0m\u001b[0mimage_dir\u001b[0m\u001b[0;34m,\u001b[0m \u001b[0mself\u001b[0m\u001b[0;34m.\u001b[0m\u001b[0mimage_list\u001b[0m\u001b[0;34m[\u001b[0m\u001b[0mself\u001b[0m\u001b[0;34m.\u001b[0m\u001b[0mcnt\u001b[0m\u001b[0;34m]\u001b[0m\u001b[0;34m)\u001b[0m\u001b[0;34m\u001b[0m\u001b[0;34m\u001b[0m\u001b[0m\n\u001b[0m\u001b[1;32m     93\u001b[0m \u001b[0;34m\u001b[0m\u001b[0m\n\u001b[1;32m     94\u001b[0m         \u001b[0;32mif\u001b[0m \u001b[0mfileName\u001b[0m\u001b[0;34m:\u001b[0m\u001b[0;34m\u001b[0m\u001b[0;34m\u001b[0m\u001b[0m\n",
      "\u001b[0;31mIndexError\u001b[0m: list index out of range"
     ]
    },
    {
     "ename": "SystemExit",
     "evalue": "0",
     "output_type": "error",
     "traceback": [
      "An exception has occurred, use %tb to see the full traceback.\n",
      "\u001b[0;31mSystemExit\u001b[0m\u001b[0;31m:\u001b[0m 0\n"
     ]
    },
    {
     "name": "stderr",
     "output_type": "stream",
     "text": [
      "/home/hoseung/anaconda3/envs/deepinsight/lib/python3.9/site-packages/IPython/core/interactiveshell.py:3449: UserWarning: To exit: use 'exit', 'quit', or Ctrl-D.\n",
      "  warn(\"To exit: use 'exit', 'quit', or Ctrl-D.\", stacklevel=1)\n"
     ]
    }
   ],
   "source": [
    "if __name__ == '__main__':\n",
    "    import sys\n",
    "    from PyQt5.QtWidgets import QApplication\n",
    "    app = QApplication(sys.argv)\n",
    "    # action 값 넣어야함. \n",
    "    imageViewer = QImageViewer(8) ################ ACTION\n",
    "    imageViewer.show()\n",
    "    sys.exit(app.exec_())\n",
    "    # TODO QScrollArea support mouse\n",
    "    # base on https://github.com/baoboa/pyqt5/blob/master/examples/widgets/imageviewer.py\n",
    "    #\n",
    "    # if you need Two Image Synchronous Scrolling in the window by PyQt5 and Python 3\n",
    "    # please visit https://gist.github.com/acbetter/e7d0c600fdc0865f4b0ee05a17b858f2"
   ]
  },
  {
   "cell_type": "code",
   "execution_count": 3,
   "id": "9e8b787b",
   "metadata": {},
   "outputs": [
    {
     "data": {
      "text/plain": [
       "88"
      ]
     },
     "execution_count": 3,
     "metadata": {},
     "output_type": "execute_result"
    }
   ],
   "source": [
    "Qt.Key_X"
   ]
  },
  {
   "cell_type": "code",
   "execution_count": null,
   "id": "08c3b5c4",
   "metadata": {},
   "outputs": [],
   "source": [
    "\n",
    "QEvent."
   ]
  },
  {
   "cell_type": "code",
   "execution_count": 3,
   "id": "83dc29f9",
   "metadata": {},
   "outputs": [
    {
     "ename": "NameError",
     "evalue": "name 'QtCore' is not defined",
     "output_type": "error",
     "traceback": [
      "\u001b[0;31m---------------------------------------------------------------------------\u001b[0m",
      "\u001b[0;31mNameError\u001b[0m                                 Traceback (most recent call last)",
      "\u001b[0;32m/tmp/ipykernel_27791/2913037381.py\u001b[0m in \u001b[0;36m<module>\u001b[0;34m\u001b[0m\n\u001b[0;32m----> 1\u001b[0;31m \u001b[0mQtCore\u001b[0m\u001b[0;34m\u001b[0m\u001b[0;34m\u001b[0m\u001b[0m\n\u001b[0m",
      "\u001b[0;31mNameError\u001b[0m: name 'QtCore' is not defined"
     ]
    }
   ],
   "source": [
    "QEvent.KeyPress()"
   ]
  },
  {
   "cell_type": "code",
   "execution_count": 1,
   "id": "842e9af5",
   "metadata": {},
   "outputs": [
    {
     "data": {
      "text/plain": [
       "'/home/hoseung/Work/fhenrf/pose'"
      ]
     },
     "execution_count": 1,
     "metadata": {},
     "output_type": "execute_result"
    }
   ],
   "source": [
    "pwd"
   ]
  },
  {
   "cell_type": "code",
   "execution_count": null,
   "id": "f4461334",
   "metadata": {},
   "outputs": [],
   "source": []
  }
 ],
 "metadata": {
  "kernelspec": {
   "display_name": "Python 3 (ipykernel)",
   "language": "python",
   "name": "python3"
  },
  "language_info": {
   "codemirror_mode": {
    "name": "ipython",
    "version": 3
   },
   "file_extension": ".py",
   "mimetype": "text/x-python",
   "name": "python",
   "nbconvert_exporter": "python",
   "pygments_lexer": "ipython3",
   "version": "3.9.0"
  }
 },
 "nbformat": 4,
 "nbformat_minor": 5
}
