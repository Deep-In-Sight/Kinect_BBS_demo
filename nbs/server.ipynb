{
 "cells": [
  {
   "cell_type": "markdown",
   "id": "623282d3",
   "metadata": {},
   "source": [
    "Mobile에서 서버로 request를 보내고, shutdown메세지를 보내고 (send는 끝났고 이제는 듣기만 하겠다), sever의 메세지를 기다렸다 받으면 됨.  \n",
    "서버의 메세지를 성공적으로 받으면 close로 연결 종료. \n"
   ]
  },
  {
   "cell_type": "code",
   "execution_count": 1,
   "id": "ef6ab014",
   "metadata": {},
   "outputs": [
    {
     "name": "stdout",
     "output_type": "stream",
     "text": [
      "Server started...\n",
      "Client: 1\n",
      "b'/home/hoseung/Work/fhenrf/pose/rav_example.pickle<sep>2553\\x80\\x04\\x95\\xee\\t\\x00\\x00\\x00\\x00\\x00\\x00\\x8c\\x15numpy.core.multiarray\\x94\\x8c\\x0c_reconstruct\\x94\\x93\\x94\\x8c\\x05numpy\\x94\\x8c\\x07ndarray\\x94\\x93\\x94K\\x00\\x85\\x94C\\x01b\\x94\\x87\\x94R\\x94(K\\x01K\\x01M,\\x01\\x86\\x94h\\x03\\x8c\\x05dtype\\x94\\x93\\x94\\x8c\\x02f8\\x94\\x89\\x88\\x87\\x94R\\x94(K\\x03\\x8c\\x01<\\x94NNNJ\\xff\\xff\\xff\\xffJ\\xff\\xff\\xff\\xffK\\x00t\\x94b\\x89B`\\t\\x00\\x00\\x00\\x00\\x00\\x00\\x00\\xf0p@\\x00\\x00\\x00\\x00\\x00\\xe0o@\\x00\\x00\\x00\\x00\\x000p@\\x00\\x00\\x00\\x00\\x00@n@\\x00\\x00\\x00\\x00\\x00\\xa0o@\\x00\\x00\\x00\\x00\\x00\\x80k@\\x00\\x00\\x00\\x00\\x00\\xa0n@\\x00\\x00\\x00\\x00\\x00\\xc0j@\\x00\\x00\\x00\\x00\\x00@n@\\x00\\x00\\x00\\x00\\x00\\xc0m@\\x00\\x00\\x00\\x00\\x00@o@\\x00\\x00\\x00\\x00\\x000p@\\x00\\x00\\x00\\x00\\x000p@\\x00\\x00\\x00\\x00\\x00\\xc0i@\\x00\\x00\\x00\\x00\\x00\\x90o@\\x00\\x00\\x00\\x00\\x00\\xb0j@\\x00\\x00\\x00\\x00\\x00\\x00o@\\x00\\x00\\x00\\x00\\x00\\x10p@\\x00\\x00\\x00\\x00\\x00 p@\\x00\\x00\\x00\\x00\\x00Ps@\\x00\\x00\\x00\\x00\\x00\\x10q@\\x00\\x00\\x00\\x00\\x00pq@\\x00\\x00\\x00\\x00\\x00\\x80n@\\x00\\x00\\x00\\x00\\x00 p@\\x00\\x00\\x00\\x00\\x00 n@\\x00\\x00\\x00\\x00\\x00\\x00p@\\x00\\x00\\x00\\x00\\x000q@\\x00\\x00\\x00\\x00\\x00\\xf0p@\\x00\\x00\\x00\\x00\\x00`p@\\x00\\x00\\x00\\x00\\x00\\x10s@\\x00\\x00\\x00\\x00\\x00\\xf0p@\\x00\\x00\\x00\\x00\\x00\\xe0o@\\x00\\x00\\x00\\x00\\x000p@\\x00\\x00\\x00\\x00\\x00@n@\\x00\\x00\\x00\\x00\\x00\\xa0o@\\x00\\x00\\x00\\x00\\x00\\x80k@\\x00\\x00\\x00\\x00\\x00\\xa0n@\\x00\\x00\\x00\\x00\\x00\\xc0j@\\x00\\x00\\x00\\x00\\x00@n@\\x00\\x00\\x00\\x00\\x00\\xc0m@\\x00\\x00\\x00\\x00\\x00@o@\\x00\\x00\\x00\\x00\\x000p@\\x00\\x00\\x00\\x00\\x000p@\\x00\\x00\\x00\\x00\\x00\\xc0i@\\x00\\x00\\x00\\x00\\x000o@\\x00\\x00\\x00\\x00\\x00\\xe0j@\\x00\\x00\\x00\\x00\\x00\\x90n@\\x00\\x00\\x00\\x00\\x00\\x10p@\\x00\\x00\\x00\\x00\\x00 p@\\x00\\x00\\x00\\x00\\x00Ps@\\x00\\x00\\x00\\x00\\x00\\x10q@\\x00\\x00\\x00\\x00\\x00pq@\\x00\\x00\\x00\\x00\\x00\\x80n@\\x00\\x00\\x00\\x00\\x00 p@\\x00\\x00\\x00\\x00\\x00 n@\\x00\\x00\\x00\\x00\\x00\\x00p@\\x00\\x00\\x00\\x00\\x000q@\\x00\\x00\\x00\\x00\\x00\\xf0p@\\x00\\x00\\x00\\x00\\x00`p@\\x00\\x00\\x00\\x00\\x00\\x10s@\\x00\\x00\\x00\\x00\\x00\\xf0p@\\x00\\x00\\x00\\x00\\x00\\xe0o@\\x00\\x00\\x00\\x00\\x000p@\\x00\\x00\\x00\\x00\\x00@n@\\x00\\x00\\x00\\x00\\x00\\xa0o@\\x00\\x00\\x00\\x00\\x00\\x80k@\\x00\\x00\\x00\\x00\\x00\\xa0n@\\x00\\x00\\x00\\x00\\x00\\xc0j@\\x00\\x00\\x00\\x00\\x00@n@\\x00\\x00\\x00\\x00\\x00\\xc0m@\\x00\\x00\\x00\\x00\\x00@o@\\x00\\x00\\x00\\x00\\x000p@\\x00\\x00\\x00\\x00\\x000p@\\x00\\x00\\x00\\x00\\x00\\xc0i@\\x00\\x00\\x00\\x00\\x00 o@\\x00\\x00\\x00\\x00\\x00\\x00k@\\x00\\x00\\x00\\x00\\x00Pn@\\x00\\x00\\x00\\x00\\x00\\x08p@\\x00\\x00\\x00\\x00\\x00 p@\\x00\\x00\\x00\\x00\\x00Ps@\\x00\\x00\\x00\\x00\\x00\\x10q@\\x00\\x00\\x00\\x00\\x00pq@\\x00\\x00\\x00\\x00\\x00\\x80n@\\x00\\x00\\x00\\x00\\x00 p@\\x00\\x00\\x00\\x00\\x00 n@\\x00\\x00\\x00\\x00\\x00\\x00p@\\x00\\x00\\x00\\x00\\x000q@\\x00\\x00\\x00\\x00\\x00\\xf0p@\\x00\\x00\\x00\\x00\\x00`p@\\x00\\x00\\x00\\x00\\x00\\x10s@\\x00\\x00\\x00\\x00\\x00\\xf0p@\\x00\\x00\\x00\\x00\\x00\\xe0o@\\x00\\x00\\x00\\x00\\x000p@\\x00\\x00\\x00\\x00\\x00@n@\\x00\\x00\\x00\\x00\\x00\\xa0o@\\x00\\x00\\x00\\x00\\x00\\x80k@\\x00\\x00\\x00\\x00\\x00\\xa0n@\\x00\\x00\\x00\\x00\\x00\\xc0j@\\x00\\x00\\x00\\x00\\x00@n@\\x00\\x00\\x00\\x00\\x00\\xc0m@\\x00\\x00\\x00\\x00\\x00@o@\\x00\\x00\\x00\\x00\\x000p@\\x00\\x00'\n"
     ]
    },
    {
     "ename": "UnicodeDecodeError",
     "evalue": "'utf-8' codec can't decode byte 0x80 in position 58: invalid start byte",
     "output_type": "error",
     "traceback": [
      "\u001b[0;31m---------------------------------------------------------------------------\u001b[0m",
      "\u001b[0;31mUnicodeDecodeError\u001b[0m                        Traceback (most recent call last)",
      "\u001b[0;32m/tmp/ipykernel_358262/1922202741.py\u001b[0m in \u001b[0;36m<module>\u001b[0;34m\u001b[0m\n\u001b[1;32m     22\u001b[0m     \u001b[0mreceived\u001b[0m \u001b[0;34m=\u001b[0m \u001b[0mclient_sockets\u001b[0m\u001b[0;34m.\u001b[0m\u001b[0mrecv\u001b[0m\u001b[0;34m(\u001b[0m\u001b[0;36m1024\u001b[0m\u001b[0;34m)\u001b[0m\u001b[0;34m\u001b[0m\u001b[0;34m\u001b[0m\u001b[0m\n\u001b[1;32m     23\u001b[0m     \u001b[0mprint\u001b[0m\u001b[0;34m(\u001b[0m\u001b[0mreceived\u001b[0m\u001b[0;34m)\u001b[0m\u001b[0;34m\u001b[0m\u001b[0;34m\u001b[0m\u001b[0m\n\u001b[0;32m---> 24\u001b[0;31m     \u001b[0mreceived\u001b[0m \u001b[0;34m=\u001b[0m \u001b[0mreceived\u001b[0m\u001b[0;34m.\u001b[0m\u001b[0mdecode\u001b[0m\u001b[0;34m(\u001b[0m\u001b[0;34m)\u001b[0m\u001b[0;34m\u001b[0m\u001b[0;34m\u001b[0m\u001b[0m\n\u001b[0m\u001b[1;32m     25\u001b[0m     \u001b[0mfilname\u001b[0m\u001b[0;34m,\u001b[0m \u001b[0mfilesize\u001b[0m \u001b[0;34m=\u001b[0m \u001b[0mreceived\u001b[0m\u001b[0;34m.\u001b[0m\u001b[0msplit\u001b[0m\u001b[0;34m(\u001b[0m\u001b[0mSEPARATOR\u001b[0m\u001b[0;34m)\u001b[0m\u001b[0;34m\u001b[0m\u001b[0;34m\u001b[0m\u001b[0m\n\u001b[1;32m     26\u001b[0m     \u001b[0mfilename\u001b[0m \u001b[0;34m=\u001b[0m \u001b[0mos\u001b[0m\u001b[0;34m.\u001b[0m\u001b[0mpath\u001b[0m\u001b[0;34m.\u001b[0m\u001b[0mbasename\u001b[0m\u001b[0;34m(\u001b[0m\u001b[0mfilename\u001b[0m\u001b[0;34m)\u001b[0m\u001b[0;34m\u001b[0m\u001b[0;34m\u001b[0m\u001b[0m\n",
      "\u001b[0;31mUnicodeDecodeError\u001b[0m: 'utf-8' codec can't decode byte 0x80 in position 58: invalid start byte"
     ]
    }
   ],
   "source": [
    "import socket\n",
    "server_socket = socket.socket(socket.AF_INET,socket.SOCK_STREAM)\n",
    "LOCALHOST = '127.0.0.1'\n",
    "port = 9990\n",
    "\n",
    "SEPARATOR = \"<sep>\"\n",
    "\n",
    "server_socket.bind((LOCALHOST,port))\n",
    "server_socket.listen(5)\n",
    "\n",
    "print(\"Server started...\")\n",
    "\n",
    "client_sockets,addr=server_socket.accept()\n",
    "while True:\n",
    "    msg_received = client_sockets.recv(1024)\n",
    "    msg_received = msg_received.decode()\n",
    "    print(\"Client:\", msg_received)\n",
    "    if msg_received == \"ByeBye\":\n",
    "        break\n",
    "    \n",
    "    ########################\n",
    "    received = client_sockets.recv(1024) #1024 Byte를 채우려고 뒤에 오는 binary 파일까지 이 버퍼에 받아버림. \n",
    "    print(received)\n",
    "    received = received.decode()\n",
    "    filname, filesize = received.split(SEPARATOR)\n",
    "    filename = os.path.basename(filename)\n",
    "    filesize = int(filesize)\n",
    "    with open(filename+\"_received\", \"wb\") as f:\n",
    "        bytes_read = client_socket.recv(BUFFER_SIZE)\n",
    "        \n",
    "        if not bytes_read:\n",
    "            break\n",
    "        \n",
    "        f.write(bytes_read)\n",
    "    ###########\n",
    "    msg_send = input(\"Me:\")\n",
    "    client_sockets.send(msg_send.encode(\"ascii\"))\n",
    "\n",
    "client_sockets.close()"
   ]
  },
  {
   "cell_type": "code",
   "execution_count": null,
   "id": "72103927",
   "metadata": {},
   "outputs": [],
   "source": []
  },
  {
   "cell_type": "code",
   "execution_count": null,
   "id": "b99d255f",
   "metadata": {},
   "outputs": [],
   "source": []
  },
  {
   "cell_type": "code",
   "execution_count": null,
   "id": "753c92df",
   "metadata": {},
   "outputs": [],
   "source": []
  },
  {
   "cell_type": "code",
   "execution_count": null,
   "id": "63f8e1a1",
   "metadata": {},
   "outputs": [
    {
     "name": "stdout",
     "output_type": "stream",
     "text": [
      "Conneted by ('127.0.0.1', 38996)\n",
      "/home/hoseung/Work/fhenrf/pose/rav_example.pickle 2553\n"
     ]
    },
    {
     "name": "stderr",
     "output_type": "stream",
     "text": [
      "Receiving rav_example.pickle: 100%|█████████████████████████████████████████| 2.49k/2.49k [00:17<00:00, 144B/s]\n"
     ]
    }
   ],
   "source": [
    "import tqdm\n",
    "import os\n",
    "import socket\n",
    "\n",
    "HOST = socket.gethostname()\n",
    "#HOST = '10.100.82.54'\n",
    "PORT = 9999\n",
    "\n",
    "server_socket = socket.socket(socket.AF_INET, socket.SOCK_STREAM)\n",
    "server_socket.setsockopt(socket.SOL_SOCKET, socket.SO_REUSEADDR,1)\n",
    "\n",
    "server_socket.bind((HOST,PORT))\n",
    "server_socket.listen(5)\n",
    "\n",
    "client_socket, addr = server_socket.accept()\n",
    "print('Conneted by',addr)\n",
    "\n",
    "\n",
    "# A socket is \"discarded\" on returning 0 \n",
    "# If not, the socket will wait for the next message forever.\n",
    "# This means that the end of a conversation need to be marked somehow. \n",
    "# 1. Use fixed-lengh message\n",
    "# 2. Use delimiter \n",
    "# 3. the length of message told beforehand\n",
    "# 4. or just shutdown the connection.\n",
    "\n",
    "SEPARATOR = \"<sep>\"\n",
    "BUFFER_SIZE=4096\n",
    "\n",
    "\n",
    "received = client_socket.recv(BUFFER_SIZE).decode()\n",
    "filename, filesize = received.split(SEPARATOR)\n",
    "\n",
    "received2 = client_socket.recv(BUFFER_SIZE).decode()\n",
    "filename2, filesize2 = received.split(SEPARATOR)\n",
    "print(filename2, filesize2)\n",
    "\n",
    "# remove absolute path if there is\n",
    "filename = os.path.basename(filename)\n",
    "# convert to integer\n",
    "filesize = int(filesize)\n",
    "\n",
    "progress = tqdm.tqdm(range(filesize), f\"Receiving {filename}\", unit=\"B\", unit_scale=True, unit_divisor=1024)\n",
    "with open(filename+\"_received\", \"wb\") as f:\n",
    "    while True:\n",
    "        # read 1024 bytes from the socket (receive)\n",
    "        bytes_read = client_socket.recv(BUFFER_SIZE)\n",
    "        if not bytes_read:    \n",
    "            # nothing is received\n",
    "            # file transmitting is done\n",
    "            break\n",
    "        # write to the file the bytes we just received\n",
    "        f.write(bytes_read)\n",
    "        # update the progress bar\n",
    "        progress.update(len(bytes_read))\n",
    "\n",
    "# close the client socket\n",
    "client_socket.close()"
   ]
  },
  {
   "cell_type": "code",
   "execution_count": 2,
   "id": "10cf9f97",
   "metadata": {},
   "outputs": [
    {
     "data": {
      "text/plain": [
       "'/home/hoseung/Work/fhe-ai-sw-etri/fase/notebooks'"
      ]
     },
     "execution_count": 2,
     "metadata": {},
     "output_type": "execute_result"
    }
   ],
   "source": [
    "pwd"
   ]
  },
  {
   "cell_type": "markdown",
   "id": "ed465e45",
   "metadata": {},
   "source": [
    "## Client 메세지 받기 \n",
    "\n",
    "1. 정해진 길이를 사용할지, delimiter를 쓸지, buffer 길이 변수를 메세지 앞에 달지 결정. \n",
    "2. Client가 메세지를 다 보냈는지 확인 (EOF 메세지가 올 것)\n",
    "3. \n"
   ]
  },
  {
   "cell_type": "code",
   "execution_count": 4,
   "id": "56d472c7",
   "metadata": {},
   "outputs": [
    {
     "data": {
      "text/plain": [
       "'10.100.82.54'"
      ]
     },
     "execution_count": 4,
     "metadata": {},
     "output_type": "execute_result"
    }
   ],
   "source": [
    "socket.gethostbyname(HOST)"
   ]
  },
  {
   "cell_type": "markdown",
   "id": "aa30209e",
   "metadata": {},
   "source": [
    "## Interpret received file \n",
    "\n",
    "Make sure to check Endianess"
   ]
  },
  {
   "cell_type": "code",
   "execution_count": 126,
   "id": "e0042d68",
   "metadata": {},
   "outputs": [],
   "source": [
    "fn_out = \"./enc.dat\"\n",
    "f = open(fn_out, 'rb')\n",
    "\n",
    "bstr = f.read(1000)"
   ]
  },
  {
   "cell_type": "code",
   "execution_count": 48,
   "id": "d7b99836",
   "metadata": {},
   "outputs": [],
   "source": [
    "bstr=b'8304221185600'"
   ]
  },
  {
   "cell_type": "code",
   "execution_count": null,
   "id": "98a0e3d8",
   "metadata": {},
   "outputs": [],
   "source": []
  },
  {
   "cell_type": "code",
   "execution_count": null,
   "id": "2c9e0b7c",
   "metadata": {},
   "outputs": [],
   "source": []
  },
  {
   "cell_type": "code",
   "execution_count": 49,
   "id": "1c6da963",
   "metadata": {},
   "outputs": [
    {
     "data": {
      "text/plain": [
       "b'8304221185600'"
      ]
     },
     "execution_count": 49,
     "metadata": {},
     "output_type": "execute_result"
    }
   ],
   "source": [
    "bstr"
   ]
  },
  {
   "cell_type": "code",
   "execution_count": 83,
   "id": "83271615",
   "metadata": {},
   "outputs": [],
   "source": [
    "import struct"
   ]
  },
  {
   "cell_type": "code",
   "execution_count": 108,
   "id": "89c98794",
   "metadata": {},
   "outputs": [],
   "source": [
    "import sys"
   ]
  },
  {
   "cell_type": "code",
   "execution_count": 110,
   "id": "948f2ea6",
   "metadata": {
    "scrolled": true
   },
   "outputs": [
    {
     "data": {
      "text/plain": [
       "bytearray(b'\\xd6\\xab\\x0c\\x00\\x00\\x00\\x00\\x00\\x00\\x00\\x00\\x00\\x00\\x00\\x00\\x00\\x00\\x00\\x00\\x00\\x00\\x00\\x00\\x00\\x00\\x00\\x00\\x00\\x00\\x00\\x00\\x00')"
      ]
     },
     "execution_count": 110,
     "metadata": {},
     "output_type": "execute_result"
    }
   ],
   "source": [
    "my_bytearray"
   ]
  },
  {
   "cell_type": "code",
   "execution_count": 111,
   "id": "9ad60b25",
   "metadata": {},
   "outputs": [
    {
     "name": "stdout",
     "output_type": "stream",
     "text": [
      "ASCII: \u0000\u0001\u0000À\u0001\u0000\u0000\u0000\u0004\n",
      "HEX: 000100c3800100000004\n"
     ]
    }
   ],
   "source": [
    "s_str: str = \"\\x00\\x01\\x00\\xc0\\x01\\x00\\x00\\x00\\x04\"\n",
    "print_code(s_str)"
   ]
  },
  {
   "cell_type": "code",
   "execution_count": 132,
   "id": "0d76e2aa",
   "metadata": {},
   "outputs": [
    {
     "name": "stdout",
     "output_type": "stream",
     "text": [
      "ASCII: 830422\n"
     ]
    }
   ],
   "source": [
    "secret = 830422 #1185600\n",
    "\n",
    "print_code(secret)"
   ]
  },
  {
   "cell_type": "code",
   "execution_count": 133,
   "id": "459f17f7",
   "metadata": {},
   "outputs": [
    {
     "name": "stdout",
     "output_type": "stream",
     "text": [
      "ASCII: bytearray(b'\\xd6\\xab\\x0c\\x00\\x00\\x00\\x00\\x00\\x00\\x00\\x00\\x00\\x00\\x00\\x00\\x00\\x00\\x00\\x00\\x00\\x00\\x00\\x00\\x00\\x00\\x00\\x00\\x00\\x00\\x00\\x00\\x00')\n",
      "HEX: d6ab0c0000000000000000000000000000000000000000000000000000000000\n"
     ]
    }
   ],
   "source": [
    "some_bytes = secret.to_bytes(32, sys.byteorder)\n",
    "my_bytearray = bytearray(some_bytes)\n",
    "\n",
    "print_code(my_bytearray)"
   ]
  },
  {
   "cell_type": "code",
   "execution_count": 135,
   "id": "5972cf95",
   "metadata": {},
   "outputs": [
    {
     "name": "stdout",
     "output_type": "stream",
     "text": [
      "ASCII: b'^\\xa1\\x10\\x03\\x07\\x00\\x00\\x00i\\x008\\x00\\x00\\x00\\x00\\x007\\x87gD;\\x977.\\xf9\\xde6i\\xa6\\xe7K\\x0e\\xf1\\xdc@\\xab\\xbaj\\xaf\\x1f\\xfd\\t\\x86\\xa2I,J\\xda\\x01\\x02\\x00\\x00\\x00\\x00\\x00\\x00\\x00\\x00@\\x00\\x00\\x00\\x00\\x00\\x00\\x0e\\x00\\x00\\x00\\x00\\x00\\x00\\x00\\x00\\x00\\x00\\x00\\x00\\x00\\xb0A^\\xa1\\x10\\x03\\x07\\x00\\x00\\x00\\x18\\x008\\x00\\x00\\x00\\x00\\x00\\x00\\x00\\x07\\x00\\x00\\x00\\x00\\x00\\x99\\xd6\\x03\\x04\\x18\\x00\\x00\\x00\\x0b\\\\\\x12\\xae\\x1b\\x00\\x00\\x00\\x80\\x8c\\x1d5\\x07\\x00\\x00\\x00\\\\\\xe4GL\\x16\\x00\\x00\\x00\\xf7\\x88\\x8e\\x7f\\x0b\\x00\\x00\\x00\\xfa\\x18\\x87\\xfe\\x06\\x00\\x00\\x00\\x1e\\xfd_-\\x07\\x00\\x00\\x00\\x84\"[\\xd3\\x05\\x00\\x00\\x003\\x98\\x85\\x91\\x1a\\x00\\x00\\x00W\\t\\x0c\\t\\x1d\\x00\\x00\\x00]d\\xcb\\xd4\\x0e\\x00\\x00\\x00U\\xd7:\\x83\\x0f\\x00\\x00\\x00KA\\xc7\\xa8\\x10\\x00\\x00\\x00\\x1c\\xb0\\x9f%\\x07\\x00\\x00\\x00%l\\x91?\\x1c\\x00\\x00\\x00\\x17\\x8f\")\\x12\\x00\\x00\\x00\\x9d\\x8e\\x99\\x19\\x02\\x00\\x00\\x00W\\xe3\\xd8\\x82\\x08\\x00\\x00\\x00\\x03\\xfb*\\x03\\x13\\x00\\x00\\x00\\xb0\\x9a\\xcd\\xba\\x00\\x00\\x00\\x00\\x94\\xe8\\xc0\\xda\\x1a\\x00\\x00\\x00JY\\x8c\\x00\\x13\\x00\\x00\\x00\\xe0P\\xb7\\xa1\\x00\\x00\\x00\\x00\\x89\\x15\\xf3\\xbf\\x19\\x00\\x00\\x006~\\x1d\\x18\\x11\\x00\\x00\\x00\\x88\\x8f#\\t\\x17\\x00\\x00\\x00Q\\xa3\\xac\\x05\\x0c\\x00\\x00\\x00\\xb6\\xac\\xabt\\x0b\\x00\\x00\\x00\\x9d\\xf8gX\\r\\x00\\x00\\x00\\xddOm\\xfb\\x01\\x00\\x00\\x00$c\\xfd\\x90\\x1b\\x00\\x00\\x00+\\xfe\\n\\xbd\\x1b\\x00\\x00\\x00\\xbed&V\\x02\\x00\\x00\\x00|\\xa7\\xdcK\\x0f\\x00\\x00\\x00\\xfb\\x93\\xf1\\xd0\\n\\x00\\x00\\x00\\xedt\\xbam\\t\\x00\\x00\\x00-\\x01\\xb0\\x8d\\x03\\x00\\x00\\x00-W\\x96\\x80\\x00\\x00\\x00\\x00\\x1b\\x98\\xc9\\xa5\\x02\\x00\\x00\\x00\\xd6DN\\x97\\x0f\\x00\\x00\\x00\\xcf+\\xf71\\x06\\x00\\x00\\x00D\\x0fFo\\x00\\x00\\x00\\x00\\xc36}\\xc7\\x05\\x00\\x00\\x00\\x95\\xd0\\xbc\\xd5\\x03\\x00\\x00\\x00\\xb7wq\\x10\\x01\\x00\\x00\\x00\\xb8Rh\\x8b\\x01\\x00\\x00\\x00>\\xe6\\x05\\xb8\\x06\\x00\\x00\\x00\\x1b\\xe4SR\\t\\x00\\x00\\x00\\xc2&\\r8\\x1d\\x00\\x00\\x00\\x02\\xbf\\xf0\\x9f\\x0e\\x00\\x00\\x00\\x12J\\xfd\\x90\\n\\x00\\x00\\x00t\\xb4\\xd8\\xa6\\x14\\x00\\x00\\x00$/$W\\x17\\x00\\x00\\x00\\x04\\xccxA\\x19\\x00\\x00\\x00j\\x8ev\\xb8\\x14\\x00\\x00\\x00\\xf8\\xd1\\x17\\x9a\\x05\\x00\\x00\\x00\\x19\\xe0\\x1c0\\t\\x00\\x00\\x00\\x8a\\xcde\\xda\\x10\\x00\\x00\\x00\\xf7\\x83\\x917\\x05\\x00\\x00\\x00so\\x1aX\\x02\\x00\\x00\\x00\\x11\\x97\\xdb\\t\\r\\x00\\x00\\x00lN4\\'\\x11\\x00\\x00\\x00e\\xbau\\x9d\\x1e\\x00\\x00\\x00g\\x04\\xa6Q\\r\\x00\\x00\\x00\\x98\\xa5\\x9b\\x1f\\x13\\x00\\x00\\x00\\xf9\\xc4\\x16\\x9c\\r\\x00\\x00\\x00\\xb4\\x8e\\x06\\x03\\x00\\x00\\x00\\x00\\x14\\x03T\\xcf\\x02\\x00\\x00\\x00\\x1c\\xbb\\x1a5\\x06\\x00\\x00\\x00\\xc6\\xdbfj\\x00\\x00\\x00\\x00\\x98\\xf9iF\\x00\\x00\\x00\\x00k\\xda\\x8e4\\x16\\x00\\x00\\x00\\xbf\\xe8\\xda[\\x10\\x00\\x00\\x00\\x7f\\xcaR\\x8e\\x12\\x00\\x00\\x00\\xce\\x9e\\xfb\\xde\\x11\\x00\\x00\\x00\\xca;\\xc8\\xa7\\x0f\\x00\\x00\\x00\\x1b\\xed&\\x01\\x14\\x00\\x00\\x00Gk\\xf7l\\x1d\\x00\\x00\\x00\\x97jGq\\x1e\\x00\\x00\\x00\\xda\\xe1\\x87k\\x05\\x00\\x00\\x00l\\xcaL\\x8c\\x1b\\x00\\x00\\x005\\xa0\\xf0<\\x02\\x00\\x00\\x00\\x15\\x81\\x0f<\\t\\x00\\x00\\x00$\\xfc\\xe1\\n\\x11\\x00\\x00\\x005I\\xae\\xd0\\x16\\x00\\x00\\x00\\x86\\x18?&\\x0f\\x00\\x00\\x00@?\\x06m\\x1b\\x00\\x00\\x00\\xc0\\xc2F\\xd9\\x08\\x00\\x00\\x00\\x938\\xcf1\\x1a\\x00\\x00\\x00\\xb8O\\r\\x83\\x02\\x00\\x00\\x00\\xf2c\\x9a\\xc4\\x0f\\x00\\x00\\x00\\xb7\\x8e\\x17\\x92\\x1e\\x00\\x00\\x006\\xf7y\\xff\\x05\\x00\\x00\\x00\\xd6\\xf1/l\\x1d\\x00\\x00\\x00A\\xf1\\x17\\xe3\\x10\\x00\\x00\\x00\\xc3k\\xb0o\\x1f\\x00\\x00\\x00\\t\\x8a\\xfd\\xc3\\x0e\\x00\\x00\\x006b\\x99\\x9b\\n\\x00\\x00\\x00/M\\xc0\\xec\\x1f\\x00\\x00\\x00!\\xef4o\\x1c\\x00\\x00\\x00b: 6\\x1e\\x00\\x00\\x00\\xec\\xa3A\\xb2\\x1b\\x00\\x00\\x00\\x8e:g\\x04\\x01\\x00\\x00\\x00\\xaa\\xf0(\\\\\\x02\\x00\\x00\\x00\\xd2\\xb6\\xa2I\\x13\\x00\\x00\\x00\\xad\\xfe\\xe2\\xd4\\x00\\x00\\x00\\x00\\x85\\xcb\\x99\\xb2\\x12\\x00\\x00\\x00\\x9c\\x05\\xda\\xa1\\t\\x00\\x00\\x00\\x94\\xfda\\xe3\\x00\\x00\\x00\\x00G\\xa1\\xa0\\x1b\\x18\\x00\\x00\\x00\\xe6B\\xb4-\\x0e\\x00\\x00\\x00\\x13\\xa95\\x1b\\x00\\x00\\x00'\n",
      "HEX: 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\n"
     ]
    }
   ],
   "source": [
    "fn_out = \"./enc.dat\"\n",
    "f = open(fn_out, 'rb')\n",
    "bstr = f.read(1000) # first 1000 Bytes\n",
    "\n",
    "print_code(bstr)"
   ]
  },
  {
   "cell_type": "code",
   "execution_count": 131,
   "id": "97ecbea2",
   "metadata": {},
   "outputs": [],
   "source": [
    "def print_code(arr):\n",
    "    #print(arr)\n",
    "    print(\"ASCII:\", arr)\n",
    "    try:\n",
    "        if isinstance(arr, bytearray):\n",
    "            #print(\"ASCII:\", arr.decode(\"ascii\", errors='ignore'))\n",
    "            print(\"HEX:\", arr.hex())\n",
    "        else:\n",
    "            if not isinstance(arr, bytes):\n",
    "                arr = bytes(arr, encoding='utf')\n",
    "            #print(\"ASCII:\", arr.decode(\"ascii\", errors='ignore'))\n",
    "            print(\"HEX:\", arr.hex())\n",
    "    except:\n",
    "        pass"
   ]
  },
  {
   "cell_type": "code",
   "execution_count": 115,
   "id": "ce4cb82c",
   "metadata": {},
   "outputs": [
    {
     "name": "stdout",
     "output_type": "stream",
     "text": [
      "ASCII: 830422\n"
     ]
    },
    {
     "ename": "TypeError",
     "evalue": "encoding without a string argument",
     "output_type": "error",
     "traceback": [
      "\u001b[0;31m---------------------------------------------------------------------------\u001b[0m",
      "\u001b[0;31mTypeError\u001b[0m                                 Traceback (most recent call last)",
      "\u001b[0;32m/tmp/ipykernel_47829/1887796982.py\u001b[0m in \u001b[0;36m<module>\u001b[0;34m\u001b[0m\n\u001b[0;32m----> 1\u001b[0;31m \u001b[0mprint_code\u001b[0m\u001b[0;34m(\u001b[0m\u001b[0msecret\u001b[0m\u001b[0;34m)\u001b[0m\u001b[0;34m\u001b[0m\u001b[0;34m\u001b[0m\u001b[0m\n\u001b[0m",
      "\u001b[0;32m/tmp/ipykernel_47829/1905809912.py\u001b[0m in \u001b[0;36mprint_code\u001b[0;34m(arr)\u001b[0m\n\u001b[1;32m      6\u001b[0m     \u001b[0;32melse\u001b[0m\u001b[0;34m:\u001b[0m\u001b[0;34m\u001b[0m\u001b[0;34m\u001b[0m\u001b[0m\n\u001b[1;32m      7\u001b[0m         \u001b[0;32mif\u001b[0m \u001b[0;32mnot\u001b[0m \u001b[0misinstance\u001b[0m\u001b[0;34m(\u001b[0m\u001b[0marr\u001b[0m\u001b[0;34m,\u001b[0m \u001b[0mbytes\u001b[0m\u001b[0;34m)\u001b[0m\u001b[0;34m:\u001b[0m\u001b[0;34m\u001b[0m\u001b[0;34m\u001b[0m\u001b[0m\n\u001b[0;32m----> 8\u001b[0;31m             \u001b[0marr\u001b[0m \u001b[0;34m=\u001b[0m \u001b[0mbytes\u001b[0m\u001b[0;34m(\u001b[0m\u001b[0marr\u001b[0m\u001b[0;34m,\u001b[0m \u001b[0mencoding\u001b[0m\u001b[0;34m=\u001b[0m\u001b[0;34m'utf'\u001b[0m\u001b[0;34m)\u001b[0m\u001b[0;34m\u001b[0m\u001b[0;34m\u001b[0m\u001b[0m\n\u001b[0m\u001b[1;32m      9\u001b[0m         \u001b[0;31m#print(\"ASCII:\", arr.decode(\"ascii\", errors='ignore'))\u001b[0m\u001b[0;34m\u001b[0m\u001b[0;34m\u001b[0m\u001b[0;34m\u001b[0m\u001b[0m\n\u001b[1;32m     10\u001b[0m         \u001b[0mprint\u001b[0m\u001b[0;34m(\u001b[0m\u001b[0;34m\"HEX:\"\u001b[0m\u001b[0;34m,\u001b[0m \u001b[0marr\u001b[0m\u001b[0;34m.\u001b[0m\u001b[0mhex\u001b[0m\u001b[0;34m(\u001b[0m\u001b[0;34m)\u001b[0m\u001b[0;34m)\u001b[0m\u001b[0;34m\u001b[0m\u001b[0;34m\u001b[0m\u001b[0m\n",
      "\u001b[0;31mTypeError\u001b[0m: encoding without a string argument"
     ]
    }
   ],
   "source": [
    "print_code(secret)"
   ]
  },
  {
   "cell_type": "code",
   "execution_count": 116,
   "id": "3a4ae50c",
   "metadata": {},
   "outputs": [
    {
     "name": "stdout",
     "output_type": "stream",
     "text": [
      "ASCII: b'\\x00\\x00\\x00\\x00\\x00\\x99\\xd6\\x03\\x04\\x18\\x00\\x00\\x00\\x0b\\\\\\x12\\xae\\x1b\\x00\\x00\\x00\\x80\\x8c\\x1d5\\x07\\x00\\x00\\x00\\\\\\xe4GL\\x16\\x00\\x00\\x00\\xf7\\x88\\x8e\\x7f\\x0b\\x00\\x00\\x00\\xfa\\x18\\x87\\xfe\\x06\\x00\\x00\\x00\\x1e\\xfd_-\\x07\\x00\\x00\\x00\\x84\"[\\xd3\\x05\\x00\\x00\\x003\\x98\\x85\\x91\\x1a\\x00\\x00\\x00W\\t\\x0c\\t\\x1d\\x00\\x00\\x00]d\\xcb\\xd4\\x0e\\x00\\x00\\x00U\\xd7:\\x83\\x0f\\x00\\x00'\n",
      "HEX: 000000000099d60304180000000b5c12ae1b000000808c1d35070000005ce4474c16000000f7888e7f0b000000fa1887fe060000001efd5f2d0700000084225bd305000000339885911a00000057090c091d0000005d64cbd40e00000055d73a830f0000\n"
     ]
    }
   ],
   "source": [
    "print_code(bstr)"
   ]
  },
  {
   "cell_type": "code",
   "execution_count": 46,
   "id": "f18df70f",
   "metadata": {},
   "outputs": [
    {
     "name": "stdout",
     "output_type": "stream",
     "text": [
      "8304221185600\n"
     ]
    }
   ],
   "source": [
    "print(bstr)"
   ]
  },
  {
   "cell_type": "code",
   "execution_count": 136,
   "id": "d3a11389",
   "metadata": {},
   "outputs": [],
   "source": [
    "import os"
   ]
  },
  {
   "cell_type": "code",
   "execution_count": 137,
   "id": "ec99beee",
   "metadata": {},
   "outputs": [
    {
     "data": {
      "text/plain": [
       "'/g1/a/001/'"
      ]
     },
     "execution_count": 137,
     "metadata": {},
     "output_type": "execute_result"
    }
   ],
   "source": [
    "os.path.join(\"/home/hoseung/Work/data/BBS\", \"/g1/a/001/\")"
   ]
  },
  {
   "cell_type": "code",
   "execution_count": 123,
   "id": "6840f24d",
   "metadata": {},
   "outputs": [],
   "source": [
    "from fase import seal"
   ]
  },
  {
   "cell_type": "code",
   "execution_count": 124,
   "id": "f3b783a0",
   "metadata": {},
   "outputs": [],
   "source": [
    "parms = seal.EncryptionParameters(seal.scheme_type.ckks)\n",
    "parms.load('./prams.sav')\n",
    "\n",
    "context = seal.SEALContext(parms)"
   ]
  },
  {
   "cell_type": "code",
   "execution_count": 125,
   "id": "a2434172",
   "metadata": {},
   "outputs": [],
   "source": [
    "ctx = seal.Ciphertext()\n",
    "ctx.load(context, fn_out)"
   ]
  },
  {
   "cell_type": "code",
   "execution_count": null,
   "id": "6bc8d9b6",
   "metadata": {},
   "outputs": [],
   "source": [
    "ctc = "
   ]
  },
  {
   "cell_type": "code",
   "execution_count": 35,
   "id": "ac8f63ba",
   "metadata": {},
   "outputs": [
    {
     "data": {
      "text/plain": [
       "'<fase.seal.Ciphertext object at 0x7f6f7b8ab9b0>'"
      ]
     },
     "execution_count": 35,
     "metadata": {},
     "output_type": "execute_result"
    }
   ],
   "source": [
    "ctx.__"
   ]
  },
  {
   "cell_type": "code",
   "execution_count": null,
   "id": "0375eef3",
   "metadata": {},
   "outputs": [],
   "source": [
    "decryptor = seal.Decryptor()"
   ]
  }
 ],
 "metadata": {
  "kernelspec": {
   "display_name": "Python 3 (ipykernel)",
   "language": "python",
   "name": "python3"
  },
  "language_info": {
   "codemirror_mode": {
    "name": "ipython",
    "version": 3
   },
   "file_extension": ".py",
   "mimetype": "text/x-python",
   "name": "python",
   "nbconvert_exporter": "python",
   "pygments_lexer": "ipython3",
   "version": "3.9.0"
  }
 },
 "nbformat": 4,
 "nbformat_minor": 5
}
