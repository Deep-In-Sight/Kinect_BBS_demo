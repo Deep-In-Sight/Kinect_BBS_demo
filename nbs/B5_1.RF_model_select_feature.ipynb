{
 "cells": [
  {
   "cell_type": "markdown",
   "id": "1d6675d8",
   "metadata": {},
   "source": [
    "# 엄선된 feature만 사용해서 돌아가는 RF 모델"
   ]
  },
  {
   "cell_type": "code",
   "execution_count": 1,
   "id": "4f7e7f0d",
   "metadata": {},
   "outputs": [],
   "source": [
    "import numpy as np\n",
    "import sklearn\n",
    "from sklearn.ensemble import RandomForestClassifier\n",
    "from preprocess import merge_main_npy\n",
    "import pickle"
   ]
  },
  {
   "cell_type": "code",
   "execution_count": 2,
   "id": "362b4458",
   "metadata": {},
   "outputs": [],
   "source": [
    "base_dir = \"/home/hoseung/Work/data/BBS/\"\n",
    "\n",
    "action = 13\n",
    "main_list = f\"whoismain/{action}/main_list_{action}.txt\"\n",
    "npy_list = merge_main_npy(base_dir+main_list, prefix=base_dir + \"npy_a/\")"
   ]
  },
  {
   "cell_type": "markdown",
   "id": "c74181f3",
   "metadata": {},
   "source": [
    "# 스켈레톤이 아주 stochastic하기 때문에 5장 중 median으로 smoothing"
   ]
  },
  {
   "cell_type": "code",
   "execution_count": 56,
   "id": "9a50decb",
   "metadata": {},
   "outputs": [],
   "source": [
    "def smoothed_frame_sample(scene, fps = 1, window_size = 5):\n",
    "    \"\"\"일정 시간에 한번씩 ... 영상 길이가 다를 경우에 뒤를 0으로 채워야함 \n",
    "    \"\"\"\n",
    "    FPS_ORIGINAL=10 # 인 것 같음...\n",
    "    \n",
    "    nskip = int(FPS_ORIGINAL/fps)\n",
    "    nframe = np.ceil((len(scene) - window_size)/ nskip).astype(int)\n",
    "\n",
    "    sub = np.zeros(nframe, dtype=scene.dtype) #scene.dtype - frame\n",
    "\n",
    "    for i in range(nframe):\n",
    "        temp = scene[i*nskip:i*nskip+window_size]\n",
    "\n",
    "        for feat in temp.dtype.names: # recarry라서 한 번에 np.mean 불가능\n",
    "            sub[i][feat] = np.median(temp[feat])\n",
    "\n",
    "    return sub\n",
    "\n",
    "\n",
    "def smoothed_frame_N(scene, nframe = 10, window_size = 5, shift=0):\n",
    "    FPS_ORIGINAL=10 # 인 것 같음...\n",
    "    \n",
    "    nskip = int((len(scene)-shift) / nframe)\n",
    "    #nframe = np.ceil((len(scene) - window_size)/ nskip).astype(int)\n",
    "\n",
    "    sub = np.zeros(nframe, dtype=scene.dtype) #scene.dtype - frame\n",
    "\n",
    "    for i in range(nframe):\n",
    "        temp = scene[i*nskip+shift:i*nskip+window_size+shift]\n",
    "\n",
    "        for feat in temp.dtype.names: # recarry라서 한 번에 np.mean 불가능\n",
    "            sub[i][feat] = np.median(temp[feat])\n",
    "\n",
    "    return sub\n",
    "\n",
    "\n",
    "def ravel_rec(sub, return_feature=False, fields_to_remove=[]):\n",
    "    \"\"\"remove pre-defined joints and flatten the remaing skeletons. \n",
    "    \"\"\"\n",
    "    #print(\"a\", fields_to_remove)\n",
    "    #print(\"b\", np.unique(['frame'] + fields_to_remove))\n",
    "    fields_to_remove = list(np.unique(['frame'] + fields_to_remove))\n",
    "    #print(\"c\", fields_to_remove)\n",
    "    \n",
    "    vec=[]\n",
    "    if return_feature:\n",
    "        features=[]\n",
    "        for i, line in enumerate(sub):\n",
    "            this_line=[]\n",
    "            for ff in line.dtype.names:\n",
    "                ff_frame = ff+f\"_{line['frame']}\"\n",
    "                print(ff)\n",
    "                print(fields_to_remove)\n",
    "                if ff not in fields_to_remove and ff_frame not in fields_to_remove:\n",
    "                    this_line.append(line[ff])\n",
    "                    features.append(ff_frame)\n",
    "                    print(\"len(this_line)\", len(this_line))\n",
    "            vec.extend(this_line)\n",
    "                    \n",
    "        return features, np.array(vec)\n",
    "    else:\n",
    "        for line in sub:\n",
    "            this_line=[]\n",
    "            for ff in line.dtype.names:\n",
    "                ff_frame = ff+f\"_{line['frame']}\"\n",
    "                if ff not in fields_to_remove and ff_frame not in fields_to_remove:\n",
    "                    this_line.append(line[ff])\n",
    "            vec.extend(this_line)\n",
    "            #vec.extend([line[ff] for ff in line.dtype.names if ff not in fields_to_remove])\n",
    "\n",
    "    #print(\"LAST\", fields_to_remove)\n",
    "    return np.array(vec)"
   ]
  },
  {
   "cell_type": "code",
   "execution_count": 68,
   "id": "76f51ef3",
   "metadata": {},
   "outputs": [],
   "source": [
    "def has_match(longer_string, ss_list):\n",
    "    \"\"\"Check if a string in a list of strings is a part of the given string\n",
    "    \n",
    "    example\n",
    "    -------\n",
    "    has_match('ab', ['abnormal', 'cdbg']) \n",
    "    > True\n",
    "    \"\"\"\n",
    "    return bool(sum([target in ss for target in ss_list]))"
   ]
  },
  {
   "cell_type": "code",
   "execution_count": 60,
   "id": "396a8cce",
   "metadata": {},
   "outputs": [
    {
     "data": {
      "text/plain": [
       "0"
      ]
     },
     "execution_count": 60,
     "metadata": {},
     "output_type": "execute_result"
    }
   ],
   "source": [
    "ss_list = ['abnormal', 'cdbg']\n",
    "ss = 'ab'\n",
    "sum([(target in ss for target in ss_list])"
   ]
  },
  {
   "cell_type": "code",
   "execution_count": 66,
   "id": "79f05517",
   "metadata": {},
   "outputs": [
    {
     "data": {
      "text/plain": [
       "1"
      ]
     },
     "execution_count": 66,
     "metadata": {},
     "output_type": "execute_result"
    }
   ],
   "source": [
    "sum(tf)"
   ]
  },
  {
   "cell_type": "code",
   "execution_count": 67,
   "id": "5f3c949f",
   "metadata": {},
   "outputs": [
    {
     "data": {
      "text/plain": [
       "True"
      ]
     },
     "execution_count": 67,
     "metadata": {},
     "output_type": "execute_result"
    }
   ],
   "source": [
    "has_match('abnormal', ['ab', 'cdbg']) "
   ]
  },
  {
   "cell_type": "code",
   "execution_count": 57,
   "id": "ff9a3a51",
   "metadata": {},
   "outputs": [
    {
     "name": "stdout",
     "output_type": "stream",
     "text": [
      "frame\n",
      "['frame', 'lhand', 'lshoulder', 'lwrist']\n",
      "xl_hand\n",
      "['frame', 'lhand', 'lshoulder', 'lwrist']\n",
      "len(this_line) 1\n",
      "yl_hand\n",
      "['frame', 'lhand', 'lshoulder', 'lwrist']\n",
      "len(this_line) 2\n",
      "xl_elbow\n",
      "['frame', 'lhand', 'lshoulder', 'lwrist']\n",
      "len(this_line) 3\n",
      "yl_elbow\n",
      "['frame', 'lhand', 'lshoulder', 'lwrist']\n",
      "len(this_line) 4\n",
      "xl_shoulder\n",
      "['frame', 'lhand', 'lshoulder', 'lwrist']\n",
      "len(this_line) 5\n",
      "yl_shoulder\n",
      "['frame', 'lhand', 'lshoulder', 'lwrist']\n",
      "len(this_line) 6\n",
      "xr_shoulder\n",
      "['frame', 'lhand', 'lshoulder', 'lwrist']\n",
      "len(this_line) 7\n",
      "yr_shoulder\n",
      "['frame', 'lhand', 'lshoulder', 'lwrist']\n",
      "len(this_line) 8\n",
      "xr_elbow\n",
      "['frame', 'lhand', 'lshoulder', 'lwrist']\n",
      "len(this_line) 9\n",
      "yr_elbow\n",
      "['frame', 'lhand', 'lshoulder', 'lwrist']\n",
      "len(this_line) 10\n",
      "xr_hand\n",
      "['frame', 'lhand', 'lshoulder', 'lwrist']\n",
      "len(this_line) 11\n",
      "yr_hand\n",
      "['frame', 'lhand', 'lshoulder', 'lwrist']\n",
      "len(this_line) 12\n",
      "xhead\n",
      "['frame', 'lhand', 'lshoulder', 'lwrist']\n",
      "len(this_line) 13\n",
      "yhead\n",
      "['frame', 'lhand', 'lshoulder', 'lwrist']\n",
      "len(this_line) 14\n",
      "xneck\n",
      "['frame', 'lhand', 'lshoulder', 'lwrist']\n",
      "len(this_line) 15\n",
      "yneck\n",
      "['frame', 'lhand', 'lshoulder', 'lwrist']\n",
      "len(this_line) 16\n",
      "xpelvis\n",
      "['frame', 'lhand', 'lshoulder', 'lwrist']\n",
      "len(this_line) 17\n",
      "ypelvis\n",
      "['frame', 'lhand', 'lshoulder', 'lwrist']\n",
      "len(this_line) 18\n",
      "xl_foot\n",
      "['frame', 'lhand', 'lshoulder', 'lwrist']\n",
      "len(this_line) 19\n",
      "yl_foot\n",
      "['frame', 'lhand', 'lshoulder', 'lwrist']\n",
      "len(this_line) 20\n",
      "xl_knee\n",
      "['frame', 'lhand', 'lshoulder', 'lwrist']\n",
      "len(this_line) 21\n",
      "yl_knee\n",
      "['frame', 'lhand', 'lshoulder', 'lwrist']\n",
      "len(this_line) 22\n",
      "xl_hip\n",
      "['frame', 'lhand', 'lshoulder', 'lwrist']\n",
      "len(this_line) 23\n",
      "yl_hip\n",
      "['frame', 'lhand', 'lshoulder', 'lwrist']\n",
      "len(this_line) 24\n",
      "xr_hip\n",
      "['frame', 'lhand', 'lshoulder', 'lwrist']\n",
      "len(this_line) 25\n",
      "yr_hip\n",
      "['frame', 'lhand', 'lshoulder', 'lwrist']\n",
      "len(this_line) 26\n",
      "xr_knee\n",
      "['frame', 'lhand', 'lshoulder', 'lwrist']\n",
      "len(this_line) 27\n",
      "yr_knee\n",
      "['frame', 'lhand', 'lshoulder', 'lwrist']\n",
      "len(this_line) 28\n",
      "xr_foot\n",
      "['frame', 'lhand', 'lshoulder', 'lwrist']\n",
      "len(this_line) 29\n",
      "yr_foot\n",
      "['frame', 'lhand', 'lshoulder', 'lwrist']\n",
      "len(this_line) 30\n",
      "frame\n",
      "['frame', 'lhand', 'lshoulder', 'lwrist']\n",
      "xl_hand\n",
      "['frame', 'lhand', 'lshoulder', 'lwrist']\n",
      "len(this_line) 1\n",
      "yl_hand\n",
      "['frame', 'lhand', 'lshoulder', 'lwrist']\n",
      "len(this_line) 2\n",
      "xl_elbow\n",
      "['frame', 'lhand', 'lshoulder', 'lwrist']\n",
      "len(this_line) 3\n",
      "yl_elbow\n",
      "['frame', 'lhand', 'lshoulder', 'lwrist']\n",
      "len(this_line) 4\n",
      "xl_shoulder\n",
      "['frame', 'lhand', 'lshoulder', 'lwrist']\n",
      "len(this_line) 5\n",
      "yl_shoulder\n",
      "['frame', 'lhand', 'lshoulder', 'lwrist']\n",
      "len(this_line) 6\n",
      "xr_shoulder\n",
      "['frame', 'lhand', 'lshoulder', 'lwrist']\n",
      "len(this_line) 7\n",
      "yr_shoulder\n",
      "['frame', 'lhand', 'lshoulder', 'lwrist']\n",
      "len(this_line) 8\n",
      "xr_elbow\n",
      "['frame', 'lhand', 'lshoulder', 'lwrist']\n",
      "len(this_line) 9\n",
      "yr_elbow\n",
      "['frame', 'lhand', 'lshoulder', 'lwrist']\n",
      "len(this_line) 10\n",
      "xr_hand\n",
      "['frame', 'lhand', 'lshoulder', 'lwrist']\n",
      "len(this_line) 11\n",
      "yr_hand\n",
      "['frame', 'lhand', 'lshoulder', 'lwrist']\n",
      "len(this_line) 12\n",
      "xhead\n",
      "['frame', 'lhand', 'lshoulder', 'lwrist']\n",
      "len(this_line) 13\n",
      "yhead\n",
      "['frame', 'lhand', 'lshoulder', 'lwrist']\n",
      "len(this_line) 14\n",
      "xneck\n",
      "['frame', 'lhand', 'lshoulder', 'lwrist']\n",
      "len(this_line) 15\n",
      "yneck\n",
      "['frame', 'lhand', 'lshoulder', 'lwrist']\n",
      "len(this_line) 16\n",
      "xpelvis\n",
      "['frame', 'lhand', 'lshoulder', 'lwrist']\n",
      "len(this_line) 17\n",
      "ypelvis\n",
      "['frame', 'lhand', 'lshoulder', 'lwrist']\n",
      "len(this_line) 18\n",
      "xl_foot\n",
      "['frame', 'lhand', 'lshoulder', 'lwrist']\n",
      "len(this_line) 19\n",
      "yl_foot\n",
      "['frame', 'lhand', 'lshoulder', 'lwrist']\n",
      "len(this_line) 20\n",
      "xl_knee\n",
      "['frame', 'lhand', 'lshoulder', 'lwrist']\n",
      "len(this_line) 21\n",
      "yl_knee\n",
      "['frame', 'lhand', 'lshoulder', 'lwrist']\n",
      "len(this_line) 22\n",
      "xl_hip\n",
      "['frame', 'lhand', 'lshoulder', 'lwrist']\n",
      "len(this_line) 23\n",
      "yl_hip\n",
      "['frame', 'lhand', 'lshoulder', 'lwrist']\n",
      "len(this_line) 24\n",
      "xr_hip\n",
      "['frame', 'lhand', 'lshoulder', 'lwrist']\n",
      "len(this_line) 25\n",
      "yr_hip\n",
      "['frame', 'lhand', 'lshoulder', 'lwrist']\n",
      "len(this_line) 26\n",
      "xr_knee\n",
      "['frame', 'lhand', 'lshoulder', 'lwrist']\n",
      "len(this_line) 27\n",
      "yr_knee\n",
      "['frame', 'lhand', 'lshoulder', 'lwrist']\n",
      "len(this_line) 28\n",
      "xr_foot\n",
      "['frame', 'lhand', 'lshoulder', 'lwrist']\n",
      "len(this_line) 29\n",
      "yr_foot\n",
      "['frame', 'lhand', 'lshoulder', 'lwrist']\n",
      "len(this_line) 30\n",
      "Main person was guessed, but not actually detected...  /home/hoseung/Work/data/BBS/npy_a/13/4/001/a_001_13_4_0.npy\n"
     ]
    }
   ],
   "source": [
    "# 13번, \n",
    "fields_to_remove =[\"lhand\", 'lwrist', 'lshoulder'] \n",
    "\n",
    "scene = np.load(npy_list[0]['npy'])\n",
    "nframe = 2\n",
    "frame_skip = 2\n",
    "data = []\n",
    "label=[]\n",
    "feature=[]\n",
    "\n",
    "feature_ready=False\n",
    "for i, fn_npy in enumerate(npy_list[:1]):\n",
    "    \n",
    "    if fn_npy['main'] in [0,1]:\n",
    "        \n",
    "        #try:\n",
    "        if True:\n",
    "            scene = np.load(fn_npy['npy'])\n",
    "            for j in range(frame_skip):\n",
    "                sub = smoothed_frame_N(scene, nframe=nframe, shift=j)\n",
    "            \n",
    "                # feature 기록\n",
    "                if i == j == 0:\n",
    "                    feature, rav_sub = ravel_rec(sub, \n",
    "                                                 return_feature=True,\n",
    "                                                 fields_to_remove=fields_to_remove)\n",
    "                    #print(fields_to_remove)\n",
    "                else:\n",
    "                    rav_sub = ravel_rec(sub, fields_to_remove=fields_to_remove)\n",
    "                data.append(rav_sub)\n",
    "                label.append(fn_npy['score'])\n",
    "                #print(\"?\",fields_to_remove)\n",
    "        #except:\n",
    "            print(\"Main person was guessed, but not actually detected... \", fn_npy['npy'])\n"
   ]
  },
  {
   "cell_type": "code",
   "execution_count": 49,
   "id": "0b8c7bcd",
   "metadata": {},
   "outputs": [
    {
     "data": {
      "text/plain": [
       "dtype('float64')"
      ]
     },
     "execution_count": 49,
     "metadata": {},
     "output_type": "execute_result"
    }
   ],
   "source": [
    "data[0].dtype"
   ]
  },
  {
   "cell_type": "code",
   "execution_count": 50,
   "id": "c7fc57f4",
   "metadata": {},
   "outputs": [
    {
     "data": {
      "text/plain": [
       "(180,)"
      ]
     },
     "execution_count": 50,
     "metadata": {},
     "output_type": "execute_result"
    }
   ],
   "source": [
    "data[0].shape"
   ]
  },
  {
   "cell_type": "code",
   "execution_count": 72,
   "id": "c756d13d",
   "metadata": {},
   "outputs": [
    {
     "data": {
      "text/plain": [
       "['frame',\n",
       " 'xl_hand',\n",
       " 'yl_hand',\n",
       " 'xl_elbow',\n",
       " 'yl_elbow',\n",
       " 'xl_shoulder',\n",
       " 'yl_shoulder',\n",
       " 'xr_shoulder',\n",
       " 'yr_shoulder',\n",
       " 'xr_elbow',\n",
       " 'yr_elbow',\n",
       " 'xr_hand',\n",
       " 'yr_hand',\n",
       " 'xhead',\n",
       " 'yhead',\n",
       " 'xneck',\n",
       " 'yneck',\n",
       " 'xpelvis',\n",
       " 'ypelvis',\n",
       " 'xl_foot',\n",
       " 'yl_foot',\n",
       " 'xl_knee',\n",
       " 'yl_knee',\n",
       " 'xl_hip',\n",
       " 'yl_hip',\n",
       " 'xr_hip',\n",
       " 'yr_hip',\n",
       " 'xr_knee',\n",
       " 'yr_knee',\n",
       " 'xr_foot',\n",
       " 'yr_foot']"
      ]
     },
     "execution_count": 72,
     "metadata": {},
     "output_type": "execute_result"
    }
   ],
   "source": [
    "get_feature_every_frame(scene, to_remove=['hand', 'knee', 'nose'])"
   ]
  },
  {
   "cell_type": "code",
   "execution_count": 73,
   "id": "e8e51ccc",
   "metadata": {},
   "outputs": [
    {
     "data": {
      "text/plain": [
       "False"
      ]
     },
     "execution_count": 73,
     "metadata": {},
     "output_type": "execute_result"
    }
   ],
   "source": [
    "has_match(\"xl_hand\", ['hand', 'knee', 'nose'])"
   ]
  },
  {
   "cell_type": "code",
   "execution_count": 71,
   "id": "5a9fac44",
   "metadata": {},
   "outputs": [],
   "source": [
    "def get_feature_every_frame(arr, to_remove=[\"\"]):\n",
    "    \"\"\"make list of field names to keep.\n",
    "    \n",
    "    example\n",
    "    -------\n",
    "    if to_remove = ['hand'], all fields containing 'hand' are removed\n",
    "    \"\"\"\n",
    "    to_keep = []\n",
    "    for name in arr.dtype.names:\n",
    "        #for target in to_remove:\n",
    "        #if sum([target in name for target in to_remove]) == 0:\n",
    "        if not has_match(name, to_remove):\n",
    "            to_keep.append(name)\n",
    "\n",
    "    return to_keep\n",
    "\n",
    "\n",
    "def remove_fields(arr, fields_to_remove):\n",
    "    names_to_keep = [name for name in arr.dtype.names if name not in fields_to_remove]\n",
    "    return arr[names_to_keep]"
   ]
  },
  {
   "cell_type": "code",
   "execution_count": null,
   "id": "b6ef7396",
   "metadata": {},
   "outputs": [],
   "source": []
  },
  {
   "cell_type": "code",
   "execution_count": 105,
   "id": "ead93097",
   "metadata": {},
   "outputs": [
    {
     "name": "stdout",
     "output_type": "stream",
     "text": [
      "(8180, 180)\n"
     ]
    }
   ],
   "source": [
    "data = np.stack(data)\n",
    "label = np.array(label)\n",
    "print(data.shape)"
   ]
  },
  {
   "cell_type": "code",
   "execution_count": 106,
   "id": "b5516eb8",
   "metadata": {},
   "outputs": [],
   "source": [
    "from sklearn import preprocessing\n",
    "\n",
    "sc = preprocessing.MinMaxScaler(feature_range=[0,1])\n",
    "\n",
    "data = sc.fit_transform(data)"
   ]
  },
  {
   "cell_type": "code",
   "execution_count": 107,
   "id": "cfb81f73",
   "metadata": {},
   "outputs": [],
   "source": [
    "X_train, X_test, Y_train, Y_test = sklearn.model_selection.train_test_split(data, \n",
    "                                                                            label, \n",
    "                                                                            test_size=0.7,\n",
    "                                                                            stratify=label)"
   ]
  },
  {
   "cell_type": "code",
   "execution_count": 120,
   "id": "d16c9189",
   "metadata": {},
   "outputs": [
    {
     "name": "stdout",
     "output_type": "stream",
     "text": [
      "정확도 :0.901\n"
     ]
    }
   ],
   "source": [
    "small = True\n",
    "\n",
    "if small:\n",
    "    ntree = 20\n",
    "    max_depth = 6\n",
    "    fn_model_out = \"./trained_model13_s.pickle\"\n",
    "    fn_data_out = \"BBS_dataset_s.pickle\"\n",
    "else:\n",
    "    ntree = 100\n",
    "    max_depth = 7\n",
    "    fn_model_out = \"./trained_model13.pickle\"\n",
    "    fn_data_out = \"BBS_dataset.pickle\"\n",
    "\n",
    "    \n",
    "if True:\n",
    "    pickle.dump({'train_x':X_train,\n",
    "                 'train_y':Y_train,\n",
    "                 'valid_x':X_test,\n",
    "                 'valid_y':Y_test,\n",
    "                 'label' : label}, open(fn_data_out, \"wb\"))\n",
    "else:\n",
    "    dataset = pickle.load(open(\"BBS_dataset.pickle\", \"rb\"))\n",
    "    X_train = dataset['train_x']\n",
    "    Y_train = dataset['train_y']\n",
    "    X_test = dataset['valid_x']\n",
    "    Y_test = dataset['valid_y']\n",
    "    \n",
    "    \n",
    "model = RandomForestClassifier(n_estimators=ntree, max_depth=max_depth)\n",
    "\n",
    "model.fit(X_train, Y_train)\n",
    "\n",
    "from sklearn.metrics import accuracy_score\n",
    "pred = model.predict(X_test)\n",
    "print(\"정확도 :{0:.3f}\".format(accuracy_score(Y_test, pred)))\n",
    "\n",
    "pickle.dump(model, open(fn_model_out, \"wb\"))"
   ]
  },
  {
   "cell_type": "code",
   "execution_count": null,
   "id": "38235764",
   "metadata": {},
   "outputs": [],
   "source": []
  },
  {
   "cell_type": "code",
   "execution_count": null,
   "id": "5d4ded29",
   "metadata": {},
   "outputs": [],
   "source": []
  },
  {
   "cell_type": "code",
   "execution_count": 15,
   "id": "aaf7bd1d",
   "metadata": {},
   "outputs": [],
   "source": [
    "trees = model.estimators_\n",
    "\n",
    "dt = trees[0]"
   ]
  },
  {
   "cell_type": "markdown",
   "id": "1eff6f88",
   "metadata": {},
   "source": [
    "# Feature trackback"
   ]
  },
  {
   "cell_type": "code",
   "execution_count": 17,
   "id": "981d47e8",
   "metadata": {},
   "outputs": [],
   "source": [
    "farr = dt.tree_.feature[dt.tree_.feature > 0]"
   ]
  },
  {
   "cell_type": "code",
   "execution_count": 20,
   "id": "aef23878",
   "metadata": {},
   "outputs": [],
   "source": [
    "features = [ff+f\"_{i}\" for i in range(nframe) for ff in sub.dtype.names if ff not in \"frame\" ]\n",
    "features = np.array(features)"
   ]
  },
  {
   "cell_type": "code",
   "execution_count": 21,
   "id": "7f62c7df",
   "metadata": {},
   "outputs": [
    {
     "data": {
      "text/plain": [
       "array(['yhead_3', 'xr_elbow_9', 'xr_elbow_2', 'yr_foot_3',\n",
       "       'yl_shoulder_4', 'xneck_7', 'xl_shoulder_0', 'xr_shoulder_1',\n",
       "       'xr_shoulder_4', 'yl_elbow_6', 'yl_foot_1', 'xr_foot_3',\n",
       "       'yr_shoulder_9', 'xl_hip_6', 'xhead_5', 'xl_hip_0', 'yl_foot_6',\n",
       "       'xr_elbow_6', 'ypelvis_7', 'xl_elbow_1', 'yr_foot_7', 'xl_foot_9',\n",
       "       'xl_foot_2', 'xhead_2', 'xr_foot_4', 'yr_elbow_4', 'xr_knee_4',\n",
       "       'xr_knee_5', 'yhead_6', 'xl_hand_6', 'xl_hip_2', 'yr_hand_3',\n",
       "       'xneck_0', 'xl_shoulder_4', 'yr_elbow_7', 'yl_foot_0',\n",
       "       'xr_shoulder_3', 'xl_foot_5', 'xr_hand_2', 'yl_elbow_5',\n",
       "       'yr_elbow_2', 'xr_foot_2', 'yl_knee_3', 'xl_elbow_4', 'xpelvis_0',\n",
       "       'yr_elbow_3', 'yl_foot_1', 'yl_knee_9', 'yhead_0', 'yr_hand_9',\n",
       "       'yl_knee_5', 'xl_shoulder_6', 'yl_shoulder_6', 'xl_foot_1',\n",
       "       'yl_elbow_2', 'yhead_0', 'xr_elbow_6'], dtype='<U13')"
      ]
     },
     "execution_count": 21,
     "metadata": {},
     "output_type": "execute_result"
    }
   ],
   "source": [
    "features[farr]"
   ]
  },
  {
   "cell_type": "code",
   "execution_count": null,
   "id": "b3e6eb6a",
   "metadata": {},
   "outputs": [],
   "source": []
  },
  {
   "cell_type": "code",
   "execution_count": null,
   "id": "c5ab7efe",
   "metadata": {},
   "outputs": [],
   "source": []
  },
  {
   "cell_type": "markdown",
   "id": "d50f0422",
   "metadata": {},
   "source": [
    "# Ablation test"
   ]
  },
  {
   "cell_type": "code",
   "execution_count": null,
   "id": "2f5619f3",
   "metadata": {},
   "outputs": [],
   "source": []
  },
  {
   "cell_type": "code",
   "execution_count": null,
   "id": "fd3e8919",
   "metadata": {},
   "outputs": [],
   "source": []
  },
  {
   "cell_type": "code",
   "execution_count": null,
   "id": "62a65e1e",
   "metadata": {},
   "outputs": [],
   "source": []
  },
  {
   "cell_type": "code",
   "execution_count": null,
   "id": "098b8b4a",
   "metadata": {},
   "outputs": [],
   "source": []
  },
  {
   "cell_type": "markdown",
   "id": "bf28988a",
   "metadata": {},
   "source": [
    "# Test with new data"
   ]
  },
  {
   "cell_type": "code",
   "execution_count": 208,
   "id": "d5674ebb",
   "metadata": {},
   "outputs": [],
   "source": [
    "import kinect_utils as ku\n",
    "\n",
    "import pickle\n",
    "point_pickle = \"/home/hoseung/Work/Kinect/pykinect_BBS/G1/000/BT/bodytracking_data.pickle\"\n",
    "klist = pickle.load(open(point_pickle, \"rb\"))\n",
    "\n",
    "scene = ku.kinect2mobile_direct(klist)\n",
    "\n",
    "nframe = 10 \n",
    "shift=0\n",
    "sub = smoothed_frame_N(scene, nframe=nframe, shift=j)\n",
    "rav_sub = ravel_rec(sub)[np.newaxis, :]\n",
    "pickle.dump(rav_sub, open(\"rav_example.pickle\", \"wb\"))"
   ]
  },
  {
   "cell_type": "code",
   "execution_count": 206,
   "id": "487921bf",
   "metadata": {},
   "outputs": [
    {
     "data": {
      "text/plain": [
       "'/home/hoseung/Work/fhenrf/pose'"
      ]
     },
     "execution_count": 206,
     "metadata": {},
     "output_type": "execute_result"
    }
   ],
   "source": [
    "pwd"
   ]
  },
  {
   "cell_type": "code",
   "execution_count": 193,
   "id": "95b6deac",
   "metadata": {},
   "outputs": [
    {
     "data": {
      "text/plain": [
       "array([2])"
      ]
     },
     "execution_count": 193,
     "metadata": {},
     "output_type": "execute_result"
    }
   ],
   "source": [
    "model.predict(rav_sub[np.newaxis,:])"
   ]
  },
  {
   "cell_type": "code",
   "execution_count": null,
   "id": "7ada3de1",
   "metadata": {},
   "outputs": [],
   "source": []
  }
 ],
 "metadata": {
  "kernelspec": {
   "display_name": "Python 3 (ipykernel)",
   "language": "python",
   "name": "python3"
  },
  "language_info": {
   "codemirror_mode": {
    "name": "ipython",
    "version": 3
   },
   "file_extension": ".py",
   "mimetype": "text/x-python",
   "name": "python",
   "nbconvert_exporter": "python",
   "pygments_lexer": "ipython3",
   "version": "3.9.0"
  }
 },
 "nbformat": 4,
 "nbformat_minor": 5
}
