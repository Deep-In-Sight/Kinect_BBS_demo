{
 "cells": [
  {
   "cell_type": "markdown",
   "id": "9d99838c",
   "metadata": {},
   "source": [
    "QT application에서 list of list of list를 바로 받아서 RF input으로 변환 (B5.build_data_set의 scene)"
   ]
  },
  {
   "cell_type": "code",
   "execution_count": 1,
   "id": "41db0594",
   "metadata": {},
   "outputs": [],
   "source": [
    "import numpy as np"
   ]
  },
  {
   "cell_type": "code",
   "execution_count": 2,
   "id": "929685ea",
   "metadata": {},
   "outputs": [],
   "source": [
    "ORG_KNT_TYPEs = [\"PELVIS\", \"SPINE_NAVAL\", \"SPINE_CHEST\", \"NECK\", \"CLAVICLE_LEFT\", \"SHOULDER_LEFT\", \"ELBOW_LEFT\",\n",
    "                    \"WRIST_LEFT\", \"HAND_LEFT\", \"HANDTIP_LEFT\", \"THUMB_LEFT\", \"CLAVICLE_RIGHT\", \"SHOULDER_RIGHT\", \"ELBOW_RIGHT\",\n",
    "                    \"WRIST_RIGHT\", \"HAND_RIFHT\", \"HANDTIP_RIGHT\", \"THUMB_LEFT\", \"HIP_LEFT\", \"KNEE_LEFT\", \"ANKLE_LEFT\", \"ROOT_LEFT\",\n",
    "                    \"HIP_RIGHT\", \"KNEE_RIGHT\", \"ANKLE_RIGHT\", \"FOOT_RIGHT\", \"HEAD\", \"NOSE\", \"EYE_LEFT\", \"EAR_LEFT\",\"EYE_RIGHT\", \"EAR_RIGHT\"]\n",
    "\n",
    "K2M = {\"SHOULDER_LEFT\":\"l_shoulder\",\n",
    "       \"SHOULDER_RIGHT\":\"r_shoulder\",\n",
    "       \"ELBOW_LEFT\":\"l_elbow\", \n",
    "       \"ELBOW_RIGHT\":\"r_elbow\", \n",
    "       \"WRIST_LEFT\":\"l_hand\", \n",
    "       \"WRIST_RIGHT\":\"r_hand\",\n",
    "       \"HIP_LEFT\":\"l_hip\", \n",
    "       \"HIP_RIGHT\":\"r_hip\", \n",
    "       \"KNEE_LEFT\":\"l_knee\", \n",
    "       \"KNEE_RIGHT\":\"r_knee\",\n",
    "       \"ANKLE_LEFT\":\"l_foot\", \n",
    "       \"ANKLE_RIGHT\":\"r_foot\"}\n",
    "\n"
   ]
  },
  {
   "cell_type": "code",
   "execution_count": 3,
   "id": "9c55bfee",
   "metadata": {},
   "outputs": [],
   "source": [
    "def get_a_skel(tdict, this_person):\n",
    "    for this_joint in this_person:\n",
    "        tdict[\"x\"+this_joint[0]] = this_joint[1]\n",
    "        tdict[\"y\"+this_joint[0]] = this_joint[2]\n",
    "        \n",
    "import BBS_pp_utils as bbpp\n",
    "def kinect2mobile_direct(klist):\n",
    "    \"\"\"fills mobile_skeleton array with KINECT_BBS skeleton \n",
    "       directly from kinect application\n",
    "       \n",
    "       Kinect application passes \n",
    "       per-frame list \n",
    "           of per-person list \n",
    "               of per-skeleton list\n",
    "       \n",
    "       KINECT_BBS names are different from \n",
    "    \"\"\"\n",
    "    \n",
    "    K2M = {\"SHOULDER_LEFT\":\"l_shoulder\",\n",
    "           \"SHOULDER_RIGHT\":\"r_shoulder\",\n",
    "           \"ELBOW_LEFT\":\"l_elbow\", \n",
    "           \"ELBOW_RIGHT\":\"r_elbow\", \n",
    "           \"WRIST_LEFT\":\"l_hand\", \n",
    "           \"WRIST_RIGHT\":\"r_hand\",\n",
    "           \"HIP_LEFT\":\"l_hip\", \n",
    "           \"HIP_RIGHT\":\"r_hip\", \n",
    "           \"KNEE_LEFT\":\"l_knee\", \n",
    "           \"KNEE_RIGHT\":\"r_knee\",\n",
    "           \"ANKLE_LEFT\":\"l_foot\", \n",
    "           \"ANKLE_RIGHT\":\"r_foot\",\n",
    "           \"NOSE\":\"head\"} # Assume Kinect nose == common head\n",
    "\n",
    "    mdtype = bbpp.get_dtypes(skeleton=\"COMMON\")\n",
    "    marr = np.zeros(len(klist), dtype=mdtype)\n",
    "    \n",
    "    # Initialize temporary dict\n",
    "    tdict = dict([(prx+name, 0) for name in ORG_KNT_TYPEs for prx in [\"x\", \"y\"]])\n",
    "\n",
    "    for iframe, this_frame in enumerate(klist):\n",
    "        for this_person in this_frame:\n",
    "            get_a_skel(tdict, this_person)\n",
    "            \n",
    "            # Assume neck is the mid point of shoulders\n",
    "            marr[iframe]['xneck'] = (tdict['xSHOULDER_LEFT'] + tdict['xSHOULDER_RIGHT'])/2\n",
    "            marr[iframe]['yneck'] = (tdict['ySHOULDER_LEFT'] + tdict['ySHOULDER_RIGHT'])/2\n",
    "\n",
    "            marr[iframe]['xpelvis'] = (tdict['xHIP_LEFT'] + tdict['xHIP_RIGHT'])/2\n",
    "            marr[iframe]['ypelvis'] = (tdict['yHIP_LEFT'] + tdict['yHIP_RIGHT'])/2\n",
    "\n",
    "            for common_field in K2M:\n",
    "                for prefix in ['x','y']:\n",
    "                    marr[prefix+K2M[common_field]] = tdict[prefix+common_field]\n",
    "\n",
    "        marr[iframe]['frame'] = iframe +1\n",
    "    \n",
    "    return marr"
   ]
  },
  {
   "cell_type": "code",
   "execution_count": 4,
   "id": "4239e1b6",
   "metadata": {},
   "outputs": [],
   "source": [
    "import pickle\n",
    "point_pickle = \"/home/hoseung/Work/Kinect/pykinect_BBS/G1/000/BT/bodytracking_data.pickle\"\n",
    "klist = pickle.load(open(point_pickle, \"rb\"))\n",
    "\n",
    "scene = kinect2mobile_direct(klist)\n"
   ]
  },
  {
   "cell_type": "code",
   "execution_count": 133,
   "id": "881427f4",
   "metadata": {},
   "outputs": [
    {
     "ename": "NameError",
     "evalue": "name 'smoothed_frame_N' is not defined",
     "output_type": "error",
     "traceback": [
      "\u001b[0;31m---------------------------------------------------------------------------\u001b[0m",
      "\u001b[0;31mNameError\u001b[0m                                 Traceback (most recent call last)",
      "\u001b[0;32m/tmp/ipykernel_239302/1723390790.py\u001b[0m in \u001b[0;36m<module>\u001b[0;34m\u001b[0m\n\u001b[1;32m      1\u001b[0m \u001b[0mnframe\u001b[0m \u001b[0;34m=\u001b[0m \u001b[0;36m10\u001b[0m\u001b[0;34m\u001b[0m\u001b[0;34m\u001b[0m\u001b[0m\n\u001b[1;32m      2\u001b[0m \u001b[0mshift\u001b[0m\u001b[0;34m=\u001b[0m\u001b[0;36m0\u001b[0m\u001b[0;34m\u001b[0m\u001b[0;34m\u001b[0m\u001b[0m\n\u001b[0;32m----> 3\u001b[0;31m \u001b[0msub\u001b[0m \u001b[0;34m=\u001b[0m \u001b[0msmoothed_frame_N\u001b[0m\u001b[0;34m(\u001b[0m\u001b[0mscene\u001b[0m\u001b[0;34m,\u001b[0m \u001b[0mnframe\u001b[0m\u001b[0;34m=\u001b[0m\u001b[0mnframe\u001b[0m\u001b[0;34m,\u001b[0m \u001b[0mshift\u001b[0m\u001b[0;34m=\u001b[0m\u001b[0mj\u001b[0m\u001b[0;34m)\u001b[0m\u001b[0;34m\u001b[0m\u001b[0;34m\u001b[0m\u001b[0m\n\u001b[0m",
      "\u001b[0;31mNameError\u001b[0m: name 'smoothed_frame_N' is not defined"
     ]
    }
   ],
   "source": [
    "nframe = 10 \n",
    "shift=0\n",
    "sub = smoothed_frame_N(scene, nframe=nframe, shift=j)"
   ]
  },
  {
   "cell_type": "code",
   "execution_count": null,
   "id": "b5a3e8d0",
   "metadata": {},
   "outputs": [],
   "source": []
  }
 ],
 "metadata": {
  "kernelspec": {
   "display_name": "Python 3 (ipykernel)",
   "language": "python",
   "name": "python3"
  },
  "language_info": {
   "codemirror_mode": {
    "name": "ipython",
    "version": 3
   },
   "file_extension": ".py",
   "mimetype": "text/x-python",
   "name": "python",
   "nbconvert_exporter": "python",
   "pygments_lexer": "ipython3",
   "version": "3.9.0"
  }
 },
 "nbformat": 4,
 "nbformat_minor": 5
}
