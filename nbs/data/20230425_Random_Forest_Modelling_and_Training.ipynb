{
 "cells": [
  {
   "cell_type": "markdown",
   "id": "eed5c0cc",
   "metadata": {},
   "source": [
    "# RF모델링, 훈련데이터로 훈련 고."
   ]
  },
  {
   "cell_type": "code",
   "execution_count": 1,
   "id": "28665ab9",
   "metadata": {},
   "outputs": [],
   "source": [
    "import numpy as np\n",
    "import os\n",
    "import sys\n",
    "import glob\n",
    "import pickle\n",
    "import sklearn\n",
    "from sklearn.ensemble import RandomForestClassifier\n",
    "from sklearn.metrics import accuracy_score\n",
    "from sklearn import preprocessing\n",
    "import pickle\n"
   ]
  },
  {
   "cell_type": "markdown",
   "id": "2e8e2a7e",
   "metadata": {},
   "source": [
    "# 1. task정하고, 해당 task의 데이터&라벨 가져오기"
   ]
  },
  {
   "cell_type": "code",
   "execution_count": 2,
   "id": "f46eff28",
   "metadata": {},
   "outputs": [],
   "source": [
    "task = 1"
   ]
  },
  {
   "cell_type": "code",
   "execution_count": 3,
   "id": "b30304b6",
   "metadata": {},
   "outputs": [],
   "source": [
    "fname  = f\"/home/hyoyeonlee/bbs_project/data_processed/_2_training/task{task:02}_\"\n",
    "data = np.load(fname+\"data.npy\")\n",
    "label = np.load(fname+\"label.npy\")"
   ]
  },
  {
   "cell_type": "markdown",
   "id": "8401fb2c",
   "metadata": {},
   "source": [
    "# 2. 데이터 정규화 (0~1), 훈련/테스트셋 나누기, 데이터셋저장하기 "
   ]
  },
  {
   "cell_type": "code",
   "execution_count": 4,
   "id": "71b480f9",
   "metadata": {},
   "outputs": [],
   "source": [
    "sc = preprocessing.MinMaxScaler(feature_range=[0,1])\n",
    "data = sc.fit_transform(data)\n",
    "X_train, X_test, Y_train, Y_test = sklearn.model_selection.train_test_split(\n",
    "    data,label,test_size=0.7,stratify=label)\n",
    "\n",
    "\n",
    "pickle.dump({\n",
    "    'train_x':X_train,\n",
    "    'train_y':Y_train,\n",
    "    'test_x':X_test,\n",
    "    'test_y':X_test,\n",
    "    'label' : label},open(fname+\"dataset.pickle\",'wb'))"
   ]
  },
  {
   "cell_type": "markdown",
   "id": "a424e006",
   "metadata": {},
   "source": [
    "# 3. 모델링"
   ]
  },
  {
   "cell_type": "code",
   "execution_count": 8,
   "id": "aaf650c0",
   "metadata": {},
   "outputs": [
    {
     "name": "stdout",
     "output_type": "stream",
     "text": [
      "Accuracy : 0.936\n"
     ]
    }
   ],
   "source": [
    "ntree = 20\n",
    "max_depth = 6\n",
    "\n",
    "model = RandomForestClassifier(n_estimators=ntree, max_depth=max_depth)\n",
    "model.fit(X_train,Y_train)\n",
    "Y_predicted = model.predict(X_test)\n",
    "print(f\"Accuracy : {accuracy_score(Y_test,Y_predicted):.3f}\")\n",
    "\n",
    "pickle.dump(model,open(fname+'trained_model.pickle','wb'))"
   ]
  },
  {
   "cell_type": "code",
   "execution_count": null,
   "id": "270fefc8",
   "metadata": {},
   "outputs": [],
   "source": []
  }
 ],
 "metadata": {
  "kernelspec": {
   "display_name": "Python 3 (ipykernel)",
   "language": "python",
   "name": "python3"
  },
  "language_info": {
   "codemirror_mode": {
    "name": "ipython",
    "version": 3
   },
   "file_extension": ".py",
   "mimetype": "text/x-python",
   "name": "python",
   "nbconvert_exporter": "python",
   "pygments_lexer": "ipython3",
   "version": "3.9.12"
  }
 },
 "nbformat": 4,
 "nbformat_minor": 5
}
