{
 "cells": [
  {
   "cell_type": "markdown",
   "metadata": {},
   "source": [
    "# From npy (좌표변환 (원점이동 및 단위거리 스케일링)) to Trainig Data"
   ]
  },
  {
   "cell_type": "code",
   "execution_count": 1,
   "metadata": {},
   "outputs": [
    {
     "name": "stderr",
     "output_type": "stream",
     "text": [
      "/usr/local/lib/python3.8/dist-packages/scipy/__init__.py:143: UserWarning: A NumPy version >=1.19.5 and <1.27.0 is required for this version of SciPy (detected version 1.17.4)\n",
      "  warnings.warn(f\"A NumPy version >={np_minversion} and <{np_maxversion}\"\n"
     ]
    }
   ],
   "source": [
    "import numpy as np\n",
    "import os\n",
    "import sys\n",
    "import glob\n",
    "from utils import *"
   ]
  },
  {
   "cell_type": "code",
   "execution_count": 2,
   "metadata": {},
   "outputs": [],
   "source": [
    "#dtype   = get_dtypes('COMMON',False)\n",
    "folder_data_processed1 = '/home/hyoyeonlee/bbs_project/data_processed/_1_coor_transformed/'"
   ]
  },
  {
   "cell_type": "markdown",
   "metadata": {},
   "source": [
    "# task마다 훈련데이터로 사용하는 카메라 방향 정해져 있음.\n",
    "\n",
    "- 측면 ('a'), 정면 ('e')중에 한 방향 데이터만 사용한다. \n",
    "- 따라서 하단링크 파일에 명시된 task-camDirection 따르면 됨. \n",
    "\n",
    "https://github.com/Deep-In-Sight/Kinect_BBS_demo/blob/main/bbsQt/constants.py\n",
    "\n",
    "\n",
    "- 각 task마다 지정된 CAM_NAMES의 데이터만 추출해서 리스트화 == fnames_task : {task(int):fnames}\n",
    "\n",
    "CAM_NAMES=\n",
    "\n",
    "{1: \"e\",            2: \"e\",            3: \"a\",            4: \"e\",<br />\n",
    " 5: \"e\",            6: \"e\",            7: \"e\",            8: \"a\",<br />\n",
    " 9: \"a\",           10:\"e\",           11:\"e\",           12:\"e\", <br />\n",
    " 13:\"a\",           14:\"e\"}"
   ]
  },
  {
   "cell_type": "code",
   "execution_count": 3,
   "metadata": {},
   "outputs": [],
   "source": [
    "CAM_NAMES={\n",
    "    1: \"e\",           \n",
    "    2: \"e\",           \n",
    "    3: \"a\",           \n",
    "    4: \"e\",               \n",
    "    5: \"e\",           \n",
    "    6: \"e\",           \n",
    "    7: \"e\",           \n",
    "    8: \"a\",  \n",
    "    9: \"a\",           \n",
    "    10:\"e\",           \n",
    "    11:\"e\",           \n",
    "    12:\"e\",  \n",
    "    13:\"a\",           \n",
    "    14:\"e\"\n",
    "            }\n",
    "fnames_task = {}\n",
    "for i in range(1,15):\n",
    "    camDir = CAM_NAMES[i]\n",
    "    fnames = glob.glob(folder_data_processed1+camDir+'/'+str(i)+'/*/*/*/*')\n",
    "    fnames.sort()\n",
    "    fnames_task[i]=fnames"
   ]
  },
  {
   "cell_type": "markdown",
   "metadata": {},
   "source": [
    "# flow 이해\n",
    "\n",
    "- nframe : 한 scene에서 데이터화 할 프레임 갯수 (등간격), 즉, 한 데이터당 frame갯수\n",
    "- frame_skip : 한 scene에서 데이터의 갯수\n",
    "- DATA : 크기 14인 array이고 각 element는 task별 모아놓은 데이터임.\n",
    "- LABEL : 역시 크기 14인 array이고 각 element는 task별 모아놓은 데이터의 스코어 이다."
   ]
  },
  {
   "cell_type": "code",
   "execution_count": 4,
   "metadata": {},
   "outputs": [
    {
     "data": {
      "text/plain": [
       "14"
      ]
     },
     "execution_count": 4,
     "metadata": {},
     "output_type": "execute_result"
    }
   ],
   "source": [
    "nframe = 10 #org에서는 6\n",
    "frame_skip = 20 #한 scene에서 20개의 훈련데이터 셋을 만들겠다.\n",
    "DATA = []\n",
    "LABEL = []\n",
    "feature = []\n",
    "\n",
    "for i in range( len(fnames_task)):\n",
    "    fnames = fnames_task[i+1]\n",
    "    data=[]\n",
    "    label=[]\n",
    "    for j in range(len(fnames)):\n",
    "        fname = fnames[j]\n",
    "        f_scene = np.load(fname)\n",
    "        f_info = fname.split('/')[-1].split('.')[0].split('_')\n",
    "        camDir=f_info[0]\n",
    "        sceneID = f_info[1]\n",
    "        task = int(f_info[2])\n",
    "        score = int(f_info[3])\n",
    "        for k in range(frame_skip):\n",
    "            sub = smoothed_frame_N(f_scene,nframe=nframe,shift =k)\n",
    "            if j==k==0:\n",
    "                feature, rav_sub = ravel_rec(sub,return_feature=True)\n",
    "            else:\n",
    "                rav_sub = ravel_rec(sub)\n",
    "            if True in np.isnan(rav_sub):\n",
    "                continue\n",
    "            else:\n",
    "                data.append(rav_sub)\n",
    "                label.append(score)\n",
    "    DATA.append(data)\n",
    "    LABEL.append(label)\n",
    "len(DATA)\n",
    "    \n",
    "    "
   ]
  },
  {
   "cell_type": "code",
   "execution_count": 5,
   "metadata": {},
   "outputs": [
    {
     "name": "stdout",
     "output_type": "stream",
     "text": [
      "8383\n",
      "8380\n",
      "8320\n",
      "8369\n",
      "8352\n",
      "8340\n",
      "8380\n",
      "8227\n",
      "8340\n",
      "8358\n",
      "8358\n",
      "8360\n",
      "8340\n",
      "8380\n"
     ]
    }
   ],
   "source": [
    "for i in range(len(DATA)):\n",
    "    print(len(DATA[i]))"
   ]
  },
  {
   "cell_type": "markdown",
   "metadata": {},
   "source": [
    "# 각 task마다 해당 카메라방향, mainID의 skeleton정보 취합, npy로 저장"
   ]
  },
  {
   "cell_type": "code",
   "execution_count": 6,
   "metadata": {},
   "outputs": [],
   "source": [
    "for i in range(14):\n",
    "    fn = f\"/home/hyoyeonlee/bbs_project/data_processed/_2_training/task{i+1:02}_\"\n",
    "    np.save(fn+\"data.npy\",np.stack(DATA[i]))\n",
    "    np.save(fn+\"label.npy\",np.stack(LABEL[i]))"
   ]
  },
  {
   "cell_type": "code",
   "execution_count": null,
   "metadata": {},
   "outputs": [],
   "source": []
  }
 ],
 "metadata": {
  "kernelspec": {
   "display_name": "Python 3",
   "language": "python",
   "name": "python3"
  },
  "language_info": {
   "codemirror_mode": {
    "name": "ipython",
    "version": 3
   },
   "file_extension": ".py",
   "mimetype": "text/x-python",
   "name": "python",
   "nbconvert_exporter": "python",
   "pygments_lexer": "ipython3",
   "version": "3.8.10"
  }
 },
 "nbformat": 4,
 "nbformat_minor": 5
}
