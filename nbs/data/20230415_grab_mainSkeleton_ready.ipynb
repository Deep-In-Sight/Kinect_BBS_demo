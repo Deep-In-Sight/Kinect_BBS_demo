{
 "cells": [
  {
   "cell_type": "markdown",
   "metadata": {},
   "source": [
    "# towards Training\n",
    "\n",
    "1. existing data :  \n",
    "    (1) main lists 내용 : a_001_1_4 0\n",
    "                        camDir_id_task_score ID"
   ]
  },
  {
   "cell_type": "code",
   "execution_count": 1,
   "metadata": {},
   "outputs": [
    {
     "name": "stderr",
     "output_type": "stream",
     "text": [
      "/usr/local/lib/python3.8/dist-packages/scipy/__init__.py:143: UserWarning: A NumPy version >=1.19.5 and <1.27.0 is required for this version of SciPy (detected version 1.17.4)\n",
      "  warnings.warn(f\"A NumPy version >={np_minversion} and <{np_maxversion}\"\n"
     ]
    }
   ],
   "source": [
    "import numpy as np\n",
    "import os\n",
    "import sys\n",
    "import glob\n",
    "from utils import *\n",
    "\n",
    "folder_main = '/home/hyoyeonlee/bbs_project/data/main_list/'\n",
    "fnames_main = glob.glob(folder_main+\"*.txt\")\n",
    "fnames_main.sort()\n",
    "fnames_main\n",
    "\n",
    "\n",
    "#folder_data = '/home/hyoyeonlee/bbs_project/data/20230201_npy_color2D_common_joints/'\n",
    "folder_data = '/home/hyoyeonlee/bbs_project/data/20230508_BT_color2D_13joints/'\n",
    "fnames_data = glob.glob(folder_data+\"*/*/*/*/*\")\n",
    "fnames_data.sort()\n",
    "fnames_data[0]\n",
    "\n",
    "\n",
    "folder_data_processed1 = '/home/hyoyeonlee/bbs_project/data_processed/_1_coor_transformed/'"
   ]
  },
  {
   "cell_type": "markdown",
   "metadata": {},
   "source": [
    "# main list에서 bad, -1로 표기된 데이터는 제외\n",
    "\n",
    "- 전체에 비해 bad+neg1 갯수가 1.6%정도임.\n",
    "\n",
    "\n",
    "- fnames_data : folder_data/camDir/task/score/id/camDir_id_task_score_ID.npy\n",
    "- main list :   camDir_id_task_score id"
   ]
  },
  {
   "cell_type": "code",
   "execution_count": 2,
   "metadata": {},
   "outputs": [
    {
     "name": "stdout",
     "output_type": "stream",
     "text": [
      "12020 131 62\n"
     ]
    }
   ],
   "source": [
    "countbad=0\n",
    "countneg1=0\n",
    "tot=0\n",
    "info_main = {}\n",
    "\n",
    "for i in range(len(fnames_main)):\n",
    "    f = open(fnames_main[i],'r')\n",
    "    lines = f.readlines()\n",
    "    tot+=len(lines)\n",
    "    for j in range(len(lines)):\n",
    "        ID = lines[j].split(' ')[1]\n",
    "        if ID=='bad':countbad+=1\n",
    "        elif ID=='-1':countneg1+=1\n",
    "        else: info_main[lines[j].split(' ')[0]]=ID\n",
    "print(tot,countbad,countneg1)"
   ]
  },
  {
   "cell_type": "markdown",
   "metadata": {},
   "source": [
    "# main list에서 main의 ID에 해당하는 데이터만 추출"
   ]
  },
  {
   "cell_type": "code",
   "execution_count": 3,
   "metadata": {},
   "outputs": [
    {
     "name": "stdout",
     "output_type": "stream",
     "text": [
      "102\n"
     ]
    }
   ],
   "source": [
    "fnames_data_mainOnly = []\n",
    "count_notFound = 0\n",
    "for i in range(len(fnames_data)):\n",
    "    file_info = fnames_data[i].split('/')[-1].split('.')[0][:-2]\n",
    "    file_info_ID  = fnames_data[i].split('/')[-1].split('.')[0][-1]\n",
    "    try:\n",
    "        mainID = info_main[file_info]\n",
    "        if mainID==file_info_ID:\n",
    "            fnames_data_mainOnly.append(fnames_data[i])\n",
    "    except:\n",
    "        count_notFound+=1\n",
    "    \n",
    "print(count_notFound)"
   ]
  },
  {
   "cell_type": "markdown",
   "metadata": {},
   "source": [
    "# main ID해당하는 npy파일 로딩, 좌표변환 (zero-filled data removed)\n",
    "\n",
    "\n",
    "## $(x_{new},y_{new}) = (\\frac{x-xc}{L},\\frac{y-yc}{L})$\n",
    "\n",
    "\n",
    "- 원점 : (xc,yc) = ($\\overline{x_{hip}}$,$\\overline{y_{hip}}$)\n",
    "\n",
    "\n",
    "- 단위길이 : L=$\\sqrt{(\\overline{x_a}-\\overline{x_b})^2+(\\overline{y_a}-\\overline{y_b})^2}$\n",
    "\n",
    "\n",
    "- where $\\overline{x_{joint}} = \\dfrac{1}{2}(joint\\_L\\_x+joint\\_R\\_x)$\n",
    "\n",
    "\n",
    "* task 01~10 : a,b = knee, ankle\n",
    "* task 11~14 : a,b = shoulder, hip"
   ]
  },
  {
   "cell_type": "code",
   "execution_count": 4,
   "metadata": {},
   "outputs": [
    {
     "name": "stdout",
     "output_type": "stream",
     "text": [
      "\n",
      "=============== [dtype for npy] ===============\n",
      "('frame', <class 'int'>)\n",
      "('wrist_L_x', <class 'float'>)\n",
      "('wrist_L_y', <class 'float'>)\n",
      "('elbow_L_x', <class 'float'>)\n",
      "('elbow_L_y', <class 'float'>)\n",
      "('shoulder_L_x', <class 'float'>)\n",
      "('shoulder_L_y', <class 'float'>)\n",
      "('shoulder_R_x', <class 'float'>)\n",
      "('shoulder_R_y', <class 'float'>)\n",
      "('elbow_R_x', <class 'float'>)\n",
      "('elbow_R_y', <class 'float'>)\n",
      "('wrist_R_x', <class 'float'>)\n",
      "('wrist_R_y', <class 'float'>)\n",
      "('nose_x', <class 'float'>)\n",
      "('nose_y', <class 'float'>)\n",
      "('ankle_L_x', <class 'float'>)\n",
      "('ankle_L_y', <class 'float'>)\n",
      "('knee_L_x', <class 'float'>)\n",
      "('knee_L_y', <class 'float'>)\n",
      "('hip_L_x', <class 'float'>)\n",
      "('hip_L_y', <class 'float'>)\n",
      "('hip_R_x', <class 'float'>)\n",
      "('hip_R_y', <class 'float'>)\n",
      "('knee_R_x', <class 'float'>)\n",
      "('knee_R_y', <class 'float'>)\n",
      "('ankle_R_x', <class 'float'>)\n",
      "('ankle_R_y', <class 'float'>)\n",
      "=======================================\n",
      "\n"
     ]
    }
   ],
   "source": [
    "dtype=get_dtypes(\"COMMON\",False)"
   ]
  },
  {
   "cell_type": "code",
   "execution_count": 5,
   "metadata": {},
   "outputs": [],
   "source": [
    "for i in range(len(fnames_data_mainOnly)):\n",
    "    fname = fnames_data_mainOnly[i]\n",
    "    f = np.load(fname)    \n",
    "    fname_info = fname.split('/')[-1].split('_')\n",
    "    camDir   = fname_info[0]\n",
    "    id_scene = fname_info[1]\n",
    "    task     = fname_info[2]\n",
    "    score    = fname_info[3]\n",
    "    ID       = fname_info[-1][0]\n",
    "    nframes = len(f)\n",
    "    output = np.zeros(nframes,dtype=dtype)\n",
    "    for j in range(nframes):\n",
    "        xc = np.mean([f[j]['hip_L_x'],f[j]['hip_R_x']])\n",
    "        yc = np.mean([f[j]['hip_L_y'],f[j]['hip_R_y']])\n",
    "        if int(task)<=10:\n",
    "            xa = np.mean([f[j]['knee_L_x'],f[j]['knee_R_x']])\n",
    "            ya = np.mean([f[j]['knee_L_y'],f[j]['knee_R_y']])\n",
    "            xb = np.mean([f[j]['ankle_L_x'],f[j]['ankle_R_x']])\n",
    "            yb = np.mean([f[j]['ankle_L_y'],f[j]['ankle_R_y']])\n",
    "        else:\n",
    "            xa = np.mean([f[j]['shoulder_L_x'],f[j]['shoulder_R_x']])\n",
    "            ya = np.mean([f[j]['shoulder_L_y'],f[j]['shoulder_R_y']])\n",
    "            xb = np.mean([f[j]['hip_L_x'],f[j]['hip_R_x']])\n",
    "            yb = np.mean([f[j]['hip_L_y'],f[j]['hip_R_y']])\n",
    "        L = np.sqrt((xa-xb)**2+(ya-yb)**2)\n",
    "        \n",
    "        # 스켈레톤 안잡힌 경우 모든 좌표가 0이어서 L=0나오는 경우 -> 저장 안하고 스킵.\n",
    "        if L==0:\n",
    "            continue\n",
    "        \n",
    "        output[j]['frame'] = f[j]['frame']\n",
    "        for item in dtype.names:\n",
    "            if 'x' in item :\n",
    "                output[j][item] = (f[j][item]-xc)/L \n",
    "            elif 'y' in item:\n",
    "                output[j][item] = (f[j][item]-yc)/L\n",
    "    out_subfolder = folder_data_processed1+camDir+'/'+task+'/'+score+'/'+id_scene+'/'\n",
    "    if (os.path.isdir(out_subfolder) is False):\n",
    "        os.makedirs(out_subfolder)\n",
    "    \n",
    "    out_subfolder = out_subfolder+ID+'/'\n",
    "    if (os.path.isdir(out_subfolder) is False):\n",
    "        os.makedirs(out_subfolder)\n",
    "    np.save(out_subfolder+fname.split('/')[-1],output)     "
   ]
  },
  {
   "cell_type": "code",
   "execution_count": null,
   "metadata": {},
   "outputs": [],
   "source": []
  }
 ],
 "metadata": {
  "kernelspec": {
   "display_name": "Python 3",
   "language": "python",
   "name": "python3"
  },
  "language_info": {
   "codemirror_mode": {
    "name": "ipython",
    "version": 3
   },
   "file_extension": ".py",
   "mimetype": "text/x-python",
   "name": "python",
   "nbconvert_exporter": "python",
   "pygments_lexer": "ipython3",
   "version": "3.8.10"
  }
 },
 "nbformat": 4,
 "nbformat_minor": 5
}
