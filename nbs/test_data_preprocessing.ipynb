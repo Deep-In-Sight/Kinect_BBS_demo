{
 "cells": [
  {
   "cell_type": "code",
   "execution_count": 114,
   "id": "420a5bab-4122-4492-9bc8-272c22455345",
   "metadata": {},
   "outputs": [
    {
     "name": "stdout",
     "output_type": "stream",
     "text": [
      "The autoreload extension is already loaded. To reload it, use:\n",
      "  %reload_ext autoreload\n"
     ]
    }
   ],
   "source": [
    "import os\n",
    "from glob import glob \n",
    "import cv2\n",
    "import matplotlib.pyplot as plt \n",
    "import numpy as np\n",
    "import PIL\n",
    "%load_ext autoreload\n",
    "%autoreload 2\n",
    "from BBS_pp_utils import json_to_arr\n",
    "import BBS_pp_utils as bbpp\n",
    "import data_preprocessing as dp\n",
    "from data_utils import Loader"
   ]
  },
  {
   "cell_type": "markdown",
   "id": "8a4a9d8a-ac41-40e2-9851-03c9a522ea93",
   "metadata": {},
   "source": [
    "## Save"
   ]
  },
  {
   "cell_type": "code",
   "execution_count": 115,
   "id": "1a0cdd8f-c20c-448c-8e84-6749893e120d",
   "metadata": {},
   "outputs": [],
   "source": [
    "root = '/home/eckim/workspace/fhe_etri/Data/BBS/Sample_BBS/BBS'"
   ]
  },
  {
   "cell_type": "code",
   "execution_count": 116,
   "id": "292776ff-8fdb-4591-a1ee-ba02d16d7b6d",
   "metadata": {},
   "outputs": [
    {
     "name": "stdout",
     "output_type": "stream",
     "text": [
      "400\n"
     ]
    }
   ],
   "source": [
    "with open ('output_5.txt', 'r') as f:\n",
    "    l = f.readlines()\n",
    "print(len(l))"
   ]
  },
  {
   "cell_type": "code",
   "execution_count": 117,
   "id": "36c783b1-b2ba-4f76-a373-7357c6d9a0b2",
   "metadata": {
    "tags": []
   },
   "outputs": [
    {
     "name": "stdout",
     "output_type": "stream",
     "text": [
      "/home/eckim/workspace/fhe_etri/Data/BBS/Sample_BBS/BBS/Preds/c5/a_009_5_4.json\n",
      "/home/eckim/workspace/fhe_etri/Data/BBS/Sample_BBS/BBS/Preds/c5/a_010_5_3.json\n"
     ]
    }
   ],
   "source": [
    "for idx in range(0, len(l):\n",
    "    lr = l[idx].rstrip()\n",
    "\n",
    "    meta_feature = dp.fixed_parse(lr)\n",
    "\n",
    "    sc, co = meta_feature[:3], meta_feature[-1]\n",
    "    # sc : (class, score, frame index\n",
    "    # co : (x, y)\n",
    "    # 스켈레톤 추출 \n",
    "    sk = ll.load_skel(parms=list(sc)+['a'])\n",
    "\n",
    "    # 사람이 몇명인지 확인\n",
    "    #print(len(sk))\n",
    "    \n",
    "    c2n = dp.Coord2name()\n",
    "    co = np.array(co)\n",
    "    feature = c2n.coord2feature(co)\n",
    "    #print(feature)\n",
    "    #print(co)\n",
    "    arrs = dp.feature_preprocessing(sk, feature)\n",
    "    convert_arr = dp.convert_frame_num(arrs)\n",
    "    file_name = ll.skel_fn()\n",
    "    print(file_name)\n",
    "    dp.save_npy(root, file_name, convert_arr)\n",
    "    # bbpp.quick_view(sk, fn=file_name.replace(\".json\", \"original.png\"))\n",
    "    # bbpp.quick_view(arr, fn=file_name.replace(\".json\", \"fixed.png\"))\n",
    "    "
   ]
  },
  {
   "cell_type": "code",
   "execution_count": 111,
   "id": "1758f10c-d00a-46ac-8dd8-29424d988474",
   "metadata": {
    "collapsed": true,
    "jupyter": {
     "outputs_hidden": true
    },
    "tags": []
   },
   "outputs": [
    {
     "data": {
      "text/plain": [
       "array([  1,   2,   3,   4,   5,   6,   7,   8,   9,  10,  11,  12,  13,\n",
       "        14,  15,  16,  17,  18,  19,  20,  21,  22,  23,  24,  25,  26,\n",
       "        27,  28,  29,  30,  31,  32,  33,  34,  35,  36,  37,  38,  39,\n",
       "        40,  41,  42,  43,  44,  45,  46,  47,  48,  49,  50,  51,  52,\n",
       "        53,  54,  55,  56,  57,  58,  59,  60,  61,  62,  63,  64,  65,\n",
       "        66,  67,  68,  69,  70,  71,  72,  73,  74,  75,  76,  77,  78,\n",
       "        79,  80,  81,  82,  83,  84,  85,  86,  87,  88,  89,  90,  91,\n",
       "        92,  93,  94,  95,  96,  97,  98,  99, 100, 101, 102, 103, 104,\n",
       "       105, 106, 107, 108, 109, 110, 111, 112, 113, 114, 115, 116, 117,\n",
       "       118, 119, 120, 121, 122, 123, 124, 125, 126, 127, 128, 129, 130,\n",
       "       131, 132, 133, 134, 135, 136, 137, 138, 139, 140, 141, 142, 143,\n",
       "       144, 145, 146, 147, 148, 149, 150, 151, 152, 153, 154, 155, 156,\n",
       "       157, 158, 159, 160, 161, 162, 163, 164, 165, 166, 167, 168, 169,\n",
       "       170, 171, 172, 173, 174, 175, 176, 177, 178, 179, 180, 181, 182,\n",
       "       183, 184, 185, 186, 187, 188, 189, 190, 191, 192, 193, 194, 195,\n",
       "       196, 197, 198, 199, 200, 201, 202, 203, 204, 205, 206, 207, 208,\n",
       "       209, 210, 211, 212, 213, 214, 215, 216, 217, 218, 219, 220, 221,\n",
       "       222, 223, 224, 225, 226, 227, 228, 229, 230, 231, 232, 233, 234,\n",
       "       235, 236, 237, 238, 239, 240, 241, 242, 243, 244, 245, 246, 247,\n",
       "       248, 249, 250, 251, 252, 253, 254, 255, 256, 257, 258, 259, 260,\n",
       "       261, 262, 263, 264, 265, 266, 267, 268, 269, 270, 271, 272, 273,\n",
       "       274, 275, 276, 277, 278, 279, 280, 281, 282, 283, 284, 285, 286,\n",
       "       287, 288, 289, 290, 291, 292, 293, 294, 295, 296, 297, 298, 299,\n",
       "       300, 301, 302, 303, 304, 305, 306, 307, 308, 309, 310, 311, 312,\n",
       "       313, 314, 315, 316, 317, 318, 319, 320, 321, 322, 323, 324, 325,\n",
       "       326, 327, 328, 329, 330, 331, 332, 333, 334, 335, 336, 337, 338,\n",
       "       339, 340, 341, 342, 343, 344, 345, 346, 347, 348, 349, 350, 351,\n",
       "       352, 353, 354, 355, 356, 357, 358, 359, 360, 361, 362, 363, 364,\n",
       "       365, 366, 367, 368, 369, 370, 371, 372, 373, 374, 375, 376, 377,\n",
       "       378, 379, 380, 381, 382, 383, 384, 385, 386, 387, 388, 389, 390,\n",
       "       391, 392, 393, 394, 395, 396, 397, 398, 399, 400, 401, 402, 403,\n",
       "       404, 405, 406, 407, 408, 409, 410, 411, 412, 413, 414, 415, 416,\n",
       "       417, 418, 419, 420, 421, 422, 423, 424, 425, 426, 427, 428, 429,\n",
       "       430, 431, 432, 433, 434, 435, 436, 437, 438, 439, 440, 441, 442,\n",
       "       443, 444, 445, 446, 447, 448, 449, 450, 451, 452, 453, 454, 455,\n",
       "       456, 457, 458, 459, 460, 461, 462, 463, 464, 465, 466, 467, 468,\n",
       "       469, 470, 471, 472, 473, 474, 475, 476, 477, 478, 479, 480, 481,\n",
       "       482, 483, 484, 485, 486, 487, 488, 489, 490, 491, 492, 493, 494,\n",
       "       495, 496, 497, 498, 499, 500, 501, 502, 503, 504, 505, 506, 507,\n",
       "       508, 509, 510, 511, 512, 513, 514, 515, 516, 517, 518, 519, 520,\n",
       "       521, 522, 523, 524, 525, 526, 527, 528, 529, 530, 531, 532, 533,\n",
       "       534, 535, 536, 537, 538, 539, 540, 541, 542, 543, 544, 545, 546,\n",
       "       547, 548, 549, 550, 551, 552, 553, 554, 555, 556, 557, 558, 559,\n",
       "       560, 561, 562, 563, 564, 565, 566, 567, 568, 569, 570, 571, 572,\n",
       "       573, 574, 575, 576, 577, 578, 579, 580, 581, 582, 583, 584, 585,\n",
       "       586, 587, 588, 589, 590, 591, 592, 593, 594, 595, 596, 597, 598,\n",
       "       599, 600, 601, 602, 603, 604, 605, 606, 607, 608, 609, 610, 611,\n",
       "       612, 613, 614, 615, 616, 617, 618, 619, 620, 621, 622, 623, 624,\n",
       "       625, 626, 627, 628, 629, 630, 631, 632, 633, 634, 635, 636, 637,\n",
       "       638, 639, 640, 641, 642, 643, 644, 645, 646, 647, 648, 649, 650,\n",
       "       651, 652, 653, 654, 655, 656, 657, 658, 659, 660, 661, 662, 663,\n",
       "       664, 665, 666, 667, 668, 669, 670, 671, 672, 673, 674, 675, 676,\n",
       "       677, 678, 679, 680, 681, 682, 683, 684, 685, 686, 687, 688, 689,\n",
       "       690, 691, 692, 693, 694, 695, 696, 697, 698, 699, 700, 701, 702,\n",
       "       703, 704, 705, 706, 707, 708, 709, 710, 711, 712, 713, 714, 715,\n",
       "       716, 717, 718, 719, 720, 721, 722, 723, 724, 725, 726, 727, 728,\n",
       "       729, 730, 731, 732, 733, 734, 735, 736, 737, 738, 739, 740, 741,\n",
       "       742, 743, 744, 745, 746, 747, 748, 749, 750, 751, 752, 753, 754,\n",
       "       755, 756, 757, 758, 759, 760, 761, 762, 763])"
      ]
     },
     "execution_count": 111,
     "metadata": {},
     "output_type": "execute_result"
    }
   ],
   "source": [
    "data = np.load('/home/eckim/workspace/fhe_etri/Data/BBS/Sample_BBS/BBS/npy/5/4/009/a_009_5_4_1.npy') \n",
    "data['frame']"
   ]
  },
  {
   "cell_type": "code",
   "execution_count": null,
   "id": "ef198fca-1058-4d0d-9e07-2d38674a2187",
   "metadata": {},
   "outputs": [],
   "source": []
  },
  {
   "cell_type": "markdown",
   "id": "fc45b29f-3e31-4c58-83de-bf5298d60e5f",
   "metadata": {
    "tags": []
   },
   "source": [
    "## json file이 없는것도 있기 때문에 확인"
   ]
  },
  {
   "cell_type": "code",
   "execution_count": 3,
   "id": "a137ec39-02ae-4e96-93c2-5b0f340d5f43",
   "metadata": {},
   "outputs": [],
   "source": [
    "dtypes = bbpp.get_dtypes(ignored_joints=[])\n",
    "\n",
    "ll = Loader(dtypes=dtypes)"
   ]
  },
  {
   "cell_type": "code",
   "execution_count": 4,
   "id": "747be613-7d50-4174-a40e-913b20a23c1c",
   "metadata": {},
   "outputs": [
    {
     "name": "stdout",
     "output_type": "stream",
     "text": [
      "['001', '005', '006', '007', '008', '009', '012', '013', '022', '023', '032', '033', '052', '053', '062', '063', '080', '081', '089', '090', '110', '127', '128', '143', '144', '161', '162', '163', '164', '181', '182', '183', '184', '201', '202', '203', '204', '221', '222', '223', '224', '241', '242', '259', '260', '261', '262', '279', '280', '281', '282', '299', '300', '301', '302', '319', '320', '321', '322', '339', '340', '341', '342', '359', '360', '361', '362', '379', '380', '381', '382', '399']\n"
     ]
    }
   ],
   "source": [
    "# id 받아오기  id 중에 json 파일이 없는 것도 있습니다. \n",
    "print(ll.get_id(4, 4))"
   ]
  },
  {
   "cell_type": "code",
   "execution_count": 31,
   "id": "7ed3ea26-99a4-4e2d-87b9-05c7cfd698e4",
   "metadata": {},
   "outputs": [
    {
     "name": "stdout",
     "output_type": "stream",
     "text": [
      "/home/eckim/workspace/fhe_etri/Data/BBS/Sample_BBS/BBS/Preds/c4/a_009_4_4.json\n"
     ]
    }
   ],
   "source": [
    "# json 받아오기  \n",
    "json = ll.skel_fn(4, 4, 9, 'a')    # class : 4    score : 4    frame index : 9    cam : 'a' \n",
    "print(json)"
   ]
  },
  {
   "cell_type": "markdown",
   "id": "0a3b7a53-ba1d-4575-8526-ac5d85f7657d",
   "metadata": {},
   "source": [
    "## c4_fix_feature file 열어서 feature 추출"
   ]
  },
  {
   "cell_type": "code",
   "execution_count": 50,
   "id": "172ee369-23d1-4443-ad43-124fbdb50d95",
   "metadata": {
    "tags": []
   },
   "outputs": [
    {
     "data": {
      "text/plain": [
       "'xright_knee'"
      ]
     },
     "execution_count": 50,
     "metadata": {},
     "output_type": "execute_result"
    }
   ],
   "source": [
    "c2n = dp.Coord2name()\n",
    "co = np.array(co) \n",
    "feature = c2n.coord2feature(co)\n",
    "feature"
   ]
  },
  {
   "cell_type": "markdown",
   "id": "b69fbba8-d4ea-4b21-8afa-95d6abfb47fc",
   "metadata": {},
   "source": [
    "## feature preprocessing"
   ]
  },
  {
   "cell_type": "code",
   "execution_count": 51,
   "id": "6612d5fd-22b3-45a5-9c0b-9c731409fe1a",
   "metadata": {},
   "outputs": [
    {
     "name": "stdout",
     "output_type": "stream",
     "text": [
      "0 값을 포함한 sk 길이 588\n",
      "0 값을 뺀 sk 길이    572\n"
     ]
    }
   ],
   "source": [
    "arr = dp.feature_preprocessing(sk, feature)"
   ]
  },
  {
   "cell_type": "code",
   "execution_count": 56,
   "id": "5834a219-9bbe-4dd5-8f6f-f2da9f3874de",
   "metadata": {},
   "outputs": [
    {
     "name": "stdout",
     "output_type": "stream",
     "text": [
      "/home/eckim/workspace/fhe_etri/Data/BBS/Sample_BBS/BBS/Preds/c4/a_082_4_2.json\n"
     ]
    }
   ],
   "source": [
    "# image로 확인 \n",
    "file_name = ll.skel_fn()\n",
    "print(file_name)\n",
    "\n",
    "bbpp.quick_view(arr, fn=file_name.replace(\".json\", \"_fixed.png\"))\n",
    "bbpp.quick_view(sk, fn=file_name.replace(\".json\", \"_original.png\"))\n"
   ]
  },
  {
   "cell_type": "code",
   "execution_count": null,
   "id": "9006006d-606b-4eb7-8206-f18bdc371481",
   "metadata": {},
   "outputs": [],
   "source": []
  }
 ],
 "metadata": {
  "kernelspec": {
   "display_name": "Python 3 (ipykernel)",
   "language": "python",
   "name": "python3"
  },
  "language_info": {
   "codemirror_mode": {
    "name": "ipython",
    "version": 3
   },
   "file_extension": ".py",
   "mimetype": "text/x-python",
   "name": "python",
   "nbconvert_exporter": "python",
   "pygments_lexer": "ipython3",
   "version": "3.8.12"
  }
 },
 "nbformat": 4,
 "nbformat_minor": 5
}
