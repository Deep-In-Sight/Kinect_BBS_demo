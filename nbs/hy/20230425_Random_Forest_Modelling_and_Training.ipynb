{
 "cells": [
  {
   "cell_type": "markdown",
   "id": "eed5c0cc",
   "metadata": {},
   "source": [
    "# RF모델링, 훈련데이터로 훈련 고."
   ]
  },
  {
   "cell_type": "code",
   "execution_count": 79,
   "id": "28665ab9",
   "metadata": {},
   "outputs": [],
   "source": [
    "import numpy as np\n",
    "import os\n",
    "import sys\n",
    "import glob\n",
    "import pickle\n",
    "import sklearn\n",
    "from sklearn.ensemble import RandomForestClassifier\n",
    "from sklearn.model_selection import GridSearchCV\n",
    "from sklearn.metrics import accuracy_score\n",
    "from sklearn import preprocessing\n",
    "import pickle\n"
   ]
  },
  {
   "cell_type": "code",
   "execution_count": 80,
   "id": "9d4b2580",
   "metadata": {},
   "outputs": [
    {
     "data": {
      "text/plain": [
       "'1.3.0'"
      ]
     },
     "execution_count": 80,
     "metadata": {},
     "output_type": "execute_result"
    }
   ],
   "source": [
    "sklearn.__version__"
   ]
  },
  {
   "cell_type": "code",
   "execution_count": 75,
   "id": "4d1cc48b",
   "metadata": {},
   "outputs": [
    {
     "data": {
      "text/plain": [
       "3288"
      ]
     },
     "execution_count": 75,
     "metadata": {},
     "output_type": "execute_result"
    }
   ],
   "source": [
    "len(X_test)"
   ]
  },
  {
   "cell_type": "code",
   "execution_count": 74,
   "id": "44b4a9c8",
   "metadata": {},
   "outputs": [
    {
     "data": {
      "text/plain": [
       "3288"
      ]
     },
     "execution_count": 74,
     "metadata": {},
     "output_type": "execute_result"
    }
   ],
   "source": [
    "len(Y_test)"
   ]
  },
  {
   "cell_type": "code",
   "execution_count": 76,
   "id": "88deb309",
   "metadata": {},
   "outputs": [
    {
     "name": "stdout",
     "output_type": "stream",
     "text": [
      "Task 1,  Accuracy : 0.884\n",
      "UNUSED FEATURE []\n",
      "Task 2,  Accuracy : 0.867\n",
      "UNUSED FEATURE []\n",
      "Task 3,  Accuracy : 0.847\n",
      "UNUSED FEATURE []\n",
      "Task 4,  Accuracy : 0.869\n",
      "UNUSED FEATURE []\n",
      "Task 5,  Accuracy : 0.879\n",
      "UNUSED FEATURE [171, 183]\n",
      "Task 6,  Accuracy : 0.864\n",
      "UNUSED FEATURE []\n",
      "Task 7,  Accuracy : 0.859\n",
      "UNUSED FEATURE []\n",
      "Task 8,  Accuracy : 0.996\n",
      "UNUSED FEATURE []\n",
      "Task 9,  Accuracy : 0.927\n",
      "UNUSED FEATURE []\n",
      "Task 10,  Accuracy : 0.981\n",
      "UNUSED FEATURE []\n",
      "Task 11,  Accuracy : 0.966\n",
      "UNUSED FEATURE []\n",
      "Task 12,  Accuracy : 0.850\n",
      "UNUSED FEATURE []\n",
      "Task 13,  Accuracy : 0.862\n",
      "UNUSED FEATURE []\n",
      "Task 14,  Accuracy : 0.947\n",
      "UNUSED FEATURE []\n"
     ]
    }
   ],
   "source": [
    "# 1. task정하고, 해당 task의 데이터&라벨 가져오기\n",
    "grid_search = True\n",
    "\n",
    "for task in range(1, 15):\n",
    "    fname  = f\"/media/hoseung/nv4t/backup/Work/BBS_data/skeleton/task{task:02}_\"\n",
    "    data = np.load(fname+\"data.npy\")\n",
    "    label = np.load(fname+\"label.npy\")\n",
    "\n",
    "    # 2. 데이터 정규화 (0~1), 훈련/테스트셋 나누기, 데이터셋저장하기 \n",
    "\n",
    "    sc = preprocessing.MinMaxScaler(feature_range=(0,1))\n",
    "    data = sc.fit_transform(data)\n",
    "    X_train, X_test, Y_train, Y_test = sklearn.model_selection.train_test_split(\n",
    "        data,label,test_size=0.2,stratify=label)\n",
    "\n",
    "    pickle.dump({\n",
    "    'train_x':X_train,\n",
    "    'train_y':Y_train,\n",
    "    'test_x':X_test,\n",
    "    'test_y':Y_test,\n",
    "    'label' : label},open(fname+\"dataset.pickle\",'wb'))\n",
    "\n",
    "    # 3. 모델링    \n",
    "    if grid_search:\n",
    "        total_nodes_constraint = 8192\n",
    "        possible_n_estimators = [16, 20, 32, 40]\n",
    "        combinations = [(n_est, total_nodes_constraint // n_est) for n_est in possible_n_estimators if total_nodes_constraint // n_est > 1]\n",
    "        param_grid = {\n",
    "            'n_estimators': [combo[0] for combo in combinations],\n",
    "            'max_leaf_nodes': [combo[1] for combo in combinations],\n",
    "            'max_features': [None, 'sqrt', 'log2'],\n",
    "            'bootstrap': [True, False]\n",
    "        }\n",
    "\n",
    "        rf = RandomForestClassifier()\n",
    "        grid_search = GridSearchCV(rf, param_grid, cv=5, scoring='accuracy', n_jobs=-1)\n",
    "        grid_search.fit(X_train, Y_train)\n",
    "\n",
    "        model = grid_search.best_estimator_\n",
    "    else:\n",
    "        ntree = 20\n",
    "        max_depth = 8\n",
    "        model = RandomForestClassifier(n_estimators=ntree, max_depth=max_depth)\n",
    "        model.fit(X_train,Y_train)\n",
    "    \n",
    "    Y_predicted = model.predict(X_test)\n",
    "    print(f\"Task {task},  Accuracy : {accuracy_score(Y_test,Y_predicted):.3f}\")\n",
    "     \n",
    "    # Feature importance\n",
    "    importances = model.feature_importances_\n",
    "    threshold = 0.001  # This value can be tuned based on your understanding of the domain and data.\n",
    "    unused_features = [ind for ind, importance in enumerate(importances) if importance < threshold]\n",
    "    print(\"UNUSED FEATURE\", unused_features)\n",
    "\n",
    "    pickle.dump(model, open(fname+'trained_model.pickle','wb'))"
   ]
  },
  {
   "cell_type": "code",
   "execution_count": 85,
   "id": "16fe3c6a",
   "metadata": {},
   "outputs": [],
   "source": [
    "accs = np.array([0.884, 0.867, 0.847, 0.869, 0.879, 0.864, 0.859, 0.966, 0.927, 0.981, 0.966, 0.880, 0.862, 0.947])\n",
    "\n",
    "nn_accs = np.array([0.866, 0.846, 0.829, 0.864, 0.863, 0.841, 0.826, 0.958, 0.905, 0.962, 0.967, 0.867, 0.841, 0.935])"
   ]
  },
  {
   "cell_type": "code",
   "execution_count": 92,
   "id": "be5d35d4",
   "metadata": {},
   "outputs": [
    {
     "name": "stdout",
     "output_type": "stream",
     "text": [
      "0.8998571428571428 0.8835714285714287\n"
     ]
    }
   ],
   "source": [
    "print(np.mean(accs), np.mean(nn_accs))\n"
   ]
  },
  {
   "cell_type": "markdown",
   "id": "52510efc",
   "metadata": {},
   "source": [
    "두 가지 histogram 나란히 (교차) , 서로 다른 색으로 "
   ]
  },
  {
   "cell_type": "code",
   "execution_count": 120,
   "id": "4c83a30d",
   "metadata": {},
   "outputs": [
    {
     "data": {
      "image/png": "[encoded data removed]",
      "text/plain": [
       "<Figure size 640x480 with 1 Axes>"
      ]
     },
     "metadata": {},
     "output_type": "display_data"
    }
   ],
   "source": [
    "fig, ax = plt.subplots()\n",
    "ax.plot(np.arange(1, 15), accs, label=\"Orignal RF\")\n",
    "\n",
    "ax.plot(np.arange(1, 15), nn_accs, label=\"Nueral RF\")\n",
    "ax.set_ylim([0.6,1])\n",
    "\n",
    "ax.hlines(np.mean(accs), 1, 14, colors='tab:blue', linestyles=\"dotted\", label=\"Original mean\")\n",
    "ax.hlines(np.mean(nn_accs), 1, 14, colors=\"tab:orange\", linestyles=\"dotted\", label=\"Neural mean\")\n",
    "\n",
    "ax.set_ylabel(\"Accuracy\")\n",
    "ax.set_xlabel(\"Action class\")\n",
    "ax.legend(loc=4)\n",
    "plt.tight_layout()"
   ]
  },
  {
   "cell_type": "code",
   "execution_count": null,
   "id": "763f0e96",
   "metadata": {},
   "outputs": [],
   "source": []
  },
  {
   "cell_type": "code",
   "execution_count": null,
   "id": "b5032d83",
   "metadata": {},
   "outputs": [],
   "source": []
  },
  {
   "cell_type": "markdown",
   "id": "5cb4bbd1",
   "metadata": {},
   "source": [
    "## best combination given the number of trees * depth limitation"
   ]
  },
  {
   "cell_type": "code",
   "execution_count": 55,
   "id": "d286c09e",
   "metadata": {},
   "outputs": [],
   "source": [
    "from sklearn.model_selection import GridSearchCV\n",
    "\n",
    "total_nodes_constraint = 8192\n",
    "\n",
    "possible_n_estimators = [16, 20, 32, 40]\n",
    "\n",
    "combinations = [(n_est, total_nodes_constraint // n_est) for n_est in possible_n_estimators if total_nodes_constraint // n_est > 1]\n",
    "\n",
    "param_grid = {\n",
    "    'n_estimators': [combo[0] for combo in combinations],\n",
    "    'max_leaf_nodes': [combo[1] for combo in combinations],\n",
    "    'max_features': [None, 'sqrt', 'log2'],\n",
    "    'bootstrap': [True, False]\n",
    "}\n",
    "\n",
    "rf = RandomForestClassifier()\n",
    "grid_search = GridSearchCV(rf, param_grid, cv=5, scoring='accuracy', n_jobs=-1)\n",
    "grid_search.fit(X_train, Y_train)\n",
    "\n",
    "best_rf = grid_search.best_estimator_\n",
    "\n",
    "evaluate_tree(best_rf, X_test, Y_test)"
   ]
  },
  {
   "cell_type": "markdown",
   "id": "bf271b25",
   "metadata": {},
   "source": [
    "## Check for unused features"
   ]
  },
  {
   "cell_type": "code",
   "execution_count": 68,
   "id": "33b3c55e",
   "metadata": {},
   "outputs": [],
   "source": [
    "import matplotlib.pyplot as plt "
   ]
  },
  {
   "cell_type": "code",
   "execution_count": 69,
   "id": "c7e75351",
   "metadata": {},
   "outputs": [
    {
     "data": {
      "text/plain": [
       "(array([10., 58., 87., 52., 31., 10.,  4.,  4.,  1.,  3.]),\n",
       " array([0.00157945, 0.00233959, 0.00309973, 0.00385986, 0.00462   ,\n",
       "        0.00538014, 0.00614028, 0.00690041, 0.00766055, 0.00842069,\n",
       "        0.00918083]),\n",
       " <BarContainer object of 10 artists>)"
      ]
     },
     "execution_count": 69,
     "metadata": {},
     "output_type": "execute_result"
    },
    {
     "data": {
      "image/png": "[encoded data removed]",
      "text/plain": [
       "<Figure size 640x480 with 1 Axes>"
      ]
     },
     "metadata": {},
     "output_type": "display_data"
    }
   ],
   "source": [
    "plt.hist(importances)"
   ]
  },
  {
   "cell_type": "code",
   "execution_count": 61,
   "id": "e4cf6c07",
   "metadata": {},
   "outputs": [
    {
     "data": {
      "text/plain": [
       "40"
      ]
     },
     "execution_count": 61,
     "metadata": {},
     "output_type": "execute_result"
    }
   ],
   "source": [
    "best_rf.n_estimators"
   ]
  },
  {
   "cell_type": "code",
   "execution_count": null,
   "id": "35e2c429",
   "metadata": {},
   "outputs": [],
   "source": [
    "best_rf.n_estimators."
   ]
  },
  {
   "cell_type": "code",
   "execution_count": 62,
   "id": "57911a35",
   "metadata": {},
   "outputs": [],
   "source": []
  },
  {
   "cell_type": "markdown",
   "id": "36b9b66d",
   "metadata": {},
   "source": [
    "# Post pruning "
   ]
  },
  {
   "cell_type": "code",
   "execution_count": 41,
   "id": "270fefc8",
   "metadata": {},
   "outputs": [],
   "source": [
    "def evaluate_tree(tree, X, y):\n",
    "    y_pred = tree.predict(X)\n",
    "    return accuracy_score(y, y_pred)\n",
    "\n",
    "def evaluate_trees(forest, X, y):\n",
    "    tree_scores = [evaluate_tree(tree, X, y) for tree in forest.estimators_]\n",
    "    return tree_scores"
   ]
  },
  {
   "cell_type": "code",
   "execution_count": 64,
   "id": "5dad85d4",
   "metadata": {},
   "outputs": [
    {
     "name": "stdout",
     "output_type": "stream",
     "text": [
      "[]\n"
     ]
    }
   ],
   "source": [
    "threshold = 0.001  # This value can be tuned based on your understanding of the domain and data.\n",
    "\n",
    "unused_features = [ind for ind, importance in enumerate(importances) if importance < threshold]\n",
    "print(unused_features)"
   ]
  },
  {
   "cell_type": "code",
   "execution_count": 46,
   "id": "9aca063f",
   "metadata": {},
   "outputs": [],
   "source": [
    "tree_scores = evaluate_tree(model, X_test, Y_test)"
   ]
  },
  {
   "cell_type": "code",
   "execution_count": 47,
   "id": "6463e061",
   "metadata": {},
   "outputs": [
    {
     "data": {
      "text/plain": [
       "0.9122592479364109"
      ]
     },
     "execution_count": 47,
     "metadata": {},
     "output_type": "execute_result"
    }
   ],
   "source": [
    "tree_scores"
   ]
  },
  {
   "cell_type": "code",
   "execution_count": 51,
   "id": "805be2ec",
   "metadata": {},
   "outputs": [
    {
     "name": "stdout",
     "output_type": "stream",
     "text": [
      "0.5955365331702843\n",
      "0.6227453378171813\n",
      "0.6062366248853561\n",
      "0.6105166615713848\n",
      "0.5787221033323143\n",
      "0.6193824518495873\n",
      "0.6242739223479058\n",
      "0.6016508712931825\n",
      "0.6597370834607154\n",
      "0.620605319474167\n",
      "0.6239682054417609\n",
      "0.6215224701926017\n",
      "0.6358911647814124\n",
      "0.6151024151635586\n",
      "0.6416997859981657\n",
      "0.6282482421277896\n",
      "0.616936716600428\n",
      "0.623662488535616\n",
      "0.6193824518495873\n",
      "0.6028737389177622\n",
      "0.6472026903087741\n",
      "0.5710791806786916\n",
      "0.6004280036686028\n",
      "0.6416997859981657\n",
      "0.6264139406909202\n",
      "0.6095995108529502\n",
      "0.6157138489758484\n",
      "0.6190767349434424\n",
      "0.6123509630082543\n",
      "0.6184653011311525\n",
      "0.6383369000305716\n",
      "0.6196881687557322\n"
     ]
    }
   ],
   "source": [
    "for tree in model.estimators_:\n",
    "    y_pred = tree.predict(X_test)\n",
    "    print(accuracy_score(Y_test, y_pred))"
   ]
  },
  {
   "cell_type": "code",
   "execution_count": null,
   "id": "ad13ae9b",
   "metadata": {},
   "outputs": [],
   "source": []
  }
 ],
 "metadata": {
  "kernelspec": {
   "display_name": "Python 3 (ipykernel)",
   "language": "python",
   "name": "python3"
  },
  "language_info": {
   "codemirror_mode": {
    "name": "ipython",
    "version": 3
   },
   "file_extension": ".py",
   "mimetype": "text/x-python",
   "name": "python",
   "nbconvert_exporter": "python",
   "pygments_lexer": "ipython3",
   "version": "3.11.0"
  }
 },
 "nbformat": 4,
 "nbformat_minor": 5
}
