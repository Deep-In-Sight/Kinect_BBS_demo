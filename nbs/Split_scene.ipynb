{
 "cells": [
  {
   "cell_type": "markdown",
   "id": "c35fa6d7",
   "metadata": {},
   "source": [
    "## Todo \n",
    "\n",
    "노트북에서는 아래와 같이 약간의 문제가 생겼으나,  \n",
    "> media/hoseung/data1/BBS/g1/a/009/BBS/RGB/[1,2,6,7]   41574.jpg -> 4/1574.jpg로 바꿔야함. \n",
    "\n",
    "데탑에서는 그냥 쭉 돌리면 될 듯. "
   ]
  },
  {
   "cell_type": "markdown",
   "id": "d270ec41",
   "metadata": {},
   "source": [
    "/media/hoseung/data1/BBS/g1/a/009/BBS/RGB/L/1/4 여기서 마지막 \"/L\" 혹은 \"/a\"는 그냥 지우기.   \n",
    "엉뚱하게 L이 껴있어서 매우 규칙이 더러워짐."
   ]
  },
  {
   "cell_type": "markdown",
   "id": "5597e11e",
   "metadata": {},
   "source": [
    "어떤 ID에서는 여러가지 action을 한 번에 찍음. (5,6개 덩어리로)  \n",
    "어떤 ID에서는 14폴더로 나누어놓음.  \n",
    "\n",
    "1 - 2 - 6 - 7 / 4 - 3 - 5 / 13 - 14 - 11 / 12 / 8 / 9 - 10  \n",
    "1 - 2 - 6 - 7 / 4 - 3 - 5 / 13 - 14 - 11 - 9 - 10 / 12 / 8"
   ]
  },
  {
   "cell_type": "code",
   "execution_count": 1,
   "id": "1b1f5b01",
   "metadata": {},
   "outputs": [],
   "source": [
    "from split import *"
   ]
  },
  {
   "cell_type": "markdown",
   "id": "43c48da5",
   "metadata": {},
   "source": [
    "Cam a (a,b,c) "
   ]
  },
  {
   "cell_type": "markdown",
   "id": "60940340",
   "metadata": {},
   "source": [
    "1. a/100 - 109 RGB파일 없음.  \n",
    "2. "
   ]
  },
  {
   "cell_type": "code",
   "execution_count": 21,
   "id": "64fd4361",
   "metadata": {},
   "outputs": [],
   "source": [
    "for ID in chunk_6:\n",
    "#for ID in [20]:\n",
    "    this_id = glob(f'/home/hoseung/Work/data/BBS/g1/b/{ID:03d}/BBS/BT/b/*/?/points_data.csv')\n",
    "    for this_fn in this_id:\n",
    "        cc = this_fn.split(\"/\")[-3]\n",
    "        ccs = cc6[cc]\n",
    "        do_split(this_fn, ccs, img_cam=\"a\")"
   ]
  },
  {
   "cell_type": "markdown",
   "id": "404b8c73",
   "metadata": {},
   "source": [
    "159, 346, 376"
   ]
  },
  {
   "cell_type": "code",
   "execution_count": 26,
   "id": "9d337486",
   "metadata": {},
   "outputs": [
    {
     "data": {
      "text/plain": [
       "376"
      ]
     },
     "execution_count": 26,
     "metadata": {},
     "output_type": "execute_result"
    }
   ],
   "source": [
    "ID"
   ]
  },
  {
   "cell_type": "code",
   "execution_count": null,
   "id": "958ff017",
   "metadata": {},
   "outputs": [],
   "source": [
    "from split import *\n",
    "\n",
    "for ID in chunk_5[326:]:\n",
    "    this_id = glob(f'/home/hoseung/Work/data/BBS/g1/b/{ID:03d}/BBS/BT/b/*/?/points_data.csv')\n",
    "    for this_fn in this_id:\n",
    "        cc = this_fn.split(\"/\")[-3]\n",
    "        ccs = cc5[cc]\n",
    "        do_split(this_fn, ccs, img_cam=\"a\")\n",
    "        \n",
    "        "
   ]
  },
  {
   "cell_type": "code",
   "execution_count": 29,
   "id": "0383a4af",
   "metadata": {},
   "outputs": [
    {
     "data": {
      "text/plain": [
       "377"
      ]
     },
     "execution_count": 29,
     "metadata": {},
     "output_type": "execute_result"
    }
   ],
   "source": [
    "chunk_5[326]"
   ]
  },
  {
   "cell_type": "code",
   "execution_count": 27,
   "id": "4f806de7",
   "metadata": {},
   "outputs": [
    {
     "data": {
      "text/plain": [
       "['/home/hoseung/Work/data/BBS/g1/b/376/BBS/BT/b/13/2/points_data.csv',\n",
       " '/home/hoseung/Work/data/BBS/g1/b/376/BBS/BT/b/12/2/points_data.csv',\n",
       " '/home/hoseung/Work/data/BBS/g1/b/376/BBS/BT/b/1/2/points_data.csv',\n",
       " '/home/hoseung/Work/data/BBS/g1/b/376/BBS/BT/b/4/2/points_data.csv',\n",
       " '/home/hoseung/Work/data/BBS/g1/b/376/BBS/BT/b/8/2/points_data.csv']"
      ]
     },
     "execution_count": 27,
     "metadata": {},
     "output_type": "execute_result"
    }
   ],
   "source": [
    "this_id"
   ]
  },
  {
   "cell_type": "code",
   "execution_count": 11,
   "id": "717b8cf7",
   "metadata": {},
   "outputs": [
    {
     "data": {
      "text/plain": [
       "'/home/hoseung/Work/data/BBS/g1/b/159/BBS/BT/b/12/2/points_data.csv'"
      ]
     },
     "execution_count": 11,
     "metadata": {},
     "output_type": "execute_result"
    }
   ],
   "source": [
    "this_fn"
   ]
  },
  {
   "cell_type": "code",
   "execution_count": 42,
   "id": "fb3ff573",
   "metadata": {},
   "outputs": [
    {
     "ename": "IndexError",
     "evalue": "list index out of range",
     "output_type": "error",
     "traceback": [
      "\u001b[0;31m---------------------------------------------------------------------------\u001b[0m",
      "\u001b[0;31mIndexError\u001b[0m                                Traceback (most recent call last)",
      "\u001b[0;32m/tmp/ipykernel_104165/2407268224.py\u001b[0m in \u001b[0;36m<module>\u001b[0;34m\u001b[0m\n\u001b[1;32m      4\u001b[0m         \u001b[0mcc\u001b[0m \u001b[0;34m=\u001b[0m \u001b[0mthis_fn\u001b[0m\u001b[0;34m.\u001b[0m\u001b[0msplit\u001b[0m\u001b[0;34m(\u001b[0m\u001b[0;34m\"/\"\u001b[0m\u001b[0;34m)\u001b[0m\u001b[0;34m[\u001b[0m\u001b[0;34m-\u001b[0m\u001b[0;36m3\u001b[0m\u001b[0;34m]\u001b[0m\u001b[0;34m\u001b[0m\u001b[0;34m\u001b[0m\u001b[0m\n\u001b[1;32m      5\u001b[0m         \u001b[0mccs\u001b[0m \u001b[0;34m=\u001b[0m \u001b[0mcc5\u001b[0m\u001b[0;34m[\u001b[0m\u001b[0mcc\u001b[0m\u001b[0;34m]\u001b[0m\u001b[0;34m\u001b[0m\u001b[0;34m\u001b[0m\u001b[0m\n\u001b[0;32m----> 6\u001b[0;31m         \u001b[0mdo_split\u001b[0m\u001b[0;34m(\u001b[0m\u001b[0mthis_fn\u001b[0m\u001b[0;34m,\u001b[0m \u001b[0mccs\u001b[0m\u001b[0;34m,\u001b[0m \u001b[0mimg_cam\u001b[0m\u001b[0;34m=\u001b[0m\u001b[0;34m\"a\"\u001b[0m\u001b[0;34m)\u001b[0m\u001b[0;34m\u001b[0m\u001b[0;34m\u001b[0m\u001b[0m\n\u001b[0m\u001b[1;32m      7\u001b[0m \u001b[0;34m\u001b[0m\u001b[0m\n\u001b[1;32m      8\u001b[0m \u001b[0;34m\u001b[0m\u001b[0m\n",
      "\u001b[0;32m/tmp/ipykernel_104165/555185134.py\u001b[0m in \u001b[0;36mdo_split\u001b[0;34m(fn, ccs, img_cam)\u001b[0m\n\u001b[1;32m      5\u001b[0m     \u001b[0;31m#print(img_lists)\u001b[0m\u001b[0;34m\u001b[0m\u001b[0;34m\u001b[0m\u001b[0;34m\u001b[0m\u001b[0m\n\u001b[1;32m      6\u001b[0m     \u001b[0;32mfor\u001b[0m \u001b[0mimg_list\u001b[0m\u001b[0;34m,\u001b[0m \u001b[0mnew_cc\u001b[0m \u001b[0;32min\u001b[0m \u001b[0mzip\u001b[0m\u001b[0;34m(\u001b[0m\u001b[0mimg_lists\u001b[0m\u001b[0;34m,\u001b[0m \u001b[0mccs\u001b[0m\u001b[0;34m)\u001b[0m\u001b[0;34m:\u001b[0m\u001b[0;34m\u001b[0m\u001b[0;34m\u001b[0m\u001b[0m\n\u001b[0;32m----> 7\u001b[0;31m         \u001b[0mnew_dir\u001b[0m \u001b[0;34m=\u001b[0m \u001b[0mImg_dir\u001b[0m\u001b[0;34m(\u001b[0m\u001b[0mimg_list\u001b[0m\u001b[0;34m[\u001b[0m\u001b[0;36m0\u001b[0m\u001b[0;34m]\u001b[0m\u001b[0;34m)\u001b[0m\u001b[0;34m\u001b[0m\u001b[0;34m\u001b[0m\u001b[0m\n\u001b[0m\u001b[1;32m      8\u001b[0m         \u001b[0mnd\u001b[0m \u001b[0;34m=\u001b[0m \u001b[0mnew_dir\u001b[0m\u001b[0;34m.\u001b[0m\u001b[0mupdate\u001b[0m\u001b[0;34m(\u001b[0m\u001b[0maction\u001b[0m\u001b[0;34m=\u001b[0m\u001b[0mnew_cc\u001b[0m\u001b[0;34m)\u001b[0m\u001b[0;34m\u001b[0m\u001b[0;34m\u001b[0m\u001b[0m\n\u001b[1;32m      9\u001b[0m         \u001b[0;32mif\u001b[0m \u001b[0;32mnot\u001b[0m \u001b[0mos\u001b[0m\u001b[0;34m.\u001b[0m\u001b[0mpath\u001b[0m\u001b[0;34m.\u001b[0m\u001b[0misdir\u001b[0m\u001b[0;34m(\u001b[0m\u001b[0mnd\u001b[0m\u001b[0;34m)\u001b[0m\u001b[0;34m:\u001b[0m\u001b[0;34m\u001b[0m\u001b[0;34m\u001b[0m\u001b[0m\n",
      "\u001b[0;31mIndexError\u001b[0m: list index out of range"
     ]
    }
   ],
   "source": [
    "for ID in chunk_14:\n",
    "    this_id = glob(f'/home/hoseung/Work/data/BBS/g1/b/{ID:03d}/BBS/BT/b/*/?/points_data.csv')\n",
    "    for this_fn in this_id:\n",
    "        cc = this_fn.split(\"/\")[-3]\n",
    "        ccs = cc5[cc]\n",
    "        do_split(this_fn, ccs, img_cam=\"a\")\n",
    "        "
   ]
  },
  {
   "cell_type": "markdown",
   "id": "e09c5043",
   "metadata": {},
   "source": [
    "Cam e (d, e, f)"
   ]
  },
  {
   "cell_type": "code",
   "execution_count": 228,
   "id": "0a056414",
   "metadata": {
    "scrolled": true
   },
   "outputs": [
    {
     "name": "stdout",
     "output_type": "stream",
     "text": [
      "/home/hoseung/Work/data/BBS/g1/a/011/BBS/RGB/13/3\n",
      "/home/hoseung/Work/data/BBS/g1/a/011/BBS/RGB/14/3\n",
      "/home/hoseung/Work/data/BBS/g1/a/011/BBS/RGB/11/3\n",
      "/home/hoseung/Work/data/BBS/g1/a/011/BBS/RGB/12/3\n",
      "/home/hoseung/Work/data/BBS/g1/a/011/BBS/RGB/1/3\n",
      "/home/hoseung/Work/data/BBS/g1/a/011/BBS/RGB/2/3\n",
      "/home/hoseung/Work/data/BBS/g1/a/011/BBS/RGB/6/3\n",
      "/home/hoseung/Work/data/BBS/g1/a/011/BBS/RGB/7/3\n",
      "/home/hoseung/Work/data/BBS/g1/a/011/BBS/RGB/4/3\n",
      "/home/hoseung/Work/data/BBS/g1/a/011/BBS/RGB/3/3\n",
      "/home/hoseung/Work/data/BBS/g1/a/011/BBS/RGB/5/3\n",
      "/home/hoseung/Work/data/BBS/g1/a/011/BBS/RGB/9/3\n",
      "/home/hoseung/Work/data/BBS/g1/a/011/BBS/RGB/10/3\n",
      "/home/hoseung/Work/data/BBS/g1/a/011/BBS/RGB/8/3\n",
      "/home/hoseung/Work/data/BBS/g1/a/012/BBS/RGB/13/4\n",
      "/home/hoseung/Work/data/BBS/g1/a/012/BBS/RGB/14/4\n",
      "/home/hoseung/Work/data/BBS/g1/a/012/BBS/RGB/11/4\n",
      "/home/hoseung/Work/data/BBS/g1/a/012/BBS/RGB/12/4\n",
      "/home/hoseung/Work/data/BBS/g1/a/012/BBS/RGB/1/4\n",
      "/home/hoseung/Work/data/BBS/g1/a/012/BBS/RGB/2/4\n",
      "/home/hoseung/Work/data/BBS/g1/a/012/BBS/RGB/6/4\n",
      "/home/hoseung/Work/data/BBS/g1/a/012/BBS/RGB/7/4\n",
      "/home/hoseung/Work/data/BBS/g1/a/012/BBS/RGB/4/4\n",
      "/home/hoseung/Work/data/BBS/g1/a/012/BBS/RGB/3/4\n",
      "/home/hoseung/Work/data/BBS/g1/a/012/BBS/RGB/5/4\n",
      "/home/hoseung/Work/data/BBS/g1/a/012/BBS/RGB/9/4\n",
      "/home/hoseung/Work/data/BBS/g1/a/012/BBS/RGB/10/4\n",
      "/home/hoseung/Work/data/BBS/g1/a/012/BBS/RGB/8/4\n",
      "/home/hoseung/Work/data/BBS/g1/a/013/BBS/RGB/13/4\n",
      "/home/hoseung/Work/data/BBS/g1/a/013/BBS/RGB/14/4\n",
      "/home/hoseung/Work/data/BBS/g1/a/013/BBS/RGB/11/4\n",
      "/home/hoseung/Work/data/BBS/g1/a/013/BBS/RGB/12/4\n",
      "/home/hoseung/Work/data/BBS/g1/a/013/BBS/RGB/1/4\n",
      "/home/hoseung/Work/data/BBS/g1/a/013/BBS/RGB/2/4\n",
      "/home/hoseung/Work/data/BBS/g1/a/013/BBS/RGB/6/4\n",
      "/home/hoseung/Work/data/BBS/g1/a/013/BBS/RGB/7/4\n",
      "/home/hoseung/Work/data/BBS/g1/a/013/BBS/RGB/4/4\n",
      "/home/hoseung/Work/data/BBS/g1/a/013/BBS/RGB/3/4\n",
      "/home/hoseung/Work/data/BBS/g1/a/013/BBS/RGB/5/4\n",
      "/home/hoseung/Work/data/BBS/g1/a/013/BBS/RGB/9/4\n",
      "/home/hoseung/Work/data/BBS/g1/a/013/BBS/RGB/10/4\n",
      "/home/hoseung/Work/data/BBS/g1/a/013/BBS/RGB/8/4\n",
      "/home/hoseung/Work/data/BBS/g1/a/014/BBS/RGB/13/3\n",
      "/home/hoseung/Work/data/BBS/g1/a/014/BBS/RGB/14/3\n",
      "/home/hoseung/Work/data/BBS/g1/a/014/BBS/RGB/11/3\n",
      "/home/hoseung/Work/data/BBS/g1/a/014/BBS/RGB/12/3\n",
      "/home/hoseung/Work/data/BBS/g1/a/014/BBS/RGB/1/3\n",
      "/home/hoseung/Work/data/BBS/g1/a/014/BBS/RGB/2/3\n",
      "/home/hoseung/Work/data/BBS/g1/a/014/BBS/RGB/6/3\n",
      "/home/hoseung/Work/data/BBS/g1/a/014/BBS/RGB/7/3\n",
      "/home/hoseung/Work/data/BBS/g1/a/014/BBS/RGB/4/3\n",
      "/home/hoseung/Work/data/BBS/g1/a/014/BBS/RGB/3/3\n",
      "/home/hoseung/Work/data/BBS/g1/a/014/BBS/RGB/5/3\n",
      "/home/hoseung/Work/data/BBS/g1/a/014/BBS/RGB/9/3\n",
      "/home/hoseung/Work/data/BBS/g1/a/014/BBS/RGB/10/3\n",
      "/home/hoseung/Work/data/BBS/g1/a/014/BBS/RGB/8/3\n",
      "/home/hoseung/Work/data/BBS/g1/a/015/BBS/RGB/13/3\n",
      "/home/hoseung/Work/data/BBS/g1/a/015/BBS/RGB/14/3\n",
      "/home/hoseung/Work/data/BBS/g1/a/015/BBS/RGB/11/3\n",
      "/home/hoseung/Work/data/BBS/g1/a/015/BBS/RGB/12/3\n",
      "/home/hoseung/Work/data/BBS/g1/a/015/BBS/RGB/1/3\n",
      "/home/hoseung/Work/data/BBS/g1/a/015/BBS/RGB/2/3\n",
      "/home/hoseung/Work/data/BBS/g1/a/015/BBS/RGB/6/3\n",
      "/home/hoseung/Work/data/BBS/g1/a/015/BBS/RGB/7/3\n",
      "/home/hoseung/Work/data/BBS/g1/a/015/BBS/RGB/4/3\n",
      "/home/hoseung/Work/data/BBS/g1/a/015/BBS/RGB/3/3\n",
      "/home/hoseung/Work/data/BBS/g1/a/015/BBS/RGB/5/3\n",
      "/home/hoseung/Work/data/BBS/g1/a/015/BBS/RGB/9/3\n",
      "/home/hoseung/Work/data/BBS/g1/a/015/BBS/RGB/10/3\n",
      "/home/hoseung/Work/data/BBS/g1/a/015/BBS/RGB/8/3\n",
      "/home/hoseung/Work/data/BBS/g1/a/016/BBS/RGB/13/2\n",
      "/home/hoseung/Work/data/BBS/g1/a/016/BBS/RGB/14/2\n",
      "/home/hoseung/Work/data/BBS/g1/a/016/BBS/RGB/11/2\n",
      "/home/hoseung/Work/data/BBS/g1/a/016/BBS/RGB/12/2\n",
      "/home/hoseung/Work/data/BBS/g1/a/016/BBS/RGB/1/2\n",
      "/home/hoseung/Work/data/BBS/g1/a/016/BBS/RGB/2/2\n",
      "/home/hoseung/Work/data/BBS/g1/a/016/BBS/RGB/6/2\n",
      "/home/hoseung/Work/data/BBS/g1/a/016/BBS/RGB/7/2\n",
      "/home/hoseung/Work/data/BBS/g1/a/016/BBS/RGB/4/2\n",
      "/home/hoseung/Work/data/BBS/g1/a/016/BBS/RGB/3/2\n",
      "/home/hoseung/Work/data/BBS/g1/a/016/BBS/RGB/5/2\n",
      "/home/hoseung/Work/data/BBS/g1/a/016/BBS/RGB/9/2\n",
      "/home/hoseung/Work/data/BBS/g1/a/016/BBS/RGB/10/2\n",
      "/home/hoseung/Work/data/BBS/g1/a/016/BBS/RGB/8/2\n",
      "/home/hoseung/Work/data/BBS/g1/a/017/BBS/RGB/13/2\n",
      "/home/hoseung/Work/data/BBS/g1/a/017/BBS/RGB/14/2\n",
      "/home/hoseung/Work/data/BBS/g1/a/017/BBS/RGB/11/2\n",
      "/home/hoseung/Work/data/BBS/g1/a/017/BBS/RGB/12/2\n",
      "/home/hoseung/Work/data/BBS/g1/a/017/BBS/RGB/1/2\n",
      "/home/hoseung/Work/data/BBS/g1/a/017/BBS/RGB/2/2\n",
      "/home/hoseung/Work/data/BBS/g1/a/017/BBS/RGB/6/2\n",
      "/home/hoseung/Work/data/BBS/g1/a/017/BBS/RGB/7/2\n",
      "/home/hoseung/Work/data/BBS/g1/a/017/BBS/RGB/4/2\n",
      "/home/hoseung/Work/data/BBS/g1/a/017/BBS/RGB/3/2\n",
      "/home/hoseung/Work/data/BBS/g1/a/017/BBS/RGB/5/2\n",
      "/home/hoseung/Work/data/BBS/g1/a/017/BBS/RGB/9/2\n",
      "/home/hoseung/Work/data/BBS/g1/a/017/BBS/RGB/10/2\n",
      "/home/hoseung/Work/data/BBS/g1/a/017/BBS/RGB/8/2\n",
      "/home/hoseung/Work/data/BBS/g1/a/018/BBS/RGB/13/1\n",
      "/home/hoseung/Work/data/BBS/g1/a/018/BBS/RGB/14/1\n",
      "/home/hoseung/Work/data/BBS/g1/a/018/BBS/RGB/11/1\n",
      "/home/hoseung/Work/data/BBS/g1/a/018/BBS/RGB/12/1\n",
      "/home/hoseung/Work/data/BBS/g1/a/018/BBS/RGB/1/1\n",
      "/home/hoseung/Work/data/BBS/g1/a/018/BBS/RGB/2/1\n",
      "/home/hoseung/Work/data/BBS/g1/a/018/BBS/RGB/6/1\n",
      "/home/hoseung/Work/data/BBS/g1/a/018/BBS/RGB/7/1\n",
      "/home/hoseung/Work/data/BBS/g1/a/018/BBS/RGB/4/1\n",
      "/home/hoseung/Work/data/BBS/g1/a/018/BBS/RGB/3/1\n",
      "/home/hoseung/Work/data/BBS/g1/a/018/BBS/RGB/5/1\n",
      "/home/hoseung/Work/data/BBS/g1/a/018/BBS/RGB/9/1\n",
      "/home/hoseung/Work/data/BBS/g1/a/018/BBS/RGB/10/1\n",
      "/home/hoseung/Work/data/BBS/g1/a/018/BBS/RGB/8/1\n",
      "/home/hoseung/Work/data/BBS/g1/a/019/BBS/RGB/13/1\n",
      "/home/hoseung/Work/data/BBS/g1/a/019/BBS/RGB/14/1\n",
      "/home/hoseung/Work/data/BBS/g1/a/019/BBS/RGB/11/1\n",
      "/home/hoseung/Work/data/BBS/g1/a/019/BBS/RGB/12/1\n",
      "/home/hoseung/Work/data/BBS/g1/a/019/BBS/RGB/1/1\n",
      "/home/hoseung/Work/data/BBS/g1/a/019/BBS/RGB/2/1\n",
      "/home/hoseung/Work/data/BBS/g1/a/019/BBS/RGB/6/1\n",
      "/home/hoseung/Work/data/BBS/g1/a/019/BBS/RGB/7/1\n",
      "/home/hoseung/Work/data/BBS/g1/a/019/BBS/RGB/4/1\n",
      "/home/hoseung/Work/data/BBS/g1/a/019/BBS/RGB/3/1\n",
      "/home/hoseung/Work/data/BBS/g1/a/019/BBS/RGB/5/1\n",
      "/home/hoseung/Work/data/BBS/g1/a/019/BBS/RGB/9/1\n",
      "/home/hoseung/Work/data/BBS/g1/a/019/BBS/RGB/10/1\n",
      "/home/hoseung/Work/data/BBS/g1/a/019/BBS/RGB/8/1\n",
      "/home/hoseung/Work/data/BBS/g1/a/020/BBS/RGB/13/0\n",
      "/home/hoseung/Work/data/BBS/g1/a/020/BBS/RGB/14/0\n",
      "/home/hoseung/Work/data/BBS/g1/a/020/BBS/RGB/11/0\n",
      "/home/hoseung/Work/data/BBS/g1/a/020/BBS/RGB/12/0\n",
      "/home/hoseung/Work/data/BBS/g1/a/020/BBS/RGB/1/0\n",
      "/home/hoseung/Work/data/BBS/g1/a/020/BBS/RGB/2/0\n",
      "/home/hoseung/Work/data/BBS/g1/a/020/BBS/RGB/6/0\n",
      "/home/hoseung/Work/data/BBS/g1/a/020/BBS/RGB/7/0\n",
      "/home/hoseung/Work/data/BBS/g1/a/020/BBS/RGB/4/0\n",
      "/home/hoseung/Work/data/BBS/g1/a/020/BBS/RGB/3/0\n",
      "/home/hoseung/Work/data/BBS/g1/a/020/BBS/RGB/5/0\n",
      "/home/hoseung/Work/data/BBS/g1/a/020/BBS/RGB/9/0\n",
      "/home/hoseung/Work/data/BBS/g1/a/020/BBS/RGB/10/0\n"
     ]
    },
    {
     "ename": "IndexError",
     "evalue": "list index out of range",
     "output_type": "error",
     "traceback": [
      "\u001b[0;31m---------------------------------------------------------------------------\u001b[0m",
      "\u001b[0;31mIndexError\u001b[0m                                Traceback (most recent call last)",
      "\u001b[0;32m/tmp/ipykernel_3217/2074279333.py\u001b[0m in \u001b[0;36m<module>\u001b[0;34m\u001b[0m\n\u001b[1;32m      4\u001b[0m         \u001b[0mcc\u001b[0m \u001b[0;34m=\u001b[0m \u001b[0mthis_fn\u001b[0m\u001b[0;34m.\u001b[0m\u001b[0msplit\u001b[0m\u001b[0;34m(\u001b[0m\u001b[0;34m\"/\"\u001b[0m\u001b[0;34m)\u001b[0m\u001b[0;34m[\u001b[0m\u001b[0;34m-\u001b[0m\u001b[0;36m3\u001b[0m\u001b[0;34m]\u001b[0m\u001b[0;34m\u001b[0m\u001b[0;34m\u001b[0m\u001b[0m\n\u001b[1;32m      5\u001b[0m         \u001b[0mccs\u001b[0m \u001b[0;34m=\u001b[0m \u001b[0mcc6\u001b[0m\u001b[0;34m[\u001b[0m\u001b[0mcc\u001b[0m\u001b[0;34m]\u001b[0m\u001b[0;34m\u001b[0m\u001b[0;34m\u001b[0m\u001b[0m\n\u001b[0;32m----> 6\u001b[0;31m         \u001b[0mdo_split\u001b[0m\u001b[0;34m(\u001b[0m\u001b[0mthis_fn\u001b[0m\u001b[0;34m,\u001b[0m \u001b[0mccs\u001b[0m\u001b[0;34m)\u001b[0m\u001b[0;34m\u001b[0m\u001b[0;34m\u001b[0m\u001b[0m\n\u001b[0m\u001b[1;32m      7\u001b[0m \u001b[0;34m\u001b[0m\u001b[0m\n",
      "\u001b[0;32m/tmp/ipykernel_3217/3419808182.py\u001b[0m in \u001b[0;36mdo_split\u001b[0;34m(fn, ccs)\u001b[0m\n\u001b[1;32m     33\u001b[0m \u001b[0;34m\u001b[0m\u001b[0m\n\u001b[1;32m     34\u001b[0m     \u001b[0;32mfor\u001b[0m \u001b[0mimg_list\u001b[0m\u001b[0;34m,\u001b[0m \u001b[0mnew_cc\u001b[0m \u001b[0;32min\u001b[0m \u001b[0mzip\u001b[0m\u001b[0;34m(\u001b[0m\u001b[0mimg_lists\u001b[0m\u001b[0;34m,\u001b[0m \u001b[0mccs\u001b[0m\u001b[0;34m)\u001b[0m\u001b[0;34m:\u001b[0m\u001b[0;34m\u001b[0m\u001b[0;34m\u001b[0m\u001b[0m\n\u001b[0;32m---> 35\u001b[0;31m         \u001b[0mnew_dir\u001b[0m \u001b[0;34m=\u001b[0m \u001b[0mImg_dir\u001b[0m\u001b[0;34m(\u001b[0m\u001b[0mimg_list\u001b[0m\u001b[0;34m[\u001b[0m\u001b[0;36m0\u001b[0m\u001b[0;34m]\u001b[0m\u001b[0;34m)\u001b[0m\u001b[0;34m\u001b[0m\u001b[0;34m\u001b[0m\u001b[0m\n\u001b[0m\u001b[1;32m     36\u001b[0m         \u001b[0mnd\u001b[0m \u001b[0;34m=\u001b[0m \u001b[0mnew_dir\u001b[0m\u001b[0;34m.\u001b[0m\u001b[0mupdate\u001b[0m\u001b[0;34m(\u001b[0m\u001b[0maction\u001b[0m\u001b[0;34m=\u001b[0m\u001b[0mnew_cc\u001b[0m\u001b[0;34m)\u001b[0m\u001b[0;34m\u001b[0m\u001b[0;34m\u001b[0m\u001b[0m\n\u001b[1;32m     37\u001b[0m         \u001b[0;32mif\u001b[0m \u001b[0;32mnot\u001b[0m \u001b[0mos\u001b[0m\u001b[0;34m.\u001b[0m\u001b[0mpath\u001b[0m\u001b[0;34m.\u001b[0m\u001b[0misdir\u001b[0m\u001b[0;34m(\u001b[0m\u001b[0mnd\u001b[0m\u001b[0;34m)\u001b[0m\u001b[0;34m:\u001b[0m\u001b[0;34m\u001b[0m\u001b[0;34m\u001b[0m\u001b[0m\n",
      "\u001b[0;31mIndexError\u001b[0m: list index out of range"
     ]
    }
   ],
   "source": [
    "for ID in chunk_6:\n",
    "    this_id = glob(f'/home/hoseung/Work/data/BBS/g1/d/{ID:03d}/BBS/BT/d/*/?/points_data.csv')\n",
    "    for this_fn in this_id:\n",
    "        cc = this_fn.split(\"/\")[-3]\n",
    "        ccs = cc6[cc]\n",
    "        do_split(this_fn, ccs, img_cam=\"e\")\n",
    "\n",
    "        \n",
    "for ID in chunk_5:\n",
    "    this_id = glob(f'/home/hoseung/Work/data/BBS/g1/d/{ID:03d}/BBS/BT/d/*/?/points_data.csv')\n",
    "    for this_fn in this_id:\n",
    "        cc = this_fn.split(\"/\")[-3]\n",
    "        ccs = cc5[cc]\n",
    "        do_split(this_fn, ccs, img_cam=\"e\")\n",
    "        \n",
    "        \n",
    "for ID in chunk_14:\n",
    "    this_id = glob(f'/home/hoseung/Work/data/BBS/g1/d/{ID:03d}/BBS/BT/d/*/?/points_data.csv')\n",
    "    for this_fn in this_id:\n",
    "        cc = this_fn.split(\"/\")[-3]\n",
    "        ccs = cc5[cc]\n",
    "        do_split(this_fn, ccs, img_cam=\"e\")\n",
    "        "
   ]
  },
  {
   "cell_type": "code",
   "execution_count": null,
   "id": "74df2e64",
   "metadata": {},
   "outputs": [],
   "source": []
  },
  {
   "cell_type": "markdown",
   "id": "62d06fcd",
   "metadata": {},
   "source": [
    "# Split PifPaf .json"
   ]
  },
  {
   "cell_type": "code",
   "execution_count": null,
   "id": "cc37e238",
   "metadata": {},
   "outputs": [],
   "source": [
    "for fn_to_split in chunked:\n",
    "    split_indices = \n",
    "    "
   ]
  },
  {
   "cell_type": "code",
   "execution_count": 5,
   "id": "ccb28bfc",
   "metadata": {},
   "outputs": [
    {
     "ename": "ModuleNotFoundError",
     "evalue": "No module named 'BBS_pp_utils'",
     "output_type": "error",
     "traceback": [
      "\u001b[0;31m---------------------------------------------------------------------------\u001b[0m",
      "\u001b[0;31mModuleNotFoundError\u001b[0m                       Traceback (most recent call last)",
      "\u001b[0;32m/tmp/ipykernel_3440/2569190082.py\u001b[0m in \u001b[0;36m<module>\u001b[0;34m\u001b[0m\n\u001b[0;32m----> 1\u001b[0;31m \u001b[0;32mfrom\u001b[0m \u001b[0mBBS_pp_utils\u001b[0m \u001b[0;32mimport\u001b[0m \u001b[0mjson_to_arr\u001b[0m\u001b[0;34m\u001b[0m\u001b[0;34m\u001b[0m\u001b[0m\n\u001b[0m",
      "\u001b[0;31mModuleNotFoundError\u001b[0m: No module named 'BBS_pp_utils'"
     ]
    }
   ],
   "source": [
    "from BBS_pp_utils import json_to_arr"
   ]
  },
  {
   "cell_type": "code",
   "execution_count": null,
   "id": "c06bcebb",
   "metadata": {},
   "outputs": [],
   "source": []
  },
  {
   "cell_type": "code",
   "execution_count": null,
   "id": "c3988e4a",
   "metadata": {},
   "outputs": [],
   "source": []
  }
 ],
 "metadata": {
  "kernelspec": {
   "display_name": "Python 3 (ipykernel)",
   "language": "python",
   "name": "python3"
  },
  "language_info": {
   "codemirror_mode": {
    "name": "ipython",
    "version": 3
   },
   "file_extension": ".py",
   "mimetype": "text/x-python",
   "name": "python",
   "nbconvert_exporter": "python",
   "pygments_lexer": "ipython3",
   "version": "3.9.0"
  }
 },
 "nbformat": 4,
 "nbformat_minor": 5
}
