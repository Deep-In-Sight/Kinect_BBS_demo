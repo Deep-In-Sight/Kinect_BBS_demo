{
 "cells": [
  {
   "cell_type": "markdown",
   "id": "d2a7ec4d",
   "metadata": {},
   "source": [
    "# 0. For the moment, communicating with localhost \n",
    "\n",
    "# 1. Save CKKS parms, keys, and Ciphertexts in C++\n",
    "\n",
    "# 2. Load them in Python\n",
    "\n",
    "# 3. Do a quick computation \n",
    "\n",
    "# 4. Save Ciphertext in a appropriate form \n",
    "to be sent over TCP/IP and then read by SEAL C++ "
   ]
  },
  {
   "cell_type": "code",
   "execution_count": 6,
   "id": "f50367b2",
   "metadata": {},
   "outputs": [],
   "source": [
    "import numpy as np\n",
    "\n",
    "import fase\n",
    "\n",
    "from fase import seal\n",
    "\n",
    "from io import StringIO, BytesIO"
   ]
  },
  {
   "cell_type": "code",
   "execution_count": 2,
   "id": "e2480c98",
   "metadata": {},
   "outputs": [
    {
     "name": "stdout",
     "output_type": "stream",
     "text": [
      "SEAL CKKS scheme is ready\n"
     ]
    }
   ],
   "source": [
    "from fase.core.common import HEAANContext, HEAANParameters, SEALContext\n",
    "\n",
    "# SEAL setup\n",
    "poly_modulus_degree = 16384\n",
    "coeff_moduli = [37, 28, 28, 28, 28, 28, 28, 28, 28, 28, 28, 28, 28, 28, 37]\n",
    "\n",
    "ckks_se = SEALContext(poly_modulus_degree=poly_modulus_degree,\n",
    "                             coeff_moduli=coeff_moduli,\n",
    "                             scale_bit=28)"
   ]
  },
  {
   "cell_type": "code",
   "execution_count": 3,
   "id": "3ea545d9",
   "metadata": {},
   "outputs": [],
   "source": [
    "parms = seal.EncryptionParameters(seal.scheme_type.ckks)"
   ]
  },
  {
   "cell_type": "code",
   "execution_count": 4,
   "id": "0ebc8e60",
   "metadata": {},
   "outputs": [],
   "source": [
    "ckks_se.parms.save(\"prams.sav\")"
   ]
  },
  {
   "cell_type": "markdown",
   "id": "5b8bb737",
   "metadata": {},
   "source": [
    "## Ciphertext를 파일로 저장했다가 파일에서 로드하는거 가능"
   ]
  },
  {
   "cell_type": "code",
   "execution_count": 5,
   "id": "d6d2d986",
   "metadata": {},
   "outputs": [],
   "source": [
    "sk = ckks_se.sk"
   ]
  },
  {
   "cell_type": "code",
   "execution_count": 6,
   "id": "432938ac",
   "metadata": {},
   "outputs": [],
   "source": [
    "enc = ckks_se.encrypt([830422])\n",
    "\n",
    "fn_out = './enc.dat'\n",
    "enc.save(fn_out)"
   ]
  },
  {
   "cell_type": "markdown",
   "id": "55d7a7b6",
   "metadata": {},
   "source": [
    "## 파라미터를 파일로 저장했다가 파일에서 로드 가능"
   ]
  },
  {
   "cell_type": "code",
   "execution_count": 26,
   "id": "15a84172",
   "metadata": {},
   "outputs": [],
   "source": [
    "parms = seal.EncryptionParameters(seal.scheme_type.ckks)"
   ]
  },
  {
   "cell_type": "code",
   "execution_count": 27,
   "id": "bb07437d",
   "metadata": {},
   "outputs": [],
   "source": [
    "parms.load('./prams.sav')"
   ]
  },
  {
   "cell_type": "code",
   "execution_count": 29,
   "id": "7f438223",
   "metadata": {},
   "outputs": [
    {
     "data": {
      "text/plain": [
       "16384"
      ]
     },
     "execution_count": 29,
     "metadata": {},
     "output_type": "execute_result"
    }
   ],
   "source": [
    "parms.poly_modulus_degree()"
   ]
  },
  {
   "cell_type": "code",
   "execution_count": null,
   "id": "c28acf24",
   "metadata": {},
   "outputs": [],
   "source": []
  },
  {
   "cell_type": "markdown",
   "id": "07bcb679",
   "metadata": {},
   "source": [
    "## 파일을 socket으로 전송\n",
    "### Qt에서 자동으로 call 하도록 변경"
   ]
  },
  {
   "cell_type": "code",
   "execution_count": 1,
   "id": "805f1027",
   "metadata": {},
   "outputs": [],
   "source": [
    "import numpy as np \n",
    "\n",
    "def smoothed_frame_N(scene, nframe = 10, window_size = 5, shift=0):\n",
    "    FPS_ORIGINAL=10 # 인 것 같음...\n",
    "    \n",
    "    nskip = int((len(scene)-shift) / nframe)\n",
    "    #nframe = np.ceil((len(scene) - window_size)/ nskip).astype(int)\n",
    "\n",
    "    sub = np.zeros(nframe, dtype=scene.dtype) #scene.dtype - frame\n",
    "\n",
    "    for i in range(nframe):\n",
    "        temp = scene[i*nskip+shift:i*nskip+window_size+shift]\n",
    "\n",
    "        for feat in temp.dtype.names: # recarry라서 한 번에 np.mean 불가능\n",
    "            sub[i][feat] = np.median(temp[feat])\n",
    "\n",
    "    return sub\n",
    "\n",
    "\n",
    "def ravel_rec(sub, return_feature=False):\n",
    "    vec=[]\n",
    "#     if return_feature:\n",
    "#         features=[]\n",
    "#         for line in sub:\n",
    "#             this_line=[]\n",
    "#             for ff in line.dtype.names:\n",
    "#                 if ff not in \"frame\":\n",
    "#                     this_line.append(line[ff])\n",
    "#                     features.append(ff)\n",
    "#             vec.extend(this_line)\n",
    "                    \n",
    "#         return features, np.array(vec)\n",
    "#     else:\n",
    "    for line in sub:\n",
    "        vec.extend([line[ff] for ff in line.dtype.names if ff not in \"frame\"])\n",
    "\n",
    "    return np.array(vec)"
   ]
  },
  {
   "cell_type": "code",
   "execution_count": 2,
   "id": "8b2dd949",
   "metadata": {},
   "outputs": [],
   "source": [
    "import kinect_utils as ku\n",
    "import pickle\n",
    "\n",
    "def do_preprocess(point_pickle):\n",
    "    #point_pickle = \"/home/hoseung/Work/Kinect/pykinect_BBS/G1/000/BT/bodytracking_data.pickle\"\n",
    "    klist = pickle.load(open(point_pickle, \"rb\"))\n",
    "\n",
    "    scene = ku.kinect2mobile_direct(klist)\n",
    "\n",
    "    nframe = 10 \n",
    "    shift=0\n",
    "    sub = smoothed_frame_N(scene, nframe=nframe, shift=shift)\n",
    "    rav_sub = ravel_rec(sub)[np.newaxis, :]\n",
    "    pickle.dump(rav_sub, open(\"rav_example.pickle\", \"wb\"))"
   ]
  },
  {
   "cell_type": "code",
   "execution_count": 13,
   "id": "753fd7b2",
   "metadata": {},
   "outputs": [],
   "source": [
    "import tqdm\n",
    "import socket\n",
    "import os\n",
    "import time\n",
    "\n",
    "SEPARATOR = \"<sep>\"\n",
    "fn_out = ['whole_rf.pickle','./enc.dat',\n",
    "          \"/home/hoseung/Work/Kinect/pykinect_BBS/G1/000/BT/bodytracking_data.pickle\",\n",
    "          \"/home/hoseung/Work/fhenrf/pose/rav_example.pickle\"][3]\n",
    "\n",
    "host = ['10.100.82.54', '10.100.82.55', socket.gethostname()][2]\n",
    "\n",
    "point_pickle = \"/home/hoseung/Work/Kinect/pykinect_BBS/G1/000/BT/bodytracking_data.pickle\"\n",
    "\n",
    "\n",
    "while not os.path.exists(point_pickle):\n",
    "    time.sleep(1)\n",
    "    \n",
    "do_preprocess(point_pickle)"
   ]
  },
  {
   "cell_type": "code",
   "execution_count": 20,
   "id": "b875a72c",
   "metadata": {},
   "outputs": [],
   "source": [
    "port = 9999\n",
    "\n",
    "s = socket.socket(socket.AF_INET, socket.SOCK_STREAM)\n",
    "# AF_INET = IPv4 \n",
    "\n",
    "s.connect((host, port))\n",
    "\n",
    "#BUFFER_SIZE=4096\n",
    "END_MARKER=\"END\""
   ]
  },
  {
   "cell_type": "code",
   "execution_count": 21,
   "id": "e4c02ae8",
   "metadata": {},
   "outputs": [
    {
     "name": "stderr",
     "output_type": "stream",
     "text": [
      "Sending /home/hoseung/Work/fhenrf/pose/rav_example.pickle: 100%|████████████| 2.49k/2.49k [00:17<00:00, 144B/s]\n"
     ]
    }
   ],
   "source": [
    "filesize = os.path.getsize(fn_out)\n",
    "BUFFER_SIZE = filesize\n",
    "\n",
    "s.send(f\"{fn_out}{SEPARATOR}{filesize}\".encode())\n",
    "s.send(f\"{fn_out}{SEPARATOR}{filesize}\".encode())\n",
    "\n",
    "# start sending the file\n",
    "progress = tqdm.tqdm(range(filesize), f\"Sending {fn_out}\", unit=\"B\", unit_scale=True, unit_divisor=1024)\n",
    "with open(fn_out, \"rb\") as f:\n",
    "    while True:\n",
    "        # read the bytes from the file\n",
    "        bytes_read = f.read(BUFFER_SIZE)\n",
    "        if not bytes_read:\n",
    "            # file transmitting is done\n",
    "            #s.sendall(bytes(END_MARKER, \"utf-8\"))\n",
    "            break\n",
    "        # we use sendall to assure transimission in \n",
    "        # busy networks\n",
    "        s.sendall(bytes_read)\n",
    "        # update the progress bar\n",
    "        progress.update(len(bytes_read))\n",
    "#server_message = s.recv(1024).decode()"
   ]
  },
  {
   "cell_type": "code",
   "execution_count": 19,
   "id": "03ffa5a1",
   "metadata": {},
   "outputs": [],
   "source": [
    "s.close()"
   ]
  },
  {
   "cell_type": "code",
   "execution_count": null,
   "id": "f6fbdd48",
   "metadata": {},
   "outputs": [],
   "source": []
  },
  {
   "cell_type": "code",
   "execution_count": 6,
   "id": "456c77d6",
   "metadata": {},
   "outputs": [
    {
     "name": "stdout",
     "output_type": "stream",
     "text": [
      "New client created:\n",
      "Me: 1\n",
      "sending... \n"
     ]
    },
    {
     "ename": "KeyboardInterrupt",
     "evalue": "",
     "output_type": "error",
     "traceback": [
      "\u001b[0;31m---------------------------------------------------------------------------\u001b[0m",
      "\u001b[0;31mKeyboardInterrupt\u001b[0m                         Traceback (most recent call last)",
      "\u001b[0;32m/tmp/ipykernel_358036/2284998786.py\u001b[0m in \u001b[0;36m<module>\u001b[0;34m\u001b[0m\n\u001b[1;32m     28\u001b[0m             \u001b[0ms\u001b[0m\u001b[0;34m.\u001b[0m\u001b[0msendall\u001b[0m\u001b[0;34m(\u001b[0m\u001b[0mbytes_read\u001b[0m\u001b[0;34m)\u001b[0m\u001b[0;34m\u001b[0m\u001b[0;34m\u001b[0m\u001b[0m\n\u001b[1;32m     29\u001b[0m \u001b[0;34m\u001b[0m\u001b[0m\n\u001b[0;32m---> 30\u001b[0;31m     \u001b[0mmsg_received\u001b[0m \u001b[0;34m=\u001b[0m \u001b[0ms\u001b[0m\u001b[0;34m.\u001b[0m\u001b[0mrecv\u001b[0m\u001b[0;34m(\u001b[0m\u001b[0;36m1024\u001b[0m\u001b[0;34m)\u001b[0m\u001b[0;34m\u001b[0m\u001b[0;34m\u001b[0m\u001b[0m\n\u001b[0m\u001b[1;32m     31\u001b[0m     \u001b[0mmsg_received\u001b[0m \u001b[0;34m=\u001b[0m \u001b[0mmsg_received\u001b[0m\u001b[0;34m.\u001b[0m\u001b[0mdecode\u001b[0m\u001b[0;34m(\u001b[0m\u001b[0;34m)\u001b[0m\u001b[0;34m\u001b[0m\u001b[0;34m\u001b[0m\u001b[0m\n\u001b[1;32m     32\u001b[0m     \u001b[0mprint\u001b[0m\u001b[0;34m(\u001b[0m\u001b[0;34m\"Server:\"\u001b[0m\u001b[0;34m,\u001b[0m\u001b[0mmsg_received\u001b[0m\u001b[0;34m)\u001b[0m\u001b[0;34m\u001b[0m\u001b[0;34m\u001b[0m\u001b[0m\n",
      "\u001b[0;31mKeyboardInterrupt\u001b[0m: "
     ]
    }
   ],
   "source": [
    "import socket\n",
    "s = socket.socket(socket.AF_INET,socket.SOCK_STREAM)\n",
    "LOCALHOST = '127.0.0.1'\n",
    "port = 9990\n",
    "\n",
    "s.connect((LOCALHOST,port))\n",
    "print(\"New client created:\")\n",
    "\n",
    "while True:\n",
    "    client_message = input(\"Me: \")\n",
    "    s.sendall(client_message.encode())\n",
    "    \n",
    "    \n",
    "    filesize = os.path.getsize(fn_out)\n",
    "    BUFFER_SIZE = filesize\n",
    "    s.send(f\"{fn_out}{SEPARATOR}{filesize}\".encode())\n",
    "    with open(fn_out, \"rb\") as f:\n",
    "        print(\"sending... \")\n",
    "        while True:\n",
    "            # read the bytes from the file\n",
    "            bytes_read = f.read(BUFFER_SIZE)\n",
    "            if not bytes_read:\n",
    "                # file transmitting is done\n",
    "                #s.sendall(bytes(END_MARKER, \"utf-8\"))\n",
    "                break\n",
    "            # we use sendall to assure transimission in \n",
    "            # busy networks\n",
    "            s.sendall(bytes_read)\n",
    "\n",
    "    msg_received = s.recv(1024)\n",
    "    msg_received = msg_received.decode()\n",
    "    print(\"Server:\",msg_received)\n",
    "\n",
    "    if msg_received == 'exit':\n",
    "        s.sendall(\"ByeBye\".encode())\n",
    "        break;\n",
    "s.close()\n"
   ]
  },
  {
   "cell_type": "markdown",
   "id": "decb67ae",
   "metadata": {},
   "source": [
    "##### "
   ]
  }
 ],
 "metadata": {
  "kernelspec": {
   "display_name": "Python 3 (ipykernel)",
   "language": "python",
   "name": "python3"
  },
  "language_info": {
   "codemirror_mode": {
    "name": "ipython",
    "version": 3
   },
   "file_extension": ".py",
   "mimetype": "text/x-python",
   "name": "python",
   "nbconvert_exporter": "python",
   "pygments_lexer": "ipython3",
   "version": "3.9.0"
  }
 },
 "nbformat": 4,
 "nbformat_minor": 5
}
