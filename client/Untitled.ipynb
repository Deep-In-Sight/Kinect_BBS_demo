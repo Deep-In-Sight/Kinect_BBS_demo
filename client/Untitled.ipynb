{
 "cells": [
  {
   "cell_type": "code",
   "execution_count": 1,
   "id": "6a0c9e8a",
   "metadata": {},
   "outputs": [
    {
     "name": "stdout",
     "output_type": "stream",
     "text": [
      "Failed to find MPV\n",
      "Going for totem\n",
      "Using CPU version HEAAN\n",
      "Using CPU version HEAAN\n",
      "/home/hoseung/Work/FHE/fase2/fase/hnrf/heaan_nrf.py\n"
     ]
    }
   ],
   "source": [
    "#from fase import HEAAN\n",
    "import fase.HEAAN as he\n",
    "import numpy as np\n",
    "import os \n",
    "import pickle\n",
    "import time\n",
    "import tarfile\n",
    "from bbsQt.constants import CAM_NAMES, FN_KEYS, HEAAN_CONTEXT_PARAMS, DEBUG, FN_SK, cert\n",
    "import torch\n",
    "from time import sleep\n",
    "import requests\n",
    "from urllib.parse import unquote\n",
    "from fase.hnrf.hetree import HNRF\n",
    "from fase.hnrf import heaan_nrf\n",
    "from fase.hnrf.tree import NeuralTreeMaker\n",
    "\n",
    "print(heaan_nrf.__file__)"
   ]
  },
  {
   "cell_type": "code",
   "execution_count": 2,
   "id": "933a1203",
   "metadata": {},
   "outputs": [],
   "source": [
    "client_save_dir = \"./client_results\"\n",
    "\n",
    "class Param():\n",
    "    def __init__(self, n=None, logn=None, logp=None, logq=None, logQboot=None):\n",
    "        self.n = n\n",
    "        self.logn = logn\n",
    "        self.logp = logp\n",
    "        self.logq = logq \n",
    "        self.logQboot = logQboot\n",
    "        if self.logn == None:\n",
    "            self.logn = int(np.log2(n))\n",
    "\n",
    "\n",
    "class HEAAN_Encryptor():\n",
    "    def __init__(self, key_path=\"./serkey/\", \n",
    "                debug=True,\n",
    "                is_serialized = True):\n",
    "        \n",
    "        #self.server_url = f\"https://{server_url}\"\n",
    "        #print(\"Paired with server at\", self.server_url)\n",
    "        #self.model_dir = \"./models/\"\n",
    "\n",
    "        self.logq = HEAAN_CONTEXT_PARAMS['logq']#540\n",
    "        self.logp = HEAAN_CONTEXT_PARAMS['logp']#30\n",
    "        self.logn = HEAAN_CONTEXT_PARAMS['logn']#14\n",
    "        n = 1*2**self.logn\n",
    "        \n",
    "\n",
    "        self.parms = Param(n=n, logp=self.logp, logq=self.logq)\n",
    "        self.key_path = key_path\n",
    "        if debug: print(\"[ENCRYPTOR] key path\", key_path)\n",
    "\n",
    "        # Make dirs\n",
    "        if not os.path.isdir(key_path): os.mkdir(key_path)\n",
    "        if not os.path.isdir(client_save_dir): os.mkdir(client_save_dir)\n",
    "\n",
    "        self.ring = he.Ring()\n",
    "        print(\"Loading secret key\", key_path+FN_SK)\n",
    "        self.secretKey = he.SecretKey(key_path+FN_SK)\n",
    "        self.scheme = he.Scheme(self.ring, is_serialized, key_path)\n",
    "        self.algo = he.SchemeAlgo(self.scheme)"
   ]
  },
  {
   "cell_type": "code",
   "execution_count": 3,
   "id": "e56bb90f",
   "metadata": {},
   "outputs": [
    {
     "data": {
      "text/plain": [
       "'/home/hoseung/Work/FHE/Kinect_BBS_demo/client'"
      ]
     },
     "execution_count": 3,
     "metadata": {},
     "output_type": "execute_result"
    }
   ],
   "source": [
    "pwd"
   ]
  },
  {
   "cell_type": "markdown",
   "id": "54615454",
   "metadata": {},
   "source": [
    "파일이 없는데 왜 자꾸 있다고...... !!!! \n",
    "\n",
    "serialize + ? = 저장\n",
    "serialize + ?? = 로드 \n",
    "\n",
    "규칙이 뭐야 좀 이상하네. \n",
    "\n",
    "\n"
   ]
  },
  {
   "cell_type": "markdown",
   "id": "447f6f4a",
   "metadata": {},
   "source": [
    "### Key 만들고 저장"
   ]
  },
  {
   "cell_type": "code",
   "execution_count": 15,
   "id": "53a98215",
   "metadata": {},
   "outputs": [
    {
     "data": {
      "text/plain": [
       "'/home/hoseung/Work/FHE/Kinect_BBS_demo/client/'"
      ]
     },
     "execution_count": 15,
     "metadata": {},
     "output_type": "execute_result"
    }
   ],
   "source": [
    "encryptor.key_path"
   ]
  },
  {
   "cell_type": "code",
   "execution_count": 5,
   "id": "48997c9f",
   "metadata": {},
   "outputs": [
    {
     "name": "stdout",
     "output_type": "stream",
     "text": [
      "[ENCRYPTOR] key path /home/hoseung/Work/FHE/Kinect_BBS_demo/client/\n",
      "Loading secret key /home/hoseung/Work/FHE/Kinect_BBS_demo/client/secret.key\n",
      "loading secret key done.\n"
     ]
    },
    {
     "name": "stderr",
     "output_type": "stream",
     "text": [
      "An error occurred while opening the file.\n",
      "An error occurred while opening the file.\n"
     ]
    }
   ],
   "source": [
    "encryptor = HEAAN_Encryptor(key_path=\"/home/hoseung/Work/FHE/Kinect_BBS_demo/client/\", is_serialized=True)"
   ]
  },
  {
   "cell_type": "code",
   "execution_count": 8,
   "id": "77d7637b",
   "metadata": {},
   "outputs": [],
   "source": [
    "import fase"
   ]
  },
  {
   "cell_type": "code",
   "execution_count": 9,
   "id": "d9555b93",
   "metadata": {},
   "outputs": [
    {
     "data": {
      "text/plain": [
       "['/home/hoseung/Work/FHE/fase2/fase']"
      ]
     },
     "execution_count": 9,
     "metadata": {},
     "output_type": "execute_result"
    }
   ],
   "source": [
    "fase.__path__"
   ]
  },
  {
   "cell_type": "code",
   "execution_count": null,
   "id": "e027f464",
   "metadata": {},
   "outputs": [],
   "source": []
  }
 ],
 "metadata": {
  "kernelspec": {
   "display_name": "Python 3 (ipykernel)",
   "language": "python",
   "name": "python3"
  },
  "language_info": {
   "codemirror_mode": {
    "name": "ipython",
    "version": 3
   },
   "file_extension": ".py",
   "mimetype": "text/x-python",
   "name": "python",
   "nbconvert_exporter": "python",
   "pygments_lexer": "ipython3",
   "version": "3.10.11"
  }
 },
 "nbformat": 4,
 "nbformat_minor": 5
}
