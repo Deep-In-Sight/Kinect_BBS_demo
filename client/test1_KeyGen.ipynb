{
 "cells": [
  {
   "cell_type": "code",
   "execution_count": 1,
   "id": "69793f29-1167-4df3-98e9-348fbb28025d",
   "metadata": {},
   "outputs": [
    {
     "name": "stdout",
     "output_type": "stream",
     "text": [
      "Using CPU version HEAAN\n",
      "Using CPU version HEAAN\n"
     ]
    }
   ],
   "source": [
    "from fase.core.heaan import HEAANContext"
   ]
  },
  {
   "cell_type": "code",
   "execution_count": 2,
   "id": "bb738619-5c07-4a3e-abbc-8e627d47a6c5",
   "metadata": {},
   "outputs": [
    {
     "name": "stdout",
     "output_type": "stream",
     "text": [
      "Failed to find MPV\n",
      "Going for totem\n"
     ]
    }
   ],
   "source": [
    "from client.encryptor import HEAANEncryptor"
   ]
  },
  {
   "cell_type": "code",
   "execution_count": null,
   "id": "1380478a-c199-4e2e-aaf3-4d03743e2c51",
   "metadata": {},
   "outputs": [],
   "source": [
    "henc = HEAANEncryptor(args.HOST, constants.CERTIFICATE, work_dir)"
   ]
  }
 ],
 "metadata": {
  "kernelspec": {
   "display_name": "Python 3 (ipykernel)",
   "language": "python",
   "name": "python3"
  },
  "language_info": {
   "codemirror_mode": {
    "name": "ipython",
    "version": 3
   },
   "file_extension": ".py",
   "mimetype": "text/x-python",
   "name": "python",
   "nbconvert_exporter": "python",
   "pygments_lexer": "ipython3",
   "version": "3.10.13"
  }
 },
 "nbformat": 4,
 "nbformat_minor": 5
}
