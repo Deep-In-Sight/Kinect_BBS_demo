{
 "cells": [
  {
   "cell_type": "code",
   "execution_count": 6,
   "id": "4c73de97-0cd5-4da3-b84c-b0794fde10a4",
   "metadata": {},
   "outputs": [],
   "source": [
    "import numpy as np\n",
    "from fase.core.heaan import HEAANContext\n",
    "from client.encryptor import HEAANEncryptor"
   ]
  },
  {
   "cell_type": "markdown",
   "id": "8ec8be9c-d774-4f84-b5a9-508b8001f0e1",
   "metadata": {},
   "source": [
    "HEAAN에서 키 만드는 과정:\n",
    "따로 key 생성 명령이 있지 않고 이미 지정된 path에 키가 있으면 키를 load하고  \n",
    "아니면 새로 만듦.\n",
    "\n",
    "control이 없다는 면은 불만스럽지만... 대충 쓰기엔 편함.  \n",
    "Key Gen 버튼 따로 안 만들어도 필요한 최소한의 키 파일이 항상 준비될 것.  "
   ]
  },
  {
   "cell_type": "code",
   "execution_count": 2,
   "id": "1380478a-c199-4e2e-aaf3-4d03743e2c51",
   "metadata": {},
   "outputs": [
    {
     "name": "stdout",
     "output_type": "stream",
     "text": [
      "[ENCRYPTOR] key path ./\n",
      "Initializing the scheme as the data owner\n",
      "saving secret key done.\n",
      "HEAAN CKKS setup is ready \n"
     ]
    },
    {
     "ename": "FileNotFoundError",
     "evalue": "[Errno 2] No such file or directory: './models/Nmodel_1_e.pickle'",
     "output_type": "error",
     "traceback": [
      "\u001b[0;31m---------------------------------------------------------------------------\u001b[0m",
      "\u001b[0;31mFileNotFoundError\u001b[0m                         Traceback (most recent call last)",
      "Cell \u001b[0;32mIn[2], line 1\u001b[0m\n\u001b[0;32m----> 1\u001b[0m henc \u001b[38;5;241m=\u001b[39m \u001b[43mHEAANEncryptor\u001b[49m\u001b[43m(\u001b[49m\u001b[38;5;124;43m\"\u001b[39;49m\u001b[38;5;124;43m./\u001b[39;49m\u001b[38;5;124;43m\"\u001b[39;49m\u001b[43m)\u001b[49m\n",
      "File \u001b[0;32m~/Work/Kinect_BBS_demo/client/encryptor.py:52\u001b[0m, in \u001b[0;36mHEAANEncryptor.__init__\u001b[0;34m(self, work_dir, debug)\u001b[0m\n\u001b[1;32m     40\u001b[0m \u001b[38;5;28mself\u001b[39m\u001b[38;5;241m.\u001b[39mhec \u001b[38;5;241m=\u001b[39m HEAANContext(logn, logp, logq, rot_l\u001b[38;5;241m=\u001b[39m[\u001b[38;5;241m1\u001b[39m], \n\u001b[1;32m     41\u001b[0m     key_path\u001b[38;5;241m=\u001b[39m\u001b[38;5;28mself\u001b[39m\u001b[38;5;241m.\u001b[39mwork_dir,\n\u001b[1;32m     42\u001b[0m     FN_SK\u001b[38;5;241m=\u001b[39m\u001b[38;5;124m\"\u001b[39m\u001b[38;5;124msecret.key\u001b[39m\u001b[38;5;124m\"\u001b[39m,\n\u001b[0;32m   (...)\u001b[0m\n\u001b[1;32m     45\u001b[0m     load_sk\u001b[38;5;241m=\u001b[39m\u001b[38;5;28;01mFalse\u001b[39;00m\n\u001b[1;32m     46\u001b[0m     )\n\u001b[1;32m     48\u001b[0m \u001b[38;5;66;03m# print(\"FHE Keys are set\", self.work_dir)\u001b[39;00m\n\u001b[1;32m     49\u001b[0m \u001b[38;5;66;03m# if not self.comm.send_keys(self.work_dir):\u001b[39;00m\n\u001b[1;32m     50\u001b[0m \u001b[38;5;66;03m#     raise ConnectionError(\"Can't send keys to the server\")\u001b[39;00m\n\u001b[0;32m---> 52\u001b[0m \u001b[38;5;28;43mself\u001b[39;49m\u001b[38;5;241;43m.\u001b[39;49m\u001b[43mset_featurizers\u001b[49m\u001b[43m(\u001b[49m\u001b[43m)\u001b[49m\n\u001b[1;32m     53\u001b[0m \u001b[38;5;28mself\u001b[39m\u001b[38;5;241m.\u001b[39mload_scalers()\n\u001b[1;32m     55\u001b[0m \u001b[38;5;28;01mif\u001b[39;00m debug: \u001b[38;5;28mprint\u001b[39m(\u001b[38;5;124m\"\u001b[39m\u001b[38;5;124m[Encryptor] HEAAN is ready\u001b[39m\u001b[38;5;124m\"\u001b[39m)\n",
      "File \u001b[0;32m~/Work/Kinect_BBS_demo/client/encryptor.py:69\u001b[0m, in \u001b[0;36mHEAANEncryptor.set_featurizers\u001b[0;34m(self)\u001b[0m\n\u001b[1;32m     67\u001b[0m \u001b[38;5;28;01mfor\u001b[39;00m action \u001b[38;5;129;01min\u001b[39;00m \u001b[38;5;28mrange\u001b[39m(\u001b[38;5;241m1\u001b[39m,\u001b[38;5;241m15\u001b[39m):\n\u001b[1;32m     68\u001b[0m     cam \u001b[38;5;241m=\u001b[39m CAM_NAMES[action]\n\u001b[0;32m---> 69\u001b[0m     Nmodel \u001b[38;5;241m=\u001b[39m pickle\u001b[38;5;241m.\u001b[39mload(\u001b[38;5;28;43mopen\u001b[39;49m\u001b[43m(\u001b[49m\u001b[43mos\u001b[49m\u001b[38;5;241;43m.\u001b[39;49m\u001b[43mpath\u001b[49m\u001b[38;5;241;43m.\u001b[39;49m\u001b[43mjoin\u001b[49m\u001b[43m(\u001b[49m\u001b[38;5;28;43mself\u001b[39;49m\u001b[38;5;241;43m.\u001b[39;49m\u001b[43mmodel_dir\u001b[49m\u001b[43m,\u001b[49m\u001b[43m \u001b[49m\u001b[38;5;124;43mf\u001b[39;49m\u001b[38;5;124;43m\"\u001b[39;49m\u001b[38;5;124;43mNmodel_\u001b[39;49m\u001b[38;5;132;43;01m{\u001b[39;49;00m\u001b[43maction\u001b[49m\u001b[38;5;132;43;01m}\u001b[39;49;00m\u001b[38;5;124;43m_\u001b[39;49m\u001b[38;5;132;43;01m{\u001b[39;49;00m\u001b[43mcam\u001b[49m\u001b[38;5;132;43;01m}\u001b[39;49;00m\u001b[38;5;124;43m.pickle\u001b[39;49m\u001b[38;5;124;43m\"\u001b[39;49m\u001b[43m)\u001b[49m\u001b[43m,\u001b[49m\u001b[43m \u001b[49m\u001b[38;5;124;43m\"\u001b[39;49m\u001b[38;5;124;43mrb\u001b[39;49m\u001b[38;5;124;43m\"\u001b[39;49m\u001b[43m)\u001b[49m)\n\u001b[1;32m     70\u001b[0m     h_rf \u001b[38;5;241m=\u001b[39m HNRF(Nmodel)\n\u001b[1;32m     71\u001b[0m     featurizers\u001b[38;5;241m.\u001b[39mappend((\u001b[38;5;124mf\u001b[39m\u001b[38;5;124m\"\u001b[39m\u001b[38;5;132;01m{\u001b[39;00maction\u001b[38;5;132;01m}\u001b[39;00m\u001b[38;5;124m_\u001b[39m\u001b[38;5;132;01m{\u001b[39;00mcam\u001b[38;5;132;01m}\u001b[39;00m\u001b[38;5;124m\"\u001b[39m, HETreeFeaturizer(h_rf\u001b[38;5;241m.\u001b[39mreturn_comparator(), scheme, parms)))\n",
      "\u001b[0;31mFileNotFoundError\u001b[0m: [Errno 2] No such file or directory: './models/Nmodel_1_e.pickle'"
     ]
    }
   ],
   "source": [
    "henc = HEAANEncryptor(\"./\")"
   ]
  },
  {
   "cell_type": "markdown",
   "id": "a639c0d8-e1ff-4cde-b8d8-243c45ef30f4",
   "metadata": {},
   "source": [
    "Class intiailzation stage"
   ]
  },
  {
   "cell_type": "code",
   "execution_count": 7,
   "id": "d3fd7b22-f907-407c-9b6a-06718e4a5d33",
   "metadata": {},
   "outputs": [
    {
     "name": "stdout",
     "output_type": "stream",
     "text": [
      "Initializing the scheme as the data owner\n",
      "saving secret key done.\n",
      "HEAAN CKKS setup is ready \n"
     ]
    }
   ],
   "source": [
    "from bbs_client.constants import CAM_NAMES, HEAAN_CONTEXT_PARAMS\n",
    "\n",
    "class Param():\n",
    "    \"\"\"FHE parameters used by the HEAAN Encryptor.\n",
    "    \"\"\"\n",
    "    def __init__(self, n=None, logn=None, logp=None, logq=None, logQboot=None):\n",
    "        self.n = n\n",
    "        self.logn = logn\n",
    "        self.logp = logp\n",
    "        self.logq = logq \n",
    "        self.logQboot = logQboot\n",
    "        if self.logn == None:\n",
    "            self.logn = int(np.log2(n))\n",
    "\n",
    "\n",
    "work_dir = \"./\"\n",
    "\n",
    "logq = HEAAN_CONTEXT_PARAMS['logq']#540\n",
    "logp = HEAAN_CONTEXT_PARAMS['logp']#30\n",
    "logn = HEAAN_CONTEXT_PARAMS['logn']#14\n",
    "n = 1*2**logn\n",
    "\n",
    "parms = Param(n=n, logp=logp, logq=logq)\n",
    "hec = HEAANContext(logn, logp, logq, rot_l=[1], \n",
    "    key_path=work_dir,\n",
    "    FN_SK=\"secret.key\",\n",
    "    boot=False, \n",
    "    is_owner=True,\n",
    "    load_sk=False\n",
    "    )"
   ]
  },
  {
   "cell_type": "code",
   "execution_count": null,
   "id": "a7cb110c-7337-4195-bd73-85380ba7ea89",
   "metadata": {},
   "outputs": [],
   "source": [
    "import sys\n",
    "import os\n",
    "import hashlib\n",
    "from PyQt5.QtWidgets import QApplication, QWidget, QVBoxLayout, QTextEdit"
   ]
  },
  {
   "cell_type": "code",
   "execution_count": 51,
   "id": "fe3de128-f2b8-4b39-aac3-41ff649e1354",
   "metadata": {},
   "outputs": [],
   "source": [
    "class Checksum():\n",
    "    def __init__(self, work_dir = \"./\"):\n",
    "        self.work_dir = work_dir\n",
    "        self._fn_chekcsum = os.path.join(self.work_dir, \"checksum.txt\")\n",
    "        self._fn_keys = [\"EncKey.txt\", \"MulKey.txt\", \"RotKey_1.txt\", \"secret.key\"]\n",
    "\n",
    "    def _calculate_checksum(self):\n",
    "        dd = []\n",
    "        for key in self._fn_keys:\n",
    "            fn = os.path.join(self.work_dir, key)\n",
    "            dd.append((key, self._get_md5sum(fn)))\n",
    "\n",
    "        return dict(dd)\n",
    "\n",
    "    def save_checksum(self):\n",
    "        sums = self._calculate_checksum()\n",
    "        with open(self._fn_chekcsum, \"w\") as f:\n",
    "            for key in self._fn_keys:\n",
    "                f.write(f\"{self._get_md5sum(key)}  {key}\\n\")\n",
    "    \n",
    "    def _get_md5sum(self, file):\n",
    "        md5_hash = hashlib.md5()\n",
    "        with open(file, \"rb\") as f:\n",
    "            for chunk in iter(lambda: f.read(4096), b\"\"):\n",
    "                md5_hash.update(chunk)\n",
    "        return md5_hash.hexdigest()\n",
    "\n",
    "    def _read_checksum(self):\n",
    "        \"\"\"Read the checksum from the checksum file.\"\"\"\n",
    "        dd = []\n",
    "        with open(self._fn_chekcsum, \"r\") as f:\n",
    "            for l in f.readlines():\n",
    "                sum, key = l.split()\n",
    "                dd.append((key,sum))   \n",
    "        return dict(dd)\n",
    "        \n",
    "    def _check_checksum(self):\n",
    "        \"\"\"Check if the checksum is correct.\"\"\"\n",
    "        return self._calculate_checksum() == self._read_checksum()"
   ]
  },
  {
   "cell_type": "code",
   "execution_count": null,
   "id": "0a6146a0-1d80-410f-901d-69c806565d2f",
   "metadata": {},
   "outputs": [],
   "source": [
    "from collections import Counter\n",
    "\n",
    "are_equivalent = Counter(dict1) == Counter(dict2)"
   ]
  },
  {
   "cell_type": "code",
   "execution_count": 52,
   "id": "6c116544-c89a-4b72-8933-aedb25cc1823",
   "metadata": {},
   "outputs": [],
   "source": [
    "app = Checksum()"
   ]
  },
  {
   "cell_type": "code",
   "execution_count": 53,
   "id": "d87cc64d-c25f-4322-8034-ef447a524764",
   "metadata": {},
   "outputs": [],
   "source": [
    "app.save_checksum()"
   ]
  },
  {
   "cell_type": "code",
   "execution_count": 54,
   "id": "7d8e1bca-d188-4226-ac00-cdac41620894",
   "metadata": {},
   "outputs": [
    {
     "data": {
      "text/plain": [
       "True"
      ]
     },
     "execution_count": 54,
     "metadata": {},
     "output_type": "execute_result"
    }
   ],
   "source": [
    "app._check_checksum()"
   ]
  },
  {
   "cell_type": "code",
   "execution_count": null,
   "id": "c9aa39b8-2e5e-48b3-b885-89cc937fc963",
   "metadata": {},
   "outputs": [],
   "source": []
  },
  {
   "cell_type": "code",
   "execution_count": null,
   "id": "d5b7e802-aa31-4b67-adbc-d87a6c45ad00",
   "metadata": {},
   "outputs": [],
   "source": []
  },
  {
   "cell_type": "code",
   "execution_count": 16,
   "id": "d1208b64-9f11-411a-929b-4dd2f44ed8bb",
   "metadata": {},
   "outputs": [],
   "source": [
    "sums = app._read_checksum()"
   ]
  },
  {
   "cell_type": "code",
   "execution_count": 20,
   "id": "0704aa9b-f6ac-4d05-805d-cd9fc7e9903d",
   "metadata": {},
   "outputs": [],
   "source": [
    "with open(\"./checksum.txt\", \"r\") as f:\n",
    "    ll = f.readlines()"
   ]
  },
  {
   "cell_type": "code",
   "execution_count": null,
   "id": "2c07537e-06bf-4edf-bef7-f2e34e8ca87d",
   "metadata": {},
   "outputs": [],
   "source": [
    "dd = []\n",
    "for l in ll:\n",
    "    sum, key = l.split()\n",
    "    dd.append((key,sum))\n",
    "\n",
    "dd = dict(dd)"
   ]
  },
  {
   "cell_type": "code",
   "execution_count": 9,
   "id": "a2c42e22-a9a2-4057-a193-1bae4902e218",
   "metadata": {},
   "outputs": [
    {
     "name": "stdout",
     "output_type": "stream",
     "text": [
      "469de9213183104afc979cc29e65aca5\n"
     ]
    }
   ],
   "source": [
    "md5_hash = hashlib.md5()\n",
    "file = \"./MulKey.txt\"\n",
    "def get_md5sum(file):\n",
    "    with open(file, \"rb\") as f:\n",
    "        for chunk in iter(lambda: f.read(4096), b\"\"):\n",
    "            md5_hash.update(chunk)\n",
    "    checksum = md5_hash.hexdigest()\n",
    "    return ()\n",
    "print(checksum)"
   ]
  },
  {
   "cell_type": "code",
   "execution_count": null,
   "id": "3ebb18d6-0e63-434b-8f4e-a5c98ceaf0ee",
   "metadata": {},
   "outputs": [],
   "source": []
  },
  {
   "cell_type": "code",
   "execution_count": null,
   "id": "f4a06be4-1e30-43e8-815e-6c4e4cf812bb",
   "metadata": {},
   "outputs": [],
   "source": []
  }
 ],
 "metadata": {
  "kernelspec": {
   "display_name": "Python 3 (ipykernel)",
   "language": "python",
   "name": "python3"
  },
  "language_info": {
   "codemirror_mode": {
    "name": "ipython",
    "version": 3
   },
   "file_extension": ".py",
   "mimetype": "text/x-python",
   "name": "python",
   "nbconvert_exporter": "python",
   "pygments_lexer": "ipython3",
   "version": "3.10.13"
  }
 },
 "nbformat": 4,
 "nbformat_minor": 5
}
