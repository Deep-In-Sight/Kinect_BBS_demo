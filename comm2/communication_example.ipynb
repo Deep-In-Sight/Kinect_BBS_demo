{
 "cells": [
  {
   "cell_type": "code",
   "execution_count": 1,
   "id": "274818b5",
   "metadata": {},
   "outputs": [],
   "source": [
    "import requests"
   ]
  },
  {
   "cell_type": "markdown",
   "id": "cc3d3bf3",
   "metadata": {},
   "source": [
    "# Post"
   ]
  },
  {
   "cell_type": "code",
   "execution_count": 19,
   "id": "f9c65f00",
   "metadata": {
    "scrolled": true
   },
   "outputs": [],
   "source": [
    "server_url = 'http://183.99.13.124:1080'\n",
    "upload_url=server_url + '/upload'\n",
    "\n",
    "# 키 전달\n",
    "def set_key():\n",
    "    # 미리 정해져있음 \n",
    "    flists = [(\"enc_key\", 'EncKey.txt'), ('mul_key', 'MulKey.txt')]\n",
    "    for dtype, fn in flists:\n",
    "        r = requests.post(upload_url, \n",
    "                          files={'file':open(fn, 'rb')}, \n",
    "                          headers={'dtype':dtype})\n",
    "        if not r.ok:\n",
    "            print(\"ERROR\")\n",
    "            return -1\n",
    "    return True\n",
    "\n",
    "# 암호문 전달\n",
    "def send_ctxt(action, ori):\n",
    "    \"\"\"e.g., ctx_05_e.dat\"\"\"\n",
    "    files = {'file': open(f'./ctx_{action:02}_{ori}.dat','rb')}\n",
    "    header = {'dtype':\"ctxt\", \"action\":f'{action}'}\n",
    "    r = requests.post(upload_url, files=files, headers=header)\n",
    "    return r"
   ]
  },
  {
   "cell_type": "code",
   "execution_count": 10,
   "id": "3e576f07-e146-4e0a-98cb-48153ea9e09b",
   "metadata": {},
   "outputs": [],
   "source": [
    "r = requests.post(upload_url, \n",
    "  files={'file':open('EncKey.txt', 'rb')}, \n",
    "  headers={'dtype':'enc_key'})"
   ]
  },
  {
   "cell_type": "code",
   "execution_count": null,
   "id": "6b213663-6b27-456b-89b4-d16476dd6bb9",
   "metadata": {},
   "outputs": [],
   "source": []
  },
  {
   "cell_type": "code",
   "execution_count": 6,
   "id": "4dcc740b",
   "metadata": {},
   "outputs": [],
   "source": [
    "r = set_key()"
   ]
  },
  {
   "cell_type": "code",
   "execution_count": 18,
   "id": "96a47319-6420-4f27-9100-b9ae6a345f24",
   "metadata": {},
   "outputs": [
    {
     "data": {
      "text/plain": [
       "b'--f87a4683e819c93b23c185f61c513a1b\\r\\nContent-Disposition: form-data; name=\"file\"; filename=\"EncKey.txt\"\\r\\n\\r\\nsd;kjfdslfjsldhdsvk\\n\\r\\n--f87a4683e819c93b23c185f61c513a1b--\\r\\n'"
      ]
     },
     "execution_count": 18,
     "metadata": {},
     "output_type": "execute_result"
    }
   ],
   "source": [
    "r.request.body"
   ]
  },
  {
   "cell_type": "code",
   "execution_count": 12,
   "id": "235a3727-ddd4-48e8-bb56-52f8d0ffa4c6",
   "metadata": {},
   "outputs": [
    {
     "name": "stdout",
     "output_type": "stream",
     "text": [
      "http://183.99.13.124:1080/upload\n",
      "{'User-Agent': 'python-requests/2.28.1', 'Accept-Encoding': 'gzip, deflate, br', 'Accept': '*/*', 'Connection': 'keep-alive', 'dtype': 'enc_key', 'Content-Length': '166', 'Content-Type': 'multipart/form-data; boundary=f87a4683e819c93b23c185f61c513a1b'}\n"
     ]
    }
   ],
   "source": [
    "print(r.request.url)\n",
    "print(r.request.headers)"
   ]
  },
  {
   "cell_type": "code",
   "execution_count": 17,
   "id": "fe595713-5a50-4bdb-96bb-ed7ed5ae7127",
   "metadata": {},
   "outputs": [
    {
     "data": {
      "text/plain": [
       "<bound method Mapping.keys of {'User-Agent': 'python-requests/2.28.1', 'Accept-Encoding': 'gzip, deflate, br', 'Accept': '*/*', 'Connection': 'keep-alive', 'dtype': 'enc_key', 'Content-Length': '166', 'Content-Type': 'multipart/form-data; boundary=f87a4683e819c93b23c185f61c513a1b'}>"
      ]
     },
     "execution_count": 17,
     "metadata": {},
     "output_type": "execute_result"
    }
   ],
   "source": [
    "r.request.headers.keys"
   ]
  },
  {
   "cell_type": "code",
   "execution_count": 13,
   "id": "582026f9-c4f5-4c74-8a3b-dda2b94b6264",
   "metadata": {},
   "outputs": [
    {
     "ename": "ValueError",
     "evalue": "too many values to unpack (expected 2)",
     "output_type": "error",
     "traceback": [
      "\u001b[0;31m---------------------------------------------------------------------------\u001b[0m",
      "\u001b[0;31mValueError\u001b[0m                                Traceback (most recent call last)",
      "Cell \u001b[0;32mIn [13], line 1\u001b[0m\n\u001b[0;32m----> 1\u001b[0m \u001b[38;5;28;01mfor\u001b[39;00m kk, dd \u001b[38;5;129;01min\u001b[39;00m r\u001b[38;5;241m.\u001b[39mrequest\u001b[38;5;241m.\u001b[39mheaders:\n\u001b[1;32m      2\u001b[0m     \u001b[38;5;28mprint\u001b[39m(kk, dd)\n",
      "\u001b[0;31mValueError\u001b[0m: too many values to unpack (expected 2)"
     ]
    }
   ],
   "source": [
    "for kk, dd in r.request.headers:\n",
    "    print(kk, dd)"
   ]
  },
  {
   "cell_type": "code",
   "execution_count": 20,
   "id": "259bd785",
   "metadata": {},
   "outputs": [],
   "source": [
    "r = send_ctxt('13', 'a')"
   ]
  },
  {
   "cell_type": "code",
   "execution_count": 22,
   "id": "83528563",
   "metadata": {},
   "outputs": [
    {
     "data": {
      "text/plain": [
       "{'User-Agent': 'python-requests/2.28.1', 'Accept-Encoding': 'gzip, deflate, br', 'Accept': '*/*', 'Connection': 'keep-alive', 'dtype': 'ctxt', 'action': '13', 'Content-Length': '166', 'Content-Type': 'multipart/form-data; boundary=a797912a6e8d63365def0ed0324cba1c'}"
      ]
     },
     "execution_count": 22,
     "metadata": {},
     "output_type": "execute_result"
    }
   ],
   "source": [
    "r.request.headers"
   ]
  },
  {
   "cell_type": "markdown",
   "id": "2a926803",
   "metadata": {},
   "source": [
    "# get\n",
    "\n",
    "서버에 계산된 암호문 파일 받은 후 동형암호 라이브러리로 읽어서 복호화, 결과 확인.\n",
    "\n",
    "**서버 계산이 완료될 때 까지 5초에 한번씩 get 시도**\n"
   ]
  },
  {
   "cell_type": "code",
   "execution_count": 14,
   "id": "d049d6f1",
   "metadata": {},
   "outputs": [],
   "source": [
    "from time import sleep\n",
    "\n",
    "def save_binary(r, fn_save):\n",
    "    if r.status_code == 200:\n",
    "        with open(fn_save, 'wb') as f:\n",
    "            for chunk in r:\n",
    "                f.write(chunk)\n",
    "    else:\n",
    "        raise FileNotFoundError\n",
    "\n",
    "result_url=server_url + '/result'\n",
    "\n",
    "def get_result(result_url):\n",
    "\n",
    "    while True:\n",
    "        r = requests.get(result_url, stream=True)\n",
    "        if r.status_code == 200:\n",
    "            save_binary(r,'./client_results/pred0.dat')\n",
    "            print(\"Result recieved.\")\n",
    "            break\n",
    "        else:\n",
    "            sleep(5)\n"
   ]
  },
  {
   "cell_type": "code",
   "execution_count": 20,
   "id": "670a40de",
   "metadata": {},
   "outputs": [
    {
     "name": "stdout",
     "output_type": "stream",
     "text": [
      "pred0.dat\n"
     ]
    }
   ],
   "source": [
    "ls './client_results'"
   ]
  },
  {
   "cell_type": "markdown",
   "id": "ce2af396",
   "metadata": {},
   "source": [
    "### 결과 확인 예시"
   ]
  },
  {
   "cell_type": "code",
   "execution_count": null,
   "id": "0c98c863",
   "metadata": {},
   "outputs": [],
   "source": [
    "# HEAAN 라이브러리로 ctxt 파일 로드\n",
    "logp = 30\n",
    "logq = 300\n",
    "nslots = 2**14\n",
    "ctx_pred = he.Ciphertext(logp, logq, nslots)\n",
    "he.SerializationUtils.readCiphertext(ctx_pred, fn_ctx)\n",
    "# decryptor로 decrypt\n",
    "dec=decrypt(self.scheme, self.secretKey, ctx_pred, self.parms)\n",
    "# 결과 출력 \n",
    "print(np.argmax(dec))"
   ]
  },
  {
   "cell_type": "code",
   "execution_count": null,
   "id": "f3a63b9d",
   "metadata": {},
   "outputs": [],
   "source": []
  },
  {
   "cell_type": "code",
   "execution_count": null,
   "id": "601106d3",
   "metadata": {},
   "outputs": [],
   "source": []
  }
 ],
 "metadata": {
  "kernelspec": {
   "display_name": "Python 3 (ipykernel)",
   "language": "python",
   "name": "python3"
  },
  "language_info": {
   "codemirror_mode": {
    "name": "ipython",
    "version": 3
   },
   "file_extension": ".py",
   "mimetype": "text/x-python",
   "name": "python",
   "nbconvert_exporter": "python",
   "pygments_lexer": "ipython3",
   "version": "3.10.8"
  }
 },
 "nbformat": 4,
 "nbformat_minor": 5
}
