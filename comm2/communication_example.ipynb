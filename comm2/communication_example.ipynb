{
 "cells": [
  {
   "cell_type": "markdown",
   "id": "cc3d3bf3",
   "metadata": {},
   "source": [
    "# Post"
   ]
  },
  {
   "cell_type": "code",
   "execution_count": 3,
   "id": "de0f3615",
   "metadata": {},
   "outputs": [
    {
     "name": "stdout",
     "output_type": "stream",
     "text": [
      "<Response [200]>\n",
      "<Response [200]>\n",
      "True\n"
     ]
    },
    {
     "name": "stderr",
     "output_type": "stream",
     "text": [
      "/home/hoseung/anaconda3/envs/fhe/lib/python3.10/site-packages/urllib3/connectionpool.py:1045: InsecureRequestWarning: Unverified HTTPS request is being made to host '192.168.0.178'. Adding certificate verification is strongly advised. See: https://urllib3.readthedocs.io/en/1.26.x/advanced-usage.html#ssl-warnings\n",
      "  warnings.warn(\n",
      "/home/hoseung/anaconda3/envs/fhe/lib/python3.10/site-packages/urllib3/connectionpool.py:1045: InsecureRequestWarning: Unverified HTTPS request is being made to host '192.168.0.178'. Adding certificate verification is strongly advised. See: https://urllib3.readthedocs.io/en/1.26.x/advanced-usage.html#ssl-warnings\n",
      "  warnings.warn(\n"
     ]
    }
   ],
   "source": [
    "import requests\n",
    "\n",
    "server_url = ['61.74.232.165:5000','192.168.0.178:5000', 'localhost:5000'][1]\n",
    "upload_url=server_url + '/upload'\n",
    "cert = False#\"./cert.pem\"\n",
    "\n",
    "# 키 전달\n",
    "def set_key():\n",
    "    # 미리 정해져있음 \n",
    "    flists = [(\"enc_key\", 'EncKey.txt'), ('mul_key', 'MulKey.txt')]\n",
    "    for dtype, fn in flists:\n",
    "        r = requests.post('https://'+upload_url, \n",
    "                          files={'file':open(fn, 'rb')}, \n",
    "                          headers={'dtype':dtype},\n",
    "                          verify=cert)\n",
    "        print(r)\n",
    "        if not r.ok:\n",
    "            print(\"ERROR\")\n",
    "            return -1\n",
    "    return True\n",
    "\n",
    "# 암호문 전달\n",
    "def send_ctxt(action, ori):\n",
    "    \"\"\"e.g., ctx_05_e.dat\"\"\"\n",
    "    files = {'file': open(f'./ctx_{action.zfill(2)}_{ori}.dat','rb')}\n",
    "    header = {'dtype':\"ctxt\", \"action\":f'{action}'}\n",
    "    r = requests.post('https://'+upload_url, \n",
    "                      files=files, \n",
    "                      headers=header,\n",
    "                      verify=cert)\n",
    "    return r.ok\n",
    "\n",
    "with open(\"EncKey.txt\", \"w\") as f:\n",
    "    f.write(\"EEEE\")\n",
    "    \n",
    "with open(\"MulKey.txt\", \"w\") as f:\n",
    "    f.write(\"MMM\")\n",
    "\n",
    "r = set_key()\n",
    "print(r)"
   ]
  },
  {
   "cell_type": "code",
   "execution_count": 4,
   "id": "259bd785",
   "metadata": {},
   "outputs": [
    {
     "name": "stderr",
     "output_type": "stream",
     "text": [
      "/home/hoseung/anaconda3/envs/fhe/lib/python3.10/site-packages/urllib3/connectionpool.py:1045: InsecureRequestWarning: Unverified HTTPS request is being made to host '192.168.0.178'. Adding certificate verification is strongly advised. See: https://urllib3.readthedocs.io/en/1.26.x/advanced-usage.html#ssl-warnings\n",
      "  warnings.warn(\n"
     ]
    }
   ],
   "source": [
    "r = send_ctxt('13', 'a')"
   ]
  },
  {
   "cell_type": "markdown",
   "id": "2a926803",
   "metadata": {},
   "source": [
    "# get\n",
    "\n",
    "서버에 계산된 암호문 파일 받은 후 동형암호 라이브러리로 읽어서 복호화, 결과 확인.\n",
    "`\n",
    "**서버 계산이 완료될 때 까지 5초에 한번씩 get 시도**\n"
   ]
  },
  {
   "cell_type": "code",
   "execution_count": 30,
   "id": "d049d6f1",
   "metadata": {},
   "outputs": [],
   "source": [
    "from time import sleep\n",
    "from urllib.parse import unquote\n",
    "\n",
    "\n",
    "def save_binary(r, fn_save):\n",
    "    if r.status_code == 200:\n",
    "        with open(fn_save, 'wb') as f:\n",
    "            for chunk in r:\n",
    "                f.write(chunk)\n",
    "    else:\n",
    "        raise FileNotFoundError\n",
    "\n",
    "result_url='https://'+server_url + '/result'\n",
    "\n",
    "def get_result(result_url):\n",
    "    n_try = 0\n",
    "    while n_try < 10:\n",
    "        r = requests.get(result_url, stream=True, verify=cert)\n",
    "        if r.status_code == 200:\n",
    "            save_binary(r,'./client_results/pred0.dat')\n",
    "            print(\"Result recieved.\")\n",
    "            break\n",
    "        else:\n",
    "            sleep(5)\n",
    "            n_try+=1\n",
    "    else:\n",
    "        print(\"Retry limit reached. Try again later\")\n",
    "        return False\n",
    "    return r\n",
    "\n",
    "def get_filename(response):\n",
    "    if 'Content-Disposition' in response.headers:\n",
    "        content_disposition = response.headers['Content-Disposition']\n",
    "        parts = content_disposition.split(';')\n",
    "\n",
    "        for part in parts:\n",
    "            if 'filename' in part:\n",
    "                filename = part.split('=')[1]\n",
    "                filename = unquote(filename.strip(' \"'))  # remove quotes and spaces\n",
    "                \n",
    "    return filename"
   ]
  },
  {
   "cell_type": "code",
   "execution_count": 14,
   "id": "0f90e93f",
   "metadata": {},
   "outputs": [
    {
     "name": "stdout",
     "output_type": "stream",
     "text": [
      "Result recieved.\n"
     ]
    },
    {
     "name": "stderr",
     "output_type": "stream",
     "text": [
      "/home/hoseung/anaconda3/envs/fhe/lib/python3.10/site-packages/urllib3/connectionpool.py:1045: InsecureRequestWarning: Unverified HTTPS request is being made to host '192.168.0.178'. Adding certificate verification is strongly advised. See: https://urllib3.readthedocs.io/en/1.26.x/advanced-usage.html#ssl-warnings\n",
      "  warnings.warn(\n"
     ]
    }
   ],
   "source": [
    "r = get_result(result_url)"
   ]
  },
  {
   "cell_type": "code",
   "execution_count": 35,
   "id": "4a489d34",
   "metadata": {},
   "outputs": [
    {
     "name": "stdout",
     "output_type": "stream",
     "text": [
      "pred_0.dat\n"
     ]
    }
   ],
   "source": [
    "fn_ctx = get_filename(r)\n",
    "print(fn_ctx)"
   ]
  },
  {
   "cell_type": "markdown",
   "id": "ce2af396",
   "metadata": {},
   "source": [
    "### 결과 확인 예시"
   ]
  },
  {
   "cell_type": "code",
   "execution_count": 33,
   "id": "9283178f",
   "metadata": {},
   "outputs": [],
   "source": [
    "import fase\n",
    "from fase import HEAAN as he"
   ]
  },
  {
   "cell_type": "code",
   "execution_count": 38,
   "id": "0c98c863",
   "metadata": {},
   "outputs": [
    {
     "ename": "MemoryError",
     "evalue": "std::bad_alloc",
     "output_type": "error",
     "traceback": [
      "\u001b[0;31m---------------------------------------------------------------------------\u001b[0m",
      "\u001b[0;31mMemoryError\u001b[0m                               Traceback (most recent call last)",
      "Cell \u001b[0;32mIn [38], line 6\u001b[0m\n\u001b[1;32m      4\u001b[0m nslots \u001b[38;5;241m=\u001b[39m \u001b[38;5;241m2\u001b[39m\u001b[38;5;241m*\u001b[39m\u001b[38;5;241m*\u001b[39m\u001b[38;5;241m14\u001b[39m\n\u001b[1;32m      5\u001b[0m ctx_pred \u001b[38;5;241m=\u001b[39m he\u001b[38;5;241m.\u001b[39mCiphertext(logp, logq, nslots)\n\u001b[0;32m----> 6\u001b[0m \u001b[43mhe\u001b[49m\u001b[38;5;241;43m.\u001b[39;49m\u001b[43mSerializationUtils\u001b[49m\u001b[38;5;241;43m.\u001b[39;49m\u001b[43mreadCiphertext\u001b[49m\u001b[43m(\u001b[49m\u001b[43mctx_pred\u001b[49m\u001b[43m,\u001b[49m\u001b[43m \u001b[49m\u001b[43mfn_ctx\u001b[49m\u001b[43m)\u001b[49m\n\u001b[1;32m      7\u001b[0m \u001b[38;5;66;03m# decryptor로 decrypt\u001b[39;00m\n\u001b[1;32m      8\u001b[0m dec\u001b[38;5;241m=\u001b[39mdecrypt(\u001b[38;5;28mself\u001b[39m\u001b[38;5;241m.\u001b[39mscheme, \u001b[38;5;28mself\u001b[39m\u001b[38;5;241m.\u001b[39msecretKey, ctx_pred, \u001b[38;5;28mself\u001b[39m\u001b[38;5;241m.\u001b[39mparms)\n",
      "\u001b[0;31mMemoryError\u001b[0m: std::bad_alloc"
     ]
    }
   ],
   "source": [
    "# HEAAN 라이브러리로 ctxt 파일 로드\n",
    "logp = 30\n",
    "logq = 300\n",
    "nslots = 2**14\n",
    "ctx_pred = he.Ciphertext(logp, logq, nslots)\n",
    "he.SerializationUtils.readCiphertext(ctx_pred, fn_ctx)\n",
    "# decryptor로 decrypt\n",
    "dec=decrypt(self.scheme, self.secretKey, ctx_pred, self.parms)\n",
    "# 결과 출력 \n",
    "print(np.argmax(dec))"
   ]
  },
  {
   "cell_type": "code",
   "execution_count": null,
   "id": "f3a63b9d",
   "metadata": {},
   "outputs": [],
   "source": []
  },
  {
   "cell_type": "code",
   "execution_count": null,
   "id": "601106d3",
   "metadata": {},
   "outputs": [],
   "source": []
  }
 ],
 "metadata": {
  "kernelspec": {
   "display_name": "Python 3 (ipykernel)",
   "language": "python",
   "name": "python3"
  },
  "language_info": {
   "codemirror_mode": {
    "name": "ipython",
    "version": 3
   },
   "file_extension": ".py",
   "mimetype": "text/x-python",
   "name": "python",
   "nbconvert_exporter": "python",
   "pygments_lexer": "ipython3",
   "version": "3.10.8"
  }
 },
 "nbformat": 4,
 "nbformat_minor": 5
}
