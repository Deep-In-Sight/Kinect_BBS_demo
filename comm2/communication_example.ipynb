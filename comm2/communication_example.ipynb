{
 "cells": [
  {
   "cell_type": "code",
   "execution_count": 1,
   "id": "274818b5",
   "metadata": {},
   "outputs": [],
   "source": [
    "import requests"
   ]
  },
  {
   "cell_type": "markdown",
   "id": "cc3d3bf3",
   "metadata": {},
   "source": [
    "# Post"
   ]
  },
  {
   "cell_type": "code",
   "execution_count": 14,
   "id": "de0f3615",
   "metadata": {},
   "outputs": [],
   "source": [
    "server_url = ['183.99.13.124:1080','192.168.0.18:5000', 'localhost:5000'][2]\n",
    "upload_url=server_url + '/upload'\n",
    "\n",
    "# 키 전달\n",
    "def set_key():\n",
    "    # 미리 정해져있음 \n",
    "    flists = [(\"enc_key\", 'EncKey.txt'), ('mul_key', 'MulKey.txt')]\n",
    "    for dtype, fn in flists:\n",
    "        r = requests.post('http://'+upload_url, \n",
    "                          files={'file':open(fn, 'rb')}, \n",
    "                          headers={'dtype':dtype})\n",
    "        if not r.ok:\n",
    "            print(\"ERROR\")\n",
    "            return -1\n",
    "    return True\n",
    "\n",
    "# 암호문 전달\n",
    "def send_ctxt(action, ori):\n",
    "    \"\"\"e.g., ctx_05_e.dat\"\"\"\n",
    "    files = {'file': open(f'./ctx_{action.zfill(2)}_{ori}.dat','rb')}\n",
    "    header = {'dtype':\"ctxt\", \"action\":f'{action}'}\n",
    "    r = requests.post('http://'+upload_url, files=files, headers=header)\n",
    "    return r.ok"
   ]
  },
  {
   "cell_type": "code",
   "execution_count": 15,
   "id": "4dcc740b",
   "metadata": {},
   "outputs": [
    {
     "name": "stdout",
     "output_type": "stream",
     "text": [
      "True\n"
     ]
    }
   ],
   "source": [
    "r = set_key()\n",
    "print(r)"
   ]
  },
  {
   "cell_type": "code",
   "execution_count": 16,
   "id": "259bd785",
   "metadata": {},
   "outputs": [
    {
     "ename": "FileNotFoundError",
     "evalue": "[Errno 2] No such file or directory: './ctx_13_a.dat'",
     "output_type": "error",
     "traceback": [
      "\u001b[0;31m---------------------------------------------------------------------------\u001b[0m",
      "\u001b[0;31mFileNotFoundError\u001b[0m                         Traceback (most recent call last)",
      "\u001b[0;32m/tmp/ipykernel_174262/2303032648.py\u001b[0m in \u001b[0;36m<module>\u001b[0;34m\u001b[0m\n\u001b[0;32m----> 1\u001b[0;31m \u001b[0mr\u001b[0m \u001b[0;34m=\u001b[0m \u001b[0msend_ctxt\u001b[0m\u001b[0;34m(\u001b[0m\u001b[0;34m'13'\u001b[0m\u001b[0;34m,\u001b[0m \u001b[0;34m'a'\u001b[0m\u001b[0;34m)\u001b[0m\u001b[0;34m\u001b[0m\u001b[0;34m\u001b[0m\u001b[0m\n\u001b[0m",
      "\u001b[0;32m/tmp/ipykernel_174262/3859883389.py\u001b[0m in \u001b[0;36msend_ctxt\u001b[0;34m(action, ori)\u001b[0m\n\u001b[1;32m     18\u001b[0m \u001b[0;32mdef\u001b[0m \u001b[0msend_ctxt\u001b[0m\u001b[0;34m(\u001b[0m\u001b[0maction\u001b[0m\u001b[0;34m,\u001b[0m \u001b[0mori\u001b[0m\u001b[0;34m)\u001b[0m\u001b[0;34m:\u001b[0m\u001b[0;34m\u001b[0m\u001b[0;34m\u001b[0m\u001b[0m\n\u001b[1;32m     19\u001b[0m     \u001b[0;34m\"\"\"e.g., ctx_05_e.dat\"\"\"\u001b[0m\u001b[0;34m\u001b[0m\u001b[0;34m\u001b[0m\u001b[0m\n\u001b[0;32m---> 20\u001b[0;31m     \u001b[0mfiles\u001b[0m \u001b[0;34m=\u001b[0m \u001b[0;34m{\u001b[0m\u001b[0;34m'file'\u001b[0m\u001b[0;34m:\u001b[0m \u001b[0mopen\u001b[0m\u001b[0;34m(\u001b[0m\u001b[0;34mf'./ctx_{action.zfill(2)}_{ori}.dat'\u001b[0m\u001b[0;34m,\u001b[0m\u001b[0;34m'rb'\u001b[0m\u001b[0;34m)\u001b[0m\u001b[0;34m}\u001b[0m\u001b[0;34m\u001b[0m\u001b[0;34m\u001b[0m\u001b[0m\n\u001b[0m\u001b[1;32m     21\u001b[0m     \u001b[0mheader\u001b[0m \u001b[0;34m=\u001b[0m \u001b[0;34m{\u001b[0m\u001b[0;34m'dtype'\u001b[0m\u001b[0;34m:\u001b[0m\u001b[0;34m\"ctxt\"\u001b[0m\u001b[0;34m,\u001b[0m \u001b[0;34m\"action\"\u001b[0m\u001b[0;34m:\u001b[0m\u001b[0;34mf'{action}'\u001b[0m\u001b[0;34m}\u001b[0m\u001b[0;34m\u001b[0m\u001b[0;34m\u001b[0m\u001b[0m\n\u001b[1;32m     22\u001b[0m     \u001b[0mr\u001b[0m \u001b[0;34m=\u001b[0m \u001b[0mrequests\u001b[0m\u001b[0;34m.\u001b[0m\u001b[0mpost\u001b[0m\u001b[0;34m(\u001b[0m\u001b[0;34m'http://'\u001b[0m\u001b[0;34m+\u001b[0m\u001b[0mupload_url\u001b[0m\u001b[0;34m,\u001b[0m \u001b[0mfiles\u001b[0m\u001b[0;34m=\u001b[0m\u001b[0mfiles\u001b[0m\u001b[0;34m,\u001b[0m \u001b[0mheaders\u001b[0m\u001b[0;34m=\u001b[0m\u001b[0mheader\u001b[0m\u001b[0;34m)\u001b[0m\u001b[0;34m\u001b[0m\u001b[0;34m\u001b[0m\u001b[0m\n",
      "\u001b[0;31mFileNotFoundError\u001b[0m: [Errno 2] No such file or directory: './ctx_13_a.dat'"
     ]
    }
   ],
   "source": [
    "r = send_ctxt('13', 'a')"
   ]
  },
  {
   "cell_type": "markdown",
   "id": "2a926803",
   "metadata": {},
   "source": [
    "# get\n",
    "\n",
    "서버에 계산된 암호문 파일 받은 후 동형암호 라이브러리로 읽어서 복호화, 결과 확인.\n",
    "\n",
    "**서버 계산이 완료될 때 까지 5초에 한번씩 get 시도**\n"
   ]
  },
  {
   "cell_type": "code",
   "execution_count": 21,
   "id": "d049d6f1",
   "metadata": {},
   "outputs": [],
   "source": [
    "from time import sleep\n",
    "\n",
    "def save_binary(r, fn_save):\n",
    "    if r.status_code == 200:\n",
    "        with open(fn_save, 'wb') as f:\n",
    "            for chunk in r:\n",
    "                f.write(chunk)\n",
    "    else:\n",
    "        raise FileNotFoundError\n",
    "\n",
    "result_url='http://'+server_url + '/result'\n",
    "\n",
    "def get_result(result_url):\n",
    "    n_try = 0\n",
    "    while n_try < 10:\n",
    "        r = requests.get(result_url, stream=True)\n",
    "        if r.status_code == 200:\n",
    "            save_binary(r,'./client_results/pred0.dat')\n",
    "            print(\"Result recieved.\")\n",
    "            break\n",
    "        else:\n",
    "            sleep(5)\n",
    "            n_try+=1\n",
    "    else:\n",
    "        print(\"Retry limit reached. Try again later\")\n",
    "        return False\n",
    "    return r"
   ]
  },
  {
   "cell_type": "code",
   "execution_count": 11,
   "id": "670a40de",
   "metadata": {},
   "outputs": [],
   "source": [
    "ls './client_results'"
   ]
  },
  {
   "cell_type": "code",
   "execution_count": 24,
   "id": "0f90e93f",
   "metadata": {},
   "outputs": [
    {
     "name": "stdout",
     "output_type": "stream",
     "text": [
      "Result recieved.\n"
     ]
    }
   ],
   "source": [
    "r = get_result(result_url)"
   ]
  },
  {
   "cell_type": "markdown",
   "id": "ce2af396",
   "metadata": {},
   "source": [
    "### 결과 확인 예시"
   ]
  },
  {
   "cell_type": "code",
   "execution_count": null,
   "id": "0c98c863",
   "metadata": {},
   "outputs": [],
   "source": [
    "# HEAAN 라이브러리로 ctxt 파일 로드\n",
    "logp = 30\n",
    "logq = 300\n",
    "nslots = 2**14\n",
    "ctx_pred = he.Ciphertext(logp, logq, nslots)\n",
    "he.SerializationUtils.readCiphertext(ctx_pred, fn_ctx)\n",
    "# decryptor로 decrypt\n",
    "dec=decrypt(self.scheme, self.secretKey, ctx_pred, self.parms)\n",
    "# 결과 출력 \n",
    "print(np.argmax(dec))"
   ]
  },
  {
   "cell_type": "code",
   "execution_count": null,
   "id": "f3a63b9d",
   "metadata": {},
   "outputs": [],
   "source": []
  },
  {
   "cell_type": "code",
   "execution_count": null,
   "id": "601106d3",
   "metadata": {},
   "outputs": [],
   "source": []
  }
 ],
 "metadata": {
  "kernelspec": {
   "display_name": "Python 3 (ipykernel)",
   "language": "python",
   "name": "python3"
  },
  "language_info": {
   "codemirror_mode": {
    "name": "ipython",
    "version": 3
   },
   "file_extension": ".py",
   "mimetype": "text/x-python",
   "name": "python",
   "nbconvert_exporter": "python",
   "pygments_lexer": "ipython3",
   "version": "3.10.6"
  }
 },
 "nbformat": 4,
 "nbformat_minor": 5
}
